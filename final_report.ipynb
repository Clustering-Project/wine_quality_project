{
 "cells": [
  {
   "cell_type": "code",
   "execution_count": 1,
   "metadata": {},
   "outputs": [],
   "source": [
    "#imports\n",
    "import pandas as pd\n",
    "import numpy as np\n",
    "import matplotlib.pyplot as plt\n",
    "import seaborn as sns\n",
    "\n",
    "from scipy import stats\n",
    "\n",
    "from sklearn.preprocessing import MinMaxScaler\n",
    "from sklearn.cluster import KMeans\n",
    "\n",
    "from wrangle import acquire_wine, wine_train_val_test, wrangle_wine, model_pipeline\n",
    "\n",
    "#set display peferences\n",
    "pd.set_option('display.max_columns', None)\n",
    "pd.set_option('display.width', None)\n",
    "pd.set_option('display.expand_frame_repr', False)"
   ]
  },
  {
   "cell_type": "code",
   "execution_count": 2,
   "metadata": {},
   "outputs": [],
   "source": [
    "train, val, test = wrangle_wine()"
   ]
  },
  {
   "cell_type": "code",
   "execution_count": 3,
   "metadata": {},
   "outputs": [
    {
     "data": {
      "text/html": [
       "<div>\n",
       "<style scoped>\n",
       "    .dataframe tbody tr th:only-of-type {\n",
       "        vertical-align: middle;\n",
       "    }\n",
       "\n",
       "    .dataframe tbody tr th {\n",
       "        vertical-align: top;\n",
       "    }\n",
       "\n",
       "    .dataframe thead th {\n",
       "        text-align: right;\n",
       "    }\n",
       "</style>\n",
       "<table border=\"1\" class=\"dataframe\">\n",
       "  <thead>\n",
       "    <tr style=\"text-align: right;\">\n",
       "      <th></th>\n",
       "      <th>fixed_acidity</th>\n",
       "      <th>volatile_acidity</th>\n",
       "      <th>citric_acid</th>\n",
       "      <th>residual_sugar</th>\n",
       "      <th>chlorides</th>\n",
       "      <th>free_sulfur_dioxide</th>\n",
       "      <th>total_sulfur_dioxide</th>\n",
       "      <th>density</th>\n",
       "      <th>ph</th>\n",
       "      <th>sulphates</th>\n",
       "      <th>alcohol</th>\n",
       "      <th>quality</th>\n",
       "      <th>type</th>\n",
       "    </tr>\n",
       "  </thead>\n",
       "  <tbody>\n",
       "    <tr>\n",
       "      <th>3761</th>\n",
       "      <td>9.9</td>\n",
       "      <td>0.490</td>\n",
       "      <td>0.23</td>\n",
       "      <td>2.4</td>\n",
       "      <td>0.087</td>\n",
       "      <td>19.0</td>\n",
       "      <td>115.0</td>\n",
       "      <td>0.99480</td>\n",
       "      <td>2.77</td>\n",
       "      <td>0.44</td>\n",
       "      <td>9.400000</td>\n",
       "      <td>6</td>\n",
       "      <td>white</td>\n",
       "    </tr>\n",
       "    <tr>\n",
       "      <th>3740</th>\n",
       "      <td>7.7</td>\n",
       "      <td>0.280</td>\n",
       "      <td>0.35</td>\n",
       "      <td>15.3</td>\n",
       "      <td>0.056</td>\n",
       "      <td>31.0</td>\n",
       "      <td>117.0</td>\n",
       "      <td>0.99980</td>\n",
       "      <td>3.27</td>\n",
       "      <td>0.50</td>\n",
       "      <td>9.600000</td>\n",
       "      <td>5</td>\n",
       "      <td>white</td>\n",
       "    </tr>\n",
       "    <tr>\n",
       "      <th>1359</th>\n",
       "      <td>11.6</td>\n",
       "      <td>0.475</td>\n",
       "      <td>0.40</td>\n",
       "      <td>1.4</td>\n",
       "      <td>0.091</td>\n",
       "      <td>6.0</td>\n",
       "      <td>28.0</td>\n",
       "      <td>0.99704</td>\n",
       "      <td>3.07</td>\n",
       "      <td>0.65</td>\n",
       "      <td>10.033333</td>\n",
       "      <td>6</td>\n",
       "      <td>red</td>\n",
       "    </tr>\n",
       "    <tr>\n",
       "      <th>1230</th>\n",
       "      <td>7.7</td>\n",
       "      <td>0.180</td>\n",
       "      <td>0.34</td>\n",
       "      <td>2.7</td>\n",
       "      <td>0.066</td>\n",
       "      <td>15.0</td>\n",
       "      <td>58.0</td>\n",
       "      <td>0.99470</td>\n",
       "      <td>3.37</td>\n",
       "      <td>0.78</td>\n",
       "      <td>11.800000</td>\n",
       "      <td>6</td>\n",
       "      <td>red</td>\n",
       "    </tr>\n",
       "    <tr>\n",
       "      <th>4751</th>\n",
       "      <td>7.6</td>\n",
       "      <td>0.250</td>\n",
       "      <td>1.23</td>\n",
       "      <td>4.6</td>\n",
       "      <td>0.035</td>\n",
       "      <td>51.0</td>\n",
       "      <td>294.0</td>\n",
       "      <td>0.99018</td>\n",
       "      <td>3.03</td>\n",
       "      <td>0.43</td>\n",
       "      <td>13.100000</td>\n",
       "      <td>6</td>\n",
       "      <td>white</td>\n",
       "    </tr>\n",
       "  </tbody>\n",
       "</table>\n",
       "</div>"
      ],
      "text/plain": [
       "      fixed_acidity  volatile_acidity  citric_acid  residual_sugar  chlorides  free_sulfur_dioxide  total_sulfur_dioxide  density    ph  sulphates    alcohol  quality   type\n",
       "3761            9.9             0.490         0.23             2.4      0.087                 19.0                 115.0  0.99480  2.77       0.44   9.400000        6  white\n",
       "3740            7.7             0.280         0.35            15.3      0.056                 31.0                 117.0  0.99980  3.27       0.50   9.600000        5  white\n",
       "1359           11.6             0.475         0.40             1.4      0.091                  6.0                  28.0  0.99704  3.07       0.65  10.033333        6    red\n",
       "1230            7.7             0.180         0.34             2.7      0.066                 15.0                  58.0  0.99470  3.37       0.78  11.800000        6    red\n",
       "4751            7.6             0.250         1.23             4.6      0.035                 51.0                 294.0  0.99018  3.03       0.43  13.100000        6  white"
      ]
     },
     "execution_count": 3,
     "metadata": {},
     "output_type": "execute_result"
    }
   ],
   "source": [
    "train.head()"
   ]
  },
  {
   "cell_type": "code",
   "execution_count": 5,
   "metadata": {},
   "outputs": [
    {
     "data": {
      "image/png": "[encoded data removed]",
      "text/plain": [
       "<Figure size 800x600 with 1 Axes>"
      ]
     },
     "metadata": {},
     "output_type": "display_data"
    }
   ],
   "source": [
    "from vis import quality_distribution\n",
    "\n",
    "quality_distribution(train)"
   ]
  }
 ],
 "metadata": {
  "kernelspec": {
   "display_name": "base",
   "language": "python",
   "name": "python3"
  },
  "language_info": {
   "codemirror_mode": {
    "name": "ipython",
    "version": 3
   },
   "file_extension": ".py",
   "mimetype": "text/x-python",
   "name": "python",
   "nbconvert_exporter": "python",
   "pygments_lexer": "ipython3",
   "version": "3.10.12"
  },
  "orig_nbformat": 4
 },
 "nbformat": 4,
 "nbformat_minor": 2
}
