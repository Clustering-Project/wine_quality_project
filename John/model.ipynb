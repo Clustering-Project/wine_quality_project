{
 "cells": [
  {
   "cell_type": "code",
   "execution_count": 1,
   "metadata": {},
   "outputs": [],
   "source": [
    "#imports\n",
    "import pandas as pd\n",
    "import numpy as np\n",
    "import matplotlib.pyplot as plt\n",
    "import seaborn as sns\n",
    "\n",
    "from scipy import stats\n",
    "\n",
    "from sklearn.preprocessing import MinMaxScaler\n",
    "from sklearn.cluster import KMeans\n",
    "\n",
    "from wrangle import acquire_wine, wine_train_val_test, wrangle_wine"
   ]
  },
  {
   "cell_type": "code",
   "execution_count": 2,
   "metadata": {},
   "outputs": [],
   "source": [
    "pd.set_option('display.max_columns', None)\n",
    "pd.set_option('display.width', None)\n",
    "pd.set_option('display.expand_frame_repr', False)"
   ]
  },
  {
   "cell_type": "markdown",
   "metadata": {},
   "source": [
    "___\n",
    "<font size=\"5\">Modeling</font><br>\n",
    "___"
   ]
  },
  {
   "cell_type": "code",
   "execution_count": 3,
   "metadata": {},
   "outputs": [],
   "source": [
    "from sklearn.feature_selection import SelectKBest, f_regression, RFE\n",
    "from sklearn.linear_model import LinearRegression, Lasso\n",
    "\n",
    "def kbest_features(df, col_name, k=2):\n",
    "    \"\"\"\n",
    "    Selects the top k best features for regression from a DataFrame.\n",
    "\n",
    "    Parameters:\n",
    "        df (DataFrame): The input DataFrame containing features and the target column.\n",
    "        col_name (str): The name of the target column.\n",
    "        k (int): The number of top features to select (default is 2).\n",
    "\n",
    "    Returns:\n",
    "        selected_df (DataFrame): A DataFrame with two columns: 'Column Name' and 'Score'.\n",
    "            'Column Name' contains the column names of the selected features.\n",
    "\n",
    "    Example:\n",
    "        selected_features = select_k_best_features(your_dataframe, 'value', k=2)\n",
    "    \"\"\"\n",
    "    # Create X and y\n",
    "    X = df.drop(columns=[col_name])  # Remove the target column\n",
    "    y = df[col_name]\n",
    "    \n",
    "    # Filter X to keep only columns that can be converted to float\n",
    "    X = X.select_dtypes(include=['number', 'float'])  # Keep numeric and float columns\n",
    "    \n",
    "    # Initialize SelectKBest with f_regression\n",
    "    skb = SelectKBest(f_regression, k=k)\n",
    "    \n",
    "    # Fit SelectKBest on X and y\n",
    "    skb.fit(X, y)\n",
    "    \n",
    "    # Get the mask of selected features\n",
    "    skb_mask = skb.get_support()\n",
    "    \n",
    "    # Get the scores for all features\n",
    "    feature_scores = skb.scores_\n",
    "    \n",
    "    # Create a DataFrame with column names and scores\n",
    "    selected_df = pd.DataFrame({\n",
    "        'Kbest': X.columns[skb_mask],\n",
    "        'Score': feature_scores[skb_mask]\n",
    "    })\n",
    "    \n",
    "    # Sort the DataFrame by score in descending order\n",
    "    selected_df = selected_df.sort_values(by='Score', ascending=False)\n",
    "    \n",
    "    selected_df.reset_index(drop=True, inplace=True)\n",
    "    \n",
    "    selected_df.drop('Score', axis=1, inplace=True)\n",
    "    \n",
    "    return selected_df\n",
    "\n",
    "# -----------------------------------------------------------------------------------------------\n",
    "# -----------------------------------------------------------------------------------------------\n",
    "\n",
    "def rfe_features(df, col_name, n_features=3):\n",
    "    \"\"\"\n",
    "    Selects a specified number of features from a DataFrame using Linear Regression and RFE.\n",
    "\n",
    "    Parameters:\n",
    "        df (pd.DataFrame): The input DataFrame containing the features and target variable.\n",
    "        col_name (str): The name of the target column.\n",
    "        n_features (int): The number of features to select (default is 3).\n",
    "\n",
    "    Returns:\n",
    "        pd.Series: A Series containing the selected feature names.\n",
    "    \"\"\"\n",
    "    # Drop the target column from the DataFrame\n",
    "    X = df.drop(columns=[col_name])\n",
    "    \n",
    "    # Select columns with numeric or float data types\n",
    "    X = X.select_dtypes(include=['number', 'float'])\n",
    "    \n",
    "    # Extract the target variable\n",
    "    y = df[col_name]\n",
    "    \n",
    "    # Initialize a Linear Regression model\n",
    "    lm = LinearRegression()\n",
    "    \n",
    "    # Initialize RFE (Recursive Feature Elimination) with the specified number of features to select\n",
    "    rfe = RFE(lm, n_features_to_select=n_features)\n",
    "    \n",
    "    # Fit RFE on the data\n",
    "    rfe.fit(X, y)\n",
    "    \n",
    "    # Get the mask of selected features\n",
    "    rfe_mask = rfe.get_support()\n",
    "    \n",
    "    # Get the column names of selected features\n",
    "    selected_features = X.columns[rfe_mask]\n",
    "    \n",
    "    # Create a DataFrame to present the selected features\n",
    "    selected_df = pd.DataFrame({'RFE': selected_features})\n",
    "    \n",
    "    return selected_df\n",
    "\n",
    "# -----------------------------------------------------------------------------------------------\n",
    "# -----------------------------------------------------------------------------------------------\n",
    "\n",
    "def lasso_features(df, col_name, k=2):\n",
    "    \"\"\"\n",
    "    Performs LASSO feature selection to select the top k features for regression from a DataFrame.\n",
    "\n",
    "    Parameters:\n",
    "        df (DataFrame): The input DataFrame containing features and the target column.\n",
    "        col_name (str): The name of the target column.\n",
    "        k (int): The number of top features to select (default is 2).\n",
    "\n",
    "    Returns:\n",
    "        selected_df (DataFrame): A DataFrame with two columns: 'Column Name' and 'Coefficient'.\n",
    "            'Column Name' contains the column names of the selected features.\n",
    "            'Coefficient' contains the corresponding LASSO regression coefficients.\n",
    "\n",
    "    Example:\n",
    "        selected_features = lasso_feature_selection(your_dataframe, 'value', k=2)\n",
    "    \"\"\"\n",
    "    # Create X and y\n",
    "    X = df.drop(columns=[col_name])  # Remove the target column\n",
    "    y = df[col_name]\n",
    "    \n",
    "    # Filter X to keep only numeric and float columns\n",
    "    X = X.select_dtypes(include=['number', 'float'])\n",
    "    \n",
    "    # Initialize LASSO regression with alpha=1.0 (adjust as needed)\n",
    "    lasso = Lasso(alpha=0.5, max_iter=100000)\n",
    "    \n",
    "    # Fit LASSO on X and y\n",
    "    lasso.fit(X, y)\n",
    "    \n",
    "    # Create a DataFrame with selected column names and their coefficients\n",
    "    selected_df = pd.DataFrame({\n",
    "        'Lasso': X.columns,\n",
    "        'Coefficient': lasso.coef_\n",
    "    })\n",
    "    \n",
    "    # Sort the DataFrame by absolute coefficient value in descending order\n",
    "    selected_df['Coefficient'] = abs(selected_df['Coefficient'])\n",
    "    selected_df = selected_df.sort_values(by='Coefficient', ascending=False)\n",
    "    \n",
    "    # Keep the top k features\n",
    "    selected_df = selected_df.head(k)\n",
    "    \n",
    "    selected_df.reset_index(drop=True, inplace=True)\n",
    "    \n",
    "    selected_df.drop('Coefficient', axis=1, inplace=True)\n",
    "    \n",
    "    return selected_df\n",
    "\n",
    "# -----------------------------------------------------------------------------------------------\n",
    "# -----------------------------------------------------------------------------------------------\n",
    "\n",
    "def feature_selections_results(df, col_name, k=2):\n",
    "    \"\"\"\n",
    "    Combine the results of three feature selection functions into a final DataFrame.\n",
    "\n",
    "    Parameters:\n",
    "    df (DataFrame): The input DataFrame containing features and the target column.\n",
    "    col_name (str): The name of the target column.\n",
    "    k (int, optional): The number of top features to select (default is 2).\n",
    "\n",
    "    Returns:\n",
    "    DataFrame: A DataFrame containing the selected features from three different feature selection methods.\n",
    "    \"\"\"\n",
    "    selected_df1 = kbest_features(df, col_name, k)\n",
    "    selected_df2 = rfe_features(df, col_name, k)\n",
    "    selected_df3 = lasso_features(df, col_name, k)\n",
    "    \n",
    "    final_selected_df = pd.concat([selected_df1, selected_df2, selected_df3], axis=1)\n",
    "    \n",
    "    return final_selected_df\n",
    "\n",
    "# -----------------------------------------------------------------------------------------------\n",
    "# -----------------------------------------------------------------------------------------------\n",
    "\n",
    "def MinMax_Scaler(train, val, test):\n",
    "    \"\"\"\n",
    "    Apply Min-Max scaling to selected columns of a DataFrame.\n",
    "\n",
    "    Parameters:\n",
    "        df (pd.DataFrame): The DataFrame containing the columns to be scaled.\n",
    "\n",
    "    Returns:\n",
    "        pd.DataFrame: The DataFrame with specified columns scaled using Min-Max scaling.\n",
    "\n",
    "    Note:\n",
    "        - The function applies Min-Max scaling to numeric columns (float or int) in the DataFrame.\n",
    "        - The 'value' column is excluded from scaling.\n",
    "        - The selected columns are scaled to the range [0, 1].\n",
    "    \"\"\"\n",
    "    mms = MinMaxScaler()\n",
    "\n",
    "    # Select columns to scale (excluding 'value')\n",
    "    to_scale = train.select_dtypes(include=['float', 'int']).columns.tolist()\n",
    "    to_scale.remove('quality')\n",
    "\n",
    "    \n",
    "    # Apply Min-Max scaling to the selected columns\n",
    "    train[to_scale] = mms.fit_transform(train[to_scale])\n",
    "    val[to_scale] = mms.transform(val[to_scale])\n",
    "    test [to_scale] = mms.transform(test[to_scale])\n",
    "    \n",
    "    return train, val, test\n",
    "\n",
    "# -----------------------------------------------------------------------------------------------\n",
    "# -----------------------------------------------------------------------------------------------\n",
    "\n",
    "def MinMax_Scaler_xy(train, val, test):\n",
    "    \"\"\"\n",
    "    Apply Min-Max scaling to selected columns of a DataFrame.\n",
    "\n",
    "    Parameters:\n",
    "        df (pd.DataFrame): The DataFrame containing the columns to be scaled.\n",
    "\n",
    "    Returns:\n",
    "        pd.DataFrame: The DataFrame with specified columns scaled using Min-Max scaling.\n",
    "\n",
    "    Note:\n",
    "        - The function applies Min-Max scaling to numeric columns (float or int) in the DataFrame.\n",
    "        - The 'value' column is excluded from scaling.\n",
    "        - The selected columns are scaled to the range [0, 1].\n",
    "    \"\"\"\n",
    "    mms = MinMaxScaler()\n",
    "\n",
    "    # Select columns to scale (excluding 'value')\n",
    "    to_scale = train.select_dtypes(include=['float', 'int']).columns.tolist()\n",
    "\n",
    "    # Apply Min-Max scaling to the selected columns\n",
    "    train[to_scale] = mms.fit_transform(train[to_scale])\n",
    "    val[to_scale] = mms.transform(val[to_scale])\n",
    "    test [to_scale] = mms.transform(test[to_scale])\n",
    "    \n",
    "    return train, val, test\n",
    "\n",
    "# -----------------------------------------------------------------------------------------------\n",
    "# -----------------------------------------------------------------------------------------------\n",
    "\n",
    "def hot_encode(df):\n",
    "    \"\"\"\n",
    "    Perform one-hot encoding on a DataFrame.\n",
    "\n",
    "    Parameters:\n",
    "        df (pd.DataFrame): The DataFrame containing categorical columns to be one-hot encoded.\n",
    "\n",
    "    Returns:\n",
    "        pd.DataFrame: The DataFrame with categorical columns converted to one-hot encoded columns.\n",
    "\n",
    "    Note:\n",
    "        - The function uses pd.get_dummies to perform one-hot encoding on the specified DataFrame.\n",
    "        - All categorical columns are one-hot encoded without dropping the first category (drop_first=False).\n",
    "    \"\"\"\n",
    "    # Use pd.get_dummies to one-hot encode the DataFrame\n",
    "    df = pd.get_dummies(df, drop_first=True)\n",
    "    \n",
    "    return df\n",
    "\n",
    "def xy_split(df):\n",
    "    \"\"\"\n",
    "    Split the input DataFrame into feature matrix (X) and target vector (y).\n",
    "    \n",
    "    Parameters:\n",
    "    df (DataFrame): The input DataFrame containing features and target.\n",
    "    \n",
    "    Returns:\n",
    "    X (DataFrame): Feature matrix (all columns except 'value').\n",
    "    y (Series): Target vector (column 'value').\n",
    "    \"\"\"\n",
    "    # Split the dataset into feature columns (X) and target column (y)\n",
    "    return df.drop(columns=['quality']), df.quality\n",
    "\n",
    "def data_pipeline(df):\n",
    "    train, val, test = wine_train_val_test(df)\n",
    "    \n",
    "    #train, val, test = scale_train_val_test(train, val, test)\n",
    "    train = hot_encode(train)\n",
    "    val = hot_encode(val)\n",
    "    test = hot_encode(test)\n",
    "    \n",
    "    X_train, y_train = xy_split(train)\n",
    "    X_val, y_val = xy_split(val)\n",
    "    X_test, y_test = xy_split(test)\n",
    "    return train, val, test, X_train, y_train, X_val, y_val, X_test, y_test"
   ]
  },
  {
   "cell_type": "code",
   "execution_count": 4,
   "metadata": {},
   "outputs": [],
   "source": [
    "from math import sqrt\n",
    "from sklearn.metrics import mean_squared_error\n",
    "\n",
    "def eval_baseline(y_train):\n",
    "    \"\"\"\n",
    "    Evaluate the baseline model's performance using the root mean squared error (RMSE).\n",
    "\n",
    "    Parameters:\n",
    "        y_train (pd.Series): The target variable from the training dataset.\n",
    "\n",
    "    Returns:\n",
    "        float: The RMSE score representing the baseline model's performance.\n",
    "\n",
    "    Note:\n",
    "        - The function creates a baseline model by predicting the mean value of the training target variable for all samples.\n",
    "        - It calculates the RMSE between the actual target values and the mean predictions.\n",
    "        - The RMSE score quantifies the baseline model's performance.\n",
    "    \"\"\"\n",
    "    baselines = pd.DataFrame({'y_actual': y_train, 'y_mean': y_train.mean()})\n",
    "    \n",
    "    return sqrt(mean_squared_error(baselines.y_actual, baselines.y_mean))"
   ]
  },
  {
   "cell_type": "code",
   "execution_count": 5,
   "metadata": {},
   "outputs": [],
   "source": [
    "from sklearn.ensemble import RandomForestRegressor\n",
    "\n",
    "def eval_model(y_actual, y_hat):\n",
    "    \"\"\"\n",
    "    Evaluate a model's performance using the root mean squared error (RMSE).\n",
    "\n",
    "    Parameters:\n",
    "        y_actual (pd.Series): The actual target values.\n",
    "        y_hat (pd.Series or np.array): The predicted target values.\n",
    "\n",
    "    Returns:\n",
    "        float: The RMSE score representing the model's performance.\n",
    "\n",
    "    Note:\n",
    "        - The function calculates the RMSE between the actual target values and the predicted values.\n",
    "        - The RMSE score quantifies the model's performance, where lower values indicate better performance.\n",
    "    \"\"\"\n",
    "    return sqrt(mean_squared_error(y_actual, y_hat))\n",
    "\n",
    "def update_model_results(model_name, train_rmse, val_rmse, model_results=None):\n",
    "    \"\"\"\n",
    "    Update a DataFrame with model evaluation results (RMSE) for a given model.\n",
    "\n",
    "    Parameters:\n",
    "        model_name (str): The name or identifier of the model.\n",
    "        train_rmse (float): The root mean squared error (RMSE) on the training dataset.\n",
    "        val_rmse (float): The root mean squared error (RMSE) on the validation dataset.\n",
    "        model_results (pd.DataFrame, optional): An existing DataFrame containing model results. Default is None.\n",
    "\n",
    "    Returns:\n",
    "        pd.DataFrame: An updated DataFrame with the new model's results.\n",
    "\n",
    "    Note:\n",
    "        - The function creates a DataFrame with the model's name and RMSE results on the training and validation datasets.\n",
    "        - If `model_results` is provided, it concatenates the new results with the existing DataFrame.\n",
    "        - If `model_results` is not provided, it creates a new DataFrame to store the results.\n",
    "    \"\"\"\n",
    "    # Create a DataFrame with model name and RMSE results\n",
    "    results_df = pd.DataFrame({\n",
    "        'Model': [model_name],\n",
    "        'Train_RMSE': [train_rmse],\n",
    "        'Val_RMSE': [val_rmse]\n",
    "    })\n",
    "    \n",
    "    # Check if model_results already exists\n",
    "    if model_results is not None:\n",
    "        # Concatenate results with existing DataFrame\n",
    "        model_results = pd.concat([model_results, results_df], ignore_index=True)\n",
    "    else:\n",
    "        # Create a new DataFrame if it doesn't exist\n",
    "        model_results = results_df\n",
    "\n",
    "    return model_results\n",
    "\n",
    "# -----------------------------------------------------------------------------------------------\n",
    "# -----------------------------------------------------------------------------------------------\n",
    "\n",
    "def train_model(model_name, X_train, y_train, X_val, y_val, model_results=None):\n",
    "    \"\"\"\n",
    "    Train a machine learning model, evaluate its performance, and update the model results DataFrame.\n",
    "\n",
    "    Parameters:\n",
    "        model_name (class): The machine learning model class (e.g., LinearRegression).\n",
    "        X_train (pd.DataFrame): The feature matrix of the training dataset.\n",
    "        y_train (pd.Series): The target variable of the training dataset.\n",
    "        X_val (pd.DataFrame): The feature matrix of the validation dataset.\n",
    "        y_val (pd.Series): The target variable of the validation dataset.\n",
    "        model_results (pd.DataFrame, optional): An existing DataFrame containing model results. Default is None.\n",
    "\n",
    "    Returns:\n",
    "    model: Trained machine learning model.\n",
    "    model_results: Updated DataFrame containing model name and RMSE results.\n",
    "\n",
    "    Note:\n",
    "        - The function trains a machine learning model on the provided training data.\n",
    "        - It evaluates the model's performance on both the training and validation sets using RMSE.\n",
    "        - RMSE values are printed for both sets in a formatted manner.\n",
    "        - The model name is extracted from the class and used for updating the model results DataFrame.\n",
    "        - If `model_results` is provided, it is updated with the new model's results.\n",
    "        - If `model_results` is not provided, a new DataFrame is created to store the results.\n",
    "    \"\"\"\n",
    "    # Fit the model on the training data\n",
    "    model = model_name()\n",
    "    model.fit(X_train, y_train)\n",
    "    \n",
    "    # Make predictions on the training set\n",
    "    train_preds = model.predict(X_train)\n",
    "    \n",
    "    # Calculate RMSE on the training set\n",
    "    train_rmse = eval_model(y_train, train_preds)\n",
    "    \n",
    "    # Make predictions on the validation set\n",
    "    val_preds = model.predict(X_val)\n",
    "    \n",
    "    # Calculate RMSE on the validation set\n",
    "    val_rmse = eval_model(y_val, val_preds)\n",
    "    \n",
    "    # Print RMSE values for training and validation sets (formatted)\n",
    "    train_rmse_formatted = \"${:,.4f}\".format(train_rmse)\n",
    "    val_rmse_formatted = \"${:,.4f}\".format(val_rmse)\n",
    "    print(f'The train RMSE is {train_rmse_formatted}.')\n",
    "    print(f'The validate RMSE is {val_rmse_formatted}.')\n",
    "    \n",
    "    # Extract the name of the model class without the module path\n",
    "    model_name = model.__class__.__name__\n",
    "\n",
    "    # Update the model results DataFrame\n",
    "    model_results = update_model_results(model_name, train_rmse_formatted, val_rmse_formatted, model_results)\n",
    "\n",
    "    return model, model_results\n"
   ]
  },
  {
   "cell_type": "code",
   "execution_count": 6,
   "metadata": {},
   "outputs": [],
   "source": [
    "df = acquire_wine()"
   ]
  },
  {
   "cell_type": "markdown",
   "metadata": {},
   "source": [
    "___\n",
    "<font size=\"5\">Model First Rounds</font><br>\n",
    "___"
   ]
  },
  {
   "cell_type": "code",
   "execution_count": 7,
   "metadata": {},
   "outputs": [],
   "source": [
    "train, val, test, X_train, y_train, X_val, y_val, X_test, y_test = data_pipeline(df)"
   ]
  },
  {
   "cell_type": "code",
   "execution_count": 8,
   "metadata": {},
   "outputs": [
    {
     "data": {
      "text/html": [
       "<div>\n",
       "<style scoped>\n",
       "    .dataframe tbody tr th:only-of-type {\n",
       "        vertical-align: middle;\n",
       "    }\n",
       "\n",
       "    .dataframe tbody tr th {\n",
       "        vertical-align: top;\n",
       "    }\n",
       "\n",
       "    .dataframe thead th {\n",
       "        text-align: right;\n",
       "    }\n",
       "</style>\n",
       "<table border=\"1\" class=\"dataframe\">\n",
       "  <thead>\n",
       "    <tr style=\"text-align: right;\">\n",
       "      <th></th>\n",
       "      <th>fixed acidity</th>\n",
       "      <th>volatile acidity</th>\n",
       "      <th>citric acid</th>\n",
       "      <th>residual sugar</th>\n",
       "      <th>chlorides</th>\n",
       "      <th>free sulfur dioxide</th>\n",
       "      <th>total sulfur dioxide</th>\n",
       "      <th>density</th>\n",
       "      <th>pH</th>\n",
       "      <th>sulphates</th>\n",
       "      <th>alcohol</th>\n",
       "      <th>quality</th>\n",
       "      <th>type_white</th>\n",
       "    </tr>\n",
       "  </thead>\n",
       "  <tbody>\n",
       "    <tr>\n",
       "      <th>3761</th>\n",
       "      <td>9.9</td>\n",
       "      <td>0.490</td>\n",
       "      <td>0.23</td>\n",
       "      <td>2.4</td>\n",
       "      <td>0.087</td>\n",
       "      <td>19.0</td>\n",
       "      <td>115.0</td>\n",
       "      <td>0.99480</td>\n",
       "      <td>2.77</td>\n",
       "      <td>0.44</td>\n",
       "      <td>9.400000</td>\n",
       "      <td>6</td>\n",
       "      <td>True</td>\n",
       "    </tr>\n",
       "    <tr>\n",
       "      <th>3740</th>\n",
       "      <td>7.7</td>\n",
       "      <td>0.280</td>\n",
       "      <td>0.35</td>\n",
       "      <td>15.3</td>\n",
       "      <td>0.056</td>\n",
       "      <td>31.0</td>\n",
       "      <td>117.0</td>\n",
       "      <td>0.99980</td>\n",
       "      <td>3.27</td>\n",
       "      <td>0.50</td>\n",
       "      <td>9.600000</td>\n",
       "      <td>5</td>\n",
       "      <td>True</td>\n",
       "    </tr>\n",
       "    <tr>\n",
       "      <th>1359</th>\n",
       "      <td>11.6</td>\n",
       "      <td>0.475</td>\n",
       "      <td>0.40</td>\n",
       "      <td>1.4</td>\n",
       "      <td>0.091</td>\n",
       "      <td>6.0</td>\n",
       "      <td>28.0</td>\n",
       "      <td>0.99704</td>\n",
       "      <td>3.07</td>\n",
       "      <td>0.65</td>\n",
       "      <td>10.033333</td>\n",
       "      <td>6</td>\n",
       "      <td>False</td>\n",
       "    </tr>\n",
       "    <tr>\n",
       "      <th>1230</th>\n",
       "      <td>7.7</td>\n",
       "      <td>0.180</td>\n",
       "      <td>0.34</td>\n",
       "      <td>2.7</td>\n",
       "      <td>0.066</td>\n",
       "      <td>15.0</td>\n",
       "      <td>58.0</td>\n",
       "      <td>0.99470</td>\n",
       "      <td>3.37</td>\n",
       "      <td>0.78</td>\n",
       "      <td>11.800000</td>\n",
       "      <td>6</td>\n",
       "      <td>False</td>\n",
       "    </tr>\n",
       "    <tr>\n",
       "      <th>4751</th>\n",
       "      <td>7.6</td>\n",
       "      <td>0.250</td>\n",
       "      <td>1.23</td>\n",
       "      <td>4.6</td>\n",
       "      <td>0.035</td>\n",
       "      <td>51.0</td>\n",
       "      <td>294.0</td>\n",
       "      <td>0.99018</td>\n",
       "      <td>3.03</td>\n",
       "      <td>0.43</td>\n",
       "      <td>13.100000</td>\n",
       "      <td>6</td>\n",
       "      <td>True</td>\n",
       "    </tr>\n",
       "  </tbody>\n",
       "</table>\n",
       "</div>"
      ],
      "text/plain": [
       "      fixed acidity  volatile acidity  citric acid  residual sugar  chlorides  free sulfur dioxide  total sulfur dioxide  density    pH  sulphates    alcohol  quality  type_white\n",
       "3761            9.9             0.490         0.23             2.4      0.087                 19.0                 115.0  0.99480  2.77       0.44   9.400000        6        True\n",
       "3740            7.7             0.280         0.35            15.3      0.056                 31.0                 117.0  0.99980  3.27       0.50   9.600000        5        True\n",
       "1359           11.6             0.475         0.40             1.4      0.091                  6.0                  28.0  0.99704  3.07       0.65  10.033333        6       False\n",
       "1230            7.7             0.180         0.34             2.7      0.066                 15.0                  58.0  0.99470  3.37       0.78  11.800000        6       False\n",
       "4751            7.6             0.250         1.23             4.6      0.035                 51.0                 294.0  0.99018  3.03       0.43  13.100000        6        True"
      ]
     },
     "execution_count": 8,
     "metadata": {},
     "output_type": "execute_result"
    }
   ],
   "source": [
    "train.head()"
   ]
  },
  {
   "cell_type": "code",
   "execution_count": 9,
   "metadata": {},
   "outputs": [
    {
     "data": {
      "text/plain": [
       "0.8812045100258817"
      ]
     },
     "execution_count": 9,
     "metadata": {},
     "output_type": "execute_result"
    }
   ],
   "source": [
    "eval_baseline(y_train)"
   ]
  },
  {
   "cell_type": "code",
   "execution_count": 10,
   "metadata": {},
   "outputs": [
    {
     "name": "stdout",
     "output_type": "stream",
     "text": [
      "The train RMSE is $0.2332.\n",
      "The validate RMSE is $0.6182.\n"
     ]
    }
   ],
   "source": [
    "rforest, model_results_1 = train_model(RandomForestRegressor, X_train, y_train, X_val, y_val)"
   ]
  },
  {
   "cell_type": "code",
   "execution_count": 11,
   "metadata": {},
   "outputs": [],
   "source": [
    "from xgboost import XGBRegressor"
   ]
  },
  {
   "cell_type": "code",
   "execution_count": 12,
   "metadata": {},
   "outputs": [
    {
     "name": "stdout",
     "output_type": "stream",
     "text": [
      "The train RMSE is $0.2526.\n",
      "The validate RMSE is $0.6364.\n"
     ]
    }
   ],
   "source": [
    "xgbr, model_results_1 = train_model(XGBRegressor, X_train, y_train, X_val, y_val, model_results_1)"
   ]
  },
  {
   "cell_type": "code",
   "execution_count": 13,
   "metadata": {},
   "outputs": [],
   "source": [
    "from sklearn.linear_model import LinearRegression, LassoLars, TweedieRegressor"
   ]
  },
  {
   "cell_type": "code",
   "execution_count": 14,
   "metadata": {},
   "outputs": [
    {
     "name": "stdout",
     "output_type": "stream",
     "text": [
      "Selected Features: Index(['fixed acidity', 'volatile acidity', 'citric acid', 'residual sugar',\n",
      "       'chlorides', 'free sulfur dioxide', 'total sulfur dioxide', 'density',\n",
      "       'pH', 'sulphates', 'alcohol', 'type_white'],\n",
      "      dtype='object')\n",
      "Validation RMSE: 0.7268084056792673\n"
     ]
    }
   ],
   "source": [
    "from sklearn.linear_model import LinearRegression\n",
    "from sklearn.metrics import mean_squared_error\n",
    "\n",
    "from mlxtend.feature_selection import SequentialFeatureSelector\n",
    "import numpy as np\n",
    "\n",
    "# Initialize the linear regression model\n",
    "lr = LinearRegression()\n",
    "\n",
    "# Define the Sequential Feature Selector\n",
    "sfs = SequentialFeatureSelector(lr, \n",
    "                                k_features='best',  # Number of features to select ('best' selects the best subset)\n",
    "                                forward=True,  # Forward selection\n",
    "                                floating=False,  # No floating feature selection\n",
    "                                scoring='neg_root_mean_squared_error',  # Scoring metric as RMSE\n",
    "                                cv=5)  # Cross-validation folds\n",
    "\n",
    "# Fit SFS to your training data\n",
    "sfs = sfs.fit(X_train, y_train)\n",
    "\n",
    "# Get the selected feature indices and names\n",
    "selected_feature_indices = sfs.k_feature_idx_\n",
    "selected_feature_names = X_train.columns[list(selected_feature_indices)]\n",
    "\n",
    "# Train a linear regression model with the selected features\n",
    "lr.fit(X_train[selected_feature_names], y_train)\n",
    "\n",
    "# Make predictions on the validation set\n",
    "y_pred = lr.predict(X_val[selected_feature_names])\n",
    "\n",
    "# Calculate RMSE on the validation set\n",
    "rmse = np.sqrt(mean_squared_error(y_val, y_pred))\n",
    "\n",
    "print(\"Selected Features:\", selected_feature_names)\n",
    "print(\"Validation RMSE:\", rmse)\n"
   ]
  },
  {
   "cell_type": "code",
   "execution_count": 15,
   "metadata": {},
   "outputs": [],
   "source": [
    "from sklearn.linear_model import LinearRegression\n",
    "from sklearn.metrics import mean_squared_error\n",
    "from mlxtend.feature_selection import SequentialFeatureSelector\n",
    "import numpy as np\n",
    "\n",
    "def sfs_forward(X_train, y_train):\n",
    "    # Initialize the linear regression model\n",
    "    lr = LinearRegression()\n",
    "\n",
    "    # Define the Sequential Feature Selector\n",
    "    sfs = SequentialFeatureSelector(lr, \n",
    "                                    k_features='best',  # Number of features to select ('best' selects the best subset)\n",
    "                                    forward=True,  # Forward selection\n",
    "                                    floating=False,  # No floating feature selection\n",
    "                                    scoring='neg_root_mean_squared_error',  # Scoring metric as RMSE\n",
    "                                    cv=5)  # Cross-validation folds\n",
    "\n",
    "    # Fit SFS to your training data\n",
    "    sfs = sfs.fit(X_train, y_train)\n",
    "\n",
    "    # Get the selected feature indices and names\n",
    "    selected_feature_indices = sfs.k_feature_idx_\n",
    "    selected_feature_names = X_train.columns[list(selected_feature_indices)]\n",
    "\n",
    "    # Train a linear regression model with the selected features\n",
    "    lr.fit(X_train[selected_feature_names], y_train)\n",
    "\n",
    "    # Make predictions on the validation set\n",
    "    y_pred = lr.predict(X_val[selected_feature_names])\n",
    "\n",
    "    # Calculate RMSE on the validation set\n",
    "    rmse = np.sqrt(mean_squared_error(y_val, y_pred))\n",
    "\n",
    "    print(\"Selected Features:\")\n",
    "    print(selected_feature_names)\n",
    "    print(\"Validation RMSE:\", rmse)\n",
    "\n",
    "    # Find the features that were removed\n",
    "    removed_features = [feature for feature in X_train.columns if feature not in selected_feature_names]\n",
    "    print(\"Removed Features:\")\n",
    "    print(removed_features)\n"
   ]
  },
  {
   "cell_type": "code",
   "execution_count": 16,
   "metadata": {},
   "outputs": [
    {
     "name": "stdout",
     "output_type": "stream",
     "text": [
      "Selected Features:\n",
      "Index(['fixed acidity', 'volatile acidity', 'citric acid', 'residual sugar',\n",
      "       'chlorides', 'free sulfur dioxide', 'total sulfur dioxide', 'density',\n",
      "       'pH', 'sulphates', 'alcohol', 'type_white'],\n",
      "      dtype='object')\n",
      "Validation RMSE: 0.7268084056792673\n",
      "Removed Features:\n",
      "[]\n"
     ]
    }
   ],
   "source": [
    "sfs_forward(X_train, y_train)"
   ]
  },
  {
   "cell_type": "code",
   "execution_count": 17,
   "metadata": {},
   "outputs": [],
   "source": [
    "from sklearn.linear_model import LinearRegression\n",
    "from mlxtend.feature_selection import SequentialFeatureSelector\n",
    "import numpy as np\n",
    "\n",
    "\n",
    "def sfs_backwards(X_train, y_train):\n",
    "    # Initialize the linear regression model\n",
    "    lr = LinearRegression()\n",
    "\n",
    "    # Define the Sequential Feature Selector\n",
    "    sfs = SequentialFeatureSelector(lr, \n",
    "                                    k_features='best',  # Number of features to select ('best' selects the best subset)\n",
    "                                    forward=False,  # Backward elimination (remove features)\n",
    "                                    floating=False,  # No floating feature selection\n",
    "                                    scoring='neg_root_mean_squared_error',  # Scoring metric as RMSE\n",
    "                                    cv=5)  # Cross-validation folds\n",
    "\n",
    "    # Fit SFS to your training data\n",
    "    sfs = sfs.fit(X_train, y_train)\n",
    "\n",
    "    # Get the selected feature indices and names\n",
    "    selected_feature_indices = sfs.k_feature_idx_\n",
    "    selected_feature_names = X_train.columns[list(selected_feature_indices)]\n",
    "\n",
    "    # Find the removed features\n",
    "    all_feature_indices = range(X_train.shape[1])\n",
    "    removed_feature_indices = list(set(all_feature_indices) - set(selected_feature_indices))\n",
    "    removed_feature_names = X_train.columns[list(removed_feature_indices)]\n",
    "\n",
    "    # Train a linear regression model with the selected features\n",
    "    lr.fit(X_train[selected_feature_names], y_train)\n",
    "\n",
    "    # Print selected features\n",
    "    print(\"Selected Features:\")\n",
    "    print(selected_feature_names)\n",
    "\n",
    "    # Print removed features\n",
    "    print(\"Removed Features:\")\n",
    "    print(removed_feature_names)\n",
    "\n",
    "    # Make predictions on the validation set\n",
    "    y_pred = lr.predict(X_val[selected_feature_names])\n",
    "\n",
    "    # Calculate RMSE on the validation set\n",
    "    rmse = np.sqrt(mean_squared_error(y_val, y_pred))\n",
    "\n",
    "    print(\"Validation RMSE:\", rmse)"
   ]
  },
  {
   "cell_type": "code",
   "execution_count": 18,
   "metadata": {},
   "outputs": [
    {
     "name": "stdout",
     "output_type": "stream",
     "text": [
      "Selected Features:\n",
      "Index(['fixed acidity', 'volatile acidity', 'citric acid', 'residual sugar',\n",
      "       'chlorides', 'free sulfur dioxide', 'total sulfur dioxide', 'density',\n",
      "       'pH', 'sulphates', 'alcohol', 'type_white'],\n",
      "      dtype='object')\n",
      "Removed Features:\n",
      "Index([], dtype='object')\n",
      "Validation RMSE: 0.7268084056792673\n"
     ]
    }
   ],
   "source": [
    "sfs_backwards(X_train, y_train)"
   ]
  },
  {
   "cell_type": "code",
   "execution_count": 19,
   "metadata": {},
   "outputs": [
    {
     "name": "stdout",
     "output_type": "stream",
     "text": [
      "The train RMSE is $0.8788.\n",
      "The validate RMSE is $0.8619.\n"
     ]
    }
   ],
   "source": [
    "lasso, model_results_1 = train_model(LassoLars, X_train, y_train, X_val, y_val, model_results_1)"
   ]
  },
  {
   "cell_type": "code",
   "execution_count": 20,
   "metadata": {},
   "outputs": [
    {
     "name": "stdout",
     "output_type": "stream",
     "text": [
      "The train RMSE is $0.7355.\n",
      "The validate RMSE is $0.7268.\n"
     ]
    }
   ],
   "source": [
    "linearr, model_results_1 = train_model(LinearRegression, X_train, y_train, X_val, y_val, model_results_1)"
   ]
  },
  {
   "cell_type": "code",
   "execution_count": 21,
   "metadata": {},
   "outputs": [
    {
     "name": "stdout",
     "output_type": "stream",
     "text": [
      "The train RMSE is $0.7908.\n",
      "The validate RMSE is $0.7780.\n"
     ]
    }
   ],
   "source": [
    "tweedie, model_results_1 = train_model(TweedieRegressor, X_train, y_train, X_val, y_val, model_results_1)"
   ]
  },
  {
   "cell_type": "markdown",
   "metadata": {},
   "source": [
    "#### Non Scaled, No drops, no Cluster features"
   ]
  },
  {
   "cell_type": "code",
   "execution_count": 22,
   "metadata": {},
   "outputs": [
    {
     "data": {
      "text/html": [
       "<div>\n",
       "<style scoped>\n",
       "    .dataframe tbody tr th:only-of-type {\n",
       "        vertical-align: middle;\n",
       "    }\n",
       "\n",
       "    .dataframe tbody tr th {\n",
       "        vertical-align: top;\n",
       "    }\n",
       "\n",
       "    .dataframe thead th {\n",
       "        text-align: right;\n",
       "    }\n",
       "</style>\n",
       "<table border=\"1\" class=\"dataframe\">\n",
       "  <thead>\n",
       "    <tr style=\"text-align: right;\">\n",
       "      <th></th>\n",
       "      <th>Model</th>\n",
       "      <th>Train_RMSE</th>\n",
       "      <th>Val_RMSE</th>\n",
       "    </tr>\n",
       "  </thead>\n",
       "  <tbody>\n",
       "    <tr>\n",
       "      <th>0</th>\n",
       "      <td>RandomForestRegressor</td>\n",
       "      <td>$0.2332</td>\n",
       "      <td>$0.6182</td>\n",
       "    </tr>\n",
       "    <tr>\n",
       "      <th>1</th>\n",
       "      <td>XGBRegressor</td>\n",
       "      <td>$0.2526</td>\n",
       "      <td>$0.6364</td>\n",
       "    </tr>\n",
       "    <tr>\n",
       "      <th>2</th>\n",
       "      <td>LassoLars</td>\n",
       "      <td>$0.8788</td>\n",
       "      <td>$0.8619</td>\n",
       "    </tr>\n",
       "    <tr>\n",
       "      <th>3</th>\n",
       "      <td>LinearRegression</td>\n",
       "      <td>$0.7355</td>\n",
       "      <td>$0.7268</td>\n",
       "    </tr>\n",
       "    <tr>\n",
       "      <th>4</th>\n",
       "      <td>TweedieRegressor</td>\n",
       "      <td>$0.7908</td>\n",
       "      <td>$0.7780</td>\n",
       "    </tr>\n",
       "  </tbody>\n",
       "</table>\n",
       "</div>"
      ],
      "text/plain": [
       "                   Model Train_RMSE Val_RMSE\n",
       "0  RandomForestRegressor    $0.2332  $0.6182\n",
       "1           XGBRegressor    $0.2526  $0.6364\n",
       "2              LassoLars    $0.8788  $0.8619\n",
       "3       LinearRegression    $0.7355  $0.7268\n",
       "4       TweedieRegressor    $0.7908  $0.7780"
      ]
     },
     "execution_count": 22,
     "metadata": {},
     "output_type": "execute_result"
    }
   ],
   "source": [
    "model_results_1"
   ]
  },
  {
   "cell_type": "markdown",
   "metadata": {},
   "source": [
    "____\n",
    "____\n",
    "\n",
    "## MODEL SECOND ROUND - SCALED\n",
    "____\n",
    "____"
   ]
  },
  {
   "cell_type": "code",
   "execution_count": 23,
   "metadata": {},
   "outputs": [],
   "source": [
    "df = acquire_wine()"
   ]
  },
  {
   "cell_type": "code",
   "execution_count": 24,
   "metadata": {},
   "outputs": [],
   "source": [
    "train, val, test, X_train, y_train, X_val, y_val, X_test, y_test = data_pipeline(df)"
   ]
  },
  {
   "cell_type": "code",
   "execution_count": 25,
   "metadata": {},
   "outputs": [
    {
     "data": {
      "text/html": [
       "<div>\n",
       "<style scoped>\n",
       "    .dataframe tbody tr th:only-of-type {\n",
       "        vertical-align: middle;\n",
       "    }\n",
       "\n",
       "    .dataframe tbody tr th {\n",
       "        vertical-align: top;\n",
       "    }\n",
       "\n",
       "    .dataframe thead th {\n",
       "        text-align: right;\n",
       "    }\n",
       "</style>\n",
       "<table border=\"1\" class=\"dataframe\">\n",
       "  <thead>\n",
       "    <tr style=\"text-align: right;\">\n",
       "      <th></th>\n",
       "      <th>fixed acidity</th>\n",
       "      <th>volatile acidity</th>\n",
       "      <th>citric acid</th>\n",
       "      <th>residual sugar</th>\n",
       "      <th>chlorides</th>\n",
       "      <th>free sulfur dioxide</th>\n",
       "      <th>total sulfur dioxide</th>\n",
       "      <th>density</th>\n",
       "      <th>pH</th>\n",
       "      <th>sulphates</th>\n",
       "      <th>alcohol</th>\n",
       "      <th>quality</th>\n",
       "      <th>type_white</th>\n",
       "    </tr>\n",
       "  </thead>\n",
       "  <tbody>\n",
       "    <tr>\n",
       "      <th>3761</th>\n",
       "      <td>9.9</td>\n",
       "      <td>0.490</td>\n",
       "      <td>0.23</td>\n",
       "      <td>2.4</td>\n",
       "      <td>0.087</td>\n",
       "      <td>19.0</td>\n",
       "      <td>115.0</td>\n",
       "      <td>0.99480</td>\n",
       "      <td>2.77</td>\n",
       "      <td>0.44</td>\n",
       "      <td>9.400000</td>\n",
       "      <td>6</td>\n",
       "      <td>True</td>\n",
       "    </tr>\n",
       "    <tr>\n",
       "      <th>3740</th>\n",
       "      <td>7.7</td>\n",
       "      <td>0.280</td>\n",
       "      <td>0.35</td>\n",
       "      <td>15.3</td>\n",
       "      <td>0.056</td>\n",
       "      <td>31.0</td>\n",
       "      <td>117.0</td>\n",
       "      <td>0.99980</td>\n",
       "      <td>3.27</td>\n",
       "      <td>0.50</td>\n",
       "      <td>9.600000</td>\n",
       "      <td>5</td>\n",
       "      <td>True</td>\n",
       "    </tr>\n",
       "    <tr>\n",
       "      <th>1359</th>\n",
       "      <td>11.6</td>\n",
       "      <td>0.475</td>\n",
       "      <td>0.40</td>\n",
       "      <td>1.4</td>\n",
       "      <td>0.091</td>\n",
       "      <td>6.0</td>\n",
       "      <td>28.0</td>\n",
       "      <td>0.99704</td>\n",
       "      <td>3.07</td>\n",
       "      <td>0.65</td>\n",
       "      <td>10.033333</td>\n",
       "      <td>6</td>\n",
       "      <td>False</td>\n",
       "    </tr>\n",
       "    <tr>\n",
       "      <th>1230</th>\n",
       "      <td>7.7</td>\n",
       "      <td>0.180</td>\n",
       "      <td>0.34</td>\n",
       "      <td>2.7</td>\n",
       "      <td>0.066</td>\n",
       "      <td>15.0</td>\n",
       "      <td>58.0</td>\n",
       "      <td>0.99470</td>\n",
       "      <td>3.37</td>\n",
       "      <td>0.78</td>\n",
       "      <td>11.800000</td>\n",
       "      <td>6</td>\n",
       "      <td>False</td>\n",
       "    </tr>\n",
       "    <tr>\n",
       "      <th>4751</th>\n",
       "      <td>7.6</td>\n",
       "      <td>0.250</td>\n",
       "      <td>1.23</td>\n",
       "      <td>4.6</td>\n",
       "      <td>0.035</td>\n",
       "      <td>51.0</td>\n",
       "      <td>294.0</td>\n",
       "      <td>0.99018</td>\n",
       "      <td>3.03</td>\n",
       "      <td>0.43</td>\n",
       "      <td>13.100000</td>\n",
       "      <td>6</td>\n",
       "      <td>True</td>\n",
       "    </tr>\n",
       "  </tbody>\n",
       "</table>\n",
       "</div>"
      ],
      "text/plain": [
       "      fixed acidity  volatile acidity  citric acid  residual sugar  chlorides  free sulfur dioxide  total sulfur dioxide  density    pH  sulphates    alcohol  quality  type_white\n",
       "3761            9.9             0.490         0.23             2.4      0.087                 19.0                 115.0  0.99480  2.77       0.44   9.400000        6        True\n",
       "3740            7.7             0.280         0.35            15.3      0.056                 31.0                 117.0  0.99980  3.27       0.50   9.600000        5        True\n",
       "1359           11.6             0.475         0.40             1.4      0.091                  6.0                  28.0  0.99704  3.07       0.65  10.033333        6       False\n",
       "1230            7.7             0.180         0.34             2.7      0.066                 15.0                  58.0  0.99470  3.37       0.78  11.800000        6       False\n",
       "4751            7.6             0.250         1.23             4.6      0.035                 51.0                 294.0  0.99018  3.03       0.43  13.100000        6        True"
      ]
     },
     "execution_count": 25,
     "metadata": {},
     "output_type": "execute_result"
    }
   ],
   "source": [
    "train.head()"
   ]
  },
  {
   "cell_type": "code",
   "execution_count": 26,
   "metadata": {},
   "outputs": [
    {
     "data": {
      "text/html": [
       "<div>\n",
       "<style scoped>\n",
       "    .dataframe tbody tr th:only-of-type {\n",
       "        vertical-align: middle;\n",
       "    }\n",
       "\n",
       "    .dataframe tbody tr th {\n",
       "        vertical-align: top;\n",
       "    }\n",
       "\n",
       "    .dataframe thead th {\n",
       "        text-align: right;\n",
       "    }\n",
       "</style>\n",
       "<table border=\"1\" class=\"dataframe\">\n",
       "  <thead>\n",
       "    <tr style=\"text-align: right;\">\n",
       "      <th></th>\n",
       "      <th>fixed acidity</th>\n",
       "      <th>volatile acidity</th>\n",
       "      <th>citric acid</th>\n",
       "      <th>residual sugar</th>\n",
       "      <th>chlorides</th>\n",
       "      <th>free sulfur dioxide</th>\n",
       "      <th>total sulfur dioxide</th>\n",
       "      <th>density</th>\n",
       "      <th>pH</th>\n",
       "      <th>sulphates</th>\n",
       "      <th>alcohol</th>\n",
       "      <th>type_white</th>\n",
       "    </tr>\n",
       "  </thead>\n",
       "  <tbody>\n",
       "    <tr>\n",
       "      <th>3761</th>\n",
       "      <td>9.9</td>\n",
       "      <td>0.490</td>\n",
       "      <td>0.23</td>\n",
       "      <td>2.4</td>\n",
       "      <td>0.087</td>\n",
       "      <td>19.0</td>\n",
       "      <td>115.0</td>\n",
       "      <td>0.99480</td>\n",
       "      <td>2.77</td>\n",
       "      <td>0.44</td>\n",
       "      <td>9.400000</td>\n",
       "      <td>True</td>\n",
       "    </tr>\n",
       "    <tr>\n",
       "      <th>3740</th>\n",
       "      <td>7.7</td>\n",
       "      <td>0.280</td>\n",
       "      <td>0.35</td>\n",
       "      <td>15.3</td>\n",
       "      <td>0.056</td>\n",
       "      <td>31.0</td>\n",
       "      <td>117.0</td>\n",
       "      <td>0.99980</td>\n",
       "      <td>3.27</td>\n",
       "      <td>0.50</td>\n",
       "      <td>9.600000</td>\n",
       "      <td>True</td>\n",
       "    </tr>\n",
       "    <tr>\n",
       "      <th>1359</th>\n",
       "      <td>11.6</td>\n",
       "      <td>0.475</td>\n",
       "      <td>0.40</td>\n",
       "      <td>1.4</td>\n",
       "      <td>0.091</td>\n",
       "      <td>6.0</td>\n",
       "      <td>28.0</td>\n",
       "      <td>0.99704</td>\n",
       "      <td>3.07</td>\n",
       "      <td>0.65</td>\n",
       "      <td>10.033333</td>\n",
       "      <td>False</td>\n",
       "    </tr>\n",
       "    <tr>\n",
       "      <th>1230</th>\n",
       "      <td>7.7</td>\n",
       "      <td>0.180</td>\n",
       "      <td>0.34</td>\n",
       "      <td>2.7</td>\n",
       "      <td>0.066</td>\n",
       "      <td>15.0</td>\n",
       "      <td>58.0</td>\n",
       "      <td>0.99470</td>\n",
       "      <td>3.37</td>\n",
       "      <td>0.78</td>\n",
       "      <td>11.800000</td>\n",
       "      <td>False</td>\n",
       "    </tr>\n",
       "    <tr>\n",
       "      <th>4751</th>\n",
       "      <td>7.6</td>\n",
       "      <td>0.250</td>\n",
       "      <td>1.23</td>\n",
       "      <td>4.6</td>\n",
       "      <td>0.035</td>\n",
       "      <td>51.0</td>\n",
       "      <td>294.0</td>\n",
       "      <td>0.99018</td>\n",
       "      <td>3.03</td>\n",
       "      <td>0.43</td>\n",
       "      <td>13.100000</td>\n",
       "      <td>True</td>\n",
       "    </tr>\n",
       "  </tbody>\n",
       "</table>\n",
       "</div>"
      ],
      "text/plain": [
       "      fixed acidity  volatile acidity  citric acid  residual sugar  chlorides  free sulfur dioxide  total sulfur dioxide  density    pH  sulphates    alcohol  type_white\n",
       "3761            9.9             0.490         0.23             2.4      0.087                 19.0                 115.0  0.99480  2.77       0.44   9.400000        True\n",
       "3740            7.7             0.280         0.35            15.3      0.056                 31.0                 117.0  0.99980  3.27       0.50   9.600000        True\n",
       "1359           11.6             0.475         0.40             1.4      0.091                  6.0                  28.0  0.99704  3.07       0.65  10.033333       False\n",
       "1230            7.7             0.180         0.34             2.7      0.066                 15.0                  58.0  0.99470  3.37       0.78  11.800000       False\n",
       "4751            7.6             0.250         1.23             4.6      0.035                 51.0                 294.0  0.99018  3.03       0.43  13.100000        True"
      ]
     },
     "execution_count": 26,
     "metadata": {},
     "output_type": "execute_result"
    }
   ],
   "source": [
    "X_train.head()"
   ]
  },
  {
   "cell_type": "code",
   "execution_count": 27,
   "metadata": {},
   "outputs": [],
   "source": [
    "train, val, test = MinMax_Scaler(train, val, test)\n",
    "\n",
    "#Scale X_df because data_pipeline does not scale it\n",
    "X_train, X_val, X_test = MinMax_Scaler_xy(X_train, X_val, X_test)"
   ]
  },
  {
   "cell_type": "code",
   "execution_count": 28,
   "metadata": {},
   "outputs": [
    {
     "data": {
      "text/html": [
       "<div>\n",
       "<style scoped>\n",
       "    .dataframe tbody tr th:only-of-type {\n",
       "        vertical-align: middle;\n",
       "    }\n",
       "\n",
       "    .dataframe tbody tr th {\n",
       "        vertical-align: top;\n",
       "    }\n",
       "\n",
       "    .dataframe thead th {\n",
       "        text-align: right;\n",
       "    }\n",
       "</style>\n",
       "<table border=\"1\" class=\"dataframe\">\n",
       "  <thead>\n",
       "    <tr style=\"text-align: right;\">\n",
       "      <th></th>\n",
       "      <th>fixed acidity</th>\n",
       "      <th>volatile acidity</th>\n",
       "      <th>citric acid</th>\n",
       "      <th>residual sugar</th>\n",
       "      <th>chlorides</th>\n",
       "      <th>free sulfur dioxide</th>\n",
       "      <th>total sulfur dioxide</th>\n",
       "      <th>density</th>\n",
       "      <th>pH</th>\n",
       "      <th>sulphates</th>\n",
       "      <th>alcohol</th>\n",
       "      <th>quality</th>\n",
       "      <th>type_white</th>\n",
       "    </tr>\n",
       "  </thead>\n",
       "  <tbody>\n",
       "    <tr>\n",
       "      <th>5169</th>\n",
       "      <td>0.262712</td>\n",
       "      <td>0.120000</td>\n",
       "      <td>0.219512</td>\n",
       "      <td>0.055215</td>\n",
       "      <td>0.036545</td>\n",
       "      <td>0.130584</td>\n",
       "      <td>0.218935</td>\n",
       "      <td>0.072874</td>\n",
       "      <td>0.299213</td>\n",
       "      <td>0.096591</td>\n",
       "      <td>0.578512</td>\n",
       "      <td>6</td>\n",
       "      <td>True</td>\n",
       "    </tr>\n",
       "    <tr>\n",
       "      <th>6388</th>\n",
       "      <td>0.144068</td>\n",
       "      <td>0.360000</td>\n",
       "      <td>0.268293</td>\n",
       "      <td>0.016871</td>\n",
       "      <td>0.046512</td>\n",
       "      <td>0.158076</td>\n",
       "      <td>0.331361</td>\n",
       "      <td>0.009061</td>\n",
       "      <td>0.322835</td>\n",
       "      <td>0.096591</td>\n",
       "      <td>0.917355</td>\n",
       "      <td>6</td>\n",
       "      <td>True</td>\n",
       "    </tr>\n",
       "    <tr>\n",
       "      <th>4371</th>\n",
       "      <td>0.203390</td>\n",
       "      <td>0.140000</td>\n",
       "      <td>0.260163</td>\n",
       "      <td>0.046012</td>\n",
       "      <td>0.028239</td>\n",
       "      <td>0.261168</td>\n",
       "      <td>0.390533</td>\n",
       "      <td>0.040293</td>\n",
       "      <td>0.448819</td>\n",
       "      <td>0.085227</td>\n",
       "      <td>0.842975</td>\n",
       "      <td>7</td>\n",
       "      <td>True</td>\n",
       "    </tr>\n",
       "    <tr>\n",
       "      <th>1414</th>\n",
       "      <td>0.525424</td>\n",
       "      <td>0.160000</td>\n",
       "      <td>0.479675</td>\n",
       "      <td>0.024540</td>\n",
       "      <td>0.112957</td>\n",
       "      <td>0.013746</td>\n",
       "      <td>0.026627</td>\n",
       "      <td>0.236939</td>\n",
       "      <td>0.362205</td>\n",
       "      <td>0.318182</td>\n",
       "      <td>0.264463</td>\n",
       "      <td>5</td>\n",
       "      <td>False</td>\n",
       "    </tr>\n",
       "    <tr>\n",
       "      <th>1738</th>\n",
       "      <td>0.364407</td>\n",
       "      <td>0.133333</td>\n",
       "      <td>0.317073</td>\n",
       "      <td>0.019939</td>\n",
       "      <td>0.033223</td>\n",
       "      <td>0.116838</td>\n",
       "      <td>0.215976</td>\n",
       "      <td>0.100058</td>\n",
       "      <td>0.385827</td>\n",
       "      <td>0.170455</td>\n",
       "      <td>0.628099</td>\n",
       "      <td>6</td>\n",
       "      <td>True</td>\n",
       "    </tr>\n",
       "  </tbody>\n",
       "</table>\n",
       "</div>"
      ],
      "text/plain": [
       "      fixed acidity  volatile acidity  citric acid  residual sugar  chlorides  free sulfur dioxide  total sulfur dioxide   density        pH  sulphates   alcohol  quality  type_white\n",
       "5169       0.262712          0.120000     0.219512        0.055215   0.036545             0.130584              0.218935  0.072874  0.299213   0.096591  0.578512        6        True\n",
       "6388       0.144068          0.360000     0.268293        0.016871   0.046512             0.158076              0.331361  0.009061  0.322835   0.096591  0.917355        6        True\n",
       "4371       0.203390          0.140000     0.260163        0.046012   0.028239             0.261168              0.390533  0.040293  0.448819   0.085227  0.842975        7        True\n",
       "1414       0.525424          0.160000     0.479675        0.024540   0.112957             0.013746              0.026627  0.236939  0.362205   0.318182  0.264463        5       False\n",
       "1738       0.364407          0.133333     0.317073        0.019939   0.033223             0.116838              0.215976  0.100058  0.385827   0.170455  0.628099        6        True"
      ]
     },
     "execution_count": 28,
     "metadata": {},
     "output_type": "execute_result"
    }
   ],
   "source": [
    "val.head()"
   ]
  },
  {
   "cell_type": "code",
   "execution_count": 29,
   "metadata": {},
   "outputs": [
    {
     "data": {
      "text/html": [
       "<div>\n",
       "<style scoped>\n",
       "    .dataframe tbody tr th:only-of-type {\n",
       "        vertical-align: middle;\n",
       "    }\n",
       "\n",
       "    .dataframe tbody tr th {\n",
       "        vertical-align: top;\n",
       "    }\n",
       "\n",
       "    .dataframe thead th {\n",
       "        text-align: right;\n",
       "    }\n",
       "</style>\n",
       "<table border=\"1\" class=\"dataframe\">\n",
       "  <thead>\n",
       "    <tr style=\"text-align: right;\">\n",
       "      <th></th>\n",
       "      <th>fixed acidity</th>\n",
       "      <th>volatile acidity</th>\n",
       "      <th>citric acid</th>\n",
       "      <th>residual sugar</th>\n",
       "      <th>chlorides</th>\n",
       "      <th>free sulfur dioxide</th>\n",
       "      <th>total sulfur dioxide</th>\n",
       "      <th>density</th>\n",
       "      <th>pH</th>\n",
       "      <th>sulphates</th>\n",
       "      <th>alcohol</th>\n",
       "      <th>type_white</th>\n",
       "    </tr>\n",
       "  </thead>\n",
       "  <tbody>\n",
       "    <tr>\n",
       "      <th>5169</th>\n",
       "      <td>0.262712</td>\n",
       "      <td>0.120000</td>\n",
       "      <td>0.219512</td>\n",
       "      <td>0.055215</td>\n",
       "      <td>0.036545</td>\n",
       "      <td>0.130584</td>\n",
       "      <td>0.218935</td>\n",
       "      <td>0.072874</td>\n",
       "      <td>0.299213</td>\n",
       "      <td>0.096591</td>\n",
       "      <td>0.578512</td>\n",
       "      <td>True</td>\n",
       "    </tr>\n",
       "    <tr>\n",
       "      <th>6388</th>\n",
       "      <td>0.144068</td>\n",
       "      <td>0.360000</td>\n",
       "      <td>0.268293</td>\n",
       "      <td>0.016871</td>\n",
       "      <td>0.046512</td>\n",
       "      <td>0.158076</td>\n",
       "      <td>0.331361</td>\n",
       "      <td>0.009061</td>\n",
       "      <td>0.322835</td>\n",
       "      <td>0.096591</td>\n",
       "      <td>0.917355</td>\n",
       "      <td>True</td>\n",
       "    </tr>\n",
       "    <tr>\n",
       "      <th>4371</th>\n",
       "      <td>0.203390</td>\n",
       "      <td>0.140000</td>\n",
       "      <td>0.260163</td>\n",
       "      <td>0.046012</td>\n",
       "      <td>0.028239</td>\n",
       "      <td>0.261168</td>\n",
       "      <td>0.390533</td>\n",
       "      <td>0.040293</td>\n",
       "      <td>0.448819</td>\n",
       "      <td>0.085227</td>\n",
       "      <td>0.842975</td>\n",
       "      <td>True</td>\n",
       "    </tr>\n",
       "    <tr>\n",
       "      <th>1414</th>\n",
       "      <td>0.525424</td>\n",
       "      <td>0.160000</td>\n",
       "      <td>0.479675</td>\n",
       "      <td>0.024540</td>\n",
       "      <td>0.112957</td>\n",
       "      <td>0.013746</td>\n",
       "      <td>0.026627</td>\n",
       "      <td>0.236939</td>\n",
       "      <td>0.362205</td>\n",
       "      <td>0.318182</td>\n",
       "      <td>0.264463</td>\n",
       "      <td>False</td>\n",
       "    </tr>\n",
       "    <tr>\n",
       "      <th>1738</th>\n",
       "      <td>0.364407</td>\n",
       "      <td>0.133333</td>\n",
       "      <td>0.317073</td>\n",
       "      <td>0.019939</td>\n",
       "      <td>0.033223</td>\n",
       "      <td>0.116838</td>\n",
       "      <td>0.215976</td>\n",
       "      <td>0.100058</td>\n",
       "      <td>0.385827</td>\n",
       "      <td>0.170455</td>\n",
       "      <td>0.628099</td>\n",
       "      <td>True</td>\n",
       "    </tr>\n",
       "  </tbody>\n",
       "</table>\n",
       "</div>"
      ],
      "text/plain": [
       "      fixed acidity  volatile acidity  citric acid  residual sugar  chlorides  free sulfur dioxide  total sulfur dioxide   density        pH  sulphates   alcohol  type_white\n",
       "5169       0.262712          0.120000     0.219512        0.055215   0.036545             0.130584              0.218935  0.072874  0.299213   0.096591  0.578512        True\n",
       "6388       0.144068          0.360000     0.268293        0.016871   0.046512             0.158076              0.331361  0.009061  0.322835   0.096591  0.917355        True\n",
       "4371       0.203390          0.140000     0.260163        0.046012   0.028239             0.261168              0.390533  0.040293  0.448819   0.085227  0.842975        True\n",
       "1414       0.525424          0.160000     0.479675        0.024540   0.112957             0.013746              0.026627  0.236939  0.362205   0.318182  0.264463       False\n",
       "1738       0.364407          0.133333     0.317073        0.019939   0.033223             0.116838              0.215976  0.100058  0.385827   0.170455  0.628099        True"
      ]
     },
     "execution_count": 29,
     "metadata": {},
     "output_type": "execute_result"
    }
   ],
   "source": [
    "X_val.head()"
   ]
  },
  {
   "cell_type": "code",
   "execution_count": 30,
   "metadata": {},
   "outputs": [
    {
     "data": {
      "text/plain": [
       "0.8812045100258817"
      ]
     },
     "execution_count": 30,
     "metadata": {},
     "output_type": "execute_result"
    }
   ],
   "source": [
    "eval_baseline(y_train)"
   ]
  },
  {
   "cell_type": "code",
   "execution_count": 31,
   "metadata": {},
   "outputs": [
    {
     "name": "stdout",
     "output_type": "stream",
     "text": [
      "The train RMSE is 0.23353688483398824.\n",
      "The validate RMSE is 0.614285910213786.\n"
     ]
    }
   ],
   "source": [
    "# Fit the model on the training data\n",
    "model = RandomForestRegressor()\n",
    "model.fit(X_train, y_train)\n",
    "\n",
    "\n",
    "# Make predictions on the training set\n",
    "train_preds = model.predict(X_train)\n",
    "\n",
    "train_rmse = sqrt(mean_squared_error(y_train, train_preds))\n",
    "\n",
    "\n",
    "# Make predictions on the training set\n",
    "val_preds = model.predict(X_val)\n",
    "\n",
    "val_rmse =  sqrt(mean_squared_error(y_val, val_preds))\n",
    "\n",
    "\n",
    "# Print RMSE values for training and validation sets (formatted)\n",
    "# train_rmse_formatted = \"${:,.2f}\".format(train_rmse)\n",
    "# val_rmse_formatted = \"${:,.2f}\".format(val_rmse)\n",
    "# print(f'The train RMSE is {train_rmse_formatted}.')\n",
    "# print(f'The validate RMSE is {val_rmse_formatted}.')\n",
    "\n",
    "print(f'The train RMSE is {train_rmse}.')\n",
    "print(f'The validate RMSE is {val_rmse}.')"
   ]
  },
  {
   "cell_type": "code",
   "execution_count": 32,
   "metadata": {},
   "outputs": [
    {
     "name": "stdout",
     "output_type": "stream",
     "text": [
      "The train RMSE is $0.2357.\n",
      "The validate RMSE is $0.6171.\n"
     ]
    }
   ],
   "source": [
    "rforest, model_results_2 = train_model(RandomForestRegressor, X_train, y_train, X_val, y_val)"
   ]
  },
  {
   "cell_type": "code",
   "execution_count": 33,
   "metadata": {},
   "outputs": [],
   "source": [
    "from xgboost import XGBRegressor"
   ]
  },
  {
   "cell_type": "code",
   "execution_count": 34,
   "metadata": {},
   "outputs": [
    {
     "name": "stdout",
     "output_type": "stream",
     "text": [
      "The train RMSE is $0.2526.\n",
      "The validate RMSE is $0.6364.\n"
     ]
    }
   ],
   "source": [
    "xgbr, model_results_2 = train_model(XGBRegressor, X_train, y_train, X_val, y_val, model_results_2)"
   ]
  },
  {
   "cell_type": "code",
   "execution_count": 35,
   "metadata": {},
   "outputs": [],
   "source": [
    "from sklearn.linear_model import LinearRegression, LassoLars, TweedieRegressor"
   ]
  },
  {
   "cell_type": "code",
   "execution_count": 36,
   "metadata": {},
   "outputs": [
    {
     "name": "stdout",
     "output_type": "stream",
     "text": [
      "Selected Features:\n",
      "Index(['fixed acidity', 'volatile acidity', 'citric acid', 'residual sugar',\n",
      "       'chlorides', 'free sulfur dioxide', 'total sulfur dioxide', 'density',\n",
      "       'pH', 'sulphates', 'alcohol', 'type_white'],\n",
      "      dtype='object')\n",
      "Validation RMSE: 0.7268084056792665\n",
      "Removed Features:\n",
      "[]\n"
     ]
    }
   ],
   "source": [
    "sfs_forward(X_train, y_train)"
   ]
  },
  {
   "cell_type": "code",
   "execution_count": 37,
   "metadata": {},
   "outputs": [
    {
     "name": "stdout",
     "output_type": "stream",
     "text": [
      "Selected Features:\n",
      "Index(['fixed acidity', 'volatile acidity', 'citric acid', 'residual sugar',\n",
      "       'chlorides', 'free sulfur dioxide', 'total sulfur dioxide', 'density',\n",
      "       'pH', 'sulphates', 'alcohol', 'type_white'],\n",
      "      dtype='object')\n",
      "Removed Features:\n",
      "Index([], dtype='object')\n",
      "Validation RMSE: 0.7268084056792665\n"
     ]
    }
   ],
   "source": [
    "sfs_backwards(X_train, y_train)"
   ]
  },
  {
   "cell_type": "code",
   "execution_count": 38,
   "metadata": {},
   "outputs": [
    {
     "name": "stdout",
     "output_type": "stream",
     "text": [
      "The train RMSE is $0.8812.\n",
      "The validate RMSE is $0.8625.\n"
     ]
    }
   ],
   "source": [
    "lasso, model_results_2 = train_model(LassoLars, X_train, y_train, X_val, y_val, model_results_2)"
   ]
  },
  {
   "cell_type": "code",
   "execution_count": 39,
   "metadata": {},
   "outputs": [
    {
     "name": "stdout",
     "output_type": "stream",
     "text": [
      "The train RMSE is $0.7355.\n",
      "The validate RMSE is $0.7268.\n"
     ]
    }
   ],
   "source": [
    "linearr, model_results_2 = train_model(LinearRegression, X_train, y_train, X_val, y_val, model_results_2)"
   ]
  },
  {
   "cell_type": "code",
   "execution_count": 40,
   "metadata": {},
   "outputs": [
    {
     "name": "stdout",
     "output_type": "stream",
     "text": [
      "The train RMSE is 0.7355464257822959.\n",
      "The validate RMSE is 0.7268084056792665.\n"
     ]
    }
   ],
   "source": [
    "# Fit the model on the training data\n",
    "model = LinearRegression()\n",
    "model.fit(X_train, y_train)\n",
    "\n",
    "\n",
    "# Make predictions on the training set\n",
    "train_preds = model.predict(X_train)\n",
    "\n",
    "train_rmse = sqrt(mean_squared_error(y_train, train_preds))\n",
    "\n",
    "\n",
    "# Make predictions on the training set\n",
    "val_preds = model.predict(X_val)\n",
    "\n",
    "val_rmse =  sqrt(mean_squared_error(y_val, val_preds))\n",
    "\n",
    "\n",
    "# Print RMSE values for training and validation sets (formatted)\n",
    "# train_rmse_formatted = \"${:,.2f}\".format(train_rmse)\n",
    "# val_rmse_formatted = \"${:,.2f}\".format(val_rmse)\n",
    "# print(f'The train RMSE is {train_rmse_formatted}.')\n",
    "# print(f'The validate RMSE is {val_rmse_formatted}.')\n",
    "\n",
    "print(f'The train RMSE is {train_rmse}.')\n",
    "print(f'The validate RMSE is {val_rmse}.')"
   ]
  },
  {
   "cell_type": "code",
   "execution_count": null,
   "metadata": {},
   "outputs": [],
   "source": []
  },
  {
   "cell_type": "code",
   "execution_count": 41,
   "metadata": {},
   "outputs": [
    {
     "name": "stdout",
     "output_type": "stream",
     "text": [
      "The train RMSE is $0.8717.\n",
      "The validate RMSE is $0.8527.\n"
     ]
    }
   ],
   "source": [
    "# Tweedie seems to get worse with scaled data\n",
    "tweedie, model_results_2 = train_model(TweedieRegressor, X_train, y_train, X_val, y_val, model_results_2)"
   ]
  },
  {
   "cell_type": "code",
   "execution_count": 42,
   "metadata": {},
   "outputs": [
    {
     "data": {
      "text/html": [
       "<div>\n",
       "<style scoped>\n",
       "    .dataframe tbody tr th:only-of-type {\n",
       "        vertical-align: middle;\n",
       "    }\n",
       "\n",
       "    .dataframe tbody tr th {\n",
       "        vertical-align: top;\n",
       "    }\n",
       "\n",
       "    .dataframe thead th {\n",
       "        text-align: right;\n",
       "    }\n",
       "</style>\n",
       "<table border=\"1\" class=\"dataframe\">\n",
       "  <thead>\n",
       "    <tr style=\"text-align: right;\">\n",
       "      <th></th>\n",
       "      <th>Model</th>\n",
       "      <th>Train_RMSE</th>\n",
       "      <th>Val_RMSE</th>\n",
       "    </tr>\n",
       "  </thead>\n",
       "  <tbody>\n",
       "    <tr>\n",
       "      <th>0</th>\n",
       "      <td>RandomForestRegressor</td>\n",
       "      <td>$0.2357</td>\n",
       "      <td>$0.6171</td>\n",
       "    </tr>\n",
       "    <tr>\n",
       "      <th>1</th>\n",
       "      <td>XGBRegressor</td>\n",
       "      <td>$0.2526</td>\n",
       "      <td>$0.6364</td>\n",
       "    </tr>\n",
       "    <tr>\n",
       "      <th>2</th>\n",
       "      <td>LassoLars</td>\n",
       "      <td>$0.8812</td>\n",
       "      <td>$0.8625</td>\n",
       "    </tr>\n",
       "    <tr>\n",
       "      <th>3</th>\n",
       "      <td>LinearRegression</td>\n",
       "      <td>$0.7355</td>\n",
       "      <td>$0.7268</td>\n",
       "    </tr>\n",
       "    <tr>\n",
       "      <th>4</th>\n",
       "      <td>TweedieRegressor</td>\n",
       "      <td>$0.8717</td>\n",
       "      <td>$0.8527</td>\n",
       "    </tr>\n",
       "  </tbody>\n",
       "</table>\n",
       "</div>"
      ],
      "text/plain": [
       "                   Model Train_RMSE Val_RMSE\n",
       "0  RandomForestRegressor    $0.2357  $0.6171\n",
       "1           XGBRegressor    $0.2526  $0.6364\n",
       "2              LassoLars    $0.8812  $0.8625\n",
       "3       LinearRegression    $0.7355  $0.7268\n",
       "4       TweedieRegressor    $0.8717  $0.8527"
      ]
     },
     "execution_count": 42,
     "metadata": {},
     "output_type": "execute_result"
    }
   ],
   "source": [
    "model_results_2"
   ]
  },
  {
   "cell_type": "markdown",
   "metadata": {},
   "source": [
    "#### **Scaled**, No drops, no Cluster features"
   ]
  },
  {
   "cell_type": "markdown",
   "metadata": {},
   "source": [
    "____\n",
    "____\n",
    "\n",
    "## MODEL THIRD ROUND\n",
    "#### Cluster Featrue (alcohol & desity)\n",
    "\n",
    "Drop Alcohol and Density\n",
    "____\n",
    "____"
   ]
  },
  {
   "cell_type": "code",
   "execution_count": 43,
   "metadata": {},
   "outputs": [],
   "source": [
    "df = acquire_wine()"
   ]
  },
  {
   "cell_type": "code",
   "execution_count": 44,
   "metadata": {},
   "outputs": [],
   "source": [
    "df = df[df.density <= 1.01]"
   ]
  },
  {
   "cell_type": "code",
   "execution_count": 45,
   "metadata": {},
   "outputs": [],
   "source": [
    "df = df[df.alcohol <= 14.04]"
   ]
  },
  {
   "cell_type": "code",
   "execution_count": 46,
   "metadata": {},
   "outputs": [],
   "source": [
    "train, val, test, X_train, y_train, X_val, y_val, X_test, y_test = data_pipeline(df)"
   ]
  },
  {
   "cell_type": "code",
   "execution_count": 47,
   "metadata": {},
   "outputs": [
    {
     "data": {
      "text/html": [
       "<div>\n",
       "<style scoped>\n",
       "    .dataframe tbody tr th:only-of-type {\n",
       "        vertical-align: middle;\n",
       "    }\n",
       "\n",
       "    .dataframe tbody tr th {\n",
       "        vertical-align: top;\n",
       "    }\n",
       "\n",
       "    .dataframe thead th {\n",
       "        text-align: right;\n",
       "    }\n",
       "</style>\n",
       "<table border=\"1\" class=\"dataframe\">\n",
       "  <thead>\n",
       "    <tr style=\"text-align: right;\">\n",
       "      <th></th>\n",
       "      <th>fixed acidity</th>\n",
       "      <th>volatile acidity</th>\n",
       "      <th>citric acid</th>\n",
       "      <th>residual sugar</th>\n",
       "      <th>chlorides</th>\n",
       "      <th>free sulfur dioxide</th>\n",
       "      <th>total sulfur dioxide</th>\n",
       "      <th>density</th>\n",
       "      <th>pH</th>\n",
       "      <th>sulphates</th>\n",
       "      <th>alcohol</th>\n",
       "      <th>quality</th>\n",
       "      <th>type_white</th>\n",
       "    </tr>\n",
       "  </thead>\n",
       "  <tbody>\n",
       "    <tr>\n",
       "      <th>3431</th>\n",
       "      <td>7.7</td>\n",
       "      <td>0.44</td>\n",
       "      <td>0.24</td>\n",
       "      <td>11.2</td>\n",
       "      <td>0.031</td>\n",
       "      <td>41.0</td>\n",
       "      <td>167.0</td>\n",
       "      <td>0.99480</td>\n",
       "      <td>3.12</td>\n",
       "      <td>0.43</td>\n",
       "      <td>11.3</td>\n",
       "      <td>7</td>\n",
       "      <td>True</td>\n",
       "    </tr>\n",
       "    <tr>\n",
       "      <th>2108</th>\n",
       "      <td>6.0</td>\n",
       "      <td>0.24</td>\n",
       "      <td>0.27</td>\n",
       "      <td>1.9</td>\n",
       "      <td>0.048</td>\n",
       "      <td>40.0</td>\n",
       "      <td>170.0</td>\n",
       "      <td>0.99380</td>\n",
       "      <td>3.64</td>\n",
       "      <td>0.54</td>\n",
       "      <td>10.0</td>\n",
       "      <td>7</td>\n",
       "      <td>True</td>\n",
       "    </tr>\n",
       "    <tr>\n",
       "      <th>5828</th>\n",
       "      <td>6.3</td>\n",
       "      <td>0.26</td>\n",
       "      <td>0.25</td>\n",
       "      <td>5.2</td>\n",
       "      <td>0.046</td>\n",
       "      <td>11.0</td>\n",
       "      <td>133.0</td>\n",
       "      <td>0.99202</td>\n",
       "      <td>2.97</td>\n",
       "      <td>0.68</td>\n",
       "      <td>11.0</td>\n",
       "      <td>6</td>\n",
       "      <td>True</td>\n",
       "    </tr>\n",
       "    <tr>\n",
       "      <th>5945</th>\n",
       "      <td>6.7</td>\n",
       "      <td>0.27</td>\n",
       "      <td>0.69</td>\n",
       "      <td>1.2</td>\n",
       "      <td>0.176</td>\n",
       "      <td>36.0</td>\n",
       "      <td>106.0</td>\n",
       "      <td>0.99288</td>\n",
       "      <td>2.96</td>\n",
       "      <td>0.43</td>\n",
       "      <td>9.2</td>\n",
       "      <td>6</td>\n",
       "      <td>True</td>\n",
       "    </tr>\n",
       "    <tr>\n",
       "      <th>476</th>\n",
       "      <td>9.3</td>\n",
       "      <td>0.27</td>\n",
       "      <td>0.41</td>\n",
       "      <td>2.0</td>\n",
       "      <td>0.091</td>\n",
       "      <td>6.0</td>\n",
       "      <td>16.0</td>\n",
       "      <td>0.99800</td>\n",
       "      <td>3.28</td>\n",
       "      <td>0.70</td>\n",
       "      <td>9.7</td>\n",
       "      <td>5</td>\n",
       "      <td>False</td>\n",
       "    </tr>\n",
       "  </tbody>\n",
       "</table>\n",
       "</div>"
      ],
      "text/plain": [
       "      fixed acidity  volatile acidity  citric acid  residual sugar  chlorides  free sulfur dioxide  total sulfur dioxide  density    pH  sulphates  alcohol  quality  type_white\n",
       "3431            7.7              0.44         0.24            11.2      0.031                 41.0                 167.0  0.99480  3.12       0.43     11.3        7        True\n",
       "2108            6.0              0.24         0.27             1.9      0.048                 40.0                 170.0  0.99380  3.64       0.54     10.0        7        True\n",
       "5828            6.3              0.26         0.25             5.2      0.046                 11.0                 133.0  0.99202  2.97       0.68     11.0        6        True\n",
       "5945            6.7              0.27         0.69             1.2      0.176                 36.0                 106.0  0.99288  2.96       0.43      9.2        6        True\n",
       "476             9.3              0.27         0.41             2.0      0.091                  6.0                  16.0  0.99800  3.28       0.70      9.7        5       False"
      ]
     },
     "execution_count": 47,
     "metadata": {},
     "output_type": "execute_result"
    }
   ],
   "source": [
    "test.head()"
   ]
  },
  {
   "cell_type": "code",
   "execution_count": 48,
   "metadata": {},
   "outputs": [],
   "source": [
    "train, val, test = MinMax_Scaler(train, val, test)\n",
    "\n",
    "#Scale X_df because data_pipeline does not scale it\n",
    "X_train, X_val, X_test = MinMax_Scaler_xy(X_train, X_val, X_test)"
   ]
  },
  {
   "cell_type": "code",
   "execution_count": 49,
   "metadata": {},
   "outputs": [
    {
     "data": {
      "text/html": [
       "<style>#sk-container-id-1 {color: black;}#sk-container-id-1 pre{padding: 0;}#sk-container-id-1 div.sk-toggleable {background-color: white;}#sk-container-id-1 label.sk-toggleable__label {cursor: pointer;display: block;width: 100%;margin-bottom: 0;padding: 0.3em;box-sizing: border-box;text-align: center;}#sk-container-id-1 label.sk-toggleable__label-arrow:before {content: \"▸\";float: left;margin-right: 0.25em;color: #696969;}#sk-container-id-1 label.sk-toggleable__label-arrow:hover:before {color: black;}#sk-container-id-1 div.sk-estimator:hover label.sk-toggleable__label-arrow:before {color: black;}#sk-container-id-1 div.sk-toggleable__content {max-height: 0;max-width: 0;overflow: hidden;text-align: left;background-color: #f0f8ff;}#sk-container-id-1 div.sk-toggleable__content pre {margin: 0.2em;color: black;border-radius: 0.25em;background-color: #f0f8ff;}#sk-container-id-1 input.sk-toggleable__control:checked~div.sk-toggleable__content {max-height: 200px;max-width: 100%;overflow: auto;}#sk-container-id-1 input.sk-toggleable__control:checked~label.sk-toggleable__label-arrow:before {content: \"▾\";}#sk-container-id-1 div.sk-estimator input.sk-toggleable__control:checked~label.sk-toggleable__label {background-color: #d4ebff;}#sk-container-id-1 div.sk-label input.sk-toggleable__control:checked~label.sk-toggleable__label {background-color: #d4ebff;}#sk-container-id-1 input.sk-hidden--visually {border: 0;clip: rect(1px 1px 1px 1px);clip: rect(1px, 1px, 1px, 1px);height: 1px;margin: -1px;overflow: hidden;padding: 0;position: absolute;width: 1px;}#sk-container-id-1 div.sk-estimator {font-family: monospace;background-color: #f0f8ff;border: 1px dotted black;border-radius: 0.25em;box-sizing: border-box;margin-bottom: 0.5em;}#sk-container-id-1 div.sk-estimator:hover {background-color: #d4ebff;}#sk-container-id-1 div.sk-parallel-item::after {content: \"\";width: 100%;border-bottom: 1px solid gray;flex-grow: 1;}#sk-container-id-1 div.sk-label:hover label.sk-toggleable__label {background-color: #d4ebff;}#sk-container-id-1 div.sk-serial::before {content: \"\";position: absolute;border-left: 1px solid gray;box-sizing: border-box;top: 0;bottom: 0;left: 50%;z-index: 0;}#sk-container-id-1 div.sk-serial {display: flex;flex-direction: column;align-items: center;background-color: white;padding-right: 0.2em;padding-left: 0.2em;position: relative;}#sk-container-id-1 div.sk-item {position: relative;z-index: 1;}#sk-container-id-1 div.sk-parallel {display: flex;align-items: stretch;justify-content: center;background-color: white;position: relative;}#sk-container-id-1 div.sk-item::before, #sk-container-id-1 div.sk-parallel-item::before {content: \"\";position: absolute;border-left: 1px solid gray;box-sizing: border-box;top: 0;bottom: 0;left: 50%;z-index: -1;}#sk-container-id-1 div.sk-parallel-item {display: flex;flex-direction: column;z-index: 1;position: relative;background-color: white;}#sk-container-id-1 div.sk-parallel-item:first-child::after {align-self: flex-end;width: 50%;}#sk-container-id-1 div.sk-parallel-item:last-child::after {align-self: flex-start;width: 50%;}#sk-container-id-1 div.sk-parallel-item:only-child::after {width: 0;}#sk-container-id-1 div.sk-dashed-wrapped {border: 1px dashed gray;margin: 0 0.4em 0.5em 0.4em;box-sizing: border-box;padding-bottom: 0.4em;background-color: white;}#sk-container-id-1 div.sk-label label {font-family: monospace;font-weight: bold;display: inline-block;line-height: 1.2em;}#sk-container-id-1 div.sk-label-container {text-align: center;}#sk-container-id-1 div.sk-container {/* jupyter's `normalize.less` sets `[hidden] { display: none; }` but bootstrap.min.css set `[hidden] { display: none !important; }` so we also need the `!important` here to be able to override the default hidden behavior on the sphinx rendered scikit-learn.org. See: https://github.com/scikit-learn/scikit-learn/issues/21755 */display: inline-block !important;position: relative;}#sk-container-id-1 div.sk-text-repr-fallback {display: none;}</style><div id=\"sk-container-id-1\" class=\"sk-top-container\"><div class=\"sk-text-repr-fallback\"><pre>KMeans(n_clusters=3, n_init=&#x27;auto&#x27;)</pre><b>In a Jupyter environment, please rerun this cell to show the HTML representation or trust the notebook. <br />On GitHub, the HTML representation is unable to render, please try loading this page with nbviewer.org.</b></div><div class=\"sk-container\" hidden><div class=\"sk-item\"><div class=\"sk-estimator sk-toggleable\"><input class=\"sk-toggleable__control sk-hidden--visually\" id=\"sk-estimator-id-1\" type=\"checkbox\" checked><label for=\"sk-estimator-id-1\" class=\"sk-toggleable__label sk-toggleable__label-arrow\">KMeans</label><div class=\"sk-toggleable__content\"><pre>KMeans(n_clusters=3, n_init=&#x27;auto&#x27;)</pre></div></div></div></div></div>"
      ],
      "text/plain": [
       "KMeans(n_clusters=3, n_init='auto')"
      ]
     },
     "execution_count": 49,
     "metadata": {},
     "output_type": "execute_result"
    }
   ],
   "source": [
    "kmeans = KMeans(n_clusters=3, n_init='auto')\n",
    "features = train[['alcohol', 'density']]\n",
    "kmeans.fit(features)"
   ]
  },
  {
   "cell_type": "code",
   "execution_count": 50,
   "metadata": {},
   "outputs": [],
   "source": [
    "train['alc_dens_cluster'] = kmeans.labels_"
   ]
  },
  {
   "cell_type": "code",
   "execution_count": 51,
   "metadata": {},
   "outputs": [
    {
     "data": {
      "text/html": [
       "<div>\n",
       "<style scoped>\n",
       "    .dataframe tbody tr th:only-of-type {\n",
       "        vertical-align: middle;\n",
       "    }\n",
       "\n",
       "    .dataframe tbody tr th {\n",
       "        vertical-align: top;\n",
       "    }\n",
       "\n",
       "    .dataframe thead th {\n",
       "        text-align: right;\n",
       "    }\n",
       "</style>\n",
       "<table border=\"1\" class=\"dataframe\">\n",
       "  <thead>\n",
       "    <tr style=\"text-align: right;\">\n",
       "      <th></th>\n",
       "      <th>fixed acidity</th>\n",
       "      <th>volatile acidity</th>\n",
       "      <th>citric acid</th>\n",
       "      <th>residual sugar</th>\n",
       "      <th>chlorides</th>\n",
       "      <th>free sulfur dioxide</th>\n",
       "      <th>total sulfur dioxide</th>\n",
       "      <th>density</th>\n",
       "      <th>pH</th>\n",
       "      <th>sulphates</th>\n",
       "      <th>alcohol</th>\n",
       "      <th>quality</th>\n",
       "      <th>type_white</th>\n",
       "      <th>alc_dens_cluster</th>\n",
       "    </tr>\n",
       "  </thead>\n",
       "  <tbody>\n",
       "    <tr>\n",
       "      <th>1360</th>\n",
       "      <td>0.452991</td>\n",
       "      <td>0.306667</td>\n",
       "      <td>0.186747</td>\n",
       "      <td>0.066798</td>\n",
       "      <td>0.166945</td>\n",
       "      <td>0.068729</td>\n",
       "      <td>0.088766</td>\n",
       "      <td>0.595899</td>\n",
       "      <td>0.403101</td>\n",
       "      <td>0.193182</td>\n",
       "      <td>0.483333</td>\n",
       "      <td>5</td>\n",
       "      <td>False</td>\n",
       "      <td>2</td>\n",
       "    </tr>\n",
       "    <tr>\n",
       "      <th>1231</th>\n",
       "      <td>0.333333</td>\n",
       "      <td>0.490000</td>\n",
       "      <td>0.006024</td>\n",
       "      <td>0.078585</td>\n",
       "      <td>0.103506</td>\n",
       "      <td>0.323024</td>\n",
       "      <td>0.233010</td>\n",
       "      <td>0.548854</td>\n",
       "      <td>0.511628</td>\n",
       "      <td>0.227273</td>\n",
       "      <td>0.466667</td>\n",
       "      <td>5</td>\n",
       "      <td>False</td>\n",
       "      <td>2</td>\n",
       "    </tr>\n",
       "    <tr>\n",
       "      <th>4749</th>\n",
       "      <td>0.162393</td>\n",
       "      <td>0.206667</td>\n",
       "      <td>0.283133</td>\n",
       "      <td>0.271120</td>\n",
       "      <td>0.025042</td>\n",
       "      <td>0.075601</td>\n",
       "      <td>0.227462</td>\n",
       "      <td>0.216526</td>\n",
       "      <td>0.511628</td>\n",
       "      <td>0.130682</td>\n",
       "      <td>1.000000</td>\n",
       "      <td>6</td>\n",
       "      <td>True</td>\n",
       "      <td>1</td>\n",
       "    </tr>\n",
       "    <tr>\n",
       "      <th>4341</th>\n",
       "      <td>0.350427</td>\n",
       "      <td>0.100000</td>\n",
       "      <td>0.168675</td>\n",
       "      <td>0.082515</td>\n",
       "      <td>0.060100</td>\n",
       "      <td>0.329897</td>\n",
       "      <td>0.441054</td>\n",
       "      <td>0.487937</td>\n",
       "      <td>0.418605</td>\n",
       "      <td>0.284091</td>\n",
       "      <td>0.250000</td>\n",
       "      <td>6</td>\n",
       "      <td>True</td>\n",
       "      <td>0</td>\n",
       "    </tr>\n",
       "    <tr>\n",
       "      <th>4376</th>\n",
       "      <td>0.316239</td>\n",
       "      <td>0.080000</td>\n",
       "      <td>0.216867</td>\n",
       "      <td>0.051081</td>\n",
       "      <td>0.051753</td>\n",
       "      <td>0.158076</td>\n",
       "      <td>0.291262</td>\n",
       "      <td>0.317250</td>\n",
       "      <td>0.441860</td>\n",
       "      <td>0.181818</td>\n",
       "      <td>0.550000</td>\n",
       "      <td>6</td>\n",
       "      <td>True</td>\n",
       "      <td>1</td>\n",
       "    </tr>\n",
       "  </tbody>\n",
       "</table>\n",
       "</div>"
      ],
      "text/plain": [
       "      fixed acidity  volatile acidity  citric acid  residual sugar  chlorides  free sulfur dioxide  total sulfur dioxide   density        pH  sulphates   alcohol  quality  type_white  alc_dens_cluster\n",
       "1360       0.452991          0.306667     0.186747        0.066798   0.166945             0.068729              0.088766  0.595899  0.403101   0.193182  0.483333        5       False                 2\n",
       "1231       0.333333          0.490000     0.006024        0.078585   0.103506             0.323024              0.233010  0.548854  0.511628   0.227273  0.466667        5       False                 2\n",
       "4749       0.162393          0.206667     0.283133        0.271120   0.025042             0.075601              0.227462  0.216526  0.511628   0.130682  1.000000        6        True                 1\n",
       "4341       0.350427          0.100000     0.168675        0.082515   0.060100             0.329897              0.441054  0.487937  0.418605   0.284091  0.250000        6        True                 0\n",
       "4376       0.316239          0.080000     0.216867        0.051081   0.051753             0.158076              0.291262  0.317250  0.441860   0.181818  0.550000        6        True                 1"
      ]
     },
     "execution_count": 51,
     "metadata": {},
     "output_type": "execute_result"
    }
   ],
   "source": [
    "train.head()"
   ]
  },
  {
   "cell_type": "code",
   "execution_count": 52,
   "metadata": {},
   "outputs": [
    {
     "data": {
      "text/plain": [
       "<function matplotlib.pyplot.show(close=None, block=None)>"
      ]
     },
     "execution_count": 52,
     "metadata": {},
     "output_type": "execute_result"
    },
    {
     "data": {
      "image/png": "[encoded data removed]",
      "text/plain": [
       "<Figure size 640x480 with 1 Axes>"
      ]
     },
     "metadata": {},
     "output_type": "display_data"
    }
   ],
   "source": [
    "sns.scatterplot(data=train, x='alcohol', y='density', hue='alc_dens_cluster', palette='deep')\n",
    "#plt.ylim(min(train_scaled.density), .5)\n",
    "plt.show"
   ]
  },
  {
   "cell_type": "code",
   "execution_count": 53,
   "metadata": {},
   "outputs": [],
   "source": [
    "# Remove the \"quality_bins\" column from the DataFrame\n",
    "train.drop(columns=['alcohol', 'density'], inplace=True)\n",
    "\n",
    "# Remove the \"quality_bins\" column from the DataFrame\n",
    "val.drop(columns=['alcohol', 'density'], inplace=True)\n",
    "\n",
    "# Remove the \"quality_bins\" column from the DataFrame\n",
    "test.drop(columns=['alcohol', 'density'], inplace=True)\n",
    "\n",
    "# Remove the \"quality_bins\" column from the DataFrame\n",
    "X_train.drop(columns=['alcohol', 'density'], inplace=True)\n",
    "\n",
    "\n",
    "# Remove the \"quality_bins\" column from the DataFrame\n",
    "X_val.drop(columns=['alcohol', 'density'], inplace=True)\n",
    "\n",
    "# Remove the \"quality_bins\" column from the DataFrame\n",
    "X_test.drop(columns=['alcohol', 'density'], inplace=True)\n"
   ]
  },
  {
   "cell_type": "code",
   "execution_count": 54,
   "metadata": {},
   "outputs": [
    {
     "data": {
      "text/plain": [
       "0.8747299331416253"
      ]
     },
     "execution_count": 54,
     "metadata": {},
     "output_type": "execute_result"
    }
   ],
   "source": [
    "eval_baseline(y_train)"
   ]
  },
  {
   "cell_type": "code",
   "execution_count": 55,
   "metadata": {},
   "outputs": [
    {
     "name": "stdout",
     "output_type": "stream",
     "text": [
      "The train RMSE is $0.2436.\n",
      "The validate RMSE is $0.6735.\n"
     ]
    }
   ],
   "source": [
    "rforest, model_results_3 = train_model(RandomForestRegressor, X_train, y_train, X_val, y_val)"
   ]
  },
  {
   "cell_type": "code",
   "execution_count": 56,
   "metadata": {},
   "outputs": [],
   "source": [
    "from xgboost import XGBRegressor"
   ]
  },
  {
   "cell_type": "code",
   "execution_count": 57,
   "metadata": {},
   "outputs": [
    {
     "name": "stdout",
     "output_type": "stream",
     "text": [
      "The train RMSE is $0.2790.\n",
      "The validate RMSE is $0.6928.\n"
     ]
    }
   ],
   "source": [
    "xgbr, model_results_3 = train_model(XGBRegressor, X_train, y_train, X_val, y_val, model_results_3)"
   ]
  },
  {
   "cell_type": "code",
   "execution_count": 58,
   "metadata": {},
   "outputs": [],
   "source": [
    "from sklearn.linear_model import LinearRegression, LassoLars, TweedieRegressor"
   ]
  },
  {
   "cell_type": "code",
   "execution_count": 59,
   "metadata": {},
   "outputs": [
    {
     "name": "stdout",
     "output_type": "stream",
     "text": [
      "Selected Features:\n",
      "Index(['fixed acidity', 'volatile acidity', 'citric acid', 'chlorides',\n",
      "       'free sulfur dioxide', 'total sulfur dioxide', 'sulphates',\n",
      "       'type_white'],\n",
      "      dtype='object')\n",
      "Validation RMSE: 0.8425504795587738\n",
      "Removed Features:\n",
      "['residual sugar', 'pH']\n"
     ]
    }
   ],
   "source": [
    "sfs_forward(X_train, y_train)"
   ]
  },
  {
   "cell_type": "code",
   "execution_count": 60,
   "metadata": {},
   "outputs": [
    {
     "name": "stdout",
     "output_type": "stream",
     "text": [
      "Selected Features:\n",
      "Index(['fixed acidity', 'volatile acidity', 'citric acid', 'chlorides',\n",
      "       'free sulfur dioxide', 'total sulfur dioxide', 'sulphates',\n",
      "       'type_white'],\n",
      "      dtype='object')\n",
      "Removed Features:\n",
      "Index(['residual sugar', 'pH'], dtype='object')\n",
      "Validation RMSE: 0.8425504795587738\n"
     ]
    }
   ],
   "source": [
    "sfs_backwards(X_train, y_train)"
   ]
  },
  {
   "cell_type": "code",
   "execution_count": 61,
   "metadata": {},
   "outputs": [
    {
     "name": "stdout",
     "output_type": "stream",
     "text": [
      "The train RMSE is $0.8747.\n",
      "The validate RMSE is $0.8988.\n"
     ]
    }
   ],
   "source": [
    "lasso, model_results_3 = train_model(LassoLars, X_train, y_train, X_val, y_val, model_results_3)"
   ]
  },
  {
   "cell_type": "code",
   "execution_count": 62,
   "metadata": {},
   "outputs": [
    {
     "name": "stdout",
     "output_type": "stream",
     "text": [
      "The train RMSE is $0.8067.\n",
      "The validate RMSE is $0.8415.\n"
     ]
    }
   ],
   "source": [
    "linearr, model_results_3 = train_model(LinearRegression, X_train, y_train, X_val, y_val, model_results_3)"
   ]
  },
  {
   "cell_type": "code",
   "execution_count": 63,
   "metadata": {},
   "outputs": [
    {
     "name": "stdout",
     "output_type": "stream",
     "text": [
      "The train RMSE is $0.8720.\n",
      "The validate RMSE is $0.8959.\n"
     ]
    }
   ],
   "source": [
    "# Tweedie seems to get worse with scaled data\n",
    "tweedie, model_results_3 = train_model(TweedieRegressor, X_train, y_train, X_val, y_val, model_results_3)"
   ]
  },
  {
   "cell_type": "markdown",
   "metadata": {},
   "source": [
    "#### Scaled \n",
    "#### Drops Density&Alcohol\n",
    "#### Cluster features Density&Alcohol"
   ]
  },
  {
   "cell_type": "code",
   "execution_count": 64,
   "metadata": {},
   "outputs": [
    {
     "data": {
      "text/html": [
       "<div>\n",
       "<style scoped>\n",
       "    .dataframe tbody tr th:only-of-type {\n",
       "        vertical-align: middle;\n",
       "    }\n",
       "\n",
       "    .dataframe tbody tr th {\n",
       "        vertical-align: top;\n",
       "    }\n",
       "\n",
       "    .dataframe thead th {\n",
       "        text-align: right;\n",
       "    }\n",
       "</style>\n",
       "<table border=\"1\" class=\"dataframe\">\n",
       "  <thead>\n",
       "    <tr style=\"text-align: right;\">\n",
       "      <th></th>\n",
       "      <th>Model</th>\n",
       "      <th>Train_RMSE</th>\n",
       "      <th>Val_RMSE</th>\n",
       "    </tr>\n",
       "  </thead>\n",
       "  <tbody>\n",
       "    <tr>\n",
       "      <th>0</th>\n",
       "      <td>RandomForestRegressor</td>\n",
       "      <td>$0.2436</td>\n",
       "      <td>$0.6735</td>\n",
       "    </tr>\n",
       "    <tr>\n",
       "      <th>1</th>\n",
       "      <td>XGBRegressor</td>\n",
       "      <td>$0.2790</td>\n",
       "      <td>$0.6928</td>\n",
       "    </tr>\n",
       "    <tr>\n",
       "      <th>2</th>\n",
       "      <td>LassoLars</td>\n",
       "      <td>$0.8747</td>\n",
       "      <td>$0.8988</td>\n",
       "    </tr>\n",
       "    <tr>\n",
       "      <th>3</th>\n",
       "      <td>LinearRegression</td>\n",
       "      <td>$0.8067</td>\n",
       "      <td>$0.8415</td>\n",
       "    </tr>\n",
       "    <tr>\n",
       "      <th>4</th>\n",
       "      <td>TweedieRegressor</td>\n",
       "      <td>$0.8720</td>\n",
       "      <td>$0.8959</td>\n",
       "    </tr>\n",
       "  </tbody>\n",
       "</table>\n",
       "</div>"
      ],
      "text/plain": [
       "                   Model Train_RMSE Val_RMSE\n",
       "0  RandomForestRegressor    $0.2436  $0.6735\n",
       "1           XGBRegressor    $0.2790  $0.6928\n",
       "2              LassoLars    $0.8747  $0.8988\n",
       "3       LinearRegression    $0.8067  $0.8415\n",
       "4       TweedieRegressor    $0.8720  $0.8959"
      ]
     },
     "execution_count": 64,
     "metadata": {},
     "output_type": "execute_result"
    }
   ],
   "source": [
    "model_results_3"
   ]
  },
  {
   "cell_type": "markdown",
   "metadata": {},
   "source": [
    "____\n",
    "____\n",
    "\n",
    "## MODEL FOURTH ROUND\n",
    "#### Cluster Featrue (alcohol & desity)\n",
    "\n",
    "Drop Density\n",
    "____\n",
    "____"
   ]
  },
  {
   "cell_type": "code",
   "execution_count": 65,
   "metadata": {},
   "outputs": [],
   "source": [
    "df = acquire_wine()"
   ]
  },
  {
   "cell_type": "code",
   "execution_count": 66,
   "metadata": {},
   "outputs": [],
   "source": [
    "df = df[df.density <= 1.01]"
   ]
  },
  {
   "cell_type": "code",
   "execution_count": 67,
   "metadata": {},
   "outputs": [],
   "source": [
    "df = df[df.alcohol <= 14.04]"
   ]
  },
  {
   "cell_type": "code",
   "execution_count": 68,
   "metadata": {},
   "outputs": [],
   "source": [
    "train, val, test, X_train, y_train, X_val, y_val, X_test, y_test = data_pipeline(df)"
   ]
  },
  {
   "cell_type": "code",
   "execution_count": 69,
   "metadata": {},
   "outputs": [
    {
     "data": {
      "text/html": [
       "<div>\n",
       "<style scoped>\n",
       "    .dataframe tbody tr th:only-of-type {\n",
       "        vertical-align: middle;\n",
       "    }\n",
       "\n",
       "    .dataframe tbody tr th {\n",
       "        vertical-align: top;\n",
       "    }\n",
       "\n",
       "    .dataframe thead th {\n",
       "        text-align: right;\n",
       "    }\n",
       "</style>\n",
       "<table border=\"1\" class=\"dataframe\">\n",
       "  <thead>\n",
       "    <tr style=\"text-align: right;\">\n",
       "      <th></th>\n",
       "      <th>fixed acidity</th>\n",
       "      <th>volatile acidity</th>\n",
       "      <th>citric acid</th>\n",
       "      <th>residual sugar</th>\n",
       "      <th>chlorides</th>\n",
       "      <th>free sulfur dioxide</th>\n",
       "      <th>total sulfur dioxide</th>\n",
       "      <th>density</th>\n",
       "      <th>pH</th>\n",
       "      <th>sulphates</th>\n",
       "      <th>alcohol</th>\n",
       "      <th>quality</th>\n",
       "      <th>type_white</th>\n",
       "    </tr>\n",
       "  </thead>\n",
       "  <tbody>\n",
       "    <tr>\n",
       "      <th>3431</th>\n",
       "      <td>7.7</td>\n",
       "      <td>0.44</td>\n",
       "      <td>0.24</td>\n",
       "      <td>11.2</td>\n",
       "      <td>0.031</td>\n",
       "      <td>41.0</td>\n",
       "      <td>167.0</td>\n",
       "      <td>0.99480</td>\n",
       "      <td>3.12</td>\n",
       "      <td>0.43</td>\n",
       "      <td>11.3</td>\n",
       "      <td>7</td>\n",
       "      <td>True</td>\n",
       "    </tr>\n",
       "    <tr>\n",
       "      <th>2108</th>\n",
       "      <td>6.0</td>\n",
       "      <td>0.24</td>\n",
       "      <td>0.27</td>\n",
       "      <td>1.9</td>\n",
       "      <td>0.048</td>\n",
       "      <td>40.0</td>\n",
       "      <td>170.0</td>\n",
       "      <td>0.99380</td>\n",
       "      <td>3.64</td>\n",
       "      <td>0.54</td>\n",
       "      <td>10.0</td>\n",
       "      <td>7</td>\n",
       "      <td>True</td>\n",
       "    </tr>\n",
       "    <tr>\n",
       "      <th>5828</th>\n",
       "      <td>6.3</td>\n",
       "      <td>0.26</td>\n",
       "      <td>0.25</td>\n",
       "      <td>5.2</td>\n",
       "      <td>0.046</td>\n",
       "      <td>11.0</td>\n",
       "      <td>133.0</td>\n",
       "      <td>0.99202</td>\n",
       "      <td>2.97</td>\n",
       "      <td>0.68</td>\n",
       "      <td>11.0</td>\n",
       "      <td>6</td>\n",
       "      <td>True</td>\n",
       "    </tr>\n",
       "    <tr>\n",
       "      <th>5945</th>\n",
       "      <td>6.7</td>\n",
       "      <td>0.27</td>\n",
       "      <td>0.69</td>\n",
       "      <td>1.2</td>\n",
       "      <td>0.176</td>\n",
       "      <td>36.0</td>\n",
       "      <td>106.0</td>\n",
       "      <td>0.99288</td>\n",
       "      <td>2.96</td>\n",
       "      <td>0.43</td>\n",
       "      <td>9.2</td>\n",
       "      <td>6</td>\n",
       "      <td>True</td>\n",
       "    </tr>\n",
       "    <tr>\n",
       "      <th>476</th>\n",
       "      <td>9.3</td>\n",
       "      <td>0.27</td>\n",
       "      <td>0.41</td>\n",
       "      <td>2.0</td>\n",
       "      <td>0.091</td>\n",
       "      <td>6.0</td>\n",
       "      <td>16.0</td>\n",
       "      <td>0.99800</td>\n",
       "      <td>3.28</td>\n",
       "      <td>0.70</td>\n",
       "      <td>9.7</td>\n",
       "      <td>5</td>\n",
       "      <td>False</td>\n",
       "    </tr>\n",
       "  </tbody>\n",
       "</table>\n",
       "</div>"
      ],
      "text/plain": [
       "      fixed acidity  volatile acidity  citric acid  residual sugar  chlorides  free sulfur dioxide  total sulfur dioxide  density    pH  sulphates  alcohol  quality  type_white\n",
       "3431            7.7              0.44         0.24            11.2      0.031                 41.0                 167.0  0.99480  3.12       0.43     11.3        7        True\n",
       "2108            6.0              0.24         0.27             1.9      0.048                 40.0                 170.0  0.99380  3.64       0.54     10.0        7        True\n",
       "5828            6.3              0.26         0.25             5.2      0.046                 11.0                 133.0  0.99202  2.97       0.68     11.0        6        True\n",
       "5945            6.7              0.27         0.69             1.2      0.176                 36.0                 106.0  0.99288  2.96       0.43      9.2        6        True\n",
       "476             9.3              0.27         0.41             2.0      0.091                  6.0                  16.0  0.99800  3.28       0.70      9.7        5       False"
      ]
     },
     "execution_count": 69,
     "metadata": {},
     "output_type": "execute_result"
    }
   ],
   "source": [
    "test.head()"
   ]
  },
  {
   "cell_type": "code",
   "execution_count": 70,
   "metadata": {},
   "outputs": [],
   "source": [
    "train, val, test = MinMax_Scaler(train, val, test)\n",
    "\n",
    "#Scale X_df because data_pipeline does not scale it\n",
    "X_train, X_val, X_test = MinMax_Scaler_xy(X_train, X_val, X_test)"
   ]
  },
  {
   "cell_type": "code",
   "execution_count": 71,
   "metadata": {},
   "outputs": [
    {
     "data": {
      "text/html": [
       "<style>#sk-container-id-2 {color: black;}#sk-container-id-2 pre{padding: 0;}#sk-container-id-2 div.sk-toggleable {background-color: white;}#sk-container-id-2 label.sk-toggleable__label {cursor: pointer;display: block;width: 100%;margin-bottom: 0;padding: 0.3em;box-sizing: border-box;text-align: center;}#sk-container-id-2 label.sk-toggleable__label-arrow:before {content: \"▸\";float: left;margin-right: 0.25em;color: #696969;}#sk-container-id-2 label.sk-toggleable__label-arrow:hover:before {color: black;}#sk-container-id-2 div.sk-estimator:hover label.sk-toggleable__label-arrow:before {color: black;}#sk-container-id-2 div.sk-toggleable__content {max-height: 0;max-width: 0;overflow: hidden;text-align: left;background-color: #f0f8ff;}#sk-container-id-2 div.sk-toggleable__content pre {margin: 0.2em;color: black;border-radius: 0.25em;background-color: #f0f8ff;}#sk-container-id-2 input.sk-toggleable__control:checked~div.sk-toggleable__content {max-height: 200px;max-width: 100%;overflow: auto;}#sk-container-id-2 input.sk-toggleable__control:checked~label.sk-toggleable__label-arrow:before {content: \"▾\";}#sk-container-id-2 div.sk-estimator input.sk-toggleable__control:checked~label.sk-toggleable__label {background-color: #d4ebff;}#sk-container-id-2 div.sk-label input.sk-toggleable__control:checked~label.sk-toggleable__label {background-color: #d4ebff;}#sk-container-id-2 input.sk-hidden--visually {border: 0;clip: rect(1px 1px 1px 1px);clip: rect(1px, 1px, 1px, 1px);height: 1px;margin: -1px;overflow: hidden;padding: 0;position: absolute;width: 1px;}#sk-container-id-2 div.sk-estimator {font-family: monospace;background-color: #f0f8ff;border: 1px dotted black;border-radius: 0.25em;box-sizing: border-box;margin-bottom: 0.5em;}#sk-container-id-2 div.sk-estimator:hover {background-color: #d4ebff;}#sk-container-id-2 div.sk-parallel-item::after {content: \"\";width: 100%;border-bottom: 1px solid gray;flex-grow: 1;}#sk-container-id-2 div.sk-label:hover label.sk-toggleable__label {background-color: #d4ebff;}#sk-container-id-2 div.sk-serial::before {content: \"\";position: absolute;border-left: 1px solid gray;box-sizing: border-box;top: 0;bottom: 0;left: 50%;z-index: 0;}#sk-container-id-2 div.sk-serial {display: flex;flex-direction: column;align-items: center;background-color: white;padding-right: 0.2em;padding-left: 0.2em;position: relative;}#sk-container-id-2 div.sk-item {position: relative;z-index: 1;}#sk-container-id-2 div.sk-parallel {display: flex;align-items: stretch;justify-content: center;background-color: white;position: relative;}#sk-container-id-2 div.sk-item::before, #sk-container-id-2 div.sk-parallel-item::before {content: \"\";position: absolute;border-left: 1px solid gray;box-sizing: border-box;top: 0;bottom: 0;left: 50%;z-index: -1;}#sk-container-id-2 div.sk-parallel-item {display: flex;flex-direction: column;z-index: 1;position: relative;background-color: white;}#sk-container-id-2 div.sk-parallel-item:first-child::after {align-self: flex-end;width: 50%;}#sk-container-id-2 div.sk-parallel-item:last-child::after {align-self: flex-start;width: 50%;}#sk-container-id-2 div.sk-parallel-item:only-child::after {width: 0;}#sk-container-id-2 div.sk-dashed-wrapped {border: 1px dashed gray;margin: 0 0.4em 0.5em 0.4em;box-sizing: border-box;padding-bottom: 0.4em;background-color: white;}#sk-container-id-2 div.sk-label label {font-family: monospace;font-weight: bold;display: inline-block;line-height: 1.2em;}#sk-container-id-2 div.sk-label-container {text-align: center;}#sk-container-id-2 div.sk-container {/* jupyter's `normalize.less` sets `[hidden] { display: none; }` but bootstrap.min.css set `[hidden] { display: none !important; }` so we also need the `!important` here to be able to override the default hidden behavior on the sphinx rendered scikit-learn.org. See: https://github.com/scikit-learn/scikit-learn/issues/21755 */display: inline-block !important;position: relative;}#sk-container-id-2 div.sk-text-repr-fallback {display: none;}</style><div id=\"sk-container-id-2\" class=\"sk-top-container\"><div class=\"sk-text-repr-fallback\"><pre>KMeans(n_clusters=3, n_init=&#x27;auto&#x27;)</pre><b>In a Jupyter environment, please rerun this cell to show the HTML representation or trust the notebook. <br />On GitHub, the HTML representation is unable to render, please try loading this page with nbviewer.org.</b></div><div class=\"sk-container\" hidden><div class=\"sk-item\"><div class=\"sk-estimator sk-toggleable\"><input class=\"sk-toggleable__control sk-hidden--visually\" id=\"sk-estimator-id-2\" type=\"checkbox\" checked><label for=\"sk-estimator-id-2\" class=\"sk-toggleable__label sk-toggleable__label-arrow\">KMeans</label><div class=\"sk-toggleable__content\"><pre>KMeans(n_clusters=3, n_init=&#x27;auto&#x27;)</pre></div></div></div></div></div>"
      ],
      "text/plain": [
       "KMeans(n_clusters=3, n_init='auto')"
      ]
     },
     "execution_count": 71,
     "metadata": {},
     "output_type": "execute_result"
    }
   ],
   "source": [
    "kmeans = KMeans(n_clusters=3, n_init='auto')\n",
    "features = train[['alcohol', 'density']]\n",
    "kmeans.fit(features)"
   ]
  },
  {
   "cell_type": "code",
   "execution_count": 72,
   "metadata": {},
   "outputs": [],
   "source": [
    "train['alc_dens_cluster'] = kmeans.labels_"
   ]
  },
  {
   "cell_type": "code",
   "execution_count": 73,
   "metadata": {},
   "outputs": [
    {
     "data": {
      "text/html": [
       "<div>\n",
       "<style scoped>\n",
       "    .dataframe tbody tr th:only-of-type {\n",
       "        vertical-align: middle;\n",
       "    }\n",
       "\n",
       "    .dataframe tbody tr th {\n",
       "        vertical-align: top;\n",
       "    }\n",
       "\n",
       "    .dataframe thead th {\n",
       "        text-align: right;\n",
       "    }\n",
       "</style>\n",
       "<table border=\"1\" class=\"dataframe\">\n",
       "  <thead>\n",
       "    <tr style=\"text-align: right;\">\n",
       "      <th></th>\n",
       "      <th>fixed acidity</th>\n",
       "      <th>volatile acidity</th>\n",
       "      <th>citric acid</th>\n",
       "      <th>residual sugar</th>\n",
       "      <th>chlorides</th>\n",
       "      <th>free sulfur dioxide</th>\n",
       "      <th>total sulfur dioxide</th>\n",
       "      <th>density</th>\n",
       "      <th>pH</th>\n",
       "      <th>sulphates</th>\n",
       "      <th>alcohol</th>\n",
       "      <th>quality</th>\n",
       "      <th>type_white</th>\n",
       "      <th>alc_dens_cluster</th>\n",
       "    </tr>\n",
       "  </thead>\n",
       "  <tbody>\n",
       "    <tr>\n",
       "      <th>1360</th>\n",
       "      <td>0.452991</td>\n",
       "      <td>0.306667</td>\n",
       "      <td>0.186747</td>\n",
       "      <td>0.066798</td>\n",
       "      <td>0.166945</td>\n",
       "      <td>0.068729</td>\n",
       "      <td>0.088766</td>\n",
       "      <td>0.595899</td>\n",
       "      <td>0.403101</td>\n",
       "      <td>0.193182</td>\n",
       "      <td>0.483333</td>\n",
       "      <td>5</td>\n",
       "      <td>False</td>\n",
       "      <td>2</td>\n",
       "    </tr>\n",
       "    <tr>\n",
       "      <th>1231</th>\n",
       "      <td>0.333333</td>\n",
       "      <td>0.490000</td>\n",
       "      <td>0.006024</td>\n",
       "      <td>0.078585</td>\n",
       "      <td>0.103506</td>\n",
       "      <td>0.323024</td>\n",
       "      <td>0.233010</td>\n",
       "      <td>0.548854</td>\n",
       "      <td>0.511628</td>\n",
       "      <td>0.227273</td>\n",
       "      <td>0.466667</td>\n",
       "      <td>5</td>\n",
       "      <td>False</td>\n",
       "      <td>2</td>\n",
       "    </tr>\n",
       "    <tr>\n",
       "      <th>4749</th>\n",
       "      <td>0.162393</td>\n",
       "      <td>0.206667</td>\n",
       "      <td>0.283133</td>\n",
       "      <td>0.271120</td>\n",
       "      <td>0.025042</td>\n",
       "      <td>0.075601</td>\n",
       "      <td>0.227462</td>\n",
       "      <td>0.216526</td>\n",
       "      <td>0.511628</td>\n",
       "      <td>0.130682</td>\n",
       "      <td>1.000000</td>\n",
       "      <td>6</td>\n",
       "      <td>True</td>\n",
       "      <td>0</td>\n",
       "    </tr>\n",
       "    <tr>\n",
       "      <th>4341</th>\n",
       "      <td>0.350427</td>\n",
       "      <td>0.100000</td>\n",
       "      <td>0.168675</td>\n",
       "      <td>0.082515</td>\n",
       "      <td>0.060100</td>\n",
       "      <td>0.329897</td>\n",
       "      <td>0.441054</td>\n",
       "      <td>0.487937</td>\n",
       "      <td>0.418605</td>\n",
       "      <td>0.284091</td>\n",
       "      <td>0.250000</td>\n",
       "      <td>6</td>\n",
       "      <td>True</td>\n",
       "      <td>1</td>\n",
       "    </tr>\n",
       "    <tr>\n",
       "      <th>4376</th>\n",
       "      <td>0.316239</td>\n",
       "      <td>0.080000</td>\n",
       "      <td>0.216867</td>\n",
       "      <td>0.051081</td>\n",
       "      <td>0.051753</td>\n",
       "      <td>0.158076</td>\n",
       "      <td>0.291262</td>\n",
       "      <td>0.317250</td>\n",
       "      <td>0.441860</td>\n",
       "      <td>0.181818</td>\n",
       "      <td>0.550000</td>\n",
       "      <td>6</td>\n",
       "      <td>True</td>\n",
       "      <td>2</td>\n",
       "    </tr>\n",
       "  </tbody>\n",
       "</table>\n",
       "</div>"
      ],
      "text/plain": [
       "      fixed acidity  volatile acidity  citric acid  residual sugar  chlorides  free sulfur dioxide  total sulfur dioxide   density        pH  sulphates   alcohol  quality  type_white  alc_dens_cluster\n",
       "1360       0.452991          0.306667     0.186747        0.066798   0.166945             0.068729              0.088766  0.595899  0.403101   0.193182  0.483333        5       False                 2\n",
       "1231       0.333333          0.490000     0.006024        0.078585   0.103506             0.323024              0.233010  0.548854  0.511628   0.227273  0.466667        5       False                 2\n",
       "4749       0.162393          0.206667     0.283133        0.271120   0.025042             0.075601              0.227462  0.216526  0.511628   0.130682  1.000000        6        True                 0\n",
       "4341       0.350427          0.100000     0.168675        0.082515   0.060100             0.329897              0.441054  0.487937  0.418605   0.284091  0.250000        6        True                 1\n",
       "4376       0.316239          0.080000     0.216867        0.051081   0.051753             0.158076              0.291262  0.317250  0.441860   0.181818  0.550000        6        True                 2"
      ]
     },
     "execution_count": 73,
     "metadata": {},
     "output_type": "execute_result"
    }
   ],
   "source": [
    "train.head()"
   ]
  },
  {
   "cell_type": "code",
   "execution_count": 74,
   "metadata": {},
   "outputs": [
    {
     "data": {
      "text/plain": [
       "<function matplotlib.pyplot.show(close=None, block=None)>"
      ]
     },
     "execution_count": 74,
     "metadata": {},
     "output_type": "execute_result"
    },
    {
     "data": {
      "image/png": "[encoded data removed]",
      "text/plain": [
       "<Figure size 640x480 with 1 Axes>"
      ]
     },
     "metadata": {},
     "output_type": "display_data"
    }
   ],
   "source": [
    "sns.scatterplot(data=train, x='alcohol', y='density', hue='alc_dens_cluster', palette='deep')\n",
    "#plt.ylim(min(train_scaled.density), .5)\n",
    "plt.show"
   ]
  },
  {
   "cell_type": "code",
   "execution_count": 75,
   "metadata": {},
   "outputs": [],
   "source": [
    "# Remove the \"quality_bins\" column from the DataFrame\n",
    "train.drop(columns=['density'], inplace=True)\n",
    "\n",
    "# Remove the \"quality_bins\" column from the DataFrame\n",
    "val.drop(columns=['density'], inplace=True)\n",
    "\n",
    "# Remove the \"quality_bins\" column from the DataFrame\n",
    "test.drop(columns=['density'], inplace=True)\n",
    "\n",
    "# Remove the \"quality_bins\" column from the DataFrame\n",
    "X_train.drop(columns=['density'], inplace=True)\n",
    "\n",
    "\n",
    "# Remove the \"quality_bins\" column from the DataFrame\n",
    "X_val.drop(columns=['density'], inplace=True)\n",
    "\n",
    "# Remove the \"quality_bins\" column from the DataFrame\n",
    "X_test.drop(columns=['density'], inplace=True)\n"
   ]
  },
  {
   "cell_type": "code",
   "execution_count": 76,
   "metadata": {},
   "outputs": [
    {
     "data": {
      "text/plain": [
       "0.8747299331416253"
      ]
     },
     "execution_count": 76,
     "metadata": {},
     "output_type": "execute_result"
    }
   ],
   "source": [
    "eval_baseline(y_train)"
   ]
  },
  {
   "cell_type": "code",
   "execution_count": 77,
   "metadata": {},
   "outputs": [
    {
     "name": "stdout",
     "output_type": "stream",
     "text": [
      "The train RMSE is $0.2321.\n",
      "The validate RMSE is $0.6566.\n"
     ]
    }
   ],
   "source": [
    "rforest, model_results_4 = train_model(RandomForestRegressor, X_train, y_train, X_val, y_val)"
   ]
  },
  {
   "cell_type": "code",
   "execution_count": 78,
   "metadata": {},
   "outputs": [],
   "source": [
    "from xgboost import XGBRegressor"
   ]
  },
  {
   "cell_type": "code",
   "execution_count": 79,
   "metadata": {},
   "outputs": [
    {
     "name": "stdout",
     "output_type": "stream",
     "text": [
      "The train RMSE is $0.2694.\n",
      "The validate RMSE is $0.6838.\n"
     ]
    }
   ],
   "source": [
    "xgbr, model_results_4 = train_model(XGBRegressor, X_train, y_train, X_val, y_val, model_results_4)"
   ]
  },
  {
   "cell_type": "code",
   "execution_count": 80,
   "metadata": {},
   "outputs": [],
   "source": [
    "from sklearn.linear_model import LinearRegression, LassoLars, TweedieRegressor"
   ]
  },
  {
   "cell_type": "code",
   "execution_count": 81,
   "metadata": {},
   "outputs": [
    {
     "name": "stdout",
     "output_type": "stream",
     "text": [
      "Selected Features:\n",
      "Index(['volatile acidity', 'citric acid', 'residual sugar', 'chlorides',\n",
      "       'free sulfur dioxide', 'total sulfur dioxide', 'sulphates', 'alcohol',\n",
      "       'type_white'],\n",
      "      dtype='object')\n",
      "Validation RMSE: 0.7737276858309515\n",
      "Removed Features:\n",
      "['fixed acidity', 'pH']\n"
     ]
    }
   ],
   "source": [
    "sfs_forward(X_train, y_train)"
   ]
  },
  {
   "cell_type": "code",
   "execution_count": 82,
   "metadata": {},
   "outputs": [
    {
     "name": "stdout",
     "output_type": "stream",
     "text": [
      "Selected Features:\n",
      "Index(['volatile acidity', 'citric acid', 'residual sugar', 'chlorides',\n",
      "       'free sulfur dioxide', 'total sulfur dioxide', 'sulphates', 'alcohol',\n",
      "       'type_white'],\n",
      "      dtype='object')\n",
      "Removed Features:\n",
      "Index(['fixed acidity', 'pH'], dtype='object')\n",
      "Validation RMSE: 0.7737276858309515\n"
     ]
    }
   ],
   "source": [
    "sfs_backwards(X_train, y_train)"
   ]
  },
  {
   "cell_type": "code",
   "execution_count": 83,
   "metadata": {},
   "outputs": [
    {
     "name": "stdout",
     "output_type": "stream",
     "text": [
      "The train RMSE is $0.8747.\n",
      "The validate RMSE is $0.8988.\n"
     ]
    }
   ],
   "source": [
    "lasso, model_results_4 = train_model(LassoLars, X_train, y_train, X_val, y_val, model_results_4)"
   ]
  },
  {
   "cell_type": "code",
   "execution_count": 84,
   "metadata": {},
   "outputs": [
    {
     "name": "stdout",
     "output_type": "stream",
     "text": [
      "The train RMSE is $0.7304.\n",
      "The validate RMSE is $0.7735.\n"
     ]
    }
   ],
   "source": [
    "linearr, model_results_4 = train_model(LinearRegression, X_train, y_train, X_val, y_val, model_results_4)"
   ]
  },
  {
   "cell_type": "code",
   "execution_count": 85,
   "metadata": {},
   "outputs": [
    {
     "name": "stdout",
     "output_type": "stream",
     "text": [
      "The train RMSE is $0.8654.\n",
      "The validate RMSE is $0.8896.\n"
     ]
    }
   ],
   "source": [
    "# Tweedie seems to get worse with scaled data\n",
    "tweedie, model_results_4 = train_model(TweedieRegressor, X_train, y_train, X_val, y_val, model_results_4)"
   ]
  },
  {
   "cell_type": "markdown",
   "metadata": {},
   "source": [
    "#### Scaled \n",
    "#### Drops Density\n",
    "#### Cluster features Density&Alcohol"
   ]
  },
  {
   "cell_type": "code",
   "execution_count": 86,
   "metadata": {},
   "outputs": [
    {
     "data": {
      "text/html": [
       "<div>\n",
       "<style scoped>\n",
       "    .dataframe tbody tr th:only-of-type {\n",
       "        vertical-align: middle;\n",
       "    }\n",
       "\n",
       "    .dataframe tbody tr th {\n",
       "        vertical-align: top;\n",
       "    }\n",
       "\n",
       "    .dataframe thead th {\n",
       "        text-align: right;\n",
       "    }\n",
       "</style>\n",
       "<table border=\"1\" class=\"dataframe\">\n",
       "  <thead>\n",
       "    <tr style=\"text-align: right;\">\n",
       "      <th></th>\n",
       "      <th>Model</th>\n",
       "      <th>Train_RMSE</th>\n",
       "      <th>Val_RMSE</th>\n",
       "    </tr>\n",
       "  </thead>\n",
       "  <tbody>\n",
       "    <tr>\n",
       "      <th>0</th>\n",
       "      <td>RandomForestRegressor</td>\n",
       "      <td>$0.2321</td>\n",
       "      <td>$0.6566</td>\n",
       "    </tr>\n",
       "    <tr>\n",
       "      <th>1</th>\n",
       "      <td>XGBRegressor</td>\n",
       "      <td>$0.2694</td>\n",
       "      <td>$0.6838</td>\n",
       "    </tr>\n",
       "    <tr>\n",
       "      <th>2</th>\n",
       "      <td>LassoLars</td>\n",
       "      <td>$0.8747</td>\n",
       "      <td>$0.8988</td>\n",
       "    </tr>\n",
       "    <tr>\n",
       "      <th>3</th>\n",
       "      <td>LinearRegression</td>\n",
       "      <td>$0.7304</td>\n",
       "      <td>$0.7735</td>\n",
       "    </tr>\n",
       "    <tr>\n",
       "      <th>4</th>\n",
       "      <td>TweedieRegressor</td>\n",
       "      <td>$0.8654</td>\n",
       "      <td>$0.8896</td>\n",
       "    </tr>\n",
       "  </tbody>\n",
       "</table>\n",
       "</div>"
      ],
      "text/plain": [
       "                   Model Train_RMSE Val_RMSE\n",
       "0  RandomForestRegressor    $0.2321  $0.6566\n",
       "1           XGBRegressor    $0.2694  $0.6838\n",
       "2              LassoLars    $0.8747  $0.8988\n",
       "3       LinearRegression    $0.7304  $0.7735\n",
       "4       TweedieRegressor    $0.8654  $0.8896"
      ]
     },
     "execution_count": 86,
     "metadata": {},
     "output_type": "execute_result"
    }
   ],
   "source": [
    "model_results_4"
   ]
  },
  {
   "cell_type": "markdown",
   "metadata": {},
   "source": [
    "____\n",
    "____\n",
    "\n",
    "## MODEL FIFTH ROUND\n",
    "#### Cluster Featrue (alcohol & desity)\n",
    "\n",
    "Keep Both! Alcohol and Density\n",
    "____\n",
    "____"
   ]
  },
  {
   "cell_type": "code",
   "execution_count": 87,
   "metadata": {},
   "outputs": [],
   "source": [
    "df = acquire_wine()"
   ]
  },
  {
   "cell_type": "code",
   "execution_count": 88,
   "metadata": {},
   "outputs": [],
   "source": [
    "df = df[df.density <= 1.01]"
   ]
  },
  {
   "cell_type": "code",
   "execution_count": 89,
   "metadata": {},
   "outputs": [],
   "source": [
    "df = df[df.alcohol <= 14.04]"
   ]
  },
  {
   "cell_type": "code",
   "execution_count": 90,
   "metadata": {},
   "outputs": [],
   "source": [
    "train, val, test, X_train, y_train, X_val, y_val, X_test, y_test = data_pipeline(df)"
   ]
  },
  {
   "cell_type": "code",
   "execution_count": 91,
   "metadata": {},
   "outputs": [
    {
     "data": {
      "text/html": [
       "<div>\n",
       "<style scoped>\n",
       "    .dataframe tbody tr th:only-of-type {\n",
       "        vertical-align: middle;\n",
       "    }\n",
       "\n",
       "    .dataframe tbody tr th {\n",
       "        vertical-align: top;\n",
       "    }\n",
       "\n",
       "    .dataframe thead th {\n",
       "        text-align: right;\n",
       "    }\n",
       "</style>\n",
       "<table border=\"1\" class=\"dataframe\">\n",
       "  <thead>\n",
       "    <tr style=\"text-align: right;\">\n",
       "      <th></th>\n",
       "      <th>fixed acidity</th>\n",
       "      <th>volatile acidity</th>\n",
       "      <th>citric acid</th>\n",
       "      <th>residual sugar</th>\n",
       "      <th>chlorides</th>\n",
       "      <th>free sulfur dioxide</th>\n",
       "      <th>total sulfur dioxide</th>\n",
       "      <th>density</th>\n",
       "      <th>pH</th>\n",
       "      <th>sulphates</th>\n",
       "      <th>alcohol</th>\n",
       "      <th>type_white</th>\n",
       "    </tr>\n",
       "  </thead>\n",
       "  <tbody>\n",
       "    <tr>\n",
       "      <th>1360</th>\n",
       "      <td>9.2</td>\n",
       "      <td>0.540</td>\n",
       "      <td>0.31</td>\n",
       "      <td>2.3</td>\n",
       "      <td>0.112</td>\n",
       "      <td>11.0</td>\n",
       "      <td>38.0</td>\n",
       "      <td>0.99699</td>\n",
       "      <td>3.24</td>\n",
       "      <td>0.56</td>\n",
       "      <td>10.9</td>\n",
       "      <td>False</td>\n",
       "    </tr>\n",
       "    <tr>\n",
       "      <th>1231</th>\n",
       "      <td>7.8</td>\n",
       "      <td>0.815</td>\n",
       "      <td>0.01</td>\n",
       "      <td>2.6</td>\n",
       "      <td>0.074</td>\n",
       "      <td>48.0</td>\n",
       "      <td>90.0</td>\n",
       "      <td>0.99621</td>\n",
       "      <td>3.38</td>\n",
       "      <td>0.62</td>\n",
       "      <td>10.8</td>\n",
       "      <td>False</td>\n",
       "    </tr>\n",
       "    <tr>\n",
       "      <th>4749</th>\n",
       "      <td>5.8</td>\n",
       "      <td>0.390</td>\n",
       "      <td>0.47</td>\n",
       "      <td>7.5</td>\n",
       "      <td>0.027</td>\n",
       "      <td>12.0</td>\n",
       "      <td>88.0</td>\n",
       "      <td>0.99070</td>\n",
       "      <td>3.38</td>\n",
       "      <td>0.45</td>\n",
       "      <td>14.0</td>\n",
       "      <td>True</td>\n",
       "    </tr>\n",
       "    <tr>\n",
       "      <th>4341</th>\n",
       "      <td>8.0</td>\n",
       "      <td>0.230</td>\n",
       "      <td>0.28</td>\n",
       "      <td>2.7</td>\n",
       "      <td>0.048</td>\n",
       "      <td>49.0</td>\n",
       "      <td>165.0</td>\n",
       "      <td>0.99520</td>\n",
       "      <td>3.26</td>\n",
       "      <td>0.72</td>\n",
       "      <td>9.5</td>\n",
       "      <td>True</td>\n",
       "    </tr>\n",
       "    <tr>\n",
       "      <th>4376</th>\n",
       "      <td>7.6</td>\n",
       "      <td>0.200</td>\n",
       "      <td>0.36</td>\n",
       "      <td>1.9</td>\n",
       "      <td>0.043</td>\n",
       "      <td>24.0</td>\n",
       "      <td>111.0</td>\n",
       "      <td>0.99237</td>\n",
       "      <td>3.29</td>\n",
       "      <td>0.54</td>\n",
       "      <td>11.3</td>\n",
       "      <td>True</td>\n",
       "    </tr>\n",
       "  </tbody>\n",
       "</table>\n",
       "</div>"
      ],
      "text/plain": [
       "      fixed acidity  volatile acidity  citric acid  residual sugar  chlorides  free sulfur dioxide  total sulfur dioxide  density    pH  sulphates  alcohol  type_white\n",
       "1360            9.2             0.540         0.31             2.3      0.112                 11.0                  38.0  0.99699  3.24       0.56     10.9       False\n",
       "1231            7.8             0.815         0.01             2.6      0.074                 48.0                  90.0  0.99621  3.38       0.62     10.8       False\n",
       "4749            5.8             0.390         0.47             7.5      0.027                 12.0                  88.0  0.99070  3.38       0.45     14.0        True\n",
       "4341            8.0             0.230         0.28             2.7      0.048                 49.0                 165.0  0.99520  3.26       0.72      9.5        True\n",
       "4376            7.6             0.200         0.36             1.9      0.043                 24.0                 111.0  0.99237  3.29       0.54     11.3        True"
      ]
     },
     "execution_count": 91,
     "metadata": {},
     "output_type": "execute_result"
    }
   ],
   "source": [
    "X_train.head()"
   ]
  },
  {
   "cell_type": "code",
   "execution_count": 92,
   "metadata": {},
   "outputs": [],
   "source": [
    "train, val, test = MinMax_Scaler(train, val, test)\n",
    "\n",
    "#Scale X_df because data_pipeline does not scale it\n",
    "X_train, X_val, X_test = MinMax_Scaler_xy(X_train, X_val, X_test)"
   ]
  },
  {
   "cell_type": "code",
   "execution_count": 93,
   "metadata": {},
   "outputs": [
    {
     "data": {
      "text/html": [
       "<div>\n",
       "<style scoped>\n",
       "    .dataframe tbody tr th:only-of-type {\n",
       "        vertical-align: middle;\n",
       "    }\n",
       "\n",
       "    .dataframe tbody tr th {\n",
       "        vertical-align: top;\n",
       "    }\n",
       "\n",
       "    .dataframe thead th {\n",
       "        text-align: right;\n",
       "    }\n",
       "</style>\n",
       "<table border=\"1\" class=\"dataframe\">\n",
       "  <thead>\n",
       "    <tr style=\"text-align: right;\">\n",
       "      <th></th>\n",
       "      <th>fixed acidity</th>\n",
       "      <th>volatile acidity</th>\n",
       "      <th>citric acid</th>\n",
       "      <th>residual sugar</th>\n",
       "      <th>chlorides</th>\n",
       "      <th>free sulfur dioxide</th>\n",
       "      <th>total sulfur dioxide</th>\n",
       "      <th>density</th>\n",
       "      <th>pH</th>\n",
       "      <th>sulphates</th>\n",
       "      <th>alcohol</th>\n",
       "      <th>quality</th>\n",
       "      <th>type_white</th>\n",
       "    </tr>\n",
       "  </thead>\n",
       "  <tbody>\n",
       "    <tr>\n",
       "      <th>1360</th>\n",
       "      <td>0.452991</td>\n",
       "      <td>0.306667</td>\n",
       "      <td>0.186747</td>\n",
       "      <td>0.066798</td>\n",
       "      <td>0.166945</td>\n",
       "      <td>0.068729</td>\n",
       "      <td>0.088766</td>\n",
       "      <td>0.595899</td>\n",
       "      <td>0.403101</td>\n",
       "      <td>0.193182</td>\n",
       "      <td>0.483333</td>\n",
       "      <td>5</td>\n",
       "      <td>False</td>\n",
       "    </tr>\n",
       "    <tr>\n",
       "      <th>1231</th>\n",
       "      <td>0.333333</td>\n",
       "      <td>0.490000</td>\n",
       "      <td>0.006024</td>\n",
       "      <td>0.078585</td>\n",
       "      <td>0.103506</td>\n",
       "      <td>0.323024</td>\n",
       "      <td>0.233010</td>\n",
       "      <td>0.548854</td>\n",
       "      <td>0.511628</td>\n",
       "      <td>0.227273</td>\n",
       "      <td>0.466667</td>\n",
       "      <td>5</td>\n",
       "      <td>False</td>\n",
       "    </tr>\n",
       "    <tr>\n",
       "      <th>4749</th>\n",
       "      <td>0.162393</td>\n",
       "      <td>0.206667</td>\n",
       "      <td>0.283133</td>\n",
       "      <td>0.271120</td>\n",
       "      <td>0.025042</td>\n",
       "      <td>0.075601</td>\n",
       "      <td>0.227462</td>\n",
       "      <td>0.216526</td>\n",
       "      <td>0.511628</td>\n",
       "      <td>0.130682</td>\n",
       "      <td>1.000000</td>\n",
       "      <td>6</td>\n",
       "      <td>True</td>\n",
       "    </tr>\n",
       "    <tr>\n",
       "      <th>4341</th>\n",
       "      <td>0.350427</td>\n",
       "      <td>0.100000</td>\n",
       "      <td>0.168675</td>\n",
       "      <td>0.082515</td>\n",
       "      <td>0.060100</td>\n",
       "      <td>0.329897</td>\n",
       "      <td>0.441054</td>\n",
       "      <td>0.487937</td>\n",
       "      <td>0.418605</td>\n",
       "      <td>0.284091</td>\n",
       "      <td>0.250000</td>\n",
       "      <td>6</td>\n",
       "      <td>True</td>\n",
       "    </tr>\n",
       "    <tr>\n",
       "      <th>4376</th>\n",
       "      <td>0.316239</td>\n",
       "      <td>0.080000</td>\n",
       "      <td>0.216867</td>\n",
       "      <td>0.051081</td>\n",
       "      <td>0.051753</td>\n",
       "      <td>0.158076</td>\n",
       "      <td>0.291262</td>\n",
       "      <td>0.317250</td>\n",
       "      <td>0.441860</td>\n",
       "      <td>0.181818</td>\n",
       "      <td>0.550000</td>\n",
       "      <td>6</td>\n",
       "      <td>True</td>\n",
       "    </tr>\n",
       "  </tbody>\n",
       "</table>\n",
       "</div>"
      ],
      "text/plain": [
       "      fixed acidity  volatile acidity  citric acid  residual sugar  chlorides  free sulfur dioxide  total sulfur dioxide   density        pH  sulphates   alcohol  quality  type_white\n",
       "1360       0.452991          0.306667     0.186747        0.066798   0.166945             0.068729              0.088766  0.595899  0.403101   0.193182  0.483333        5       False\n",
       "1231       0.333333          0.490000     0.006024        0.078585   0.103506             0.323024              0.233010  0.548854  0.511628   0.227273  0.466667        5       False\n",
       "4749       0.162393          0.206667     0.283133        0.271120   0.025042             0.075601              0.227462  0.216526  0.511628   0.130682  1.000000        6        True\n",
       "4341       0.350427          0.100000     0.168675        0.082515   0.060100             0.329897              0.441054  0.487937  0.418605   0.284091  0.250000        6        True\n",
       "4376       0.316239          0.080000     0.216867        0.051081   0.051753             0.158076              0.291262  0.317250  0.441860   0.181818  0.550000        6        True"
      ]
     },
     "execution_count": 93,
     "metadata": {},
     "output_type": "execute_result"
    }
   ],
   "source": [
    "train.head()"
   ]
  },
  {
   "cell_type": "code",
   "execution_count": 94,
   "metadata": {},
   "outputs": [
    {
     "data": {
      "text/html": [
       "<style>#sk-container-id-3 {color: black;}#sk-container-id-3 pre{padding: 0;}#sk-container-id-3 div.sk-toggleable {background-color: white;}#sk-container-id-3 label.sk-toggleable__label {cursor: pointer;display: block;width: 100%;margin-bottom: 0;padding: 0.3em;box-sizing: border-box;text-align: center;}#sk-container-id-3 label.sk-toggleable__label-arrow:before {content: \"▸\";float: left;margin-right: 0.25em;color: #696969;}#sk-container-id-3 label.sk-toggleable__label-arrow:hover:before {color: black;}#sk-container-id-3 div.sk-estimator:hover label.sk-toggleable__label-arrow:before {color: black;}#sk-container-id-3 div.sk-toggleable__content {max-height: 0;max-width: 0;overflow: hidden;text-align: left;background-color: #f0f8ff;}#sk-container-id-3 div.sk-toggleable__content pre {margin: 0.2em;color: black;border-radius: 0.25em;background-color: #f0f8ff;}#sk-container-id-3 input.sk-toggleable__control:checked~div.sk-toggleable__content {max-height: 200px;max-width: 100%;overflow: auto;}#sk-container-id-3 input.sk-toggleable__control:checked~label.sk-toggleable__label-arrow:before {content: \"▾\";}#sk-container-id-3 div.sk-estimator input.sk-toggleable__control:checked~label.sk-toggleable__label {background-color: #d4ebff;}#sk-container-id-3 div.sk-label input.sk-toggleable__control:checked~label.sk-toggleable__label {background-color: #d4ebff;}#sk-container-id-3 input.sk-hidden--visually {border: 0;clip: rect(1px 1px 1px 1px);clip: rect(1px, 1px, 1px, 1px);height: 1px;margin: -1px;overflow: hidden;padding: 0;position: absolute;width: 1px;}#sk-container-id-3 div.sk-estimator {font-family: monospace;background-color: #f0f8ff;border: 1px dotted black;border-radius: 0.25em;box-sizing: border-box;margin-bottom: 0.5em;}#sk-container-id-3 div.sk-estimator:hover {background-color: #d4ebff;}#sk-container-id-3 div.sk-parallel-item::after {content: \"\";width: 100%;border-bottom: 1px solid gray;flex-grow: 1;}#sk-container-id-3 div.sk-label:hover label.sk-toggleable__label {background-color: #d4ebff;}#sk-container-id-3 div.sk-serial::before {content: \"\";position: absolute;border-left: 1px solid gray;box-sizing: border-box;top: 0;bottom: 0;left: 50%;z-index: 0;}#sk-container-id-3 div.sk-serial {display: flex;flex-direction: column;align-items: center;background-color: white;padding-right: 0.2em;padding-left: 0.2em;position: relative;}#sk-container-id-3 div.sk-item {position: relative;z-index: 1;}#sk-container-id-3 div.sk-parallel {display: flex;align-items: stretch;justify-content: center;background-color: white;position: relative;}#sk-container-id-3 div.sk-item::before, #sk-container-id-3 div.sk-parallel-item::before {content: \"\";position: absolute;border-left: 1px solid gray;box-sizing: border-box;top: 0;bottom: 0;left: 50%;z-index: -1;}#sk-container-id-3 div.sk-parallel-item {display: flex;flex-direction: column;z-index: 1;position: relative;background-color: white;}#sk-container-id-3 div.sk-parallel-item:first-child::after {align-self: flex-end;width: 50%;}#sk-container-id-3 div.sk-parallel-item:last-child::after {align-self: flex-start;width: 50%;}#sk-container-id-3 div.sk-parallel-item:only-child::after {width: 0;}#sk-container-id-3 div.sk-dashed-wrapped {border: 1px dashed gray;margin: 0 0.4em 0.5em 0.4em;box-sizing: border-box;padding-bottom: 0.4em;background-color: white;}#sk-container-id-3 div.sk-label label {font-family: monospace;font-weight: bold;display: inline-block;line-height: 1.2em;}#sk-container-id-3 div.sk-label-container {text-align: center;}#sk-container-id-3 div.sk-container {/* jupyter's `normalize.less` sets `[hidden] { display: none; }` but bootstrap.min.css set `[hidden] { display: none !important; }` so we also need the `!important` here to be able to override the default hidden behavior on the sphinx rendered scikit-learn.org. See: https://github.com/scikit-learn/scikit-learn/issues/21755 */display: inline-block !important;position: relative;}#sk-container-id-3 div.sk-text-repr-fallback {display: none;}</style><div id=\"sk-container-id-3\" class=\"sk-top-container\"><div class=\"sk-text-repr-fallback\"><pre>KMeans(n_clusters=3, n_init=&#x27;auto&#x27;)</pre><b>In a Jupyter environment, please rerun this cell to show the HTML representation or trust the notebook. <br />On GitHub, the HTML representation is unable to render, please try loading this page with nbviewer.org.</b></div><div class=\"sk-container\" hidden><div class=\"sk-item\"><div class=\"sk-estimator sk-toggleable\"><input class=\"sk-toggleable__control sk-hidden--visually\" id=\"sk-estimator-id-3\" type=\"checkbox\" checked><label for=\"sk-estimator-id-3\" class=\"sk-toggleable__label sk-toggleable__label-arrow\">KMeans</label><div class=\"sk-toggleable__content\"><pre>KMeans(n_clusters=3, n_init=&#x27;auto&#x27;)</pre></div></div></div></div></div>"
      ],
      "text/plain": [
       "KMeans(n_clusters=3, n_init='auto')"
      ]
     },
     "execution_count": 94,
     "metadata": {},
     "output_type": "execute_result"
    }
   ],
   "source": [
    "kmeans = KMeans(n_clusters=3, n_init='auto')\n",
    "features = train[['alcohol', 'density']]\n",
    "kmeans.fit(features)"
   ]
  },
  {
   "cell_type": "code",
   "execution_count": 95,
   "metadata": {},
   "outputs": [],
   "source": [
    "train['alc_dens_cluster'] = kmeans.labels_"
   ]
  },
  {
   "cell_type": "code",
   "execution_count": 96,
   "metadata": {},
   "outputs": [
    {
     "data": {
      "text/plain": [
       "0.8747299331416253"
      ]
     },
     "execution_count": 96,
     "metadata": {},
     "output_type": "execute_result"
    }
   ],
   "source": [
    "eval_baseline(y_train)"
   ]
  },
  {
   "cell_type": "code",
   "execution_count": 97,
   "metadata": {},
   "outputs": [
    {
     "name": "stdout",
     "output_type": "stream",
     "text": [
      "The train RMSE is $0.2297.\n",
      "The validate RMSE is $0.6529.\n"
     ]
    }
   ],
   "source": [
    "rforest, model_results_5 = train_model(RandomForestRegressor, X_train, y_train, X_val, y_val)"
   ]
  },
  {
   "cell_type": "code",
   "execution_count": 98,
   "metadata": {},
   "outputs": [],
   "source": [
    "from xgboost import XGBRegressor"
   ]
  },
  {
   "cell_type": "code",
   "execution_count": 99,
   "metadata": {},
   "outputs": [
    {
     "name": "stdout",
     "output_type": "stream",
     "text": [
      "The train RMSE is $0.2429.\n",
      "The validate RMSE is $0.6915.\n"
     ]
    }
   ],
   "source": [
    "xgbr, model_results_5 = train_model(XGBRegressor, X_train, y_train, X_val, y_val, model_results_5)"
   ]
  },
  {
   "cell_type": "code",
   "execution_count": 100,
   "metadata": {},
   "outputs": [],
   "source": [
    "from sklearn.linear_model import LinearRegression, LassoLars, TweedieRegressor"
   ]
  },
  {
   "cell_type": "code",
   "execution_count": 101,
   "metadata": {},
   "outputs": [
    {
     "name": "stdout",
     "output_type": "stream",
     "text": [
      "Selected Features:\n",
      "Index(['fixed acidity', 'volatile acidity', 'citric acid', 'residual sugar',\n",
      "       'free sulfur dioxide', 'total sulfur dioxide', 'density', 'pH',\n",
      "       'sulphates', 'alcohol', 'type_white'],\n",
      "      dtype='object')\n",
      "Validation RMSE: 0.7690405840780594\n",
      "Removed Features:\n",
      "['chlorides']\n"
     ]
    }
   ],
   "source": [
    "sfs_forward(X_train, y_train)"
   ]
  },
  {
   "cell_type": "code",
   "execution_count": 102,
   "metadata": {},
   "outputs": [
    {
     "name": "stdout",
     "output_type": "stream",
     "text": [
      "Selected Features:\n",
      "Index(['fixed acidity', 'volatile acidity', 'citric acid', 'residual sugar',\n",
      "       'free sulfur dioxide', 'total sulfur dioxide', 'density', 'pH',\n",
      "       'sulphates', 'alcohol', 'type_white'],\n",
      "      dtype='object')\n",
      "Removed Features:\n",
      "Index(['chlorides'], dtype='object')\n",
      "Validation RMSE: 0.7690405840780594\n"
     ]
    }
   ],
   "source": [
    "sfs_backwards(X_train, y_train)"
   ]
  },
  {
   "cell_type": "code",
   "execution_count": 103,
   "metadata": {},
   "outputs": [
    {
     "name": "stdout",
     "output_type": "stream",
     "text": [
      "The train RMSE is $0.8747.\n",
      "The validate RMSE is $0.8988.\n"
     ]
    }
   ],
   "source": [
    "lasso, model_results_5 = train_model(LassoLars, X_train, y_train, X_val, y_val, model_results_5)"
   ]
  },
  {
   "cell_type": "code",
   "execution_count": 104,
   "metadata": {},
   "outputs": [
    {
     "name": "stdout",
     "output_type": "stream",
     "text": [
      "The train RMSE is $0.7262.\n",
      "The validate RMSE is $0.7689.\n"
     ]
    }
   ],
   "source": [
    "linearr, model_results_5 = train_model(LinearRegression, X_train, y_train, X_val, y_val, model_results_5)"
   ]
  },
  {
   "cell_type": "code",
   "execution_count": 105,
   "metadata": {},
   "outputs": [
    {
     "name": "stdout",
     "output_type": "stream",
     "text": [
      "The train RMSE is $0.8633.\n",
      "The validate RMSE is $0.8874.\n"
     ]
    }
   ],
   "source": [
    "# Tweedie seems to get worse with scaled data\n",
    "tweedie, model_results_5 = train_model(TweedieRegressor, X_train, y_train, X_val, y_val, model_results_5)"
   ]
  },
  {
   "cell_type": "markdown",
   "metadata": {},
   "source": [
    "#### Scaled \n",
    "#### Drops NONE\n",
    "#### Cluster features Density&Alcohol"
   ]
  },
  {
   "cell_type": "code",
   "execution_count": 106,
   "metadata": {},
   "outputs": [
    {
     "data": {
      "text/html": [
       "<div>\n",
       "<style scoped>\n",
       "    .dataframe tbody tr th:only-of-type {\n",
       "        vertical-align: middle;\n",
       "    }\n",
       "\n",
       "    .dataframe tbody tr th {\n",
       "        vertical-align: top;\n",
       "    }\n",
       "\n",
       "    .dataframe thead th {\n",
       "        text-align: right;\n",
       "    }\n",
       "</style>\n",
       "<table border=\"1\" class=\"dataframe\">\n",
       "  <thead>\n",
       "    <tr style=\"text-align: right;\">\n",
       "      <th></th>\n",
       "      <th>Model</th>\n",
       "      <th>Train_RMSE</th>\n",
       "      <th>Val_RMSE</th>\n",
       "    </tr>\n",
       "  </thead>\n",
       "  <tbody>\n",
       "    <tr>\n",
       "      <th>0</th>\n",
       "      <td>RandomForestRegressor</td>\n",
       "      <td>$0.2297</td>\n",
       "      <td>$0.6529</td>\n",
       "    </tr>\n",
       "    <tr>\n",
       "      <th>1</th>\n",
       "      <td>XGBRegressor</td>\n",
       "      <td>$0.2429</td>\n",
       "      <td>$0.6915</td>\n",
       "    </tr>\n",
       "    <tr>\n",
       "      <th>2</th>\n",
       "      <td>LassoLars</td>\n",
       "      <td>$0.8747</td>\n",
       "      <td>$0.8988</td>\n",
       "    </tr>\n",
       "    <tr>\n",
       "      <th>3</th>\n",
       "      <td>LinearRegression</td>\n",
       "      <td>$0.7262</td>\n",
       "      <td>$0.7689</td>\n",
       "    </tr>\n",
       "    <tr>\n",
       "      <th>4</th>\n",
       "      <td>TweedieRegressor</td>\n",
       "      <td>$0.8633</td>\n",
       "      <td>$0.8874</td>\n",
       "    </tr>\n",
       "  </tbody>\n",
       "</table>\n",
       "</div>"
      ],
      "text/plain": [
       "                   Model Train_RMSE Val_RMSE\n",
       "0  RandomForestRegressor    $0.2297  $0.6529\n",
       "1           XGBRegressor    $0.2429  $0.6915\n",
       "2              LassoLars    $0.8747  $0.8988\n",
       "3       LinearRegression    $0.7262  $0.7689\n",
       "4       TweedieRegressor    $0.8633  $0.8874"
      ]
     },
     "execution_count": 106,
     "metadata": {},
     "output_type": "execute_result"
    }
   ],
   "source": [
    "model_results_5"
   ]
  },
  {
   "cell_type": "code",
   "execution_count": null,
   "metadata": {},
   "outputs": [],
   "source": []
  },
  {
   "cell_type": "code",
   "execution_count": null,
   "metadata": {},
   "outputs": [],
   "source": []
  },
  {
   "cell_type": "markdown",
   "metadata": {},
   "source": [
    "____\n",
    "____\n",
    "\n",
    "## MODEL SIXTH ROUND\n",
    "#### Cluster Featrue (alcohol & desity)\n",
    "\n",
    "Drop Alcohol\n",
    "____\n",
    "____"
   ]
  },
  {
   "cell_type": "code",
   "execution_count": 107,
   "metadata": {},
   "outputs": [],
   "source": [
    "df = acquire_wine()"
   ]
  },
  {
   "cell_type": "code",
   "execution_count": 108,
   "metadata": {},
   "outputs": [],
   "source": [
    "df = df[df.density <= 1.01]"
   ]
  },
  {
   "cell_type": "code",
   "execution_count": 109,
   "metadata": {},
   "outputs": [],
   "source": [
    "df = df[df.alcohol <= 14.04]"
   ]
  },
  {
   "cell_type": "code",
   "execution_count": 110,
   "metadata": {},
   "outputs": [],
   "source": [
    "train, val, test, X_train, y_train, X_val, y_val, X_test, y_test = data_pipeline(df)"
   ]
  },
  {
   "cell_type": "code",
   "execution_count": 111,
   "metadata": {},
   "outputs": [],
   "source": [
    "train, val, test = MinMax_Scaler(train, val, test)\n",
    "\n",
    "#Scale X_df because data_pipeline does not scale it\n",
    "X_train, X_val, X_test = MinMax_Scaler_xy(X_train, X_val, X_test)"
   ]
  },
  {
   "cell_type": "code",
   "execution_count": 112,
   "metadata": {},
   "outputs": [
    {
     "data": {
      "text/html": [
       "<style>#sk-container-id-4 {color: black;}#sk-container-id-4 pre{padding: 0;}#sk-container-id-4 div.sk-toggleable {background-color: white;}#sk-container-id-4 label.sk-toggleable__label {cursor: pointer;display: block;width: 100%;margin-bottom: 0;padding: 0.3em;box-sizing: border-box;text-align: center;}#sk-container-id-4 label.sk-toggleable__label-arrow:before {content: \"▸\";float: left;margin-right: 0.25em;color: #696969;}#sk-container-id-4 label.sk-toggleable__label-arrow:hover:before {color: black;}#sk-container-id-4 div.sk-estimator:hover label.sk-toggleable__label-arrow:before {color: black;}#sk-container-id-4 div.sk-toggleable__content {max-height: 0;max-width: 0;overflow: hidden;text-align: left;background-color: #f0f8ff;}#sk-container-id-4 div.sk-toggleable__content pre {margin: 0.2em;color: black;border-radius: 0.25em;background-color: #f0f8ff;}#sk-container-id-4 input.sk-toggleable__control:checked~div.sk-toggleable__content {max-height: 200px;max-width: 100%;overflow: auto;}#sk-container-id-4 input.sk-toggleable__control:checked~label.sk-toggleable__label-arrow:before {content: \"▾\";}#sk-container-id-4 div.sk-estimator input.sk-toggleable__control:checked~label.sk-toggleable__label {background-color: #d4ebff;}#sk-container-id-4 div.sk-label input.sk-toggleable__control:checked~label.sk-toggleable__label {background-color: #d4ebff;}#sk-container-id-4 input.sk-hidden--visually {border: 0;clip: rect(1px 1px 1px 1px);clip: rect(1px, 1px, 1px, 1px);height: 1px;margin: -1px;overflow: hidden;padding: 0;position: absolute;width: 1px;}#sk-container-id-4 div.sk-estimator {font-family: monospace;background-color: #f0f8ff;border: 1px dotted black;border-radius: 0.25em;box-sizing: border-box;margin-bottom: 0.5em;}#sk-container-id-4 div.sk-estimator:hover {background-color: #d4ebff;}#sk-container-id-4 div.sk-parallel-item::after {content: \"\";width: 100%;border-bottom: 1px solid gray;flex-grow: 1;}#sk-container-id-4 div.sk-label:hover label.sk-toggleable__label {background-color: #d4ebff;}#sk-container-id-4 div.sk-serial::before {content: \"\";position: absolute;border-left: 1px solid gray;box-sizing: border-box;top: 0;bottom: 0;left: 50%;z-index: 0;}#sk-container-id-4 div.sk-serial {display: flex;flex-direction: column;align-items: center;background-color: white;padding-right: 0.2em;padding-left: 0.2em;position: relative;}#sk-container-id-4 div.sk-item {position: relative;z-index: 1;}#sk-container-id-4 div.sk-parallel {display: flex;align-items: stretch;justify-content: center;background-color: white;position: relative;}#sk-container-id-4 div.sk-item::before, #sk-container-id-4 div.sk-parallel-item::before {content: \"\";position: absolute;border-left: 1px solid gray;box-sizing: border-box;top: 0;bottom: 0;left: 50%;z-index: -1;}#sk-container-id-4 div.sk-parallel-item {display: flex;flex-direction: column;z-index: 1;position: relative;background-color: white;}#sk-container-id-4 div.sk-parallel-item:first-child::after {align-self: flex-end;width: 50%;}#sk-container-id-4 div.sk-parallel-item:last-child::after {align-self: flex-start;width: 50%;}#sk-container-id-4 div.sk-parallel-item:only-child::after {width: 0;}#sk-container-id-4 div.sk-dashed-wrapped {border: 1px dashed gray;margin: 0 0.4em 0.5em 0.4em;box-sizing: border-box;padding-bottom: 0.4em;background-color: white;}#sk-container-id-4 div.sk-label label {font-family: monospace;font-weight: bold;display: inline-block;line-height: 1.2em;}#sk-container-id-4 div.sk-label-container {text-align: center;}#sk-container-id-4 div.sk-container {/* jupyter's `normalize.less` sets `[hidden] { display: none; }` but bootstrap.min.css set `[hidden] { display: none !important; }` so we also need the `!important` here to be able to override the default hidden behavior on the sphinx rendered scikit-learn.org. See: https://github.com/scikit-learn/scikit-learn/issues/21755 */display: inline-block !important;position: relative;}#sk-container-id-4 div.sk-text-repr-fallback {display: none;}</style><div id=\"sk-container-id-4\" class=\"sk-top-container\"><div class=\"sk-text-repr-fallback\"><pre>KMeans(n_clusters=3, n_init=&#x27;auto&#x27;)</pre><b>In a Jupyter environment, please rerun this cell to show the HTML representation or trust the notebook. <br />On GitHub, the HTML representation is unable to render, please try loading this page with nbviewer.org.</b></div><div class=\"sk-container\" hidden><div class=\"sk-item\"><div class=\"sk-estimator sk-toggleable\"><input class=\"sk-toggleable__control sk-hidden--visually\" id=\"sk-estimator-id-4\" type=\"checkbox\" checked><label for=\"sk-estimator-id-4\" class=\"sk-toggleable__label sk-toggleable__label-arrow\">KMeans</label><div class=\"sk-toggleable__content\"><pre>KMeans(n_clusters=3, n_init=&#x27;auto&#x27;)</pre></div></div></div></div></div>"
      ],
      "text/plain": [
       "KMeans(n_clusters=3, n_init='auto')"
      ]
     },
     "execution_count": 112,
     "metadata": {},
     "output_type": "execute_result"
    }
   ],
   "source": [
    "kmeans = KMeans(n_clusters=3, n_init='auto')\n",
    "features = train[['alcohol', 'density']]\n",
    "kmeans.fit(features)"
   ]
  },
  {
   "cell_type": "code",
   "execution_count": 113,
   "metadata": {},
   "outputs": [],
   "source": [
    "train['alc_dens_cluster'] = kmeans.labels_"
   ]
  },
  {
   "cell_type": "code",
   "execution_count": 114,
   "metadata": {},
   "outputs": [],
   "source": [
    "# Remove the \"quality_bins\" column from the DataFrame\n",
    "train.drop(columns=['alcohol'], inplace=True)\n",
    "\n",
    "# Remove the \"quality_bins\" column from the DataFrame\n",
    "val.drop(columns=['alcohol'], inplace=True)\n",
    "\n",
    "# Remove the \"quality_bins\" column from the DataFrame\n",
    "test.drop(columns=['alcohol'], inplace=True)\n",
    "\n",
    "# Remove the \"quality_bins\" column from the DataFrame\n",
    "X_train.drop(columns=['alcohol'], inplace=True)\n",
    "\n",
    "# Remove the \"quality_bins\" column from the DataFrame\n",
    "X_val.drop(columns=['alcohol'], inplace=True)\n",
    "\n",
    "# Remove the \"quality_bins\" column from the DataFrame\n",
    "X_test.drop(columns=['alcohol'], inplace=True)\n"
   ]
  },
  {
   "cell_type": "code",
   "execution_count": 115,
   "metadata": {},
   "outputs": [
    {
     "data": {
      "text/plain": [
       "0.8747299331416253"
      ]
     },
     "execution_count": 115,
     "metadata": {},
     "output_type": "execute_result"
    }
   ],
   "source": [
    "eval_baseline(y_train)"
   ]
  },
  {
   "cell_type": "code",
   "execution_count": 116,
   "metadata": {},
   "outputs": [
    {
     "name": "stdout",
     "output_type": "stream",
     "text": [
      "The train RMSE is $0.2333.\n",
      "The validate RMSE is $0.6464.\n"
     ]
    }
   ],
   "source": [
    "rforest, model_results_6 = train_model(RandomForestRegressor, X_train, y_train, X_val, y_val)"
   ]
  },
  {
   "cell_type": "code",
   "execution_count": 117,
   "metadata": {},
   "outputs": [],
   "source": [
    "from xgboost import XGBRegressor"
   ]
  },
  {
   "cell_type": "code",
   "execution_count": 118,
   "metadata": {},
   "outputs": [
    {
     "name": "stdout",
     "output_type": "stream",
     "text": [
      "The train RMSE is $0.2720.\n",
      "The validate RMSE is $0.6838.\n"
     ]
    }
   ],
   "source": [
    "xgbr, model_results_6 = train_model(XGBRegressor, X_train, y_train, X_val, y_val, model_results_6)"
   ]
  },
  {
   "cell_type": "code",
   "execution_count": 119,
   "metadata": {},
   "outputs": [],
   "source": [
    "from sklearn.linear_model import LinearRegression, LassoLars, TweedieRegressor"
   ]
  },
  {
   "cell_type": "code",
   "execution_count": 120,
   "metadata": {},
   "outputs": [
    {
     "name": "stdout",
     "output_type": "stream",
     "text": [
      "Selected Features:\n",
      "Index(['fixed acidity', 'volatile acidity', 'residual sugar',\n",
      "       'free sulfur dioxide', 'total sulfur dioxide', 'density', 'pH',\n",
      "       'sulphates', 'type_white'],\n",
      "      dtype='object')\n",
      "Validation RMSE: 0.7722952527866775\n",
      "Removed Features:\n",
      "['citric acid', 'chlorides']\n"
     ]
    }
   ],
   "source": [
    "sfs_forward(X_train, y_train)"
   ]
  },
  {
   "cell_type": "code",
   "execution_count": 121,
   "metadata": {},
   "outputs": [
    {
     "name": "stdout",
     "output_type": "stream",
     "text": [
      "Selected Features:\n",
      "Index(['fixed acidity', 'volatile acidity', 'residual sugar',\n",
      "       'free sulfur dioxide', 'total sulfur dioxide', 'density', 'pH',\n",
      "       'sulphates', 'type_white'],\n",
      "      dtype='object')\n",
      "Removed Features:\n",
      "Index(['citric acid', 'chlorides'], dtype='object')\n",
      "Validation RMSE: 0.7722952527866775\n"
     ]
    }
   ],
   "source": [
    "sfs_backwards(X_train, y_train)"
   ]
  },
  {
   "cell_type": "code",
   "execution_count": 122,
   "metadata": {},
   "outputs": [
    {
     "name": "stdout",
     "output_type": "stream",
     "text": [
      "The train RMSE is $0.8747.\n",
      "The validate RMSE is $0.8988.\n"
     ]
    }
   ],
   "source": [
    "lasso, model_results_6 = train_model(LassoLars, X_train, y_train, X_val, y_val, model_results_6)"
   ]
  },
  {
   "cell_type": "code",
   "execution_count": 123,
   "metadata": {},
   "outputs": [
    {
     "name": "stdout",
     "output_type": "stream",
     "text": [
      "The train RMSE is $0.7321.\n",
      "The validate RMSE is $0.7720.\n"
     ]
    }
   ],
   "source": [
    "linearr, model_results_6 = train_model(LinearRegression, X_train, y_train, X_val, y_val, model_results_6)"
   ]
  },
  {
   "cell_type": "code",
   "execution_count": 124,
   "metadata": {},
   "outputs": [
    {
     "name": "stdout",
     "output_type": "stream",
     "text": [
      "The train RMSE is $0.8696.\n",
      "The validate RMSE is $0.8934.\n"
     ]
    }
   ],
   "source": [
    "# Tweedie seems to get worse with scaled data\n",
    "tweedie, model_results_6 = train_model(TweedieRegressor, X_train, y_train, X_val, y_val, model_results_6)"
   ]
  },
  {
   "cell_type": "markdown",
   "metadata": {},
   "source": [
    "#### Scaled \n",
    "#### Drops Alcohol\n",
    "#### Cluster features Density&Alcohol"
   ]
  },
  {
   "cell_type": "code",
   "execution_count": 125,
   "metadata": {},
   "outputs": [
    {
     "data": {
      "text/html": [
       "<div>\n",
       "<style scoped>\n",
       "    .dataframe tbody tr th:only-of-type {\n",
       "        vertical-align: middle;\n",
       "    }\n",
       "\n",
       "    .dataframe tbody tr th {\n",
       "        vertical-align: top;\n",
       "    }\n",
       "\n",
       "    .dataframe thead th {\n",
       "        text-align: right;\n",
       "    }\n",
       "</style>\n",
       "<table border=\"1\" class=\"dataframe\">\n",
       "  <thead>\n",
       "    <tr style=\"text-align: right;\">\n",
       "      <th></th>\n",
       "      <th>Model</th>\n",
       "      <th>Train_RMSE</th>\n",
       "      <th>Val_RMSE</th>\n",
       "    </tr>\n",
       "  </thead>\n",
       "  <tbody>\n",
       "    <tr>\n",
       "      <th>0</th>\n",
       "      <td>RandomForestRegressor</td>\n",
       "      <td>$0.2333</td>\n",
       "      <td>$0.6464</td>\n",
       "    </tr>\n",
       "    <tr>\n",
       "      <th>1</th>\n",
       "      <td>XGBRegressor</td>\n",
       "      <td>$0.2720</td>\n",
       "      <td>$0.6838</td>\n",
       "    </tr>\n",
       "    <tr>\n",
       "      <th>2</th>\n",
       "      <td>LassoLars</td>\n",
       "      <td>$0.8747</td>\n",
       "      <td>$0.8988</td>\n",
       "    </tr>\n",
       "    <tr>\n",
       "      <th>3</th>\n",
       "      <td>LinearRegression</td>\n",
       "      <td>$0.7321</td>\n",
       "      <td>$0.7720</td>\n",
       "    </tr>\n",
       "    <tr>\n",
       "      <th>4</th>\n",
       "      <td>TweedieRegressor</td>\n",
       "      <td>$0.8696</td>\n",
       "      <td>$0.8934</td>\n",
       "    </tr>\n",
       "  </tbody>\n",
       "</table>\n",
       "</div>"
      ],
      "text/plain": [
       "                   Model Train_RMSE Val_RMSE\n",
       "0  RandomForestRegressor    $0.2333  $0.6464\n",
       "1           XGBRegressor    $0.2720  $0.6838\n",
       "2              LassoLars    $0.8747  $0.8988\n",
       "3       LinearRegression    $0.7321  $0.7720\n",
       "4       TweedieRegressor    $0.8696  $0.8934"
      ]
     },
     "execution_count": 125,
     "metadata": {},
     "output_type": "execute_result"
    }
   ],
   "source": [
    "model_results_6"
   ]
  },
  {
   "cell_type": "code",
   "execution_count": null,
   "metadata": {},
   "outputs": [],
   "source": []
  },
  {
   "cell_type": "code",
   "execution_count": null,
   "metadata": {},
   "outputs": [],
   "source": []
  },
  {
   "cell_type": "code",
   "execution_count": null,
   "metadata": {},
   "outputs": [],
   "source": []
  },
  {
   "cell_type": "code",
   "execution_count": null,
   "metadata": {},
   "outputs": [],
   "source": []
  },
  {
   "cell_type": "markdown",
   "metadata": {},
   "source": [
    "#### First\n",
    "- Non Scaled\n",
    "- No drops\n",
    "- no Cluster features"
   ]
  },
  {
   "cell_type": "code",
   "execution_count": 111,
   "metadata": {},
   "outputs": [
    {
     "data": {
      "text/html": [
       "<div>\n",
       "<style scoped>\n",
       "    .dataframe tbody tr th:only-of-type {\n",
       "        vertical-align: middle;\n",
       "    }\n",
       "\n",
       "    .dataframe tbody tr th {\n",
       "        vertical-align: top;\n",
       "    }\n",
       "\n",
       "    .dataframe thead th {\n",
       "        text-align: right;\n",
       "    }\n",
       "</style>\n",
       "<table border=\"1\" class=\"dataframe\">\n",
       "  <thead>\n",
       "    <tr style=\"text-align: right;\">\n",
       "      <th></th>\n",
       "      <th>Model</th>\n",
       "      <th>Train_RMSE</th>\n",
       "      <th>Val_RMSE</th>\n",
       "    </tr>\n",
       "  </thead>\n",
       "  <tbody>\n",
       "    <tr>\n",
       "      <th>0</th>\n",
       "      <td>RandomForestRegressor</td>\n",
       "      <td>$0.24</td>\n",
       "      <td>$0.62</td>\n",
       "    </tr>\n",
       "    <tr>\n",
       "      <th>1</th>\n",
       "      <td>XGBRegressor</td>\n",
       "      <td>$0.25</td>\n",
       "      <td>$0.64</td>\n",
       "    </tr>\n",
       "    <tr>\n",
       "      <th>2</th>\n",
       "      <td>LassoLars</td>\n",
       "      <td>$0.88</td>\n",
       "      <td>$0.86</td>\n",
       "    </tr>\n",
       "    <tr>\n",
       "      <th>3</th>\n",
       "      <td>LinearRegression</td>\n",
       "      <td>$0.74</td>\n",
       "      <td>$0.73</td>\n",
       "    </tr>\n",
       "    <tr>\n",
       "      <th>4</th>\n",
       "      <td>TweedieRegressor</td>\n",
       "      <td>$0.79</td>\n",
       "      <td>$0.78</td>\n",
       "    </tr>\n",
       "  </tbody>\n",
       "</table>\n",
       "</div>"
      ],
      "text/plain": [
       "                   Model Train_RMSE Val_RMSE\n",
       "0  RandomForestRegressor      $0.24    $0.62\n",
       "1           XGBRegressor      $0.25    $0.64\n",
       "2              LassoLars      $0.88    $0.86\n",
       "3       LinearRegression      $0.74    $0.73\n",
       "4       TweedieRegressor      $0.79    $0.78"
      ]
     },
     "execution_count": 111,
     "metadata": {},
     "output_type": "execute_result"
    }
   ],
   "source": [
    "model_results_1\n",
    "#This is the best Tweeedie performed"
   ]
  },
  {
   "cell_type": "markdown",
   "metadata": {},
   "source": [
    "#### SECOND\n",
    "- Yes Scaled \n",
    "- No drops\n",
    "- no Cluster features"
   ]
  },
  {
   "cell_type": "code",
   "execution_count": 112,
   "metadata": {},
   "outputs": [
    {
     "data": {
      "text/html": [
       "<div>\n",
       "<style scoped>\n",
       "    .dataframe tbody tr th:only-of-type {\n",
       "        vertical-align: middle;\n",
       "    }\n",
       "\n",
       "    .dataframe tbody tr th {\n",
       "        vertical-align: top;\n",
       "    }\n",
       "\n",
       "    .dataframe thead th {\n",
       "        text-align: right;\n",
       "    }\n",
       "</style>\n",
       "<table border=\"1\" class=\"dataframe\">\n",
       "  <thead>\n",
       "    <tr style=\"text-align: right;\">\n",
       "      <th></th>\n",
       "      <th>Model</th>\n",
       "      <th>Train_RMSE</th>\n",
       "      <th>Val_RMSE</th>\n",
       "    </tr>\n",
       "  </thead>\n",
       "  <tbody>\n",
       "    <tr>\n",
       "      <th>0</th>\n",
       "      <td>RandomForestRegressor</td>\n",
       "      <td>$0.23</td>\n",
       "      <td>$0.62</td>\n",
       "    </tr>\n",
       "    <tr>\n",
       "      <th>1</th>\n",
       "      <td>XGBRegressor</td>\n",
       "      <td>$0.25</td>\n",
       "      <td>$0.64</td>\n",
       "    </tr>\n",
       "    <tr>\n",
       "      <th>2</th>\n",
       "      <td>LassoLars</td>\n",
       "      <td>$0.88</td>\n",
       "      <td>$0.86</td>\n",
       "    </tr>\n",
       "    <tr>\n",
       "      <th>3</th>\n",
       "      <td>LinearRegression</td>\n",
       "      <td>$0.74</td>\n",
       "      <td>$0.73</td>\n",
       "    </tr>\n",
       "    <tr>\n",
       "      <th>4</th>\n",
       "      <td>TweedieRegressor</td>\n",
       "      <td>$0.87</td>\n",
       "      <td>$0.85</td>\n",
       "    </tr>\n",
       "  </tbody>\n",
       "</table>\n",
       "</div>"
      ],
      "text/plain": [
       "                   Model Train_RMSE Val_RMSE\n",
       "0  RandomForestRegressor      $0.23    $0.62\n",
       "1           XGBRegressor      $0.25    $0.64\n",
       "2              LassoLars      $0.88    $0.86\n",
       "3       LinearRegression      $0.74    $0.73\n",
       "4       TweedieRegressor      $0.87    $0.85"
      ]
     },
     "execution_count": 112,
     "metadata": {},
     "output_type": "execute_result"
    }
   ],
   "source": [
    "model_results_2\n",
    "#The only improved model was LassoLars\n",
    "#All Others degradedu\n"
   ]
  },
  {
   "cell_type": "markdown",
   "metadata": {},
   "source": [
    "#### Third \n",
    "- Yes Scaled \n",
    "- Drops Density / Alcohol\n",
    "- Cluster features Density vs Alcohol"
   ]
  },
  {
   "cell_type": "code",
   "execution_count": 112,
   "metadata": {},
   "outputs": [
    {
     "data": {
      "text/html": [
       "<div>\n",
       "<style scoped>\n",
       "    .dataframe tbody tr th:only-of-type {\n",
       "        vertical-align: middle;\n",
       "    }\n",
       "\n",
       "    .dataframe tbody tr th {\n",
       "        vertical-align: top;\n",
       "    }\n",
       "\n",
       "    .dataframe thead th {\n",
       "        text-align: right;\n",
       "    }\n",
       "</style>\n",
       "<table border=\"1\" class=\"dataframe\">\n",
       "  <thead>\n",
       "    <tr style=\"text-align: right;\">\n",
       "      <th></th>\n",
       "      <th>Model</th>\n",
       "      <th>Train_RMSE</th>\n",
       "      <th>Val_RMSE</th>\n",
       "    </tr>\n",
       "  </thead>\n",
       "  <tbody>\n",
       "    <tr>\n",
       "      <th>0</th>\n",
       "      <td>RandomForestRegressor</td>\n",
       "      <td>$0.24</td>\n",
       "      <td>$0.68</td>\n",
       "    </tr>\n",
       "    <tr>\n",
       "      <th>1</th>\n",
       "      <td>XGBRegressor</td>\n",
       "      <td>$0.28</td>\n",
       "      <td>$0.69</td>\n",
       "    </tr>\n",
       "    <tr>\n",
       "      <th>2</th>\n",
       "      <td>LassoLars</td>\n",
       "      <td>$0.87</td>\n",
       "      <td>$0.90</td>\n",
       "    </tr>\n",
       "    <tr>\n",
       "      <th>3</th>\n",
       "      <td>LinearRegression</td>\n",
       "      <td>$0.81</td>\n",
       "      <td>$0.84</td>\n",
       "    </tr>\n",
       "    <tr>\n",
       "      <th>4</th>\n",
       "      <td>TweedieRegressor</td>\n",
       "      <td>$0.87</td>\n",
       "      <td>$0.90</td>\n",
       "    </tr>\n",
       "  </tbody>\n",
       "</table>\n",
       "</div>"
      ],
      "text/plain": [
       "                   Model Train_RMSE Val_RMSE\n",
       "0  RandomForestRegressor      $0.24    $0.68\n",
       "1           XGBRegressor      $0.28    $0.69\n",
       "2              LassoLars      $0.87    $0.90\n",
       "3       LinearRegression      $0.81    $0.84\n",
       "4       TweedieRegressor      $0.87    $0.90"
      ]
     },
     "execution_count": 112,
     "metadata": {},
     "output_type": "execute_result"
    }
   ],
   "source": [
    "model_results_3\n",
    "#The only improved model was LassoLars\n",
    "#All Others degraded\n",
    "#The degration was less than scaling alone"
   ]
  },
  {
   "cell_type": "markdown",
   "metadata": {},
   "source": [
    "#### Fourth \n",
    "- Yes Scaled \n",
    "- Drops Density\n",
    "- Cluster features Density vs Alcohol"
   ]
  },
  {
   "cell_type": "code",
   "execution_count": 113,
   "metadata": {},
   "outputs": [
    {
     "data": {
      "text/html": [
       "<div>\n",
       "<style scoped>\n",
       "    .dataframe tbody tr th:only-of-type {\n",
       "        vertical-align: middle;\n",
       "    }\n",
       "\n",
       "    .dataframe tbody tr th {\n",
       "        vertical-align: top;\n",
       "    }\n",
       "\n",
       "    .dataframe thead th {\n",
       "        text-align: right;\n",
       "    }\n",
       "</style>\n",
       "<table border=\"1\" class=\"dataframe\">\n",
       "  <thead>\n",
       "    <tr style=\"text-align: right;\">\n",
       "      <th></th>\n",
       "      <th>Model</th>\n",
       "      <th>Train_RMSE</th>\n",
       "      <th>Val_RMSE</th>\n",
       "    </tr>\n",
       "  </thead>\n",
       "  <tbody>\n",
       "    <tr>\n",
       "      <th>0</th>\n",
       "      <td>RandomForestRegressor</td>\n",
       "      <td>$0.23</td>\n",
       "      <td>$0.65</td>\n",
       "    </tr>\n",
       "    <tr>\n",
       "      <th>1</th>\n",
       "      <td>XGBRegressor</td>\n",
       "      <td>$0.27</td>\n",
       "      <td>$0.68</td>\n",
       "    </tr>\n",
       "    <tr>\n",
       "      <th>2</th>\n",
       "      <td>LassoLars</td>\n",
       "      <td>$0.87</td>\n",
       "      <td>$0.90</td>\n",
       "    </tr>\n",
       "    <tr>\n",
       "      <th>3</th>\n",
       "      <td>LinearRegression</td>\n",
       "      <td>$0.73</td>\n",
       "      <td>$0.77</td>\n",
       "    </tr>\n",
       "    <tr>\n",
       "      <th>4</th>\n",
       "      <td>TweedieRegressor</td>\n",
       "      <td>$0.87</td>\n",
       "      <td>$0.89</td>\n",
       "    </tr>\n",
       "  </tbody>\n",
       "</table>\n",
       "</div>"
      ],
      "text/plain": [
       "                   Model Train_RMSE Val_RMSE\n",
       "0  RandomForestRegressor      $0.23    $0.65\n",
       "1           XGBRegressor      $0.27    $0.68\n",
       "2              LassoLars      $0.87    $0.90\n",
       "3       LinearRegression      $0.73    $0.77\n",
       "4       TweedieRegressor      $0.87    $0.89"
      ]
     },
     "execution_count": 113,
     "metadata": {},
     "output_type": "execute_result"
    }
   ],
   "source": [
    "model_results_4\n",
    "#this improved LR above unscaled/no_n features\n",
    "\n",
    "# LR saw an improvement when cluster feature was added. \n",
    "# No change from dropping either or all dependent variable (alcohol/density)"
   ]
  },
  {
   "cell_type": "markdown",
   "metadata": {},
   "source": [
    "#### Fifth \n",
    "- Yes Scaled \n",
    "- Drops NONE\n",
    "- Cluster features Density vs Alcohol"
   ]
  },
  {
   "cell_type": "code",
   "execution_count": 114,
   "metadata": {},
   "outputs": [
    {
     "data": {
      "text/html": [
       "<div>\n",
       "<style scoped>\n",
       "    .dataframe tbody tr th:only-of-type {\n",
       "        vertical-align: middle;\n",
       "    }\n",
       "\n",
       "    .dataframe tbody tr th {\n",
       "        vertical-align: top;\n",
       "    }\n",
       "\n",
       "    .dataframe thead th {\n",
       "        text-align: right;\n",
       "    }\n",
       "</style>\n",
       "<table border=\"1\" class=\"dataframe\">\n",
       "  <thead>\n",
       "    <tr style=\"text-align: right;\">\n",
       "      <th></th>\n",
       "      <th>Model</th>\n",
       "      <th>Train_RMSE</th>\n",
       "      <th>Val_RMSE</th>\n",
       "    </tr>\n",
       "  </thead>\n",
       "  <tbody>\n",
       "    <tr>\n",
       "      <th>0</th>\n",
       "      <td>RandomForestRegressor</td>\n",
       "      <td>$0.23</td>\n",
       "      <td>$0.65</td>\n",
       "    </tr>\n",
       "    <tr>\n",
       "      <th>1</th>\n",
       "      <td>XGBRegressor</td>\n",
       "      <td>$0.24</td>\n",
       "      <td>$0.69</td>\n",
       "    </tr>\n",
       "    <tr>\n",
       "      <th>2</th>\n",
       "      <td>LassoLars</td>\n",
       "      <td>$0.87</td>\n",
       "      <td>$0.90</td>\n",
       "    </tr>\n",
       "    <tr>\n",
       "      <th>3</th>\n",
       "      <td>LinearRegression</td>\n",
       "      <td>$0.73</td>\n",
       "      <td>$0.77</td>\n",
       "    </tr>\n",
       "    <tr>\n",
       "      <th>4</th>\n",
       "      <td>TweedieRegressor</td>\n",
       "      <td>$0.86</td>\n",
       "      <td>$0.89</td>\n",
       "    </tr>\n",
       "  </tbody>\n",
       "</table>\n",
       "</div>"
      ],
      "text/plain": [
       "                   Model Train_RMSE Val_RMSE\n",
       "0  RandomForestRegressor      $0.23    $0.65\n",
       "1           XGBRegressor      $0.24    $0.69\n",
       "2              LassoLars      $0.87    $0.90\n",
       "3       LinearRegression      $0.73    $0.77\n",
       "4       TweedieRegressor      $0.86    $0.89"
      ]
     },
     "execution_count": 114,
     "metadata": {},
     "output_type": "execute_result"
    }
   ],
   "source": [
    "model_results_5"
   ]
  },
  {
   "cell_type": "markdown",
   "metadata": {},
   "source": [
    "#### Sixth \n",
    "- Yes Scaled \n",
    "- Drops Alcohol\n",
    "- Cluster features Density vs Alcohol"
   ]
  },
  {
   "cell_type": "code",
   "execution_count": 115,
   "metadata": {},
   "outputs": [
    {
     "data": {
      "text/html": [
       "<div>\n",
       "<style scoped>\n",
       "    .dataframe tbody tr th:only-of-type {\n",
       "        vertical-align: middle;\n",
       "    }\n",
       "\n",
       "    .dataframe tbody tr th {\n",
       "        vertical-align: top;\n",
       "    }\n",
       "\n",
       "    .dataframe thead th {\n",
       "        text-align: right;\n",
       "    }\n",
       "</style>\n",
       "<table border=\"1\" class=\"dataframe\">\n",
       "  <thead>\n",
       "    <tr style=\"text-align: right;\">\n",
       "      <th></th>\n",
       "      <th>Model</th>\n",
       "      <th>Train_RMSE</th>\n",
       "      <th>Val_RMSE</th>\n",
       "    </tr>\n",
       "  </thead>\n",
       "  <tbody>\n",
       "    <tr>\n",
       "      <th>0</th>\n",
       "      <td>RandomForestRegressor</td>\n",
       "      <td>$0.23</td>\n",
       "      <td>$0.65</td>\n",
       "    </tr>\n",
       "    <tr>\n",
       "      <th>1</th>\n",
       "      <td>XGBRegressor</td>\n",
       "      <td>$0.27</td>\n",
       "      <td>$0.68</td>\n",
       "    </tr>\n",
       "    <tr>\n",
       "      <th>2</th>\n",
       "      <td>LassoLars</td>\n",
       "      <td>$0.87</td>\n",
       "      <td>$0.90</td>\n",
       "    </tr>\n",
       "    <tr>\n",
       "      <th>3</th>\n",
       "      <td>LinearRegression</td>\n",
       "      <td>$0.73</td>\n",
       "      <td>$0.77</td>\n",
       "    </tr>\n",
       "    <tr>\n",
       "      <th>4</th>\n",
       "      <td>TweedieRegressor</td>\n",
       "      <td>$0.87</td>\n",
       "      <td>$0.89</td>\n",
       "    </tr>\n",
       "  </tbody>\n",
       "</table>\n",
       "</div>"
      ],
      "text/plain": [
       "                   Model Train_RMSE Val_RMSE\n",
       "0  RandomForestRegressor      $0.23    $0.65\n",
       "1           XGBRegressor      $0.27    $0.68\n",
       "2              LassoLars      $0.87    $0.90\n",
       "3       LinearRegression      $0.73    $0.77\n",
       "4       TweedieRegressor      $0.87    $0.89"
      ]
     },
     "execution_count": 115,
     "metadata": {},
     "output_type": "execute_result"
    }
   ],
   "source": [
    "model_results_6"
   ]
  },
  {
   "cell_type": "code",
   "execution_count": 117,
   "metadata": {},
   "outputs": [
    {
     "data": {
      "text/html": [
       "<div>\n",
       "<style scoped>\n",
       "    .dataframe tbody tr th:only-of-type {\n",
       "        vertical-align: middle;\n",
       "    }\n",
       "\n",
       "    .dataframe tbody tr th {\n",
       "        vertical-align: top;\n",
       "    }\n",
       "\n",
       "    .dataframe thead th {\n",
       "        text-align: right;\n",
       "    }\n",
       "</style>\n",
       "<table border=\"1\" class=\"dataframe\">\n",
       "  <thead>\n",
       "    <tr style=\"text-align: right;\">\n",
       "      <th></th>\n",
       "      <th>Model</th>\n",
       "      <th>Train_RMSE</th>\n",
       "      <th>Val_RMSE</th>\n",
       "    </tr>\n",
       "  </thead>\n",
       "  <tbody>\n",
       "    <tr>\n",
       "      <th>0</th>\n",
       "      <td>RandomForestRegressor</td>\n",
       "      <td>$0.23</td>\n",
       "      <td>$0.65</td>\n",
       "    </tr>\n",
       "    <tr>\n",
       "      <th>1</th>\n",
       "      <td>XGBRegressor</td>\n",
       "      <td>$0.27</td>\n",
       "      <td>$0.68</td>\n",
       "    </tr>\n",
       "    <tr>\n",
       "      <th>2</th>\n",
       "      <td>LassoLars</td>\n",
       "      <td>$0.87</td>\n",
       "      <td>$0.90</td>\n",
       "    </tr>\n",
       "    <tr>\n",
       "      <th>3</th>\n",
       "      <td>LinearRegression</td>\n",
       "      <td>$0.73</td>\n",
       "      <td>$0.77</td>\n",
       "    </tr>\n",
       "    <tr>\n",
       "      <th>4</th>\n",
       "      <td>TweedieRegressor</td>\n",
       "      <td>$0.87</td>\n",
       "      <td>$0.89</td>\n",
       "    </tr>\n",
       "  </tbody>\n",
       "</table>\n",
       "</div>"
      ],
      "text/plain": [
       "                   Model Train_RMSE Val_RMSE\n",
       "0  RandomForestRegressor      $0.23    $0.65\n",
       "1           XGBRegressor      $0.27    $0.68\n",
       "2              LassoLars      $0.87    $0.90\n",
       "3       LinearRegression      $0.73    $0.77\n",
       "4       TweedieRegressor      $0.87    $0.89"
      ]
     },
     "execution_count": 117,
     "metadata": {},
     "output_type": "execute_result"
    }
   ],
   "source": [
    "model_results_6"
   ]
  },
  {
   "cell_type": "code",
   "execution_count": 118,
   "metadata": {},
   "outputs": [
    {
     "data": {
      "text/html": [
       "<div>\n",
       "<style scoped>\n",
       "    .dataframe tbody tr th:only-of-type {\n",
       "        vertical-align: middle;\n",
       "    }\n",
       "\n",
       "    .dataframe tbody tr th {\n",
       "        vertical-align: top;\n",
       "    }\n",
       "\n",
       "    .dataframe thead th {\n",
       "        text-align: right;\n",
       "    }\n",
       "</style>\n",
       "<table border=\"1\" class=\"dataframe\">\n",
       "  <thead>\n",
       "    <tr style=\"text-align: right;\">\n",
       "      <th></th>\n",
       "      <th>Model</th>\n",
       "      <th>Train_RMSE</th>\n",
       "      <th>Val_RMSE</th>\n",
       "      <th>Model</th>\n",
       "      <th>Train_RMSE</th>\n",
       "      <th>Val_RMSE</th>\n",
       "      <th>Model</th>\n",
       "      <th>Train_RMSE</th>\n",
       "      <th>Val_RMSE</th>\n",
       "      <th>Model</th>\n",
       "      <th>Train_RMSE</th>\n",
       "      <th>Val_RMSE</th>\n",
       "      <th>Model</th>\n",
       "      <th>Train_RMSE</th>\n",
       "      <th>Val_RMSE</th>\n",
       "      <th>Model</th>\n",
       "      <th>Train_RMSE</th>\n",
       "      <th>Val_RMSE</th>\n",
       "    </tr>\n",
       "  </thead>\n",
       "  <tbody>\n",
       "    <tr>\n",
       "      <th>0</th>\n",
       "      <td>RandomForestRegressor</td>\n",
       "      <td>$0.23</td>\n",
       "      <td>$0.62</td>\n",
       "      <td>RandomForestRegressor</td>\n",
       "      <td>$0.23</td>\n",
       "      <td>$0.62</td>\n",
       "      <td>RandomForestRegressor</td>\n",
       "      <td>$0.24</td>\n",
       "      <td>$0.68</td>\n",
       "      <td>RandomForestRegressor</td>\n",
       "      <td>$0.23</td>\n",
       "      <td>$0.65</td>\n",
       "      <td>RandomForestRegressor</td>\n",
       "      <td>$0.23</td>\n",
       "      <td>$0.65</td>\n",
       "      <td>RandomForestRegressor</td>\n",
       "      <td>$0.23</td>\n",
       "      <td>$0.65</td>\n",
       "    </tr>\n",
       "    <tr>\n",
       "      <th>1</th>\n",
       "      <td>XGBRegressor</td>\n",
       "      <td>$0.25</td>\n",
       "      <td>$0.64</td>\n",
       "      <td>XGBRegressor</td>\n",
       "      <td>$0.25</td>\n",
       "      <td>$0.64</td>\n",
       "      <td>XGBRegressor</td>\n",
       "      <td>$0.28</td>\n",
       "      <td>$0.69</td>\n",
       "      <td>XGBRegressor</td>\n",
       "      <td>$0.27</td>\n",
       "      <td>$0.68</td>\n",
       "      <td>XGBRegressor</td>\n",
       "      <td>$0.24</td>\n",
       "      <td>$0.69</td>\n",
       "      <td>XGBRegressor</td>\n",
       "      <td>$0.27</td>\n",
       "      <td>$0.68</td>\n",
       "    </tr>\n",
       "    <tr>\n",
       "      <th>2</th>\n",
       "      <td>LassoLars</td>\n",
       "      <td>$0.88</td>\n",
       "      <td>$0.86</td>\n",
       "      <td>LassoLars</td>\n",
       "      <td>$0.88</td>\n",
       "      <td>$0.86</td>\n",
       "      <td>LassoLars</td>\n",
       "      <td>$0.87</td>\n",
       "      <td>$0.90</td>\n",
       "      <td>LassoLars</td>\n",
       "      <td>$0.87</td>\n",
       "      <td>$0.90</td>\n",
       "      <td>LassoLars</td>\n",
       "      <td>$0.87</td>\n",
       "      <td>$0.90</td>\n",
       "      <td>LassoLars</td>\n",
       "      <td>$0.87</td>\n",
       "      <td>$0.90</td>\n",
       "    </tr>\n",
       "    <tr>\n",
       "      <th>3</th>\n",
       "      <td>LinearRegression</td>\n",
       "      <td>$0.74</td>\n",
       "      <td>$0.73</td>\n",
       "      <td>LinearRegression</td>\n",
       "      <td>$0.74</td>\n",
       "      <td>$0.73</td>\n",
       "      <td>LinearRegression</td>\n",
       "      <td>$0.81</td>\n",
       "      <td>$0.84</td>\n",
       "      <td>LinearRegression</td>\n",
       "      <td>$0.73</td>\n",
       "      <td>$0.77</td>\n",
       "      <td>LinearRegression</td>\n",
       "      <td>$0.73</td>\n",
       "      <td>$0.77</td>\n",
       "      <td>LinearRegression</td>\n",
       "      <td>$0.73</td>\n",
       "      <td>$0.77</td>\n",
       "    </tr>\n",
       "    <tr>\n",
       "      <th>4</th>\n",
       "      <td>TweedieRegressor</td>\n",
       "      <td>$0.79</td>\n",
       "      <td>$0.78</td>\n",
       "      <td>TweedieRegressor</td>\n",
       "      <td>$0.87</td>\n",
       "      <td>$0.85</td>\n",
       "      <td>TweedieRegressor</td>\n",
       "      <td>$0.87</td>\n",
       "      <td>$0.90</td>\n",
       "      <td>TweedieRegressor</td>\n",
       "      <td>$0.87</td>\n",
       "      <td>$0.89</td>\n",
       "      <td>TweedieRegressor</td>\n",
       "      <td>$0.86</td>\n",
       "      <td>$0.89</td>\n",
       "      <td>TweedieRegressor</td>\n",
       "      <td>$0.87</td>\n",
       "      <td>$0.89</td>\n",
       "    </tr>\n",
       "  </tbody>\n",
       "</table>\n",
       "</div>"
      ],
      "text/plain": [
       "                   Model Train_RMSE Val_RMSE                  Model Train_RMSE Val_RMSE                  Model Train_RMSE Val_RMSE                  Model Train_RMSE Val_RMSE                  Model Train_RMSE Val_RMSE                  Model Train_RMSE Val_RMSE\n",
       "0  RandomForestRegressor      $0.23    $0.62  RandomForestRegressor      $0.23    $0.62  RandomForestRegressor      $0.24    $0.68  RandomForestRegressor      $0.23    $0.65  RandomForestRegressor      $0.23    $0.65  RandomForestRegressor      $0.23    $0.65\n",
       "1           XGBRegressor      $0.25    $0.64           XGBRegressor      $0.25    $0.64           XGBRegressor      $0.28    $0.69           XGBRegressor      $0.27    $0.68           XGBRegressor      $0.24    $0.69           XGBRegressor      $0.27    $0.68\n",
       "2              LassoLars      $0.88    $0.86              LassoLars      $0.88    $0.86              LassoLars      $0.87    $0.90              LassoLars      $0.87    $0.90              LassoLars      $0.87    $0.90              LassoLars      $0.87    $0.90\n",
       "3       LinearRegression      $0.74    $0.73       LinearRegression      $0.74    $0.73       LinearRegression      $0.81    $0.84       LinearRegression      $0.73    $0.77       LinearRegression      $0.73    $0.77       LinearRegression      $0.73    $0.77\n",
       "4       TweedieRegressor      $0.79    $0.78       TweedieRegressor      $0.87    $0.85       TweedieRegressor      $0.87    $0.90       TweedieRegressor      $0.87    $0.89       TweedieRegressor      $0.86    $0.89       TweedieRegressor      $0.87    $0.89"
      ]
     },
     "execution_count": 118,
     "metadata": {},
     "output_type": "execute_result"
    }
   ],
   "source": [
    "# Create a list of the dataframes\n",
    "dataframes = [model_results_1, model_results_2, model_results_3, model_results_4, model_results_5, model_results_6]\n",
    "\n",
    "# Concatenate them horizontally\n",
    "result = pd.concat(dataframes, axis=1)\n",
    "\n",
    "# Reset the index if needed\n",
    "# result.reset_index(drop=True, inplace=True)\n",
    "\n",
    "# Print or use the resulting dataframe 'result'\n",
    "result"
   ]
  }
 ],
 "metadata": {
  "kernelspec": {
   "display_name": "Python 3 (ipykernel)",
   "language": "python",
   "name": "python3"
  },
  "language_info": {
   "codemirror_mode": {
    "name": "ipython",
    "version": 3
   },
   "file_extension": ".py",
   "mimetype": "text/x-python",
   "name": "python",
   "nbconvert_exporter": "python",
   "pygments_lexer": "ipython3",
   "version": "3.10.12"
  }
 },
 "nbformat": 4,
 "nbformat_minor": 2
}
