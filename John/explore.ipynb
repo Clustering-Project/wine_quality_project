{
 "cells": [
  {
   "cell_type": "code",
   "execution_count": 60,
   "metadata": {},
   "outputs": [],
   "source": [
    "#imports\n",
    "import pandas as pd\n",
    "import numpy as np\n",
    "import matplotlib.pyplot as plt\n",
    "import seaborn as sns\n",
    "\n",
    "from scipy import stats\n",
    "\n",
    "from sklearn.preprocessing import MinMaxScaler\n",
    "from sklearn.cluster import KMeans\n",
    "\n",
    "from wrangle import acquire_wine, wine_train_val_test, wrangle_wine"
   ]
  },
  {
   "cell_type": "code",
   "execution_count": 2,
   "metadata": {},
   "outputs": [],
   "source": [
    "pd.set_option('display.max_columns', None)\n",
    "pd.set_option('display.width', None)\n",
    "pd.set_option('display.expand_frame_repr', False)"
   ]
  },
  {
   "cell_type": "code",
   "execution_count": 3,
   "metadata": {},
   "outputs": [],
   "source": [
    "df = acquire_wine()"
   ]
  },
  {
   "cell_type": "code",
   "execution_count": 4,
   "metadata": {},
   "outputs": [
    {
     "data": {
      "text/html": [
       "<div>\n",
       "<style scoped>\n",
       "    .dataframe tbody tr th:only-of-type {\n",
       "        vertical-align: middle;\n",
       "    }\n",
       "\n",
       "    .dataframe tbody tr th {\n",
       "        vertical-align: top;\n",
       "    }\n",
       "\n",
       "    .dataframe thead th {\n",
       "        text-align: right;\n",
       "    }\n",
       "</style>\n",
       "<table border=\"1\" class=\"dataframe\">\n",
       "  <thead>\n",
       "    <tr style=\"text-align: right;\">\n",
       "      <th></th>\n",
       "      <th>fixed acidity</th>\n",
       "      <th>volatile acidity</th>\n",
       "      <th>citric acid</th>\n",
       "      <th>residual sugar</th>\n",
       "      <th>chlorides</th>\n",
       "      <th>free sulfur dioxide</th>\n",
       "      <th>total sulfur dioxide</th>\n",
       "      <th>density</th>\n",
       "      <th>pH</th>\n",
       "      <th>sulphates</th>\n",
       "      <th>alcohol</th>\n",
       "      <th>quality</th>\n",
       "      <th>type</th>\n",
       "    </tr>\n",
       "  </thead>\n",
       "  <tbody>\n",
       "    <tr>\n",
       "      <th>0</th>\n",
       "      <td>7.4</td>\n",
       "      <td>0.70</td>\n",
       "      <td>0.00</td>\n",
       "      <td>1.9</td>\n",
       "      <td>0.076</td>\n",
       "      <td>11.0</td>\n",
       "      <td>34.0</td>\n",
       "      <td>0.9978</td>\n",
       "      <td>3.51</td>\n",
       "      <td>0.56</td>\n",
       "      <td>9.4</td>\n",
       "      <td>5</td>\n",
       "      <td>red</td>\n",
       "    </tr>\n",
       "    <tr>\n",
       "      <th>1</th>\n",
       "      <td>7.8</td>\n",
       "      <td>0.88</td>\n",
       "      <td>0.00</td>\n",
       "      <td>2.6</td>\n",
       "      <td>0.098</td>\n",
       "      <td>25.0</td>\n",
       "      <td>67.0</td>\n",
       "      <td>0.9968</td>\n",
       "      <td>3.20</td>\n",
       "      <td>0.68</td>\n",
       "      <td>9.8</td>\n",
       "      <td>5</td>\n",
       "      <td>red</td>\n",
       "    </tr>\n",
       "    <tr>\n",
       "      <th>2</th>\n",
       "      <td>7.8</td>\n",
       "      <td>0.76</td>\n",
       "      <td>0.04</td>\n",
       "      <td>2.3</td>\n",
       "      <td>0.092</td>\n",
       "      <td>15.0</td>\n",
       "      <td>54.0</td>\n",
       "      <td>0.9970</td>\n",
       "      <td>3.26</td>\n",
       "      <td>0.65</td>\n",
       "      <td>9.8</td>\n",
       "      <td>5</td>\n",
       "      <td>red</td>\n",
       "    </tr>\n",
       "    <tr>\n",
       "      <th>3</th>\n",
       "      <td>11.2</td>\n",
       "      <td>0.28</td>\n",
       "      <td>0.56</td>\n",
       "      <td>1.9</td>\n",
       "      <td>0.075</td>\n",
       "      <td>17.0</td>\n",
       "      <td>60.0</td>\n",
       "      <td>0.9980</td>\n",
       "      <td>3.16</td>\n",
       "      <td>0.58</td>\n",
       "      <td>9.8</td>\n",
       "      <td>6</td>\n",
       "      <td>red</td>\n",
       "    </tr>\n",
       "    <tr>\n",
       "      <th>4</th>\n",
       "      <td>7.4</td>\n",
       "      <td>0.70</td>\n",
       "      <td>0.00</td>\n",
       "      <td>1.9</td>\n",
       "      <td>0.076</td>\n",
       "      <td>11.0</td>\n",
       "      <td>34.0</td>\n",
       "      <td>0.9978</td>\n",
       "      <td>3.51</td>\n",
       "      <td>0.56</td>\n",
       "      <td>9.4</td>\n",
       "      <td>5</td>\n",
       "      <td>red</td>\n",
       "    </tr>\n",
       "  </tbody>\n",
       "</table>\n",
       "</div>"
      ],
      "text/plain": [
       "   fixed acidity  volatile acidity  citric acid  residual sugar  chlorides  free sulfur dioxide  total sulfur dioxide  density    pH  sulphates  alcohol  quality type\n",
       "0            7.4              0.70         0.00             1.9      0.076                 11.0                  34.0   0.9978  3.51       0.56      9.4        5  red\n",
       "1            7.8              0.88         0.00             2.6      0.098                 25.0                  67.0   0.9968  3.20       0.68      9.8        5  red\n",
       "2            7.8              0.76         0.04             2.3      0.092                 15.0                  54.0   0.9970  3.26       0.65      9.8        5  red\n",
       "3           11.2              0.28         0.56             1.9      0.075                 17.0                  60.0   0.9980  3.16       0.58      9.8        6  red\n",
       "4            7.4              0.70         0.00             1.9      0.076                 11.0                  34.0   0.9978  3.51       0.56      9.4        5  red"
      ]
     },
     "execution_count": 4,
     "metadata": {},
     "output_type": "execute_result"
    }
   ],
   "source": [
    "df.head()"
   ]
  },
  {
   "cell_type": "code",
   "execution_count": 5,
   "metadata": {},
   "outputs": [
    {
     "name": "stdout",
     "output_type": "stream",
     "text": [
      "<class 'pandas.core.frame.DataFrame'>\n",
      "RangeIndex: 6497 entries, 0 to 6496\n",
      "Data columns (total 13 columns):\n",
      " #   Column                Non-Null Count  Dtype  \n",
      "---  ------                --------------  -----  \n",
      " 0   fixed acidity         6497 non-null   float64\n",
      " 1   volatile acidity      6497 non-null   float64\n",
      " 2   citric acid           6497 non-null   float64\n",
      " 3   residual sugar        6497 non-null   float64\n",
      " 4   chlorides             6497 non-null   float64\n",
      " 5   free sulfur dioxide   6497 non-null   float64\n",
      " 6   total sulfur dioxide  6497 non-null   float64\n",
      " 7   density               6497 non-null   float64\n",
      " 8   pH                    6497 non-null   float64\n",
      " 9   sulphates             6497 non-null   float64\n",
      " 10  alcohol               6497 non-null   float64\n",
      " 11  quality               6497 non-null   int64  \n",
      " 12  type                  6497 non-null   object \n",
      "dtypes: float64(11), int64(1), object(1)\n",
      "memory usage: 660.0+ KB\n"
     ]
    }
   ],
   "source": [
    "df.info()"
   ]
  },
  {
   "cell_type": "code",
   "execution_count": 6,
   "metadata": {},
   "outputs": [
    {
     "data": {
      "text/plain": [
       "Index(['fixed acidity', 'volatile acidity', 'citric acid', 'residual sugar',\n",
       "       'chlorides', 'free sulfur dioxide', 'total sulfur dioxide', 'density',\n",
       "       'pH', 'sulphates', 'alcohol', 'quality', 'type'],\n",
       "      dtype='object')"
      ]
     },
     "execution_count": 6,
     "metadata": {},
     "output_type": "execute_result"
    }
   ],
   "source": [
    "df.columns"
   ]
  },
  {
   "cell_type": "code",
   "execution_count": 7,
   "metadata": {},
   "outputs": [
    {
     "name": "stdout",
     "output_type": "stream",
     "text": [
      "fixed acidity             0\n",
      "volatile acidity          0\n",
      "citric acid             151\n",
      "residual sugar            0\n",
      "chlorides                 0\n",
      "free sulfur dioxide       0\n",
      "total sulfur dioxide      0\n",
      "density                   0\n",
      "pH                        0\n",
      "sulphates                 0\n",
      "alcohol                   0\n",
      "quality                   0\n",
      "dtype: int64\n"
     ]
    }
   ],
   "source": [
    "# return how many 0 there is in each numerical columns in df\n",
    "zeros_count = df.select_dtypes(include=['number']).eq(0).sum()\n",
    "print(zeros_count)"
   ]
  },
  {
   "cell_type": "code",
   "execution_count": 8,
   "metadata": {},
   "outputs": [
    {
     "data": {
      "text/plain": [
       "quality\n",
       "3      30\n",
       "4     216\n",
       "5    2138\n",
       "6    2836\n",
       "7    1079\n",
       "8     193\n",
       "9       5\n",
       "dtype: int64"
      ]
     },
     "execution_count": 8,
     "metadata": {},
     "output_type": "execute_result"
    }
   ],
   "source": [
    "df_quality = df.groupby('quality').size()\n",
    "df_quality"
   ]
  },
  {
   "cell_type": "code",
   "execution_count": 9,
   "metadata": {},
   "outputs": [
    {
     "data": {
      "text/html": [
       "<div>\n",
       "<style scoped>\n",
       "    .dataframe tbody tr th:only-of-type {\n",
       "        vertical-align: middle;\n",
       "    }\n",
       "\n",
       "    .dataframe tbody tr th {\n",
       "        vertical-align: top;\n",
       "    }\n",
       "\n",
       "    .dataframe thead th {\n",
       "        text-align: right;\n",
       "    }\n",
       "</style>\n",
       "<table border=\"1\" class=\"dataframe\">\n",
       "  <thead>\n",
       "    <tr style=\"text-align: right;\">\n",
       "      <th></th>\n",
       "      <th>fixed acidity</th>\n",
       "      <th>volatile acidity</th>\n",
       "      <th>citric acid</th>\n",
       "      <th>residual sugar</th>\n",
       "      <th>chlorides</th>\n",
       "      <th>free sulfur dioxide</th>\n",
       "      <th>total sulfur dioxide</th>\n",
       "      <th>density</th>\n",
       "      <th>pH</th>\n",
       "      <th>sulphates</th>\n",
       "      <th>alcohol</th>\n",
       "      <th>quality</th>\n",
       "    </tr>\n",
       "  </thead>\n",
       "  <tbody>\n",
       "    <tr>\n",
       "      <th>count</th>\n",
       "      <td>6497.000000</td>\n",
       "      <td>6497.000000</td>\n",
       "      <td>6497.000000</td>\n",
       "      <td>6497.000000</td>\n",
       "      <td>6497.000000</td>\n",
       "      <td>6497.000000</td>\n",
       "      <td>6497.000000</td>\n",
       "      <td>6497.000000</td>\n",
       "      <td>6497.000000</td>\n",
       "      <td>6497.000000</td>\n",
       "      <td>6497.000000</td>\n",
       "      <td>6497.000000</td>\n",
       "    </tr>\n",
       "    <tr>\n",
       "      <th>mean</th>\n",
       "      <td>7.215307</td>\n",
       "      <td>0.339666</td>\n",
       "      <td>0.318633</td>\n",
       "      <td>5.443235</td>\n",
       "      <td>0.056034</td>\n",
       "      <td>30.525319</td>\n",
       "      <td>115.744574</td>\n",
       "      <td>0.994697</td>\n",
       "      <td>3.218501</td>\n",
       "      <td>0.531268</td>\n",
       "      <td>10.491801</td>\n",
       "      <td>5.818378</td>\n",
       "    </tr>\n",
       "    <tr>\n",
       "      <th>std</th>\n",
       "      <td>1.296434</td>\n",
       "      <td>0.164636</td>\n",
       "      <td>0.145318</td>\n",
       "      <td>4.757804</td>\n",
       "      <td>0.035034</td>\n",
       "      <td>17.749400</td>\n",
       "      <td>56.521855</td>\n",
       "      <td>0.002999</td>\n",
       "      <td>0.160787</td>\n",
       "      <td>0.148806</td>\n",
       "      <td>1.192712</td>\n",
       "      <td>0.873255</td>\n",
       "    </tr>\n",
       "    <tr>\n",
       "      <th>min</th>\n",
       "      <td>3.800000</td>\n",
       "      <td>0.080000</td>\n",
       "      <td>0.000000</td>\n",
       "      <td>0.600000</td>\n",
       "      <td>0.009000</td>\n",
       "      <td>1.000000</td>\n",
       "      <td>6.000000</td>\n",
       "      <td>0.987110</td>\n",
       "      <td>2.720000</td>\n",
       "      <td>0.220000</td>\n",
       "      <td>8.000000</td>\n",
       "      <td>3.000000</td>\n",
       "    </tr>\n",
       "    <tr>\n",
       "      <th>25%</th>\n",
       "      <td>6.400000</td>\n",
       "      <td>0.230000</td>\n",
       "      <td>0.250000</td>\n",
       "      <td>1.800000</td>\n",
       "      <td>0.038000</td>\n",
       "      <td>17.000000</td>\n",
       "      <td>77.000000</td>\n",
       "      <td>0.992340</td>\n",
       "      <td>3.110000</td>\n",
       "      <td>0.430000</td>\n",
       "      <td>9.500000</td>\n",
       "      <td>5.000000</td>\n",
       "    </tr>\n",
       "    <tr>\n",
       "      <th>50%</th>\n",
       "      <td>7.000000</td>\n",
       "      <td>0.290000</td>\n",
       "      <td>0.310000</td>\n",
       "      <td>3.000000</td>\n",
       "      <td>0.047000</td>\n",
       "      <td>29.000000</td>\n",
       "      <td>118.000000</td>\n",
       "      <td>0.994890</td>\n",
       "      <td>3.210000</td>\n",
       "      <td>0.510000</td>\n",
       "      <td>10.300000</td>\n",
       "      <td>6.000000</td>\n",
       "    </tr>\n",
       "    <tr>\n",
       "      <th>75%</th>\n",
       "      <td>7.700000</td>\n",
       "      <td>0.400000</td>\n",
       "      <td>0.390000</td>\n",
       "      <td>8.100000</td>\n",
       "      <td>0.065000</td>\n",
       "      <td>41.000000</td>\n",
       "      <td>156.000000</td>\n",
       "      <td>0.996990</td>\n",
       "      <td>3.320000</td>\n",
       "      <td>0.600000</td>\n",
       "      <td>11.300000</td>\n",
       "      <td>6.000000</td>\n",
       "    </tr>\n",
       "    <tr>\n",
       "      <th>max</th>\n",
       "      <td>15.900000</td>\n",
       "      <td>1.580000</td>\n",
       "      <td>1.660000</td>\n",
       "      <td>65.800000</td>\n",
       "      <td>0.611000</td>\n",
       "      <td>289.000000</td>\n",
       "      <td>440.000000</td>\n",
       "      <td>1.038980</td>\n",
       "      <td>4.010000</td>\n",
       "      <td>2.000000</td>\n",
       "      <td>14.900000</td>\n",
       "      <td>9.000000</td>\n",
       "    </tr>\n",
       "  </tbody>\n",
       "</table>\n",
       "</div>"
      ],
      "text/plain": [
       "       fixed acidity  volatile acidity  citric acid  residual sugar    chlorides  free sulfur dioxide  total sulfur dioxide      density           pH    sulphates      alcohol      quality\n",
       "count    6497.000000       6497.000000  6497.000000     6497.000000  6497.000000          6497.000000           6497.000000  6497.000000  6497.000000  6497.000000  6497.000000  6497.000000\n",
       "mean        7.215307          0.339666     0.318633        5.443235     0.056034            30.525319            115.744574     0.994697     3.218501     0.531268    10.491801     5.818378\n",
       "std         1.296434          0.164636     0.145318        4.757804     0.035034            17.749400             56.521855     0.002999     0.160787     0.148806     1.192712     0.873255\n",
       "min         3.800000          0.080000     0.000000        0.600000     0.009000             1.000000              6.000000     0.987110     2.720000     0.220000     8.000000     3.000000\n",
       "25%         6.400000          0.230000     0.250000        1.800000     0.038000            17.000000             77.000000     0.992340     3.110000     0.430000     9.500000     5.000000\n",
       "50%         7.000000          0.290000     0.310000        3.000000     0.047000            29.000000            118.000000     0.994890     3.210000     0.510000    10.300000     6.000000\n",
       "75%         7.700000          0.400000     0.390000        8.100000     0.065000            41.000000            156.000000     0.996990     3.320000     0.600000    11.300000     6.000000\n",
       "max        15.900000          1.580000     1.660000       65.800000     0.611000           289.000000            440.000000     1.038980     4.010000     2.000000    14.900000     9.000000"
      ]
     },
     "execution_count": 9,
     "metadata": {},
     "output_type": "execute_result"
    }
   ],
   "source": [
    "df.describe()"
   ]
  },
  {
   "cell_type": "code",
   "execution_count": 10,
   "metadata": {},
   "outputs": [],
   "source": [
    "df.columns = [col.lower().replace(' ', '_').replace('.', '_') for col in df.columns]"
   ]
  },
  {
   "cell_type": "code",
   "execution_count": 11,
   "metadata": {},
   "outputs": [],
   "source": [
    "train, val, test = wine_train_val_test(df, seed=42)"
   ]
  },
  {
   "cell_type": "code",
   "execution_count": 12,
   "metadata": {},
   "outputs": [],
   "source": [
    "train, val, test = wrangle_wine()"
   ]
  },
  {
   "cell_type": "code",
   "execution_count": 13,
   "metadata": {},
   "outputs": [
    {
     "data": {
      "text/html": [
       "<div>\n",
       "<style scoped>\n",
       "    .dataframe tbody tr th:only-of-type {\n",
       "        vertical-align: middle;\n",
       "    }\n",
       "\n",
       "    .dataframe tbody tr th {\n",
       "        vertical-align: top;\n",
       "    }\n",
       "\n",
       "    .dataframe thead th {\n",
       "        text-align: right;\n",
       "    }\n",
       "</style>\n",
       "<table border=\"1\" class=\"dataframe\">\n",
       "  <thead>\n",
       "    <tr style=\"text-align: right;\">\n",
       "      <th></th>\n",
       "      <th>fixed_acidity</th>\n",
       "      <th>volatile_acidity</th>\n",
       "      <th>citric_acid</th>\n",
       "      <th>residual_sugar</th>\n",
       "      <th>chlorides</th>\n",
       "      <th>free_sulfur_dioxide</th>\n",
       "      <th>total_sulfur_dioxide</th>\n",
       "      <th>density</th>\n",
       "      <th>ph</th>\n",
       "      <th>sulphates</th>\n",
       "      <th>alcohol</th>\n",
       "      <th>quality</th>\n",
       "      <th>type</th>\n",
       "    </tr>\n",
       "  </thead>\n",
       "  <tbody>\n",
       "    <tr>\n",
       "      <th>3761</th>\n",
       "      <td>9.9</td>\n",
       "      <td>0.490</td>\n",
       "      <td>0.23</td>\n",
       "      <td>2.4</td>\n",
       "      <td>0.087</td>\n",
       "      <td>19.0</td>\n",
       "      <td>115.0</td>\n",
       "      <td>0.99480</td>\n",
       "      <td>2.77</td>\n",
       "      <td>0.44</td>\n",
       "      <td>9.400000</td>\n",
       "      <td>6</td>\n",
       "      <td>white</td>\n",
       "    </tr>\n",
       "    <tr>\n",
       "      <th>3740</th>\n",
       "      <td>7.7</td>\n",
       "      <td>0.280</td>\n",
       "      <td>0.35</td>\n",
       "      <td>15.3</td>\n",
       "      <td>0.056</td>\n",
       "      <td>31.0</td>\n",
       "      <td>117.0</td>\n",
       "      <td>0.99980</td>\n",
       "      <td>3.27</td>\n",
       "      <td>0.50</td>\n",
       "      <td>9.600000</td>\n",
       "      <td>5</td>\n",
       "      <td>white</td>\n",
       "    </tr>\n",
       "    <tr>\n",
       "      <th>1359</th>\n",
       "      <td>11.6</td>\n",
       "      <td>0.475</td>\n",
       "      <td>0.40</td>\n",
       "      <td>1.4</td>\n",
       "      <td>0.091</td>\n",
       "      <td>6.0</td>\n",
       "      <td>28.0</td>\n",
       "      <td>0.99704</td>\n",
       "      <td>3.07</td>\n",
       "      <td>0.65</td>\n",
       "      <td>10.033333</td>\n",
       "      <td>6</td>\n",
       "      <td>red</td>\n",
       "    </tr>\n",
       "    <tr>\n",
       "      <th>1230</th>\n",
       "      <td>7.7</td>\n",
       "      <td>0.180</td>\n",
       "      <td>0.34</td>\n",
       "      <td>2.7</td>\n",
       "      <td>0.066</td>\n",
       "      <td>15.0</td>\n",
       "      <td>58.0</td>\n",
       "      <td>0.99470</td>\n",
       "      <td>3.37</td>\n",
       "      <td>0.78</td>\n",
       "      <td>11.800000</td>\n",
       "      <td>6</td>\n",
       "      <td>red</td>\n",
       "    </tr>\n",
       "    <tr>\n",
       "      <th>4751</th>\n",
       "      <td>7.6</td>\n",
       "      <td>0.250</td>\n",
       "      <td>1.23</td>\n",
       "      <td>4.6</td>\n",
       "      <td>0.035</td>\n",
       "      <td>51.0</td>\n",
       "      <td>294.0</td>\n",
       "      <td>0.99018</td>\n",
       "      <td>3.03</td>\n",
       "      <td>0.43</td>\n",
       "      <td>13.100000</td>\n",
       "      <td>6</td>\n",
       "      <td>white</td>\n",
       "    </tr>\n",
       "  </tbody>\n",
       "</table>\n",
       "</div>"
      ],
      "text/plain": [
       "      fixed_acidity  volatile_acidity  citric_acid  residual_sugar  chlorides  free_sulfur_dioxide  total_sulfur_dioxide  density    ph  sulphates    alcohol  quality   type\n",
       "3761            9.9             0.490         0.23             2.4      0.087                 19.0                 115.0  0.99480  2.77       0.44   9.400000        6  white\n",
       "3740            7.7             0.280         0.35            15.3      0.056                 31.0                 117.0  0.99980  3.27       0.50   9.600000        5  white\n",
       "1359           11.6             0.475         0.40             1.4      0.091                  6.0                  28.0  0.99704  3.07       0.65  10.033333        6    red\n",
       "1230            7.7             0.180         0.34             2.7      0.066                 15.0                  58.0  0.99470  3.37       0.78  11.800000        6    red\n",
       "4751            7.6             0.250         1.23             4.6      0.035                 51.0                 294.0  0.99018  3.03       0.43  13.100000        6  white"
      ]
     },
     "execution_count": 13,
     "metadata": {},
     "output_type": "execute_result"
    }
   ],
   "source": [
    "train.head()"
   ]
  },
  {
   "cell_type": "code",
   "execution_count": 14,
   "metadata": {},
   "outputs": [
    {
     "data": {
      "image/png": "[encoded data removed]",
      "text/plain": [
       "<Figure size 800x600 with 1 Axes>"
      ]
     },
     "metadata": {},
     "output_type": "display_data"
    }
   ],
   "source": [
    "quality_counts = train['quality'].value_counts().sort_index()\n",
    "\n",
    "plt.figure(figsize=(8, 6))\n",
    "ax = plt.bar(quality_counts.index, quality_counts.values)\n",
    "\n",
    "# Add value counts on top of each bar\n",
    "for i, v in enumerate(quality_counts.values):\n",
    "    plt.text(quality_counts.index[i], v + 10, str(v), ha='center', va='bottom')\n",
    "\n",
    "\n",
    "# Removing the y-axis\n",
    "plt.gca().get_yaxis().set_visible(False)\n",
    "\n",
    "# Removing left, right, and top lines of the current axes\n",
    "plt.gca().spines['left'].set_visible(False)\n",
    "plt.gca().spines['right'].set_visible(False)\n",
    "plt.gca().spines['top'].set_visible(False)\n",
    "\n",
    "plt.xlabel('Quality')\n",
    "plt.title('Distribution of Wine Quality')\n",
    "plt.xticks(quality_counts.index)\n",
    "plt.show()"
   ]
  },
  {
   "cell_type": "code",
   "execution_count": 15,
   "metadata": {},
   "outputs": [
    {
     "data": {
      "image/png": "[encoded data removed]",
      "text/plain": [
       "<Figure size 800x600 with 1 Axes>"
      ]
     },
     "metadata": {},
     "output_type": "display_data"
    }
   ],
   "source": [
    "# Define the bin edges and labels\n",
    "bin_edges = [8, 9, 10, 11, 12, 14]\n",
    "bin_labels = ['8-9', '9-10', '10-11', '11-12', '12-14']\n",
    "\n",
    "# Bin the 'alcohol' values\n",
    "train['alcohol_bins'] = pd.cut(train['alcohol'], bins=bin_edges, labels=bin_labels, include_lowest=True)\n",
    "\n",
    "# Count the values in each bin\n",
    "alcohol_counts = train['alcohol_bins'].value_counts().sort_index()\n",
    "\n",
    "plt.figure(figsize=(8, 6))\n",
    "ax = plt.bar(alcohol_counts.index, alcohol_counts.values)\n",
    "\n",
    "# Adding value counts on top of each bar\n",
    "for i, count in enumerate(alcohol_counts.values):\n",
    "    plt.text(i, count, str(count), ha='center', va='bottom')\n",
    "\n",
    "# Removing the y-axis\n",
    "plt.gca().get_yaxis().set_visible(False)\n",
    "\n",
    "# Removing left, right, and top lines of the current axes\n",
    "plt.gca().spines['left'].set_visible(False)\n",
    "plt.gca().spines['right'].set_visible(False)\n",
    "plt.gca().spines['top'].set_visible(False)\n",
    "\n",
    "plt.xlabel('Alcohol')\n",
    "plt.title('Distribution of Alcohol')\n",
    "plt.xticks(alcohol_counts.index)\n",
    "plt.show()\n"
   ]
  },
  {
   "cell_type": "markdown",
   "metadata": {},
   "source": [
    "Is alcohol normally distributed?"
   ]
  },
  {
   "cell_type": "code",
   "execution_count": 16,
   "metadata": {},
   "outputs": [
    {
     "name": "stdout",
     "output_type": "stream",
     "text": [
      "Alcohol does not appear to be normally distributed (p-value = 2.2665958267318566e-36  s-value= 0.9515156149864197 )\n"
     ]
    }
   ],
   "source": [
    "statistic, p_value = stats.shapiro(train['alcohol'])\n",
    "\n",
    "if p_value > 0.05:\n",
    "    print(\"Alcohol appears to be normally distributed (p-value =\", p_value, \" s-value=\",statistic, \")\")\n",
    "else:\n",
    "    print(\"Alcohol does not appear to be normally distributed (p-value =\", p_value, \" s-value=\",statistic, \")\")\n"
   ]
  },
  {
   "cell_type": "markdown",
   "metadata": {},
   "source": [
    "H0: There is no statistically significant monotonic relationship between the quality of the wine and the alcohol content.\n",
    "\n",
    "Ha: There is a sstatistically significant monotonic relationship between the quality of the wine and the alcohol content."
   ]
  },
  {
   "cell_type": "code",
   "execution_count": 17,
   "metadata": {},
   "outputs": [
    {
     "name": "stdout",
     "output_type": "stream",
     "text": [
      "There is a statistically significant Spearman's rank correlation (p-value = 0.0000, corr = 0.4471).\n"
     ]
    }
   ],
   "source": [
    "# Assuming you have a DataFrame named df with columns 'quality' and 'alcohol'\n",
    "spearman_corr, p_value = stats.spearmanr(train['quality'], train['alcohol'])\n",
    "\n",
    "# Interpret the results\n",
    "alpha = 0.05  # Set your desired significance level\n",
    "\n",
    "if p_value < alpha:\n",
    "    print(f\"There is a statistically significant Spearman's rank correlation (p-value = {p_value:.4f}, corr = {spearman_corr:.4f}).\")\n",
    "else:\n",
    "    print(f\"There is no statistically significant Spearman's rank correlation (p-value = {p_value:.4f}, corr = {spearman_corr:.4f}).\")\n"
   ]
  },
  {
   "cell_type": "markdown",
   "metadata": {},
   "source": [
    "## Density"
   ]
  },
  {
   "cell_type": "code",
   "execution_count": 76,
   "metadata": {},
   "outputs": [
    {
     "data": {
      "image/png": "[encoded data removed]",
      "text/plain": [
       "<Figure size 640x480 with 1 Axes>"
      ]
     },
     "metadata": {},
     "output_type": "display_data"
    }
   ],
   "source": [
    "# Create a histogram\n",
    "plt.hist(train.density, bins=50, edgecolor='black')\n",
    "\n",
    "plt.xlim(min(train.density), 1.005)\n",
    "\n",
    "# Add labels and title\n",
    "plt.xlabel('Density')\n",
    "plt.ylabel('Frequency')\n",
    "plt.title('Histogram of Density')\n",
    "\n",
    "# Display the histogram\n",
    "plt.show()"
   ]
  },
  {
   "cell_type": "markdown",
   "metadata": {},
   "source": [
    "Is alcohol normally distributed?"
   ]
  },
  {
   "cell_type": "code",
   "execution_count": 46,
   "metadata": {},
   "outputs": [
    {
     "name": "stdout",
     "output_type": "stream",
     "text": [
      "Density does not appear to be normally distributed (p-value = 1.0160853782362848e-33  s-value= 0.959850013256073 )\n"
     ]
    }
   ],
   "source": [
    "statistic, p_value = stats.shapiro(train['density'])\n",
    "\n",
    "if p_value > 0.05:\n",
    "    print(\"Density appears to be normally distributed (p-value =\", p_value, \" s-value=\",statistic, \")\")\n",
    "else:\n",
    "    print(\"Density does not appear to be normally distributed (p-value =\", p_value, \" s-value=\",statistic, \")\")\n"
   ]
  },
  {
   "cell_type": "markdown",
   "metadata": {},
   "source": [
    "H0: There is no statistically significant monotonic relationship between the quality of the wine and the alcohol content.\n",
    "\n",
    "Ha: There is a sstatistically significant monotonic relationship between the quality of the wine and the alcohol content."
   ]
  },
  {
   "cell_type": "code",
   "execution_count": 47,
   "metadata": {},
   "outputs": [
    {
     "name": "stdout",
     "output_type": "stream",
     "text": [
      "There is a statistically significant Spearman's rank correlation (p-value = 0.0000, corr = -0.3168).\n"
     ]
    }
   ],
   "source": [
    "# Assuming you have a DataFrame named df with columns 'quality' and 'alcohol'\n",
    "spearman_corr, p_value = stats.spearmanr(train['quality'], train['density'])\n",
    "\n",
    "# Interpret the results\n",
    "alpha = 0.05  # Set your desired significance level\n",
    "\n",
    "if p_value < alpha:\n",
    "    print(f\"There is a statistically significant Spearman's rank correlation (p-value = {p_value:.4f}, corr = {spearman_corr:.4f}).\")\n",
    "else:\n",
    "    print(f\"There is no statistically significant Spearman's rank correlation (p-value = {p_value:.4f}, corr = {spearman_corr:.4f}).\")\n"
   ]
  },
  {
   "cell_type": "code",
   "execution_count": 39,
   "metadata": {},
   "outputs": [
    {
     "data": {
      "text/html": [
       "<style>#sk-container-id-4 {color: black;}#sk-container-id-4 pre{padding: 0;}#sk-container-id-4 div.sk-toggleable {background-color: white;}#sk-container-id-4 label.sk-toggleable__label {cursor: pointer;display: block;width: 100%;margin-bottom: 0;padding: 0.3em;box-sizing: border-box;text-align: center;}#sk-container-id-4 label.sk-toggleable__label-arrow:before {content: \"▸\";float: left;margin-right: 0.25em;color: #696969;}#sk-container-id-4 label.sk-toggleable__label-arrow:hover:before {color: black;}#sk-container-id-4 div.sk-estimator:hover label.sk-toggleable__label-arrow:before {color: black;}#sk-container-id-4 div.sk-toggleable__content {max-height: 0;max-width: 0;overflow: hidden;text-align: left;background-color: #f0f8ff;}#sk-container-id-4 div.sk-toggleable__content pre {margin: 0.2em;color: black;border-radius: 0.25em;background-color: #f0f8ff;}#sk-container-id-4 input.sk-toggleable__control:checked~div.sk-toggleable__content {max-height: 200px;max-width: 100%;overflow: auto;}#sk-container-id-4 input.sk-toggleable__control:checked~label.sk-toggleable__label-arrow:before {content: \"▾\";}#sk-container-id-4 div.sk-estimator input.sk-toggleable__control:checked~label.sk-toggleable__label {background-color: #d4ebff;}#sk-container-id-4 div.sk-label input.sk-toggleable__control:checked~label.sk-toggleable__label {background-color: #d4ebff;}#sk-container-id-4 input.sk-hidden--visually {border: 0;clip: rect(1px 1px 1px 1px);clip: rect(1px, 1px, 1px, 1px);height: 1px;margin: -1px;overflow: hidden;padding: 0;position: absolute;width: 1px;}#sk-container-id-4 div.sk-estimator {font-family: monospace;background-color: #f0f8ff;border: 1px dotted black;border-radius: 0.25em;box-sizing: border-box;margin-bottom: 0.5em;}#sk-container-id-4 div.sk-estimator:hover {background-color: #d4ebff;}#sk-container-id-4 div.sk-parallel-item::after {content: \"\";width: 100%;border-bottom: 1px solid gray;flex-grow: 1;}#sk-container-id-4 div.sk-label:hover label.sk-toggleable__label {background-color: #d4ebff;}#sk-container-id-4 div.sk-serial::before {content: \"\";position: absolute;border-left: 1px solid gray;box-sizing: border-box;top: 0;bottom: 0;left: 50%;z-index: 0;}#sk-container-id-4 div.sk-serial {display: flex;flex-direction: column;align-items: center;background-color: white;padding-right: 0.2em;padding-left: 0.2em;position: relative;}#sk-container-id-4 div.sk-item {position: relative;z-index: 1;}#sk-container-id-4 div.sk-parallel {display: flex;align-items: stretch;justify-content: center;background-color: white;position: relative;}#sk-container-id-4 div.sk-item::before, #sk-container-id-4 div.sk-parallel-item::before {content: \"\";position: absolute;border-left: 1px solid gray;box-sizing: border-box;top: 0;bottom: 0;left: 50%;z-index: -1;}#sk-container-id-4 div.sk-parallel-item {display: flex;flex-direction: column;z-index: 1;position: relative;background-color: white;}#sk-container-id-4 div.sk-parallel-item:first-child::after {align-self: flex-end;width: 50%;}#sk-container-id-4 div.sk-parallel-item:last-child::after {align-self: flex-start;width: 50%;}#sk-container-id-4 div.sk-parallel-item:only-child::after {width: 0;}#sk-container-id-4 div.sk-dashed-wrapped {border: 1px dashed gray;margin: 0 0.4em 0.5em 0.4em;box-sizing: border-box;padding-bottom: 0.4em;background-color: white;}#sk-container-id-4 div.sk-label label {font-family: monospace;font-weight: bold;display: inline-block;line-height: 1.2em;}#sk-container-id-4 div.sk-label-container {text-align: center;}#sk-container-id-4 div.sk-container {/* jupyter's `normalize.less` sets `[hidden] { display: none; }` but bootstrap.min.css set `[hidden] { display: none !important; }` so we also need the `!important` here to be able to override the default hidden behavior on the sphinx rendered scikit-learn.org. See: https://github.com/scikit-learn/scikit-learn/issues/21755 */display: inline-block !important;position: relative;}#sk-container-id-4 div.sk-text-repr-fallback {display: none;}</style><div id=\"sk-container-id-4\" class=\"sk-top-container\"><div class=\"sk-text-repr-fallback\"><pre>KMeans(n_clusters=3, n_init=&#x27;auto&#x27;)</pre><b>In a Jupyter environment, please rerun this cell to show the HTML representation or trust the notebook. <br />On GitHub, the HTML representation is unable to render, please try loading this page with nbviewer.org.</b></div><div class=\"sk-container\" hidden><div class=\"sk-item\"><div class=\"sk-estimator sk-toggleable\"><input class=\"sk-toggleable__control sk-hidden--visually\" id=\"sk-estimator-id-4\" type=\"checkbox\" checked><label for=\"sk-estimator-id-4\" class=\"sk-toggleable__label sk-toggleable__label-arrow\">KMeans</label><div class=\"sk-toggleable__content\"><pre>KMeans(n_clusters=3, n_init=&#x27;auto&#x27;)</pre></div></div></div></div></div>"
      ],
      "text/plain": [
       "KMeans(n_clusters=3, n_init='auto')"
      ]
     },
     "execution_count": 39,
     "metadata": {},
     "output_type": "execute_result"
    }
   ],
   "source": [
    "kmeans = KMeans(n_clusters=3, n_init='auto')\n",
    "features = train[['alcohol', 'density']]\n",
    "kmeans.fit(features)"
   ]
  },
  {
   "cell_type": "code",
   "execution_count": 40,
   "metadata": {},
   "outputs": [],
   "source": [
    "train['sk_clusters'] = kmeans.labels_"
   ]
  },
  {
   "cell_type": "code",
   "execution_count": 41,
   "metadata": {},
   "outputs": [],
   "source": [
    "features = train[['alcohol', 'density', 'sk_clusters']]"
   ]
  },
  {
   "cell_type": "code",
   "execution_count": 42,
   "metadata": {},
   "outputs": [
    {
     "data": {
      "text/html": [
       "<div>\n",
       "<style scoped>\n",
       "    .dataframe tbody tr th:only-of-type {\n",
       "        vertical-align: middle;\n",
       "    }\n",
       "\n",
       "    .dataframe tbody tr th {\n",
       "        vertical-align: top;\n",
       "    }\n",
       "\n",
       "    .dataframe thead th {\n",
       "        text-align: right;\n",
       "    }\n",
       "</style>\n",
       "<table border=\"1\" class=\"dataframe\">\n",
       "  <thead>\n",
       "    <tr style=\"text-align: right;\">\n",
       "      <th></th>\n",
       "      <th>fixed_acidity</th>\n",
       "      <th>volatile_acidity</th>\n",
       "      <th>citric_acid</th>\n",
       "      <th>residual_sugar</th>\n",
       "      <th>chlorides</th>\n",
       "      <th>free_sulfur_dioxide</th>\n",
       "      <th>total_sulfur_dioxide</th>\n",
       "      <th>density</th>\n",
       "      <th>ph</th>\n",
       "      <th>sulphates</th>\n",
       "      <th>alcohol</th>\n",
       "      <th>quality</th>\n",
       "      <th>type</th>\n",
       "      <th>alcohol_bins</th>\n",
       "      <th>sk_clusters</th>\n",
       "      <th>quality_bins</th>\n",
       "    </tr>\n",
       "  </thead>\n",
       "  <tbody>\n",
       "    <tr>\n",
       "      <th>3761</th>\n",
       "      <td>9.9</td>\n",
       "      <td>0.490</td>\n",
       "      <td>0.23</td>\n",
       "      <td>2.4</td>\n",
       "      <td>0.087</td>\n",
       "      <td>19.0</td>\n",
       "      <td>115.0</td>\n",
       "      <td>0.99480</td>\n",
       "      <td>2.77</td>\n",
       "      <td>0.44</td>\n",
       "      <td>9.400000</td>\n",
       "      <td>6</td>\n",
       "      <td>white</td>\n",
       "      <td>9-10</td>\n",
       "      <td>1</td>\n",
       "      <td>6</td>\n",
       "    </tr>\n",
       "    <tr>\n",
       "      <th>3740</th>\n",
       "      <td>7.7</td>\n",
       "      <td>0.280</td>\n",
       "      <td>0.35</td>\n",
       "      <td>15.3</td>\n",
       "      <td>0.056</td>\n",
       "      <td>31.0</td>\n",
       "      <td>117.0</td>\n",
       "      <td>0.99980</td>\n",
       "      <td>3.27</td>\n",
       "      <td>0.50</td>\n",
       "      <td>9.600000</td>\n",
       "      <td>5</td>\n",
       "      <td>white</td>\n",
       "      <td>9-10</td>\n",
       "      <td>1</td>\n",
       "      <td>3-5</td>\n",
       "    </tr>\n",
       "    <tr>\n",
       "      <th>1359</th>\n",
       "      <td>11.6</td>\n",
       "      <td>0.475</td>\n",
       "      <td>0.40</td>\n",
       "      <td>1.4</td>\n",
       "      <td>0.091</td>\n",
       "      <td>6.0</td>\n",
       "      <td>28.0</td>\n",
       "      <td>0.99704</td>\n",
       "      <td>3.07</td>\n",
       "      <td>0.65</td>\n",
       "      <td>10.033333</td>\n",
       "      <td>6</td>\n",
       "      <td>red</td>\n",
       "      <td>10-11</td>\n",
       "      <td>1</td>\n",
       "      <td>6</td>\n",
       "    </tr>\n",
       "    <tr>\n",
       "      <th>1230</th>\n",
       "      <td>7.7</td>\n",
       "      <td>0.180</td>\n",
       "      <td>0.34</td>\n",
       "      <td>2.7</td>\n",
       "      <td>0.066</td>\n",
       "      <td>15.0</td>\n",
       "      <td>58.0</td>\n",
       "      <td>0.99470</td>\n",
       "      <td>3.37</td>\n",
       "      <td>0.78</td>\n",
       "      <td>11.800000</td>\n",
       "      <td>6</td>\n",
       "      <td>red</td>\n",
       "      <td>11-12</td>\n",
       "      <td>2</td>\n",
       "      <td>6</td>\n",
       "    </tr>\n",
       "    <tr>\n",
       "      <th>4751</th>\n",
       "      <td>7.6</td>\n",
       "      <td>0.250</td>\n",
       "      <td>1.23</td>\n",
       "      <td>4.6</td>\n",
       "      <td>0.035</td>\n",
       "      <td>51.0</td>\n",
       "      <td>294.0</td>\n",
       "      <td>0.99018</td>\n",
       "      <td>3.03</td>\n",
       "      <td>0.43</td>\n",
       "      <td>13.100000</td>\n",
       "      <td>6</td>\n",
       "      <td>white</td>\n",
       "      <td>12-14</td>\n",
       "      <td>2</td>\n",
       "      <td>6</td>\n",
       "    </tr>\n",
       "  </tbody>\n",
       "</table>\n",
       "</div>"
      ],
      "text/plain": [
       "      fixed_acidity  volatile_acidity  citric_acid  residual_sugar  chlorides  free_sulfur_dioxide  total_sulfur_dioxide  density    ph  sulphates    alcohol  quality   type alcohol_bins  sk_clusters quality_bins\n",
       "3761            9.9             0.490         0.23             2.4      0.087                 19.0                 115.0  0.99480  2.77       0.44   9.400000        6  white         9-10            1            6\n",
       "3740            7.7             0.280         0.35            15.3      0.056                 31.0                 117.0  0.99980  3.27       0.50   9.600000        5  white         9-10            1          3-5\n",
       "1359           11.6             0.475         0.40             1.4      0.091                  6.0                  28.0  0.99704  3.07       0.65  10.033333        6    red        10-11            1            6\n",
       "1230            7.7             0.180         0.34             2.7      0.066                 15.0                  58.0  0.99470  3.37       0.78  11.800000        6    red        11-12            2            6\n",
       "4751            7.6             0.250         1.23             4.6      0.035                 51.0                 294.0  0.99018  3.03       0.43  13.100000        6  white        12-14            2            6"
      ]
     },
     "execution_count": 42,
     "metadata": {},
     "output_type": "execute_result"
    }
   ],
   "source": [
    "train.head()"
   ]
  },
  {
   "cell_type": "code",
   "execution_count": 43,
   "metadata": {},
   "outputs": [],
   "source": [
    "bins = [3, 5, 6, 9]\n",
    "\n",
    "# Define custom labels\n",
    "labels = ['3-5', '6', '7-9']\n",
    "\n",
    "# Create a new column \"quality_bins\" to store the bin labels\n",
    "train['quality_bins'] = pd.cut(train['quality'], bins=bins, labels=labels)"
   ]
  },
  {
   "cell_type": "code",
   "execution_count": 44,
   "metadata": {},
   "outputs": [
    {
     "data": {
      "text/plain": [
       "<function matplotlib.pyplot.show(close=None, block=None)>"
      ]
     },
     "execution_count": 44,
     "metadata": {},
     "output_type": "execute_result"
    },
    {
     "data": {
      "image/png": "[encoded data removed]",
      "text/plain": [
       "<Figure size 640x480 with 1 Axes>"
      ]
     },
     "metadata": {},
     "output_type": "display_data"
    }
   ],
   "source": [
    "sns.scatterplot(data=train, x='alcohol', y='density', hue='quality_bins', palette='deep')\n",
    "plt.show"
   ]
  },
  {
   "cell_type": "code",
   "execution_count": 45,
   "metadata": {},
   "outputs": [
    {
     "data": {
      "text/plain": [
       "<function matplotlib.pyplot.show(close=None, block=None)>"
      ]
     },
     "execution_count": 45,
     "metadata": {},
     "output_type": "execute_result"
    },
    {
     "data": {
      "image/png": "[encoded data removed]",
      "text/plain": [
       "<Figure size 640x480 with 1 Axes>"
      ]
     },
     "metadata": {},
     "output_type": "display_data"
    }
   ],
   "source": [
    "sns.scatterplot(data=train, x='alcohol', y='density', hue='sk_clusters', palette='deep')\n",
    "plt.show"
   ]
  },
  {
   "cell_type": "code",
   "execution_count": null,
   "metadata": {},
   "outputs": [],
   "source": []
  },
  {
   "cell_type": "code",
   "execution_count": null,
   "metadata": {},
   "outputs": [],
   "source": []
  },
  {
   "cell_type": "code",
   "execution_count": null,
   "metadata": {},
   "outputs": [],
   "source": []
  },
  {
   "cell_type": "code",
   "execution_count": null,
   "metadata": {},
   "outputs": [],
   "source": []
  },
  {
   "cell_type": "code",
   "execution_count": null,
   "metadata": {},
   "outputs": [],
   "source": []
  },
  {
   "cell_type": "code",
   "execution_count": null,
   "metadata": {},
   "outputs": [],
   "source": []
  },
  {
   "cell_type": "code",
   "execution_count": null,
   "metadata": {},
   "outputs": [],
   "source": []
  },
  {
   "cell_type": "code",
   "execution_count": null,
   "metadata": {},
   "outputs": [],
   "source": []
  },
  {
   "cell_type": "code",
   "execution_count": null,
   "metadata": {},
   "outputs": [],
   "source": []
  },
  {
   "cell_type": "code",
   "execution_count": null,
   "metadata": {},
   "outputs": [],
   "source": []
  },
  {
   "cell_type": "code",
   "execution_count": null,
   "metadata": {},
   "outputs": [],
   "source": []
  },
  {
   "cell_type": "code",
   "execution_count": 31,
   "metadata": {},
   "outputs": [
    {
     "name": "stdout",
     "output_type": "stream",
     "text": [
      "                 Feature  F-statistic        p-value\n",
      "0          fixed acidity     8.004193   1.258439e-08\n",
      "1       volatile acidity    96.674022  8.168059e-117\n",
      "2            citric acid     9.310199   3.443125e-10\n",
      "3         residual sugar     9.111367   5.969040e-10\n",
      "4              chlorides    50.849719   1.953578e-61\n",
      "5    free sulfur dioxide    14.939170   4.774295e-17\n",
      "6   total sulfur dioxide     7.716088   2.768378e-08\n",
      "7                density   136.951236  6.581609e-164\n",
      "8                     pH     2.021462   5.931925e-02\n",
      "9              sulphates     4.325773   2.313182e-04\n",
      "10               alcohol   320.593448   0.000000e+00\n"
     ]
    }
   ],
   "source": [
    "import pandas as pd\n",
    "import scipy.stats as stats\n",
    "\n",
    "# Create an empty DataFrame to store the ANOVA results\n",
    "anova_results = pd.DataFrame(columns=['Feature', 'F-statistic', 'p-value'])\n",
    "\n",
    "# Perform ANOVA for each numerical column\n",
    "for column in df.columns:\n",
    "    if column != 'quality' and df[column].dtype != 'object':  # Exclude non-numeric and the 'quality' column\n",
    "        group_data = [group[column] for name, group in df.groupby('quality')]\n",
    "        f_statistic, p_value = stats.f_oneway(*group_data)\n",
    "        anova_results = pd.concat([anova_results, pd.DataFrame({'Feature': [column], 'F-statistic': [f_statistic], 'p-value': [p_value]})], ignore_index=True)\n",
    "\n",
    "# Print the ANOVA results\n",
    "print(anova_results)"
   ]
  },
  {
   "cell_type": "code",
   "execution_count": 22,
   "metadata": {},
   "outputs": [
    {
     "name": "stdout",
     "output_type": "stream",
     "text": [
      "                 Feature  F-statistic        p-value      Hypothesis\n",
      "10               alcohol   320.593448   0.000000e+00          Reject\n",
      "0                density   136.951236  6.581609e-164          Reject\n",
      "1       volatile acidity    96.674022  8.168059e-117          Reject\n",
      "2              chlorides    50.849719   1.953578e-61          Reject\n",
      "3    free sulfur dioxide    14.939170   4.774295e-17          Reject\n",
      "4            citric acid     9.310199   3.443125e-10          Reject\n",
      "5         residual sugar     9.111367   5.969040e-10          Reject\n",
      "6          fixed acidity     8.004193   1.258439e-08          Reject\n",
      "7   total sulfur dioxide     7.716088   2.768378e-08          Reject\n",
      "8              sulphates     4.325773   2.313182e-04          Reject\n",
      "9                     pH     2.021462   5.931925e-02  Fail to Reject\n"
     ]
    }
   ],
   "source": [
    "# Create an empty DataFrame to store the ANOVA results\n",
    "anova_results = pd.DataFrame(columns=['Feature', 'F-statistic', 'p-value', 'Hypothesis'])\n",
    "\n",
    "# Perform ANOVA for each numerical column\n",
    "for column in df.columns:\n",
    "    if column != 'quality' and df[column].dtype != 'object':  # Exclude non-numeric and the 'quality' column\n",
    "        group_data = [group[column] for name, group in df.groupby('quality')]\n",
    "        f_statistic, p_value = stats.f_oneway(*group_data)\n",
    "        \n",
    "        # Determine whether to \"Reject\" or \"Fail to Reject\" the null hypothesis\n",
    "        if p_value < 0.05:\n",
    "            hypothesis = \"Reject\"\n",
    "        else:\n",
    "            hypothesis = \"Fail to Reject\"\n",
    "        \n",
    "        anova_results = pd.concat([anova_results, pd.DataFrame({'Feature': [column], 'F-statistic': [f_statistic], 'p-value': [p_value], 'Hypothesis': [hypothesis]})], ignore_index=True)\n",
    "        \n",
    "        anova_results = anova_results.sort_values(by='F-statistic', ascending=False)\n",
    "\n",
    "# Print the ANOVA results with the hypothesis decision\n",
    "print(anova_results)"
   ]
  },
  {
   "cell_type": "code",
   "execution_count": 19,
   "metadata": {},
   "outputs": [
    {
     "name": "stdout",
     "output_type": "stream",
     "text": [
      "                                   Feature  Correlation with Quality\n",
      "quality                            quality                  1.000000\n",
      "alcohol                            alcohol                  0.444319\n",
      "density                            density                 -0.305858\n",
      "volatile acidity          volatile acidity                 -0.265699\n",
      "chlorides                        chlorides                 -0.200666\n",
      "citric acid                    citric acid                  0.085532\n",
      "fixed acidity                fixed acidity                 -0.076743\n",
      "free sulfur dioxide    free sulfur dioxide                  0.055463\n",
      "total sulfur dioxide  total sulfur dioxide                 -0.041385\n",
      "sulphates                        sulphates                  0.038485\n",
      "residual sugar              residual sugar                 -0.036980\n",
      "pH                                      pH                  0.019506\n"
     ]
    }
   ],
   "source": [
    "import pandas as pd\n",
    "\n",
    "# Assuming df is your DataFrame\n",
    "\n",
    "# Exclude non-numeric columns ('type' in this case)\n",
    "numeric_df = df.select_dtypes(include=['number'])\n",
    "\n",
    "# Calculate the correlation matrix\n",
    "correlation_matrix = numeric_df.corr()\n",
    "\n",
    "# Extract the correlation values for the \"quality\" column\n",
    "correlation_with_quality = correlation_matrix[\"quality\"]\n",
    "\n",
    "# Create a DataFrame to store the results\n",
    "result_df = pd.DataFrame({'Feature': correlation_matrix.columns, 'Correlation with Quality': correlation_with_quality})\n",
    "\n",
    "# Sort the DataFrame by the absolute correlation values in descending order\n",
    "result_df = result_df.iloc[(-result_df['Correlation with Quality'].abs()).argsort()]\n",
    "\n",
    "# Display the result DataFrame\n",
    "print(result_df)\n"
   ]
  },
  {
   "cell_type": "code",
   "execution_count": 20,
   "metadata": {},
   "outputs": [
    {
     "name": "stdout",
     "output_type": "stream",
     "text": [
      "                                   Feature  Correlation with Quality\n",
      "quality                            quality                  1.000000\n",
      "alcohol                            alcohol                  0.444319\n",
      "citric acid                    citric acid                  0.085532\n",
      "free sulfur dioxide    free sulfur dioxide                  0.055463\n",
      "sulphates                        sulphates                  0.038485\n",
      "pH                                      pH                  0.019506\n",
      "residual sugar              residual sugar                 -0.036980\n",
      "total sulfur dioxide  total sulfur dioxide                 -0.041385\n",
      "fixed acidity                fixed acidity                 -0.076743\n",
      "chlorides                        chlorides                 -0.200666\n",
      "volatile acidity          volatile acidity                 -0.265699\n",
      "density                            density                 -0.305858\n"
     ]
    }
   ],
   "source": [
    "# Sort the DataFrame by the absolute correlation values in descending order\n",
    "result_df_descending = result_df.sort_values(by='Correlation with Quality', ascending=False)\n",
    "print(result_df_descending)"
   ]
  },
  {
   "cell_type": "code",
   "execution_count": null,
   "metadata": {},
   "outputs": [],
   "source": []
  },
  {
   "cell_type": "code",
   "execution_count": null,
   "metadata": {},
   "outputs": [
    {
     "data": {
      "text/plain": [
       "1.03898"
      ]
     },
     "metadata": {},
     "output_type": "display_data"
    }
   ],
   "source": [
    "train.density.max()"
   ]
  },
  {
   "cell_type": "code",
   "execution_count": null,
   "metadata": {},
   "outputs": [
    {
     "name": "stdout",
     "output_type": "stream",
     "text": [
      "Bin 1: 0.9871 - 0.9881: 11 values\n",
      "Bin 2: 0.9881 - 0.9892: 67 values\n",
      "Bin 3: 0.9892 - 0.9902: 256 values\n",
      "Bin 4: 0.9902 - 0.9913: 346 values\n",
      "Bin 5: 0.9913 - 0.9923: 450 values\n",
      "Bin 6: 0.9923 - 0.9933: 479 values\n",
      "Bin 7: 0.9933 - 0.9944: 421 values\n",
      "Bin 8: 0.9944 - 0.9954: 529 values\n",
      "Bin 9: 0.9954 - 0.9965: 593 values\n",
      "Bin 10: 0.9965 - 0.9975: 536 values\n",
      "Bin 11: 0.9975 - 0.9985: 465 values\n",
      "Bin 12: 0.9985 - 0.9996: 219 values\n",
      "Bin 13: 0.9996 - 1.0006: 135 values\n",
      "Bin 14: 1.0006 - 1.0016: 20 values\n",
      "Bin 15: 1.0016 - 1.0027: 11 values\n",
      "Bin 16: 1.0027 - 1.0037: 6 values\n",
      "Bin 17: 1.0037 - 1.0048: 0 values\n",
      "Bin 18: 1.0048 - 1.0058: 0 values\n",
      "Bin 19: 1.0058 - 1.0068: 0 values\n",
      "Bin 20: 1.0068 - 1.0079: 0 values\n",
      "Bin 21: 1.0079 - 1.0089: 0 values\n",
      "Bin 22: 1.0089 - 1.0099: 0 values\n",
      "Bin 23: 1.0099 - 1.0110: 2 values\n",
      "Bin 24: 1.0110 - 1.0120: 0 values\n",
      "Bin 25: 1.0120 - 1.0131: 0 values\n",
      "Bin 26: 1.0131 - 1.0141: 0 values\n",
      "Bin 27: 1.0141 - 1.0151: 0 values\n",
      "Bin 28: 1.0151 - 1.0162: 0 values\n",
      "Bin 29: 1.0162 - 1.0172: 0 values\n",
      "Bin 30: 1.0172 - 1.0182: 0 values\n",
      "Bin 31: 1.0182 - 1.0193: 0 values\n",
      "Bin 32: 1.0193 - 1.0203: 0 values\n",
      "Bin 33: 1.0203 - 1.0214: 0 values\n",
      "Bin 34: 1.0214 - 1.0224: 0 values\n",
      "Bin 35: 1.0224 - 1.0234: 0 values\n",
      "Bin 36: 1.0234 - 1.0245: 0 values\n",
      "Bin 37: 1.0245 - 1.0255: 0 values\n",
      "Bin 38: 1.0255 - 1.0265: 0 values\n",
      "Bin 39: 1.0265 - 1.0276: 0 values\n",
      "Bin 40: 1.0276 - 1.0286: 0 values\n",
      "Bin 41: 1.0286 - 1.0297: 0 values\n",
      "Bin 42: 1.0297 - 1.0307: 0 values\n",
      "Bin 43: 1.0307 - 1.0317: 0 values\n",
      "Bin 44: 1.0317 - 1.0328: 0 values\n",
      "Bin 45: 1.0328 - 1.0338: 0 values\n",
      "Bin 46: 1.0338 - 1.0348: 0 values\n",
      "Bin 47: 1.0348 - 1.0359: 0 values\n",
      "Bin 48: 1.0359 - 1.0369: 0 values\n",
      "Bin 49: 1.0369 - 1.0380: 0 values\n",
      "Bin 50: 1.0380 - 1.0390: 1 values\n"
     ]
    }
   ],
   "source": [
    "# Your density data\n",
    "density_data = train.density  # Replace this with your data\n",
    "\n",
    "# Calculate bin edges\n",
    "bin_width = (1.03900 - np.min(density_data)) / 50\n",
    "bin_edges = np.arange(np.min(density_data), 1.03900 + bin_width, bin_width)\n",
    "\n",
    "# Create histogram\n",
    "hist, bins = np.histogram(density_data, bins=bin_edges)\n",
    "\n",
    "# Print the value ranges and count in each bin\n",
    "for i in range(len(hist)):\n",
    "    start_range = bins[i]\n",
    "    end_range = bins[i + 1] if i < len(hist) - 1 else 1.03900\n",
    "    count = hist[i]\n",
    "    print(f\"Bin {i+1}: {start_range:.4f} - {end_range:.4f}: {count} values\")\n"
   ]
  },
  {
   "cell_type": "code",
   "execution_count": null,
   "metadata": {},
   "outputs": [
    {
     "name": "stdout",
     "output_type": "stream",
     "text": [
      "Bin 1: 0.9871 - 0.9904: 367 values\n",
      "Bin 2: 0.9904 - 0.9936: 1343 values\n",
      "Bin 3: 0.9936 - 0.9968: 1648 values\n",
      "Bin 4: 0.9968 - 1.0001: 1089 values\n",
      "Bin 5: 1.0001 - 1.0033: 95 values\n",
      "Bin 6: 1.0033 - 1.0066: 2 values\n",
      "Bin 7: 1.0066 - 1.0098: 0 values\n",
      "Bin 8: 1.0098 - 1.0131: 2 values\n",
      "Bin 9: 1.0131 - 1.0163: 0 values\n",
      "Bin 10: 1.0163 - 1.0195: 0 values\n",
      "Bin 11: 1.0195 - 1.0228: 0 values\n",
      "Bin 12: 1.0228 - 1.0260: 0 values\n",
      "Bin 13: 1.0260 - 1.0293: 0 values\n",
      "Bin 14: 1.0293 - 1.0325: 0 values\n",
      "Bin 15: 1.0325 - 1.0358: 0 values\n",
      "Bin 16: 1.0358 - 1.0390: 1 values\n",
      "Bin 17: 1.0390 - 1.0390: 0 values\n"
     ]
    }
   ],
   "source": [
    "# Your density data\n",
    "density_data = train.density  # Replace this with your data\n",
    "\n",
    "# Calculate bin edges\n",
    "bin_width = (1.03900 - np.min(density_data)) / 16\n",
    "bin_edges = np.arange(np.min(density_data), 1.03900 + bin_width, bin_width)\n",
    "\n",
    "# Create histogram\n",
    "hist, bins = np.histogram(density_data, bins=bin_edges)\n",
    "\n",
    "# Print the value ranges and count in each bin\n",
    "for i in range(len(hist)):\n",
    "    start_range = bins[i]\n",
    "    end_range = bins[i + 1] if i < len(hist) - 1 else 1.03900\n",
    "    count = hist[i]\n",
    "    print(f\"Bin {i+1}: {start_range:.4f} - {end_range:.4f}: {count} values\")\n",
    "1.0027"
   ]
  }
 ],
 "metadata": {
  "kernelspec": {
   "display_name": "Python 3 (ipykernel)",
   "language": "python",
   "name": "python3"
  },
  "language_info": {
   "codemirror_mode": {
    "name": "ipython",
    "version": 3
   },
   "file_extension": ".py",
   "mimetype": "text/x-python",
   "name": "python",
   "nbconvert_exporter": "python",
   "pygments_lexer": "ipython3",
   "version": "3.11.3"
  }
 },
 "nbformat": 4,
 "nbformat_minor": 2
}
