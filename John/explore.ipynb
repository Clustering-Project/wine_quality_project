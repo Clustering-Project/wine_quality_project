{
 "cells": [
  {
   "cell_type": "code",
   "execution_count": 1,
   "metadata": {},
   "outputs": [],
   "source": [
    "#imports\n",
    "import pandas as pd\n",
    "import numpy as np\n",
    "import matplotlib.pyplot as plt\n",
    "import seaborn as sns\n",
    "\n",
    "from scipy import stats\n",
    "\n",
    "from sklearn.preprocessing import MinMaxScaler\n",
    "from sklearn.cluster import KMeans\n",
    "\n",
    "from wrangle import acquire_wine, wine_train_val_test, wrangle_wine"
   ]
  },
  {
   "cell_type": "code",
   "execution_count": 2,
   "metadata": {},
   "outputs": [],
   "source": [
    "pd.set_option('display.max_columns', None)\n",
    "pd.set_option('display.width', None)\n",
    "pd.set_option('display.expand_frame_repr', False)"
   ]
  },
  {
   "cell_type": "code",
   "execution_count": 3,
   "metadata": {},
   "outputs": [],
   "source": [
    "df = acquire_wine()"
   ]
  },
  {
   "cell_type": "code",
   "execution_count": 4,
   "metadata": {},
   "outputs": [
    {
     "data": {
      "text/html": [
       "<div>\n",
       "<style scoped>\n",
       "    .dataframe tbody tr th:only-of-type {\n",
       "        vertical-align: middle;\n",
       "    }\n",
       "\n",
       "    .dataframe tbody tr th {\n",
       "        vertical-align: top;\n",
       "    }\n",
       "\n",
       "    .dataframe thead th {\n",
       "        text-align: right;\n",
       "    }\n",
       "</style>\n",
       "<table border=\"1\" class=\"dataframe\">\n",
       "  <thead>\n",
       "    <tr style=\"text-align: right;\">\n",
       "      <th></th>\n",
       "      <th>fixed acidity</th>\n",
       "      <th>volatile acidity</th>\n",
       "      <th>citric acid</th>\n",
       "      <th>residual sugar</th>\n",
       "      <th>chlorides</th>\n",
       "      <th>free sulfur dioxide</th>\n",
       "      <th>total sulfur dioxide</th>\n",
       "      <th>density</th>\n",
       "      <th>pH</th>\n",
       "      <th>sulphates</th>\n",
       "      <th>alcohol</th>\n",
       "      <th>quality</th>\n",
       "      <th>type</th>\n",
       "    </tr>\n",
       "  </thead>\n",
       "  <tbody>\n",
       "    <tr>\n",
       "      <th>0</th>\n",
       "      <td>7.4</td>\n",
       "      <td>0.70</td>\n",
       "      <td>0.00</td>\n",
       "      <td>1.9</td>\n",
       "      <td>0.076</td>\n",
       "      <td>11.0</td>\n",
       "      <td>34.0</td>\n",
       "      <td>0.9978</td>\n",
       "      <td>3.51</td>\n",
       "      <td>0.56</td>\n",
       "      <td>9.4</td>\n",
       "      <td>5</td>\n",
       "      <td>red</td>\n",
       "    </tr>\n",
       "    <tr>\n",
       "      <th>1</th>\n",
       "      <td>7.8</td>\n",
       "      <td>0.88</td>\n",
       "      <td>0.00</td>\n",
       "      <td>2.6</td>\n",
       "      <td>0.098</td>\n",
       "      <td>25.0</td>\n",
       "      <td>67.0</td>\n",
       "      <td>0.9968</td>\n",
       "      <td>3.20</td>\n",
       "      <td>0.68</td>\n",
       "      <td>9.8</td>\n",
       "      <td>5</td>\n",
       "      <td>red</td>\n",
       "    </tr>\n",
       "    <tr>\n",
       "      <th>2</th>\n",
       "      <td>7.8</td>\n",
       "      <td>0.76</td>\n",
       "      <td>0.04</td>\n",
       "      <td>2.3</td>\n",
       "      <td>0.092</td>\n",
       "      <td>15.0</td>\n",
       "      <td>54.0</td>\n",
       "      <td>0.9970</td>\n",
       "      <td>3.26</td>\n",
       "      <td>0.65</td>\n",
       "      <td>9.8</td>\n",
       "      <td>5</td>\n",
       "      <td>red</td>\n",
       "    </tr>\n",
       "    <tr>\n",
       "      <th>3</th>\n",
       "      <td>11.2</td>\n",
       "      <td>0.28</td>\n",
       "      <td>0.56</td>\n",
       "      <td>1.9</td>\n",
       "      <td>0.075</td>\n",
       "      <td>17.0</td>\n",
       "      <td>60.0</td>\n",
       "      <td>0.9980</td>\n",
       "      <td>3.16</td>\n",
       "      <td>0.58</td>\n",
       "      <td>9.8</td>\n",
       "      <td>6</td>\n",
       "      <td>red</td>\n",
       "    </tr>\n",
       "    <tr>\n",
       "      <th>4</th>\n",
       "      <td>7.4</td>\n",
       "      <td>0.70</td>\n",
       "      <td>0.00</td>\n",
       "      <td>1.9</td>\n",
       "      <td>0.076</td>\n",
       "      <td>11.0</td>\n",
       "      <td>34.0</td>\n",
       "      <td>0.9978</td>\n",
       "      <td>3.51</td>\n",
       "      <td>0.56</td>\n",
       "      <td>9.4</td>\n",
       "      <td>5</td>\n",
       "      <td>red</td>\n",
       "    </tr>\n",
       "  </tbody>\n",
       "</table>\n",
       "</div>"
      ],
      "text/plain": [
       "   fixed acidity  volatile acidity  citric acid  residual sugar  chlorides  free sulfur dioxide  total sulfur dioxide  density    pH  sulphates  alcohol  quality type\n",
       "0            7.4              0.70         0.00             1.9      0.076                 11.0                  34.0   0.9978  3.51       0.56      9.4        5  red\n",
       "1            7.8              0.88         0.00             2.6      0.098                 25.0                  67.0   0.9968  3.20       0.68      9.8        5  red\n",
       "2            7.8              0.76         0.04             2.3      0.092                 15.0                  54.0   0.9970  3.26       0.65      9.8        5  red\n",
       "3           11.2              0.28         0.56             1.9      0.075                 17.0                  60.0   0.9980  3.16       0.58      9.8        6  red\n",
       "4            7.4              0.70         0.00             1.9      0.076                 11.0                  34.0   0.9978  3.51       0.56      9.4        5  red"
      ]
     },
     "execution_count": 4,
     "metadata": {},
     "output_type": "execute_result"
    }
   ],
   "source": [
    "df.head()"
   ]
  },
  {
   "cell_type": "code",
   "execution_count": 5,
   "metadata": {},
   "outputs": [
    {
     "name": "stdout",
     "output_type": "stream",
     "text": [
      "<class 'pandas.core.frame.DataFrame'>\n",
      "RangeIndex: 6497 entries, 0 to 6496\n",
      "Data columns (total 13 columns):\n",
      " #   Column                Non-Null Count  Dtype  \n",
      "---  ------                --------------  -----  \n",
      " 0   fixed acidity         6497 non-null   float64\n",
      " 1   volatile acidity      6497 non-null   float64\n",
      " 2   citric acid           6497 non-null   float64\n",
      " 3   residual sugar        6497 non-null   float64\n",
      " 4   chlorides             6497 non-null   float64\n",
      " 5   free sulfur dioxide   6497 non-null   float64\n",
      " 6   total sulfur dioxide  6497 non-null   float64\n",
      " 7   density               6497 non-null   float64\n",
      " 8   pH                    6497 non-null   float64\n",
      " 9   sulphates             6497 non-null   float64\n",
      " 10  alcohol               6497 non-null   float64\n",
      " 11  quality               6497 non-null   int64  \n",
      " 12  type                  6497 non-null   object \n",
      "dtypes: float64(11), int64(1), object(1)\n",
      "memory usage: 660.0+ KB\n"
     ]
    }
   ],
   "source": [
    "df.info()"
   ]
  },
  {
   "cell_type": "code",
   "execution_count": 6,
   "metadata": {},
   "outputs": [
    {
     "data": {
      "text/plain": [
       "Index(['fixed acidity', 'volatile acidity', 'citric acid', 'residual sugar',\n",
       "       'chlorides', 'free sulfur dioxide', 'total sulfur dioxide', 'density',\n",
       "       'pH', 'sulphates', 'alcohol', 'quality', 'type'],\n",
       "      dtype='object')"
      ]
     },
     "execution_count": 6,
     "metadata": {},
     "output_type": "execute_result"
    }
   ],
   "source": [
    "df.columns"
   ]
  },
  {
   "cell_type": "code",
   "execution_count": 7,
   "metadata": {},
   "outputs": [
    {
     "name": "stdout",
     "output_type": "stream",
     "text": [
      "fixed acidity             0\n",
      "volatile acidity          0\n",
      "citric acid             151\n",
      "residual sugar            0\n",
      "chlorides                 0\n",
      "free sulfur dioxide       0\n",
      "total sulfur dioxide      0\n",
      "density                   0\n",
      "pH                        0\n",
      "sulphates                 0\n",
      "alcohol                   0\n",
      "quality                   0\n",
      "dtype: int64\n"
     ]
    }
   ],
   "source": [
    "# return how many 0 there is in each numerical columns in df\n",
    "zeros_count = df.select_dtypes(include=['number']).eq(0).sum()\n",
    "print(zeros_count)"
   ]
  },
  {
   "cell_type": "code",
   "execution_count": 8,
   "metadata": {},
   "outputs": [
    {
     "data": {
      "text/plain": [
       "quality\n",
       "3      30\n",
       "4     216\n",
       "5    2138\n",
       "6    2836\n",
       "7    1079\n",
       "8     193\n",
       "9       5\n",
       "dtype: int64"
      ]
     },
     "execution_count": 8,
     "metadata": {},
     "output_type": "execute_result"
    }
   ],
   "source": [
    "df_quality = df.groupby('quality').size()\n",
    "df_quality"
   ]
  },
  {
   "cell_type": "code",
   "execution_count": 9,
   "metadata": {},
   "outputs": [
    {
     "data": {
      "text/html": [
       "<div>\n",
       "<style scoped>\n",
       "    .dataframe tbody tr th:only-of-type {\n",
       "        vertical-align: middle;\n",
       "    }\n",
       "\n",
       "    .dataframe tbody tr th {\n",
       "        vertical-align: top;\n",
       "    }\n",
       "\n",
       "    .dataframe thead th {\n",
       "        text-align: right;\n",
       "    }\n",
       "</style>\n",
       "<table border=\"1\" class=\"dataframe\">\n",
       "  <thead>\n",
       "    <tr style=\"text-align: right;\">\n",
       "      <th></th>\n",
       "      <th>fixed acidity</th>\n",
       "      <th>volatile acidity</th>\n",
       "      <th>citric acid</th>\n",
       "      <th>residual sugar</th>\n",
       "      <th>chlorides</th>\n",
       "      <th>free sulfur dioxide</th>\n",
       "      <th>total sulfur dioxide</th>\n",
       "      <th>density</th>\n",
       "      <th>pH</th>\n",
       "      <th>sulphates</th>\n",
       "      <th>alcohol</th>\n",
       "      <th>quality</th>\n",
       "    </tr>\n",
       "  </thead>\n",
       "  <tbody>\n",
       "    <tr>\n",
       "      <th>count</th>\n",
       "      <td>6497.000000</td>\n",
       "      <td>6497.000000</td>\n",
       "      <td>6497.000000</td>\n",
       "      <td>6497.000000</td>\n",
       "      <td>6497.000000</td>\n",
       "      <td>6497.000000</td>\n",
       "      <td>6497.000000</td>\n",
       "      <td>6497.000000</td>\n",
       "      <td>6497.000000</td>\n",
       "      <td>6497.000000</td>\n",
       "      <td>6497.000000</td>\n",
       "      <td>6497.000000</td>\n",
       "    </tr>\n",
       "    <tr>\n",
       "      <th>mean</th>\n",
       "      <td>7.215307</td>\n",
       "      <td>0.339666</td>\n",
       "      <td>0.318633</td>\n",
       "      <td>5.443235</td>\n",
       "      <td>0.056034</td>\n",
       "      <td>30.525319</td>\n",
       "      <td>115.744574</td>\n",
       "      <td>0.994697</td>\n",
       "      <td>3.218501</td>\n",
       "      <td>0.531268</td>\n",
       "      <td>10.491801</td>\n",
       "      <td>5.818378</td>\n",
       "    </tr>\n",
       "    <tr>\n",
       "      <th>std</th>\n",
       "      <td>1.296434</td>\n",
       "      <td>0.164636</td>\n",
       "      <td>0.145318</td>\n",
       "      <td>4.757804</td>\n",
       "      <td>0.035034</td>\n",
       "      <td>17.749400</td>\n",
       "      <td>56.521855</td>\n",
       "      <td>0.002999</td>\n",
       "      <td>0.160787</td>\n",
       "      <td>0.148806</td>\n",
       "      <td>1.192712</td>\n",
       "      <td>0.873255</td>\n",
       "    </tr>\n",
       "    <tr>\n",
       "      <th>min</th>\n",
       "      <td>3.800000</td>\n",
       "      <td>0.080000</td>\n",
       "      <td>0.000000</td>\n",
       "      <td>0.600000</td>\n",
       "      <td>0.009000</td>\n",
       "      <td>1.000000</td>\n",
       "      <td>6.000000</td>\n",
       "      <td>0.987110</td>\n",
       "      <td>2.720000</td>\n",
       "      <td>0.220000</td>\n",
       "      <td>8.000000</td>\n",
       "      <td>3.000000</td>\n",
       "    </tr>\n",
       "    <tr>\n",
       "      <th>25%</th>\n",
       "      <td>6.400000</td>\n",
       "      <td>0.230000</td>\n",
       "      <td>0.250000</td>\n",
       "      <td>1.800000</td>\n",
       "      <td>0.038000</td>\n",
       "      <td>17.000000</td>\n",
       "      <td>77.000000</td>\n",
       "      <td>0.992340</td>\n",
       "      <td>3.110000</td>\n",
       "      <td>0.430000</td>\n",
       "      <td>9.500000</td>\n",
       "      <td>5.000000</td>\n",
       "    </tr>\n",
       "    <tr>\n",
       "      <th>50%</th>\n",
       "      <td>7.000000</td>\n",
       "      <td>0.290000</td>\n",
       "      <td>0.310000</td>\n",
       "      <td>3.000000</td>\n",
       "      <td>0.047000</td>\n",
       "      <td>29.000000</td>\n",
       "      <td>118.000000</td>\n",
       "      <td>0.994890</td>\n",
       "      <td>3.210000</td>\n",
       "      <td>0.510000</td>\n",
       "      <td>10.300000</td>\n",
       "      <td>6.000000</td>\n",
       "    </tr>\n",
       "    <tr>\n",
       "      <th>75%</th>\n",
       "      <td>7.700000</td>\n",
       "      <td>0.400000</td>\n",
       "      <td>0.390000</td>\n",
       "      <td>8.100000</td>\n",
       "      <td>0.065000</td>\n",
       "      <td>41.000000</td>\n",
       "      <td>156.000000</td>\n",
       "      <td>0.996990</td>\n",
       "      <td>3.320000</td>\n",
       "      <td>0.600000</td>\n",
       "      <td>11.300000</td>\n",
       "      <td>6.000000</td>\n",
       "    </tr>\n",
       "    <tr>\n",
       "      <th>max</th>\n",
       "      <td>15.900000</td>\n",
       "      <td>1.580000</td>\n",
       "      <td>1.660000</td>\n",
       "      <td>65.800000</td>\n",
       "      <td>0.611000</td>\n",
       "      <td>289.000000</td>\n",
       "      <td>440.000000</td>\n",
       "      <td>1.038980</td>\n",
       "      <td>4.010000</td>\n",
       "      <td>2.000000</td>\n",
       "      <td>14.900000</td>\n",
       "      <td>9.000000</td>\n",
       "    </tr>\n",
       "  </tbody>\n",
       "</table>\n",
       "</div>"
      ],
      "text/plain": [
       "       fixed acidity  volatile acidity  citric acid  residual sugar    chlorides  free sulfur dioxide  total sulfur dioxide      density           pH    sulphates      alcohol      quality\n",
       "count    6497.000000       6497.000000  6497.000000     6497.000000  6497.000000          6497.000000           6497.000000  6497.000000  6497.000000  6497.000000  6497.000000  6497.000000\n",
       "mean        7.215307          0.339666     0.318633        5.443235     0.056034            30.525319            115.744574     0.994697     3.218501     0.531268    10.491801     5.818378\n",
       "std         1.296434          0.164636     0.145318        4.757804     0.035034            17.749400             56.521855     0.002999     0.160787     0.148806     1.192712     0.873255\n",
       "min         3.800000          0.080000     0.000000        0.600000     0.009000             1.000000              6.000000     0.987110     2.720000     0.220000     8.000000     3.000000\n",
       "25%         6.400000          0.230000     0.250000        1.800000     0.038000            17.000000             77.000000     0.992340     3.110000     0.430000     9.500000     5.000000\n",
       "50%         7.000000          0.290000     0.310000        3.000000     0.047000            29.000000            118.000000     0.994890     3.210000     0.510000    10.300000     6.000000\n",
       "75%         7.700000          0.400000     0.390000        8.100000     0.065000            41.000000            156.000000     0.996990     3.320000     0.600000    11.300000     6.000000\n",
       "max        15.900000          1.580000     1.660000       65.800000     0.611000           289.000000            440.000000     1.038980     4.010000     2.000000    14.900000     9.000000"
      ]
     },
     "execution_count": 9,
     "metadata": {},
     "output_type": "execute_result"
    }
   ],
   "source": [
    "df.describe()"
   ]
  },
  {
   "cell_type": "code",
   "execution_count": 10,
   "metadata": {},
   "outputs": [],
   "source": [
    "df.columns = [col.lower().replace(' ', '_').replace('.', '_') for col in df.columns]"
   ]
  },
  {
   "cell_type": "code",
   "execution_count": 11,
   "metadata": {},
   "outputs": [],
   "source": [
    "train, val, test = wine_train_val_test(df, seed=42)"
   ]
  },
  {
   "cell_type": "code",
   "execution_count": 12,
   "metadata": {},
   "outputs": [],
   "source": [
    "train, val, test = wrangle_wine()"
   ]
  },
  {
   "cell_type": "code",
   "execution_count": 13,
   "metadata": {},
   "outputs": [
    {
     "data": {
      "text/html": [
       "<div>\n",
       "<style scoped>\n",
       "    .dataframe tbody tr th:only-of-type {\n",
       "        vertical-align: middle;\n",
       "    }\n",
       "\n",
       "    .dataframe tbody tr th {\n",
       "        vertical-align: top;\n",
       "    }\n",
       "\n",
       "    .dataframe thead th {\n",
       "        text-align: right;\n",
       "    }\n",
       "</style>\n",
       "<table border=\"1\" class=\"dataframe\">\n",
       "  <thead>\n",
       "    <tr style=\"text-align: right;\">\n",
       "      <th></th>\n",
       "      <th>fixed_acidity</th>\n",
       "      <th>volatile_acidity</th>\n",
       "      <th>citric_acid</th>\n",
       "      <th>residual_sugar</th>\n",
       "      <th>chlorides</th>\n",
       "      <th>free_sulfur_dioxide</th>\n",
       "      <th>total_sulfur_dioxide</th>\n",
       "      <th>density</th>\n",
       "      <th>ph</th>\n",
       "      <th>sulphates</th>\n",
       "      <th>alcohol</th>\n",
       "      <th>quality</th>\n",
       "      <th>type</th>\n",
       "    </tr>\n",
       "  </thead>\n",
       "  <tbody>\n",
       "    <tr>\n",
       "      <th>3761</th>\n",
       "      <td>9.9</td>\n",
       "      <td>0.490</td>\n",
       "      <td>0.23</td>\n",
       "      <td>2.4</td>\n",
       "      <td>0.087</td>\n",
       "      <td>19.0</td>\n",
       "      <td>115.0</td>\n",
       "      <td>0.99480</td>\n",
       "      <td>2.77</td>\n",
       "      <td>0.44</td>\n",
       "      <td>9.400000</td>\n",
       "      <td>6</td>\n",
       "      <td>white</td>\n",
       "    </tr>\n",
       "    <tr>\n",
       "      <th>3740</th>\n",
       "      <td>7.7</td>\n",
       "      <td>0.280</td>\n",
       "      <td>0.35</td>\n",
       "      <td>15.3</td>\n",
       "      <td>0.056</td>\n",
       "      <td>31.0</td>\n",
       "      <td>117.0</td>\n",
       "      <td>0.99980</td>\n",
       "      <td>3.27</td>\n",
       "      <td>0.50</td>\n",
       "      <td>9.600000</td>\n",
       "      <td>5</td>\n",
       "      <td>white</td>\n",
       "    </tr>\n",
       "    <tr>\n",
       "      <th>1359</th>\n",
       "      <td>11.6</td>\n",
       "      <td>0.475</td>\n",
       "      <td>0.40</td>\n",
       "      <td>1.4</td>\n",
       "      <td>0.091</td>\n",
       "      <td>6.0</td>\n",
       "      <td>28.0</td>\n",
       "      <td>0.99704</td>\n",
       "      <td>3.07</td>\n",
       "      <td>0.65</td>\n",
       "      <td>10.033333</td>\n",
       "      <td>6</td>\n",
       "      <td>red</td>\n",
       "    </tr>\n",
       "    <tr>\n",
       "      <th>1230</th>\n",
       "      <td>7.7</td>\n",
       "      <td>0.180</td>\n",
       "      <td>0.34</td>\n",
       "      <td>2.7</td>\n",
       "      <td>0.066</td>\n",
       "      <td>15.0</td>\n",
       "      <td>58.0</td>\n",
       "      <td>0.99470</td>\n",
       "      <td>3.37</td>\n",
       "      <td>0.78</td>\n",
       "      <td>11.800000</td>\n",
       "      <td>6</td>\n",
       "      <td>red</td>\n",
       "    </tr>\n",
       "    <tr>\n",
       "      <th>4751</th>\n",
       "      <td>7.6</td>\n",
       "      <td>0.250</td>\n",
       "      <td>1.23</td>\n",
       "      <td>4.6</td>\n",
       "      <td>0.035</td>\n",
       "      <td>51.0</td>\n",
       "      <td>294.0</td>\n",
       "      <td>0.99018</td>\n",
       "      <td>3.03</td>\n",
       "      <td>0.43</td>\n",
       "      <td>13.100000</td>\n",
       "      <td>6</td>\n",
       "      <td>white</td>\n",
       "    </tr>\n",
       "  </tbody>\n",
       "</table>\n",
       "</div>"
      ],
      "text/plain": [
       "      fixed_acidity  volatile_acidity  citric_acid  residual_sugar  chlorides  free_sulfur_dioxide  total_sulfur_dioxide  density    ph  sulphates    alcohol  quality   type\n",
       "3761            9.9             0.490         0.23             2.4      0.087                 19.0                 115.0  0.99480  2.77       0.44   9.400000        6  white\n",
       "3740            7.7             0.280         0.35            15.3      0.056                 31.0                 117.0  0.99980  3.27       0.50   9.600000        5  white\n",
       "1359           11.6             0.475         0.40             1.4      0.091                  6.0                  28.0  0.99704  3.07       0.65  10.033333        6    red\n",
       "1230            7.7             0.180         0.34             2.7      0.066                 15.0                  58.0  0.99470  3.37       0.78  11.800000        6    red\n",
       "4751            7.6             0.250         1.23             4.6      0.035                 51.0                 294.0  0.99018  3.03       0.43  13.100000        6  white"
      ]
     },
     "execution_count": 13,
     "metadata": {},
     "output_type": "execute_result"
    }
   ],
   "source": [
    "train.head()"
   ]
  },
  {
   "cell_type": "code",
   "execution_count": 14,
   "metadata": {},
   "outputs": [
    {
     "data": {
      "image/png": "[encoded data removed]",
      "text/plain": [
       "<Figure size 800x600 with 1 Axes>"
      ]
     },
     "metadata": {},
     "output_type": "display_data"
    }
   ],
   "source": [
    "quality_counts = train['quality'].value_counts().sort_index()\n",
    "\n",
    "plt.figure(figsize=(8, 6))\n",
    "ax = plt.bar(quality_counts.index, quality_counts.values)\n",
    "\n",
    "# Add value counts on top of each bar\n",
    "for i, v in enumerate(quality_counts.values):\n",
    "    plt.text(quality_counts.index[i], v + 10, str(v), ha='center', va='bottom')\n",
    "\n",
    "\n",
    "# Removing the y-axis\n",
    "plt.gca().get_yaxis().set_visible(False)\n",
    "\n",
    "# Removing left, right, and top lines of the current axes\n",
    "plt.gca().spines['left'].set_visible(False)\n",
    "plt.gca().spines['right'].set_visible(False)\n",
    "plt.gca().spines['top'].set_visible(False)\n",
    "\n",
    "plt.xlabel('Quality')\n",
    "plt.title('Distribution of Wine Quality')\n",
    "plt.xticks(quality_counts.index)\n",
    "plt.show()"
   ]
  },
  {
   "cell_type": "markdown",
   "metadata": {},
   "source": [
    "___\n",
    "## #1 Alcohol\n",
    "___"
   ]
  },
  {
   "cell_type": "code",
   "execution_count": 15,
   "metadata": {},
   "outputs": [
    {
     "data": {
      "text/html": [
       "<div>\n",
       "<style scoped>\n",
       "    .dataframe tbody tr th:only-of-type {\n",
       "        vertical-align: middle;\n",
       "    }\n",
       "\n",
       "    .dataframe tbody tr th {\n",
       "        vertical-align: top;\n",
       "    }\n",
       "\n",
       "    .dataframe thead th {\n",
       "        text-align: right;\n",
       "    }\n",
       "</style>\n",
       "<table border=\"1\" class=\"dataframe\">\n",
       "  <thead>\n",
       "    <tr style=\"text-align: right;\">\n",
       "      <th></th>\n",
       "      <th>fixed_acidity</th>\n",
       "      <th>volatile_acidity</th>\n",
       "      <th>citric_acid</th>\n",
       "      <th>residual_sugar</th>\n",
       "      <th>chlorides</th>\n",
       "      <th>free_sulfur_dioxide</th>\n",
       "      <th>total_sulfur_dioxide</th>\n",
       "      <th>density</th>\n",
       "      <th>ph</th>\n",
       "      <th>sulphates</th>\n",
       "      <th>alcohol</th>\n",
       "      <th>quality</th>\n",
       "      <th>type</th>\n",
       "    </tr>\n",
       "  </thead>\n",
       "  <tbody>\n",
       "    <tr>\n",
       "      <th>3761</th>\n",
       "      <td>9.9</td>\n",
       "      <td>0.490</td>\n",
       "      <td>0.23</td>\n",
       "      <td>2.4</td>\n",
       "      <td>0.087</td>\n",
       "      <td>19.0</td>\n",
       "      <td>115.0</td>\n",
       "      <td>0.99480</td>\n",
       "      <td>2.77</td>\n",
       "      <td>0.44</td>\n",
       "      <td>9.400000</td>\n",
       "      <td>6</td>\n",
       "      <td>white</td>\n",
       "    </tr>\n",
       "    <tr>\n",
       "      <th>3740</th>\n",
       "      <td>7.7</td>\n",
       "      <td>0.280</td>\n",
       "      <td>0.35</td>\n",
       "      <td>15.3</td>\n",
       "      <td>0.056</td>\n",
       "      <td>31.0</td>\n",
       "      <td>117.0</td>\n",
       "      <td>0.99980</td>\n",
       "      <td>3.27</td>\n",
       "      <td>0.50</td>\n",
       "      <td>9.600000</td>\n",
       "      <td>5</td>\n",
       "      <td>white</td>\n",
       "    </tr>\n",
       "    <tr>\n",
       "      <th>1359</th>\n",
       "      <td>11.6</td>\n",
       "      <td>0.475</td>\n",
       "      <td>0.40</td>\n",
       "      <td>1.4</td>\n",
       "      <td>0.091</td>\n",
       "      <td>6.0</td>\n",
       "      <td>28.0</td>\n",
       "      <td>0.99704</td>\n",
       "      <td>3.07</td>\n",
       "      <td>0.65</td>\n",
       "      <td>10.033333</td>\n",
       "      <td>6</td>\n",
       "      <td>red</td>\n",
       "    </tr>\n",
       "    <tr>\n",
       "      <th>1230</th>\n",
       "      <td>7.7</td>\n",
       "      <td>0.180</td>\n",
       "      <td>0.34</td>\n",
       "      <td>2.7</td>\n",
       "      <td>0.066</td>\n",
       "      <td>15.0</td>\n",
       "      <td>58.0</td>\n",
       "      <td>0.99470</td>\n",
       "      <td>3.37</td>\n",
       "      <td>0.78</td>\n",
       "      <td>11.800000</td>\n",
       "      <td>6</td>\n",
       "      <td>red</td>\n",
       "    </tr>\n",
       "    <tr>\n",
       "      <th>4751</th>\n",
       "      <td>7.6</td>\n",
       "      <td>0.250</td>\n",
       "      <td>1.23</td>\n",
       "      <td>4.6</td>\n",
       "      <td>0.035</td>\n",
       "      <td>51.0</td>\n",
       "      <td>294.0</td>\n",
       "      <td>0.99018</td>\n",
       "      <td>3.03</td>\n",
       "      <td>0.43</td>\n",
       "      <td>13.100000</td>\n",
       "      <td>6</td>\n",
       "      <td>white</td>\n",
       "    </tr>\n",
       "  </tbody>\n",
       "</table>\n",
       "</div>"
      ],
      "text/plain": [
       "      fixed_acidity  volatile_acidity  citric_acid  residual_sugar  chlorides  free_sulfur_dioxide  total_sulfur_dioxide  density    ph  sulphates    alcohol  quality   type\n",
       "3761            9.9             0.490         0.23             2.4      0.087                 19.0                 115.0  0.99480  2.77       0.44   9.400000        6  white\n",
       "3740            7.7             0.280         0.35            15.3      0.056                 31.0                 117.0  0.99980  3.27       0.50   9.600000        5  white\n",
       "1359           11.6             0.475         0.40             1.4      0.091                  6.0                  28.0  0.99704  3.07       0.65  10.033333        6    red\n",
       "1230            7.7             0.180         0.34             2.7      0.066                 15.0                  58.0  0.99470  3.37       0.78  11.800000        6    red\n",
       "4751            7.6             0.250         1.23             4.6      0.035                 51.0                 294.0  0.99018  3.03       0.43  13.100000        6  white"
      ]
     },
     "execution_count": 15,
     "metadata": {},
     "output_type": "execute_result"
    }
   ],
   "source": [
    "train.head()"
   ]
  },
  {
   "cell_type": "code",
   "execution_count": 16,
   "metadata": {},
   "outputs": [
    {
     "data": {
      "image/png": "[encoded data removed]",
      "text/plain": [
       "<Figure size 800x600 with 1 Axes>"
      ]
     },
     "metadata": {},
     "output_type": "display_data"
    }
   ],
   "source": [
    "# Define the bin edges and labels\n",
    "bin_edges = [8, 9, 10, 11, 12, 14]\n",
    "bin_labels = ['8-9', '9-10', '10-11', '11-12', '12-14']\n",
    "\n",
    "# Bin the 'alcohol' values\n",
    "train['alcohol_bins'] = pd.cut(train['alcohol'], bins=bin_edges, labels=bin_labels, include_lowest=True)\n",
    "\n",
    "# Count the values in each bin\n",
    "alcohol_counts = train['alcohol_bins'].value_counts().sort_index()\n",
    "\n",
    "plt.figure(figsize=(8, 6))\n",
    "ax = plt.bar(alcohol_counts.index, alcohol_counts.values)\n",
    "\n",
    "# Adding value counts on top of each bar\n",
    "for i, count in enumerate(alcohol_counts.values):\n",
    "    plt.text(i, count, str(count), ha='center', va='bottom')\n",
    "\n",
    "# Removing the y-axis\n",
    "plt.gca().get_yaxis().set_visible(False)\n",
    "\n",
    "# Removing left, right, and top lines of the current axes\n",
    "plt.gca().spines['left'].set_visible(False)\n",
    "plt.gca().spines['right'].set_visible(False)\n",
    "plt.gca().spines['top'].set_visible(False)\n",
    "\n",
    "plt.xlabel('Alcohol')\n",
    "plt.title('Distribution of Alcohol')\n",
    "plt.xticks(alcohol_counts.index)\n",
    "\n",
    "# Remove the \"quality_bins\" column from the DataFrame\n",
    "train.drop(columns=['alcohol_bins'], inplace=True)\n",
    "\n",
    "plt.show()\n"
   ]
  },
  {
   "cell_type": "markdown",
   "metadata": {},
   "source": [
    "<font size=\"3\">Is alcohol normally distributed?</font>"
   ]
  },
  {
   "cell_type": "code",
   "execution_count": 17,
   "metadata": {},
   "outputs": [
    {
     "name": "stdout",
     "output_type": "stream",
     "text": [
      "Alcohol does not appear to be normally distributed (p-value = 2.2665958267318566e-36  s-value= 0.9515156149864197 )\n"
     ]
    }
   ],
   "source": [
    "statistic, p_value = stats.shapiro(train['alcohol'])\n",
    "\n",
    "if p_value > 0.05:\n",
    "    print(\"Alcohol appears to be normally distributed (p-value =\", p_value, \" s-value=\",statistic, \")\")\n",
    "else:\n",
    "    print(\"Alcohol does not appear to be normally distributed (p-value =\", p_value, \" s-value=\",statistic, \")\")\n"
   ]
  },
  {
   "cell_type": "markdown",
   "metadata": {},
   "source": [
    "<font size=\"3\">Alcohol is `NOT` normally distributed?</font>"
   ]
  },
  {
   "cell_type": "code",
   "execution_count": 18,
   "metadata": {},
   "outputs": [
    {
     "data": {
      "image/png": "[encoded data removed]",
      "text/plain": [
       "<Figure size 1000x600 with 1 Axes>"
      ]
     },
     "metadata": {},
     "output_type": "display_data"
    }
   ],
   "source": [
    "# Define custom labels for \"quality\"\n",
    "bins_q = [3, 5, 6, 9]\n",
    "labels_q = ['Low', 'Med', 'High']\n",
    "\n",
    "# Create a new column \"quality_bins\" to store the bin labels\n",
    "train['quality_bins'] = pd.cut(train['quality'], bins=bins_q, labels=labels_q)\n",
    "\n",
    "# Group the data by \"quality\" and calculate the mean alcohol content for each quality category\n",
    "quality_means = train.groupby('quality_bins')['alcohol'].mean().round(1)\n",
    "\n",
    "# Create a bar plot\n",
    "plt.figure(figsize=(10, 6))\n",
    "quality_means.plot(kind='bar', color='#1f77b4', alpha=0.6)\n",
    "plt.title('Average Alcohol Content by Quality Category')\n",
    "plt.xlabel('Quality')\n",
    "plt.ylabel('Average Alcohol Content')\n",
    "plt.xticks(rotation=0)\n",
    "plt.grid(axis='y')\n",
    "\n",
    "# Adding average on top of each bar\n",
    "for i, count in enumerate(quality_means.values):\n",
    "    plt.text(i, count, str(count), ha='center', va='bottom', fontsize=16)\n",
    "\n",
    "# Removing the y-axis\n",
    "plt.gca().get_yaxis().set_visible(False)\n",
    "\n",
    "# Removing left, right, and top lines of the current axes\n",
    "plt.gca().spines['left'].set_visible(False)\n",
    "plt.gca().spines['right'].set_visible(False)\n",
    "plt.gca().spines['top'].set_visible(False)\n",
    "\n",
    "plt.ylim(8, 13)\n",
    "\n",
    "# Remove the \"quality_bins\" column from the DataFrame\n",
    "train.drop(columns=['quality_bins'], inplace=True)\n",
    "\n",
    "# Show the plot\n",
    "plt.show()"
   ]
  },
  {
   "cell_type": "markdown",
   "metadata": {},
   "source": [
    "<font size=\"4\"> **Hypothesis 1: Alcohol Content Impact**</font>\n",
    "   <font size=\"3\"> \n",
    "   \n",
    "   - *Question:* `Does the Alcohol content impact wine Quality?`\n",
    "   \n",
    "   </font>"
   ]
  },
  {
   "cell_type": "markdown",
   "metadata": {},
   "source": [
    "<font size=\"3\"> H0: There is no statistically significant monotonic relationship between the quality of the wine and the alcohol content.</font>\n",
    "\n",
    "<font size=\"3\">Ha: There is a sstatistically significant monotonic relationship between the quality of the wine and the alcohol content.</font>"
   ]
  },
  {
   "cell_type": "code",
   "execution_count": 19,
   "metadata": {},
   "outputs": [
    {
     "name": "stdout",
     "output_type": "stream",
     "text": [
      "There is a statistically significant Spearman's rank correlation (p-value = 0.0000, corr = 0.4471).\n"
     ]
    }
   ],
   "source": [
    "# Assuming you have a DataFrame named df with columns 'quality' and 'alcohol'\n",
    "spearman_corr, p_value = stats.spearmanr(train['quality'], train['alcohol'])\n",
    "\n",
    "# Interpret the results\n",
    "alpha = 0.05  # Set your desired significance level\n",
    "\n",
    "if p_value < alpha:\n",
    "    print(f\"There is a statistically significant Spearman's rank correlation (p-value = {p_value:.4f}, corr = {spearman_corr:.4f}).\")\n",
    "else:\n",
    "    print(f\"There is no statistically significant Spearman's rank correlation (p-value = {p_value:.4f}, corr = {spearman_corr:.4f}).\")\n"
   ]
  },
  {
   "cell_type": "markdown",
   "metadata": {},
   "source": [
    "<font size=\"3\">We `reject` the null hypothesis</font>"
   ]
  },
  {
   "cell_type": "markdown",
   "metadata": {},
   "source": [
    "___\n",
    "## #2 Density\n",
    "___"
   ]
  },
  {
   "cell_type": "code",
   "execution_count": 20,
   "metadata": {},
   "outputs": [
    {
     "data": {
      "image/png": "[encoded data removed]",
      "text/plain": [
       "<Figure size 640x480 with 1 Axes>"
      ]
     },
     "metadata": {},
     "output_type": "display_data"
    }
   ],
   "source": [
    "# Create a histogram\n",
    "plt.hist(train.density, bins=20, edgecolor='black')\n",
    "\n",
    "plt.xlim(min(train.density), 1.005)\n",
    "\n",
    "# Add labels and title\n",
    "plt.xlabel('Density')\n",
    "plt.ylabel('Frequency')\n",
    "plt.title('Histogram of Density')\n",
    "\n",
    "# Display the histogram\n",
    "plt.show()"
   ]
  },
  {
   "cell_type": "code",
   "execution_count": 21,
   "metadata": {},
   "outputs": [
    {
     "name": "stdout",
     "output_type": "stream",
     "text": [
      "Density does not appear to be normally distributed (p-value = 1.0160853782362848e-33  s-value= 0.959850013256073 )\n"
     ]
    }
   ],
   "source": [
    "statistic, p_value = stats.shapiro(train['density'])\n",
    "\n",
    "if p_value > 0.05:\n",
    "    print(\"Density appears to be normally distributed (p-value =\", p_value, \" s-value=\",statistic, \")\")\n",
    "else:\n",
    "    print(\"Density does not appear to be normally distributed (p-value =\", p_value, \" s-value=\",statistic, \")\")\n"
   ]
  },
  {
   "cell_type": "markdown",
   "metadata": {},
   "source": [
    "<font size=\"3\">Density is `NOT` normally distributed?</font>"
   ]
  },
  {
   "cell_type": "code",
   "execution_count": 22,
   "metadata": {},
   "outputs": [
    {
     "data": {
      "image/png": "[encoded data removed]",
      "text/plain": [
       "<Figure size 1000x600 with 1 Axes>"
      ]
     },
     "metadata": {},
     "output_type": "display_data"
    }
   ],
   "source": [
    "# Define custom labels for \"quality\"\n",
    "bins_q = [3, 5, 6, 9]\n",
    "labels_q = ['Low', 'Med', 'High']\n",
    "\n",
    "# Create a new column \"quality_bins\" to store the bin labels\n",
    "train['quality_bins'] = pd.cut(train['quality'], bins=bins_q, labels=labels_q)\n",
    "\n",
    "# Group the data by \"quality\" and calculate the mean alcohol content for each quality category\n",
    "quality_means = train.groupby('quality_bins')['density'].mean().round(6)\n",
    "\n",
    "# Create a bar plot\n",
    "plt.figure(figsize=(10, 6))\n",
    "quality_means.plot(kind='bar', color='#1f77b4', alpha=0.6)\n",
    "plt.title('Average density by Quality Category')\n",
    "plt.xlabel('Quality')\n",
    "plt.ylabel('Average Alcohol Content')\n",
    "plt.xticks(rotation=0)\n",
    "plt.grid(axis='y')\n",
    "\n",
    "# Adding average on top of each bar\n",
    "for i, count in enumerate(quality_means.values):\n",
    "    plt.text(i, count, '{:.3e}'.format(count), ha='center', va='bottom', fontsize=16)\n",
    "\n",
    "# Removing the y-axis\n",
    "plt.gca().get_yaxis().set_visible(False)\n",
    "\n",
    "# Removing left, right, and top lines of the current axes\n",
    "plt.gca().spines['left'].set_visible(False)\n",
    "plt.gca().spines['right'].set_visible(False)\n",
    "plt.gca().spines['top'].set_visible(False)\n",
    "\n",
    "plt.ylim(0.98711, 1)\n",
    "\n",
    "# Remove the \"quality_bins\" column from the DataFrame\n",
    "train.drop(columns=['quality_bins'], inplace=True)\n",
    "\n",
    "# Show the plot\n",
    "plt.show()"
   ]
  },
  {
   "cell_type": "markdown",
   "metadata": {},
   "source": [
    "<font size=\"4\"> **Hypothesis 2: Density Impact**</font>\n",
    "   <font size=\"3\"> \n",
    "   \n",
    "   - *Question:* `Does the Density impact wine Quality?`\n",
    "   </font>"
   ]
  },
  {
   "cell_type": "markdown",
   "metadata": {},
   "source": [
    "H0: There is no statistically significant monotonic relationship between the quality of the wine and the alcohol content.\n",
    "\n",
    "Ha: There is a sstatistically significant monotonic relationship between the quality of the wine and the alcohol content."
   ]
  },
  {
   "cell_type": "code",
   "execution_count": 23,
   "metadata": {},
   "outputs": [
    {
     "name": "stdout",
     "output_type": "stream",
     "text": [
      "There is a statistically significant Spearman's rank correlation (p-value = 0.0000, corr = -0.3168).\n"
     ]
    }
   ],
   "source": [
    "# Assuming you have a DataFrame named df with columns 'quality' and 'alcohol'\n",
    "spearman_corr, p_value = stats.spearmanr(train['quality'], train['density'])\n",
    "\n",
    "# Interpret the results\n",
    "alpha = 0.05  # Set your desired significance level\n",
    "\n",
    "if p_value < alpha:\n",
    "    print(f\"There is a statistically significant Spearman's rank correlation (p-value = {p_value:.4f}, corr = {spearman_corr:.4f}).\")\n",
    "else:\n",
    "    print(f\"There is no statistically significant Spearman's rank correlation (p-value = {p_value:.4f}, corr = {spearman_corr:.4f}).\")\n"
   ]
  },
  {
   "cell_type": "markdown",
   "metadata": {},
   "source": [
    "<font size=\"3\">We `reject` the null hypothesis</font>"
   ]
  },
  {
   "cell_type": "markdown",
   "metadata": {},
   "source": [
    "___\n",
    "## #3 Volatile Acidity\n",
    "___"
   ]
  },
  {
   "cell_type": "code",
   "execution_count": 24,
   "metadata": {},
   "outputs": [
    {
     "data": {
      "image/png": "[encoded data removed]",
      "text/plain": [
       "<Figure size 640x480 with 1 Axes>"
      ]
     },
     "metadata": {},
     "output_type": "display_data"
    }
   ],
   "source": [
    "# Create a histogram\n",
    "plt.hist(train.volatile_acidity, bins=20, edgecolor='black')\n",
    "\n",
    "plt.xlim(min(train.volatile_acidity), 1)\n",
    "\n",
    "# Add labels and title\n",
    "plt.xlabel('Volatile Acidity')\n",
    "plt.ylabel('Frequency')\n",
    "plt.title('Histogram of Volatile Acidity')\n",
    "\n",
    "# Display the histogram\n",
    "plt.show()"
   ]
  },
  {
   "cell_type": "code",
   "execution_count": 25,
   "metadata": {},
   "outputs": [
    {
     "name": "stdout",
     "output_type": "stream",
     "text": [
      "Volatile Acidity does not appear to be normally distributed (p-value = 0.0  s-value= 0.8766323328018188 )\n"
     ]
    }
   ],
   "source": [
    "statistic, p_value = stats.shapiro(train['volatile_acidity'])\n",
    "\n",
    "if p_value > 0.05:\n",
    "    print(\"Volatile Acidity appears to be normally distributed (p-value =\", p_value, \" s-value=\",statistic, \")\")\n",
    "else:\n",
    "    print(\"Volatile Acidity does not appear to be normally distributed (p-value =\", p_value, \" s-value=\",statistic, \")\")\n"
   ]
  },
  {
   "cell_type": "markdown",
   "metadata": {},
   "source": [
    "<font size=\"3\">Volatile Acidity is `NOT` normally distributed?</font>"
   ]
  },
  {
   "cell_type": "code",
   "execution_count": 26,
   "metadata": {},
   "outputs": [
    {
     "data": {
      "image/png": "[encoded data removed]",
      "text/plain": [
       "<Figure size 1000x600 with 1 Axes>"
      ]
     },
     "metadata": {},
     "output_type": "display_data"
    }
   ],
   "source": [
    "# Define custom labels for \"quality\"\n",
    "bins_q = [3, 5, 6, 9]\n",
    "labels_q = ['Low', 'Med', 'High']\n",
    "\n",
    "# Create a new column \"quality_bins\" to store the bin labels\n",
    "train['quality_bins'] = pd.cut(train['quality'], bins=bins_q, labels=labels_q)\n",
    "\n",
    "# Group the data by \"quality\" and calculate the mean alcohol content for each quality category\n",
    "quality_means = train.groupby('quality_bins')['volatile_acidity'].mean().round(6)\n",
    "\n",
    "# Create a bar plot\n",
    "plt.figure(figsize=(10, 6))\n",
    "quality_means.plot(kind='bar', color='#1f77b4', alpha=0.6)\n",
    "plt.title('Average Volatile Acidity by Quality Category')\n",
    "plt.xlabel('Quality')\n",
    "plt.ylabel('Average Volatile Acidity')\n",
    "plt.xticks(rotation=0)\n",
    "plt.grid(axis='y')\n",
    "\n",
    "# Adding average on top of each bar\n",
    "for i, count in enumerate(quality_means.values):\n",
    "    plt.text(i, count, '{:.2f}'.format(count), ha='center', va='bottom', fontsize=16)\n",
    "\n",
    "# Removing the y-axis\n",
    "plt.gca().get_yaxis().set_visible(False)\n",
    "\n",
    "# Removing left, right, and top lines of the current axes\n",
    "plt.gca().spines['left'].set_visible(False)\n",
    "plt.gca().spines['right'].set_visible(False)\n",
    "plt.gca().spines['top'].set_visible(False)\n",
    "\n",
    "plt.ylim(0.1, .5)\n",
    "\n",
    "# Remove the \"quality_bins\" column from the DataFrame\n",
    "train.drop(columns=['quality_bins'], inplace=True)\n",
    "\n",
    "# Show the plot\n",
    "plt.show()"
   ]
  },
  {
   "cell_type": "markdown",
   "metadata": {},
   "source": [
    "<font size=\"4\"> **Hypothesis 3: Volatile Acidity Impact**</font>\n",
    "   <font size=\"3\"> \n",
    "   \n",
    "   - *Question:* `Does the Volatile Acidity impact wine Quality?`\n",
    "   </font>"
   ]
  },
  {
   "cell_type": "markdown",
   "metadata": {},
   "source": [
    "H0: There is no statistically significant monotonic relationship between the quality of the wine and the Volatile Acidity.\n",
    "\n",
    "Ha: There is a sstatistically significant monotonic relationship between the quality of the wine and the Volatile Acidity."
   ]
  },
  {
   "cell_type": "code",
   "execution_count": 27,
   "metadata": {},
   "outputs": [
    {
     "name": "stdout",
     "output_type": "stream",
     "text": [
      "There is a statistically significant Spearman's rank correlation (p-value = 0.0000, corr = -0.2609).\n"
     ]
    }
   ],
   "source": [
    "# Assuming you have a DataFrame named df with columns 'quality' and 'alcohol'\n",
    "spearman_corr, p_value = stats.spearmanr(train['quality'], train['volatile_acidity'])\n",
    "\n",
    "# Interpret the results\n",
    "alpha = 0.05  # Set your desired significance level\n",
    "\n",
    "if p_value < alpha:\n",
    "    print(f\"There is a statistically significant Spearman's rank correlation (p-value = {p_value:.4f}, corr = {spearman_corr:.4f}).\")\n",
    "else:\n",
    "    print(f\"There is no statistically significant Spearman's rank correlation (p-value = {p_value:.4f}, corr = {spearman_corr:.4f}).\")\n"
   ]
  },
  {
   "cell_type": "markdown",
   "metadata": {},
   "source": [
    "<font size=\"3\">We `reject` the null hypothesis</font>"
   ]
  },
  {
   "cell_type": "code",
   "execution_count": null,
   "metadata": {},
   "outputs": [],
   "source": []
  },
  {
   "cell_type": "markdown",
   "metadata": {},
   "source": [
    "___\n",
    "<font size=\"5\">Exploration Summary</font><br>\n",
    "___"
   ]
  },
  {
   "cell_type": "markdown",
   "metadata": {},
   "source": [
    "We performed `PearsonR` test on: \n",
    "\n",
    " - Alcohol\n",
    " - Density\n",
    " - Volatile Acidity\n",
    " \n",
    " `All indicated a significant monotonic relationship`\n"
   ]
  },
  {
   "cell_type": "code",
   "execution_count": 28,
   "metadata": {},
   "outputs": [],
   "source": [
    "from sklearn.feature_selection import SelectKBest, f_regression, RFE\n",
    "from sklearn.linear_model import LinearRegression, Lasso\n",
    "\n",
    "def kbest_features(df, col_name, k=2):\n",
    "    \"\"\"\n",
    "    Selects the top k best features for regression from a DataFrame.\n",
    "\n",
    "    Parameters:\n",
    "        df (DataFrame): The input DataFrame containing features and the target column.\n",
    "        col_name (str): The name of the target column.\n",
    "        k (int): The number of top features to select (default is 2).\n",
    "\n",
    "    Returns:\n",
    "        selected_df (DataFrame): A DataFrame with two columns: 'Column Name' and 'Score'.\n",
    "            'Column Name' contains the column names of the selected features.\n",
    "\n",
    "    Example:\n",
    "        selected_features = select_k_best_features(your_dataframe, 'value', k=2)\n",
    "    \"\"\"\n",
    "    # Create X and y\n",
    "    X = df.drop(columns=[col_name])  # Remove the target column\n",
    "    y = df[col_name]\n",
    "    \n",
    "    # Filter X to keep only columns that can be converted to float\n",
    "    X = X.select_dtypes(include=['number', 'float'])  # Keep numeric and float columns\n",
    "    \n",
    "    # Initialize SelectKBest with f_regression\n",
    "    skb = SelectKBest(f_regression, k=k)\n",
    "    \n",
    "    # Fit SelectKBest on X and y\n",
    "    skb.fit(X, y)\n",
    "    \n",
    "    # Get the mask of selected features\n",
    "    skb_mask = skb.get_support()\n",
    "    \n",
    "    # Get the scores for all features\n",
    "    feature_scores = skb.scores_\n",
    "    \n",
    "    # Create a DataFrame with column names and scores\n",
    "    selected_df = pd.DataFrame({\n",
    "        'Kbest': X.columns[skb_mask],\n",
    "        'Score': feature_scores[skb_mask]\n",
    "    })\n",
    "    \n",
    "    # Sort the DataFrame by score in descending order\n",
    "    selected_df = selected_df.sort_values(by='Score', ascending=False)\n",
    "    \n",
    "    selected_df.reset_index(drop=True, inplace=True)\n",
    "    \n",
    "    selected_df.drop('Score', axis=1, inplace=True)\n",
    "    \n",
    "    return selected_df\n",
    "\n",
    "# -----------------------------------------------------------------------------------------------\n",
    "# -----------------------------------------------------------------------------------------------\n",
    "\n",
    "def rfe_features(df, col_name, n_features=3):\n",
    "    \"\"\"\n",
    "    Selects a specified number of features from a DataFrame using Linear Regression and RFE.\n",
    "\n",
    "    Parameters:\n",
    "        df (pd.DataFrame): The input DataFrame containing the features and target variable.\n",
    "        col_name (str): The name of the target column.\n",
    "        n_features (int): The number of features to select (default is 3).\n",
    "\n",
    "    Returns:\n",
    "        pd.Series: A Series containing the selected feature names.\n",
    "    \"\"\"\n",
    "    # Drop the target column from the DataFrame\n",
    "    X = df.drop(columns=[col_name])\n",
    "    \n",
    "    # Select columns with numeric or float data types\n",
    "    X = X.select_dtypes(include=['number', 'float'])\n",
    "    \n",
    "    # Extract the target variable\n",
    "    y = df[col_name]\n",
    "    \n",
    "    # Initialize a Linear Regression model\n",
    "    lm = LinearRegression()\n",
    "    \n",
    "    # Initialize RFE (Recursive Feature Elimination) with the specified number of features to select\n",
    "    rfe = RFE(lm, n_features_to_select=n_features)\n",
    "    \n",
    "    # Fit RFE on the data\n",
    "    rfe.fit(X, y)\n",
    "    \n",
    "    # Get the mask of selected features\n",
    "    rfe_mask = rfe.get_support()\n",
    "    \n",
    "    # Get the column names of selected features\n",
    "    selected_features = X.columns[rfe_mask]\n",
    "    \n",
    "    # Create a DataFrame to present the selected features\n",
    "    selected_df = pd.DataFrame({'RFE': selected_features})\n",
    "    \n",
    "    return selected_df\n",
    "\n",
    "# -----------------------------------------------------------------------------------------------\n",
    "# -----------------------------------------------------------------------------------------------\n",
    "\n",
    "def lasso_features(df, col_name, k=2):\n",
    "    \"\"\"\n",
    "    Performs LASSO feature selection to select the top k features for regression from a DataFrame.\n",
    "\n",
    "    Parameters:\n",
    "        df (DataFrame): The input DataFrame containing features and the target column.\n",
    "        col_name (str): The name of the target column.\n",
    "        k (int): The number of top features to select (default is 2).\n",
    "\n",
    "    Returns:\n",
    "        selected_df (DataFrame): A DataFrame with two columns: 'Column Name' and 'Coefficient'.\n",
    "            'Column Name' contains the column names of the selected features.\n",
    "            'Coefficient' contains the corresponding LASSO regression coefficients.\n",
    "\n",
    "    Example:\n",
    "        selected_features = lasso_feature_selection(your_dataframe, 'value', k=2)\n",
    "    \"\"\"\n",
    "    # Create X and y\n",
    "    X = df.drop(columns=[col_name])  # Remove the target column\n",
    "    y = df[col_name]\n",
    "    \n",
    "    # Filter X to keep only numeric and float columns\n",
    "    X = X.select_dtypes(include=['number', 'float'])\n",
    "    \n",
    "    # Initialize LASSO regression with alpha=1.0 (adjust as needed)\n",
    "    lasso = Lasso(alpha=0.5, max_iter=100000)\n",
    "    \n",
    "    # Fit LASSO on X and y\n",
    "    lasso.fit(X, y)\n",
    "    \n",
    "    # Create a DataFrame with selected column names and their coefficients\n",
    "    selected_df = pd.DataFrame({\n",
    "        'Lasso': X.columns,\n",
    "        'Coefficient': lasso.coef_\n",
    "    })\n",
    "    \n",
    "    # Sort the DataFrame by absolute coefficient value in descending order\n",
    "    selected_df['Coefficient'] = abs(selected_df['Coefficient'])\n",
    "    selected_df = selected_df.sort_values(by='Coefficient', ascending=False)\n",
    "    \n",
    "    # Keep the top k features\n",
    "    selected_df = selected_df.head(k)\n",
    "    \n",
    "    selected_df.reset_index(drop=True, inplace=True)\n",
    "    \n",
    "    selected_df.drop('Coefficient', axis=1, inplace=True)\n",
    "    \n",
    "    return selected_df\n",
    "\n",
    "# -----------------------------------------------------------------------------------------------\n",
    "# -----------------------------------------------------------------------------------------------\n",
    "\n",
    "def feature_selections_results(df, col_name, k=2):\n",
    "    \"\"\"\n",
    "    Combine the results of three feature selection functions into a final DataFrame.\n",
    "\n",
    "    Parameters:\n",
    "    df (DataFrame): The input DataFrame containing features and the target column.\n",
    "    col_name (str): The name of the target column.\n",
    "    k (int, optional): The number of top features to select (default is 2).\n",
    "\n",
    "    Returns:\n",
    "    DataFrame: A DataFrame containing the selected features from three different feature selection methods.\n",
    "    \"\"\"\n",
    "    selected_df1 = kbest_features(df, col_name, k)\n",
    "    selected_df2 = rfe_features(df, col_name, k)\n",
    "    selected_df3 = lasso_features(df, col_name, k)\n",
    "    \n",
    "    final_selected_df = pd.concat([selected_df1, selected_df2, selected_df3], axis=1)\n",
    "    \n",
    "    return final_selected_df\n",
    "\n",
    "# -----------------------------------------------------------------------------------------------\n",
    "# -----------------------------------------------------------------------------------------------\n",
    "\n",
    "def MinMax_Scaler(df):\n",
    "    \"\"\"\n",
    "    Apply Min-Max scaling to selected columns of a DataFrame.\n",
    "\n",
    "    Parameters:\n",
    "        df (pd.DataFrame): The DataFrame containing the columns to be scaled.\n",
    "\n",
    "    Returns:\n",
    "        pd.DataFrame: The DataFrame with specified columns scaled using Min-Max scaling.\n",
    "\n",
    "    Note:\n",
    "        - The function applies Min-Max scaling to numeric columns (float or int) in the DataFrame.\n",
    "        - The 'value' column is excluded from scaling.\n",
    "        - The selected columns are scaled to the range [0, 1].\n",
    "    \"\"\"\n",
    "    mms = MinMaxScaler()\n",
    "\n",
    "    # Select columns to scale (excluding 'value')\n",
    "    to_scale = df.select_dtypes(include=['float', 'int']).columns.tolist()\n",
    "    to_scale.remove('quality')\n",
    "\n",
    "    # Apply Min-Max scaling to the selected columns\n",
    "    df[to_scale] = mms.fit_transform(df[to_scale])\n",
    "    \n",
    "    return df\n",
    "\n",
    "# -----------------------------------------------------------------------------------------------\n",
    "# -----------------------------------------------------------------------------------------------\n",
    "\n",
    "def MinMax_Scaler_xy(df):\n",
    "    \"\"\"\n",
    "    Apply Min-Max scaling to selected columns of a DataFrame.\n",
    "\n",
    "    Parameters:\n",
    "        df (pd.DataFrame): The DataFrame containing the columns to be scaled.\n",
    "\n",
    "    Returns:\n",
    "        pd.DataFrame: The DataFrame with specified columns scaled using Min-Max scaling.\n",
    "\n",
    "    Note:\n",
    "        - The function applies Min-Max scaling to numeric columns (float or int) in the DataFrame.\n",
    "        - The 'value' column is excluded from scaling.\n",
    "        - The selected columns are scaled to the range [0, 1].\n",
    "    \"\"\"\n",
    "    mms = MinMaxScaler()\n",
    "\n",
    "    # Select columns to scale (excluding 'value')\n",
    "    to_scale = df.select_dtypes(include=['float', 'int']).columns.tolist()\n",
    "\n",
    "    # Apply Min-Max scaling to the selected columns\n",
    "    df[to_scale] = mms.fit_transform(df[to_scale])\n",
    "    \n",
    "    return df\n",
    "\n",
    "# -----------------------------------------------------------------------------------------------\n",
    "# -----------------------------------------------------------------------------------------------\n",
    "\n",
    "def hot_encode(df):\n",
    "    \"\"\"\n",
    "    Perform one-hot encoding on a DataFrame.\n",
    "\n",
    "    Parameters:\n",
    "        df (pd.DataFrame): The DataFrame containing categorical columns to be one-hot encoded.\n",
    "\n",
    "    Returns:\n",
    "        pd.DataFrame: The DataFrame with categorical columns converted to one-hot encoded columns.\n",
    "\n",
    "    Note:\n",
    "        - The function uses pd.get_dummies to perform one-hot encoding on the specified DataFrame.\n",
    "        - All categorical columns are one-hot encoded without dropping the first category (drop_first=False).\n",
    "    \"\"\"\n",
    "    # Use pd.get_dummies to one-hot encode the DataFrame\n",
    "    df = pd.get_dummies(df, drop_first=True)\n",
    "    \n",
    "    return df\n",
    "\n",
    "def xy_split(df):\n",
    "    \"\"\"\n",
    "    Split the input DataFrame into feature matrix (X) and target vector (y).\n",
    "    \n",
    "    Parameters:\n",
    "    df (DataFrame): The input DataFrame containing features and target.\n",
    "    \n",
    "    Returns:\n",
    "    X (DataFrame): Feature matrix (all columns except 'value').\n",
    "    y (Series): Target vector (column 'value').\n",
    "    \"\"\"\n",
    "    # Split the dataset into feature columns (X) and target column (y)\n",
    "    return df.drop(columns=['quality']), df.quality\n",
    "\n",
    "def data_pipeline(df):\n",
    "    train, val, test = wine_train_val_test(df)\n",
    "    #train, val, test = scale_train_val_test(train, val, test)\n",
    "    train = hot_encode(train)\n",
    "    val = hot_encode(train)\n",
    "    test = hot_encode(train)\n",
    "    X_train, y_train = xy_split(train)\n",
    "    X_val, y_val = xy_split(val)\n",
    "    X_test, y_test = xy_split(test)\n",
    "    return train, val, test, X_train, y_train, X_val, y_val, X_test, y_test"
   ]
  },
  {
   "cell_type": "markdown",
   "metadata": {},
   "source": [
    "We performed feature selection using:\n",
    " \n",
    "- `SelectKbest`\n",
    "- `RFE`\n",
    "- `LASSO`"
   ]
  },
  {
   "cell_type": "code",
   "execution_count": 29,
   "metadata": {},
   "outputs": [
    {
     "data": {
      "text/html": [
       "<div>\n",
       "<style scoped>\n",
       "    .dataframe tbody tr th:only-of-type {\n",
       "        vertical-align: middle;\n",
       "    }\n",
       "\n",
       "    .dataframe tbody tr th {\n",
       "        vertical-align: top;\n",
       "    }\n",
       "\n",
       "    .dataframe thead th {\n",
       "        text-align: right;\n",
       "    }\n",
       "</style>\n",
       "<table border=\"1\" class=\"dataframe\">\n",
       "  <thead>\n",
       "    <tr style=\"text-align: right;\">\n",
       "      <th></th>\n",
       "      <th>Kbest</th>\n",
       "      <th>RFE</th>\n",
       "      <th>Lasso</th>\n",
       "    </tr>\n",
       "  </thead>\n",
       "  <tbody>\n",
       "    <tr>\n",
       "      <th>0</th>\n",
       "      <td>alcohol</td>\n",
       "      <td>volatile_acidity</td>\n",
       "      <td>free_sulfur_dioxide</td>\n",
       "    </tr>\n",
       "    <tr>\n",
       "      <th>1</th>\n",
       "      <td>density</td>\n",
       "      <td>chlorides</td>\n",
       "      <td>total_sulfur_dioxide</td>\n",
       "    </tr>\n",
       "    <tr>\n",
       "      <th>2</th>\n",
       "      <td>volatile_acidity</td>\n",
       "      <td>density</td>\n",
       "      <td>fixed_acidity</td>\n",
       "    </tr>\n",
       "    <tr>\n",
       "      <th>3</th>\n",
       "      <td>chlorides</td>\n",
       "      <td>sulphates</td>\n",
       "      <td>volatile_acidity</td>\n",
       "    </tr>\n",
       "  </tbody>\n",
       "</table>\n",
       "</div>"
      ],
      "text/plain": [
       "              Kbest               RFE                 Lasso\n",
       "0           alcohol  volatile_acidity   free_sulfur_dioxide\n",
       "1           density         chlorides  total_sulfur_dioxide\n",
       "2  volatile_acidity           density         fixed_acidity\n",
       "3         chlorides         sulphates      volatile_acidity"
      ]
     },
     "execution_count": 29,
     "metadata": {},
     "output_type": "execute_result"
    }
   ],
   "source": [
    "feature_selections_results(train, 'quality', 4)"
   ]
  },
  {
   "cell_type": "markdown",
   "metadata": {},
   "source": [
    "- free_sulfur_dioxide\n",
    "- chlorides\n",
    "- total_sulfur_dioxide\n",
    "- volatile_acidity\n",
    "- sulphates\n",
    "- fixed_aciditydd"
   ]
  },
  {
   "cell_type": "code",
   "execution_count": 30,
   "metadata": {},
   "outputs": [],
   "source": [
    "train = hot_encode(train)"
   ]
  },
  {
   "cell_type": "code",
   "execution_count": null,
   "metadata": {},
   "outputs": [],
   "source": []
  },
  {
   "cell_type": "markdown",
   "metadata": {},
   "source": [
    "___\n",
    "<font size=\"5\">Modeling</font><br>\n",
    "___"
   ]
  },
  {
   "cell_type": "code",
   "execution_count": 31,
   "metadata": {},
   "outputs": [],
   "source": [
    "from math import sqrt\n",
    "from sklearn.metrics import mean_squared_error\n",
    "\n",
    "def eval_baseline(y_train):\n",
    "    \"\"\"\n",
    "    Evaluate the baseline model's performance using the root mean squared error (RMSE).\n",
    "\n",
    "    Parameters:\n",
    "        y_train (pd.Series): The target variable from the training dataset.\n",
    "\n",
    "    Returns:\n",
    "        float: The RMSE score representing the baseline model's performance.\n",
    "\n",
    "    Note:\n",
    "        - The function creates a baseline model by predicting the mean value of the training target variable for all samples.\n",
    "        - It calculates the RMSE between the actual target values and the mean predictions.\n",
    "        - The RMSE score quantifies the baseline model's performance.\n",
    "    \"\"\"\n",
    "    baselines = pd.DataFrame({'y_actual': y_train, 'y_mean': y_train.mean()})\n",
    "    \n",
    "    return sqrt(mean_squared_error(baselines.y_actual, baselines.y_mean))"
   ]
  },
  {
   "cell_type": "code",
   "execution_count": 32,
   "metadata": {},
   "outputs": [],
   "source": [
    "train, val, test, X_train, y_train, X_val, y_val, X_test, y_test = data_pipeline(df)"
   ]
  },
  {
   "cell_type": "code",
   "execution_count": 33,
   "metadata": {},
   "outputs": [
    {
     "data": {
      "text/plain": [
       "0.8812045100258817"
      ]
     },
     "execution_count": 33,
     "metadata": {},
     "output_type": "execute_result"
    }
   ],
   "source": [
    "eval_baseline(y_train)"
   ]
  },
  {
   "cell_type": "code",
   "execution_count": 34,
   "metadata": {},
   "outputs": [],
   "source": [
    "from sklearn.ensemble import RandomForestRegressor\n",
    "\n",
    "def eval_model(y_actual, y_hat):\n",
    "    \"\"\"\n",
    "    Evaluate a model's performance using the root mean squared error (RMSE).\n",
    "\n",
    "    Parameters:\n",
    "        y_actual (pd.Series): The actual target values.\n",
    "        y_hat (pd.Series or np.array): The predicted target values.\n",
    "\n",
    "    Returns:\n",
    "        float: The RMSE score representing the model's performance.\n",
    "\n",
    "    Note:\n",
    "        - The function calculates the RMSE between the actual target values and the predicted values.\n",
    "        - The RMSE score quantifies the model's performance, where lower values indicate better performance.\n",
    "    \"\"\"\n",
    "    return sqrt(mean_squared_error(y_actual, y_hat))\n",
    "\n",
    "def update_model_results(model_name, train_rmse, val_rmse, model_results=None):\n",
    "    \"\"\"\n",
    "    Update a DataFrame with model evaluation results (RMSE) for a given model.\n",
    "\n",
    "    Parameters:\n",
    "        model_name (str): The name or identifier of the model.\n",
    "        train_rmse (float): The root mean squared error (RMSE) on the training dataset.\n",
    "        val_rmse (float): The root mean squared error (RMSE) on the validation dataset.\n",
    "        model_results (pd.DataFrame, optional): An existing DataFrame containing model results. Default is None.\n",
    "\n",
    "    Returns:\n",
    "        pd.DataFrame: An updated DataFrame with the new model's results.\n",
    "\n",
    "    Note:\n",
    "        - The function creates a DataFrame with the model's name and RMSE results on the training and validation datasets.\n",
    "        - If `model_results` is provided, it concatenates the new results with the existing DataFrame.\n",
    "        - If `model_results` is not provided, it creates a new DataFrame to store the results.\n",
    "    \"\"\"\n",
    "    # Create a DataFrame with model name and RMSE results\n",
    "    results_df = pd.DataFrame({\n",
    "        'Model': [model_name],\n",
    "        'Train_RMSE': [train_rmse],\n",
    "        'Val_RMSE': [val_rmse]\n",
    "    })\n",
    "    \n",
    "    # Check if model_results already exists\n",
    "    if model_results is not None:\n",
    "        # Concatenate results with existing DataFrame\n",
    "        model_results = pd.concat([model_results, results_df], ignore_index=True)\n",
    "    else:\n",
    "        # Create a new DataFrame if it doesn't exist\n",
    "        model_results = results_df\n",
    "\n",
    "    return model_results\n",
    "\n",
    "# -----------------------------------------------------------------------------------------------\n",
    "# -----------------------------------------------------------------------------------------------\n",
    "\n",
    "def train_model(model_name, X_train, y_train, X_val, y_val, model_results=None):\n",
    "    \"\"\"\n",
    "    Train a machine learning model, evaluate its performance, and update the model results DataFrame.\n",
    "\n",
    "    Parameters:\n",
    "        model_name (class): The machine learning model class (e.g., LinearRegression).\n",
    "        X_train (pd.DataFrame): The feature matrix of the training dataset.\n",
    "        y_train (pd.Series): The target variable of the training dataset.\n",
    "        X_val (pd.DataFrame): The feature matrix of the validation dataset.\n",
    "        y_val (pd.Series): The target variable of the validation dataset.\n",
    "        model_results (pd.DataFrame, optional): An existing DataFrame containing model results. Default is None.\n",
    "\n",
    "    Returns:\n",
    "    model: Trained machine learning model.\n",
    "    model_results: Updated DataFrame containing model name and RMSE results.\n",
    "\n",
    "    Note:\n",
    "        - The function trains a machine learning model on the provided training data.\n",
    "        - It evaluates the model's performance on both the training and validation sets using RMSE.\n",
    "        - RMSE values are printed for both sets in a formatted manner.\n",
    "        - The model name is extracted from the class and used for updating the model results DataFrame.\n",
    "        - If `model_results` is provided, it is updated with the new model's results.\n",
    "        - If `model_results` is not provided, a new DataFrame is created to store the results.\n",
    "    \"\"\"\n",
    "    # Fit the model on the training data\n",
    "    model = model_name()\n",
    "    model.fit(X_train, y_train)\n",
    "    \n",
    "    # Make predictions on the training set\n",
    "    train_preds = model.predict(X_train)\n",
    "    \n",
    "    # Calculate RMSE on the training set\n",
    "    train_rmse = eval_model(y_train, train_preds)\n",
    "    \n",
    "    # Make predictions on the validation set\n",
    "    val_preds = model.predict(X_val)\n",
    "    \n",
    "    # Calculate RMSE on the validation set\n",
    "    val_rmse = eval_model(y_val, val_preds)\n",
    "    \n",
    "    # Print RMSE values for training and validation sets (formatted)\n",
    "    train_rmse_formatted = \"${:,.2f}\".format(train_rmse)\n",
    "    val_rmse_formatted = \"${:,.2f}\".format(val_rmse)\n",
    "    print(f'The train RMSE is {train_rmse_formatted}.')\n",
    "    print(f'The validate RMSE is {val_rmse_formatted}.')\n",
    "    \n",
    "    # Extract the name of the model class without the module path\n",
    "    model_name = model.__class__.__name__\n",
    "\n",
    "    # Update the model results DataFrame\n",
    "    model_results = update_model_results(model_name, train_rmse_formatted, val_rmse_formatted, model_results)\n",
    "\n",
    "    return model, model_results\n"
   ]
  },
  {
   "cell_type": "code",
   "execution_count": 35,
   "metadata": {},
   "outputs": [
    {
     "name": "stdout",
     "output_type": "stream",
     "text": [
      "The train RMSE is $0.23.\n",
      "The validate RMSE is $0.23.\n"
     ]
    }
   ],
   "source": [
    "rforest, model_results = train_model(RandomForestRegressor, X_train, y_train, X_val, y_val)"
   ]
  },
  {
   "cell_type": "code",
   "execution_count": 36,
   "metadata": {},
   "outputs": [],
   "source": [
    "from xgboost import XGBRegressor"
   ]
  },
  {
   "cell_type": "code",
   "execution_count": 37,
   "metadata": {},
   "outputs": [
    {
     "name": "stdout",
     "output_type": "stream",
     "text": [
      "The train RMSE is $0.25.\n",
      "The validate RMSE is $0.25.\n"
     ]
    }
   ],
   "source": [
    "xgbr, model_results = train_model(XGBRegressor, X_train, y_train, X_val, y_val, model_results)"
   ]
  },
  {
   "cell_type": "code",
   "execution_count": 38,
   "metadata": {},
   "outputs": [],
   "source": [
    "from sklearn.linear_model import LinearRegression, LassoLars, TweedieRegressor"
   ]
  },
  {
   "cell_type": "code",
   "execution_count": null,
   "metadata": {},
   "outputs": [],
   "source": []
  },
  {
   "cell_type": "code",
   "execution_count": 39,
   "metadata": {},
   "outputs": [
    {
     "name": "stdout",
     "output_type": "stream",
     "text": [
      "The train RMSE is $0.88.\n",
      "The validate RMSE is $0.88.\n"
     ]
    }
   ],
   "source": [
    "lasso, model_results = train_model(LassoLars, X_train, y_train, X_val, y_val, model_results)"
   ]
  },
  {
   "cell_type": "code",
   "execution_count": 40,
   "metadata": {},
   "outputs": [
    {
     "name": "stdout",
     "output_type": "stream",
     "text": [
      "The train RMSE is $0.74.\n",
      "The validate RMSE is $0.74.\n"
     ]
    }
   ],
   "source": [
    "linearr, model_results = train_model(LinearRegression, X_train, y_train, X_val, y_val, model_results)"
   ]
  },
  {
   "cell_type": "code",
   "execution_count": 41,
   "metadata": {},
   "outputs": [
    {
     "name": "stdout",
     "output_type": "stream",
     "text": [
      "The train RMSE is $0.79.\n",
      "The validate RMSE is $0.79.\n"
     ]
    }
   ],
   "source": [
    "tweedie, model_results = train_model(TweedieRegressor, X_train, y_train, X_val, y_val, model_results)"
   ]
  },
  {
   "cell_type": "code",
   "execution_count": 42,
   "metadata": {},
   "outputs": [
    {
     "data": {
      "text/html": [
       "<div>\n",
       "<style scoped>\n",
       "    .dataframe tbody tr th:only-of-type {\n",
       "        vertical-align: middle;\n",
       "    }\n",
       "\n",
       "    .dataframe tbody tr th {\n",
       "        vertical-align: top;\n",
       "    }\n",
       "\n",
       "    .dataframe thead th {\n",
       "        text-align: right;\n",
       "    }\n",
       "</style>\n",
       "<table border=\"1\" class=\"dataframe\">\n",
       "  <thead>\n",
       "    <tr style=\"text-align: right;\">\n",
       "      <th></th>\n",
       "      <th>Model</th>\n",
       "      <th>Train_RMSE</th>\n",
       "      <th>Val_RMSE</th>\n",
       "    </tr>\n",
       "  </thead>\n",
       "  <tbody>\n",
       "    <tr>\n",
       "      <th>0</th>\n",
       "      <td>RandomForestRegressor</td>\n",
       "      <td>$0.23</td>\n",
       "      <td>$0.23</td>\n",
       "    </tr>\n",
       "    <tr>\n",
       "      <th>1</th>\n",
       "      <td>XGBRegressor</td>\n",
       "      <td>$0.25</td>\n",
       "      <td>$0.25</td>\n",
       "    </tr>\n",
       "    <tr>\n",
       "      <th>2</th>\n",
       "      <td>LassoLars</td>\n",
       "      <td>$0.88</td>\n",
       "      <td>$0.88</td>\n",
       "    </tr>\n",
       "    <tr>\n",
       "      <th>3</th>\n",
       "      <td>LinearRegression</td>\n",
       "      <td>$0.74</td>\n",
       "      <td>$0.74</td>\n",
       "    </tr>\n",
       "    <tr>\n",
       "      <th>4</th>\n",
       "      <td>TweedieRegressor</td>\n",
       "      <td>$0.79</td>\n",
       "      <td>$0.79</td>\n",
       "    </tr>\n",
       "  </tbody>\n",
       "</table>\n",
       "</div>"
      ],
      "text/plain": [
       "                   Model Train_RMSE Val_RMSE\n",
       "0  RandomForestRegressor      $0.23    $0.23\n",
       "1           XGBRegressor      $0.25    $0.25\n",
       "2              LassoLars      $0.88    $0.88\n",
       "3       LinearRegression      $0.74    $0.74\n",
       "4       TweedieRegressor      $0.79    $0.79"
      ]
     },
     "execution_count": 42,
     "metadata": {},
     "output_type": "execute_result"
    }
   ],
   "source": [
    "model_results"
   ]
  },
  {
   "cell_type": "markdown",
   "metadata": {},
   "source": [
    "____\n",
    "____\n",
    "\n",
    "## MODEL SECOND ROUND - SCALED\n",
    "____\n",
    "____"
   ]
  },
  {
   "cell_type": "code",
   "execution_count": 43,
   "metadata": {},
   "outputs": [],
   "source": [
    "train, val, test, X_train, y_train, X_val, y_val, X_test, y_test = data_pipeline(df)"
   ]
  },
  {
   "cell_type": "code",
   "execution_count": 44,
   "metadata": {},
   "outputs": [],
   "source": [
    "train = MinMax_Scaler_xy(train)\n",
    "val = MinMax_Scaler_xy(val)\n",
    "val = MinMax_Scaler_xy(test)\n",
    "\n",
    "#Scale X_df because data_pipeline does not scale it\n",
    "X_train = MinMax_Scaler_xy(X_train)\n",
    "X_val = MinMax_Scaler_xy(X_val)\n",
    "X_test = MinMax_Scaler_xy(X_test)"
   ]
  },
  {
   "cell_type": "code",
   "execution_count": 45,
   "metadata": {},
   "outputs": [
    {
     "data": {
      "text/plain": [
       "0.8812045100258817"
      ]
     },
     "execution_count": 45,
     "metadata": {},
     "output_type": "execute_result"
    }
   ],
   "source": [
    "eval_baseline(y_train)"
   ]
  },
  {
   "cell_type": "code",
   "execution_count": 46,
   "metadata": {},
   "outputs": [
    {
     "name": "stdout",
     "output_type": "stream",
     "text": [
      "The train RMSE is $0.23.\n",
      "The validate RMSE is $0.23.\n"
     ]
    }
   ],
   "source": [
    "rforest, model_results = train_model(RandomForestRegressor, X_train, y_train, X_val, y_val)"
   ]
  },
  {
   "cell_type": "code",
   "execution_count": 47,
   "metadata": {},
   "outputs": [],
   "source": [
    "from xgboost import XGBRegressor"
   ]
  },
  {
   "cell_type": "code",
   "execution_count": 48,
   "metadata": {},
   "outputs": [
    {
     "name": "stdout",
     "output_type": "stream",
     "text": [
      "The train RMSE is $0.25.\n",
      "The validate RMSE is $0.25.\n"
     ]
    }
   ],
   "source": [
    "xgbr, model_results = train_model(XGBRegressor, X_train, y_train, X_val, y_val, model_results)"
   ]
  },
  {
   "cell_type": "code",
   "execution_count": 49,
   "metadata": {},
   "outputs": [],
   "source": [
    "from sklearn.linear_model import LinearRegression, LassoLars, TweedieRegressor"
   ]
  },
  {
   "cell_type": "code",
   "execution_count": 50,
   "metadata": {},
   "outputs": [
    {
     "name": "stdout",
     "output_type": "stream",
     "text": [
      "The train RMSE is $0.88.\n",
      "The validate RMSE is $0.88.\n"
     ]
    }
   ],
   "source": [
    "lasso, model_results = train_model(LassoLars, X_train, y_train, X_val, y_val, model_results)"
   ]
  },
  {
   "cell_type": "code",
   "execution_count": 51,
   "metadata": {},
   "outputs": [
    {
     "name": "stdout",
     "output_type": "stream",
     "text": [
      "The train RMSE is $0.74.\n",
      "The validate RMSE is $0.74.\n"
     ]
    }
   ],
   "source": [
    "linearr, model_results = train_model(LinearRegression, X_train, y_train, X_val, y_val, model_results)"
   ]
  },
  {
   "cell_type": "code",
   "execution_count": 52,
   "metadata": {},
   "outputs": [
    {
     "name": "stdout",
     "output_type": "stream",
     "text": [
      "The train RMSE is $0.87.\n",
      "The validate RMSE is $0.87.\n"
     ]
    }
   ],
   "source": [
    "# Tweedie seems to get worse with scaled data\n",
    "tweedie, model_results = train_model(TweedieRegressor, X_train, y_train, X_val, y_val, model_results)"
   ]
  },
  {
   "cell_type": "code",
   "execution_count": 53,
   "metadata": {},
   "outputs": [
    {
     "data": {
      "text/html": [
       "<div>\n",
       "<style scoped>\n",
       "    .dataframe tbody tr th:only-of-type {\n",
       "        vertical-align: middle;\n",
       "    }\n",
       "\n",
       "    .dataframe tbody tr th {\n",
       "        vertical-align: top;\n",
       "    }\n",
       "\n",
       "    .dataframe thead th {\n",
       "        text-align: right;\n",
       "    }\n",
       "</style>\n",
       "<table border=\"1\" class=\"dataframe\">\n",
       "  <thead>\n",
       "    <tr style=\"text-align: right;\">\n",
       "      <th></th>\n",
       "      <th>Model</th>\n",
       "      <th>Train_RMSE</th>\n",
       "      <th>Val_RMSE</th>\n",
       "    </tr>\n",
       "  </thead>\n",
       "  <tbody>\n",
       "    <tr>\n",
       "      <th>0</th>\n",
       "      <td>RandomForestRegressor</td>\n",
       "      <td>$0.23</td>\n",
       "      <td>$0.23</td>\n",
       "    </tr>\n",
       "    <tr>\n",
       "      <th>1</th>\n",
       "      <td>XGBRegressor</td>\n",
       "      <td>$0.25</td>\n",
       "      <td>$0.25</td>\n",
       "    </tr>\n",
       "    <tr>\n",
       "      <th>2</th>\n",
       "      <td>LassoLars</td>\n",
       "      <td>$0.88</td>\n",
       "      <td>$0.88</td>\n",
       "    </tr>\n",
       "    <tr>\n",
       "      <th>3</th>\n",
       "      <td>LinearRegression</td>\n",
       "      <td>$0.74</td>\n",
       "      <td>$0.74</td>\n",
       "    </tr>\n",
       "    <tr>\n",
       "      <th>4</th>\n",
       "      <td>TweedieRegressor</td>\n",
       "      <td>$0.87</td>\n",
       "      <td>$0.87</td>\n",
       "    </tr>\n",
       "  </tbody>\n",
       "</table>\n",
       "</div>"
      ],
      "text/plain": [
       "                   Model Train_RMSE Val_RMSE\n",
       "0  RandomForestRegressor      $0.23    $0.23\n",
       "1           XGBRegressor      $0.25    $0.25\n",
       "2              LassoLars      $0.88    $0.88\n",
       "3       LinearRegression      $0.74    $0.74\n",
       "4       TweedieRegressor      $0.87    $0.87"
      ]
     },
     "execution_count": 53,
     "metadata": {},
     "output_type": "execute_result"
    }
   ],
   "source": [
    "model_results"
   ]
  },
  {
   "cell_type": "markdown",
   "metadata": {},
   "source": [
    "____\n",
    "____\n",
    "\n",
    "## MODEL THIRD ROUND\n",
    "#### Cluster Featrue (alcohol & desity)\n",
    "____\n",
    "____"
   ]
  },
  {
   "cell_type": "markdown",
   "metadata": {},
   "source": [
    "df['density'] = df[]"
   ]
  },
  {
   "cell_type": "code",
   "execution_count": 54,
   "metadata": {},
   "outputs": [],
   "source": [
    "train, val, test, X_train, y_train, X_val, y_val, X_test, y_test = data_pipeline(df)"
   ]
  },
  {
   "cell_type": "code",
   "execution_count": 55,
   "metadata": {},
   "outputs": [],
   "source": [
    "train = MinMax_Scaler_xy(train)\n",
    "val = MinMax_Scaler_xy(val)\n",
    "val = MinMax_Scaler_xy(test)\n",
    "\n",
    "#Scale X_df because data_pipeline does not scale it\n",
    "X_train = MinMax_Scaler_xy(X_train)\n",
    "X_val = MinMax_Scaler_xy(X_val)\n",
    "X_test = MinMax_Scaler_xy(X_test)"
   ]
  },
  {
   "cell_type": "code",
   "execution_count": 56,
   "metadata": {},
   "outputs": [
    {
     "data": {
      "text/plain": [
       "0.8812045100258817"
      ]
     },
     "execution_count": 56,
     "metadata": {},
     "output_type": "execute_result"
    }
   ],
   "source": [
    "eval_baseline(y_train)"
   ]
  },
  {
   "cell_type": "code",
   "execution_count": 57,
   "metadata": {},
   "outputs": [
    {
     "name": "stdout",
     "output_type": "stream",
     "text": [
      "The train RMSE is $0.23.\n",
      "The validate RMSE is $0.23.\n"
     ]
    }
   ],
   "source": [
    "rforest, model_results = train_model(RandomForestRegressor, X_train, y_train, X_val, y_val)"
   ]
  },
  {
   "cell_type": "code",
   "execution_count": 58,
   "metadata": {},
   "outputs": [],
   "source": [
    "from xgboost import XGBRegressor"
   ]
  },
  {
   "cell_type": "code",
   "execution_count": 59,
   "metadata": {},
   "outputs": [
    {
     "name": "stdout",
     "output_type": "stream",
     "text": [
      "The train RMSE is $0.25.\n",
      "The validate RMSE is $0.25.\n"
     ]
    }
   ],
   "source": [
    "xgbr, model_results = train_model(XGBRegressor, X_train, y_train, X_val, y_val, model_results)"
   ]
  },
  {
   "cell_type": "code",
   "execution_count": 60,
   "metadata": {},
   "outputs": [],
   "source": [
    "from sklearn.linear_model import LinearRegression, LassoLars, TweedieRegressor"
   ]
  },
  {
   "cell_type": "code",
   "execution_count": 61,
   "metadata": {},
   "outputs": [
    {
     "name": "stdout",
     "output_type": "stream",
     "text": [
      "The train RMSE is $0.88.\n",
      "The validate RMSE is $0.88.\n"
     ]
    }
   ],
   "source": [
    "lasso, model_results = train_model(LassoLars, X_train, y_train, X_val, y_val, model_results)"
   ]
  },
  {
   "cell_type": "code",
   "execution_count": 62,
   "metadata": {},
   "outputs": [
    {
     "name": "stdout",
     "output_type": "stream",
     "text": [
      "The train RMSE is $0.74.\n",
      "The validate RMSE is $0.74.\n"
     ]
    }
   ],
   "source": [
    "linearr, model_results = train_model(LinearRegression, X_train, y_train, X_val, y_val, model_results)"
   ]
  },
  {
   "cell_type": "code",
   "execution_count": 63,
   "metadata": {},
   "outputs": [
    {
     "name": "stdout",
     "output_type": "stream",
     "text": [
      "The train RMSE is $0.87.\n",
      "The validate RMSE is $0.87.\n"
     ]
    }
   ],
   "source": [
    "# Tweedie seems to get worse with scaled data\n",
    "tweedie, model_results = train_model(TweedieRegressor, X_train, y_train, X_val, y_val, model_results)"
   ]
  },
  {
   "cell_type": "code",
   "execution_count": 64,
   "metadata": {},
   "outputs": [
    {
     "data": {
      "text/html": [
       "<div>\n",
       "<style scoped>\n",
       "    .dataframe tbody tr th:only-of-type {\n",
       "        vertical-align: middle;\n",
       "    }\n",
       "\n",
       "    .dataframe tbody tr th {\n",
       "        vertical-align: top;\n",
       "    }\n",
       "\n",
       "    .dataframe thead th {\n",
       "        text-align: right;\n",
       "    }\n",
       "</style>\n",
       "<table border=\"1\" class=\"dataframe\">\n",
       "  <thead>\n",
       "    <tr style=\"text-align: right;\">\n",
       "      <th></th>\n",
       "      <th>Model</th>\n",
       "      <th>Train_RMSE</th>\n",
       "      <th>Val_RMSE</th>\n",
       "    </tr>\n",
       "  </thead>\n",
       "  <tbody>\n",
       "    <tr>\n",
       "      <th>0</th>\n",
       "      <td>RandomForestRegressor</td>\n",
       "      <td>$0.23</td>\n",
       "      <td>$0.23</td>\n",
       "    </tr>\n",
       "    <tr>\n",
       "      <th>1</th>\n",
       "      <td>XGBRegressor</td>\n",
       "      <td>$0.25</td>\n",
       "      <td>$0.25</td>\n",
       "    </tr>\n",
       "    <tr>\n",
       "      <th>2</th>\n",
       "      <td>LassoLars</td>\n",
       "      <td>$0.88</td>\n",
       "      <td>$0.88</td>\n",
       "    </tr>\n",
       "    <tr>\n",
       "      <th>3</th>\n",
       "      <td>LinearRegression</td>\n",
       "      <td>$0.74</td>\n",
       "      <td>$0.74</td>\n",
       "    </tr>\n",
       "    <tr>\n",
       "      <th>4</th>\n",
       "      <td>TweedieRegressor</td>\n",
       "      <td>$0.87</td>\n",
       "      <td>$0.87</td>\n",
       "    </tr>\n",
       "  </tbody>\n",
       "</table>\n",
       "</div>"
      ],
      "text/plain": [
       "                   Model Train_RMSE Val_RMSE\n",
       "0  RandomForestRegressor      $0.23    $0.23\n",
       "1           XGBRegressor      $0.25    $0.25\n",
       "2              LassoLars      $0.88    $0.88\n",
       "3       LinearRegression      $0.74    $0.74\n",
       "4       TweedieRegressor      $0.87    $0.87"
      ]
     },
     "execution_count": 64,
     "metadata": {},
     "output_type": "execute_result"
    }
   ],
   "source": [
    "model_results"
   ]
  },
  {
   "cell_type": "markdown",
   "metadata": {},
   "source": [
    "____\n",
    "____\n",
    "\n",
    "## MODEL THIRD ROUND\n",
    "#### Cluster Featrue (alcohol & desity)\n",
    "____\n",
    "____"
   ]
  },
  {
   "cell_type": "code",
   "execution_count": null,
   "metadata": {},
   "outputs": [],
   "source": []
  },
  {
   "cell_type": "code",
   "execution_count": null,
   "metadata": {},
   "outputs": [],
   "source": []
  },
  {
   "cell_type": "code",
   "execution_count": null,
   "metadata": {},
   "outputs": [],
   "source": []
  },
  {
   "cell_type": "code",
   "execution_count": null,
   "metadata": {},
   "outputs": [],
   "source": []
  },
  {
   "cell_type": "code",
   "execution_count": null,
   "metadata": {},
   "outputs": [],
   "source": []
  },
  {
   "cell_type": "code",
   "execution_count": null,
   "metadata": {},
   "outputs": [],
   "source": []
  },
  {
   "cell_type": "code",
   "execution_count": null,
   "metadata": {},
   "outputs": [],
   "source": []
  },
  {
   "cell_type": "markdown",
   "metadata": {},
   "source": [
    "____\n",
    "____\n",
    "\n",
    "## MODEL THIRD ROUND\n",
    "#### Cluster Featrue (alcohol & desity)\n",
    "____\n",
    "____"
   ]
  },
  {
   "cell_type": "code",
   "execution_count": 65,
   "metadata": {},
   "outputs": [],
   "source": [
    "# Create and fit a linear regression model\n",
    "model = LinearRegression()\n",
    "model.fit(X_train, y_train)\n",
    "\n",
    "# Get the coefficients\n",
    "coefficients = model.coef_"
   ]
  },
  {
   "cell_type": "code",
   "execution_count": 66,
   "metadata": {},
   "outputs": [
    {
     "data": {
      "text/plain": [
       "array([ 1.09536049, -2.30806371, -0.12983687,  4.25431265, -0.19020352,\n",
       "        0.86320533, -0.5607935 , -5.34049466,  0.64324002,  1.33396865,\n",
       "        1.42754143, -0.32469545])"
      ]
     },
     "execution_count": 66,
     "metadata": {},
     "output_type": "execute_result"
    }
   ],
   "source": [
    "coefficients"
   ]
  },
  {
   "cell_type": "code",
   "execution_count": 67,
   "metadata": {},
   "outputs": [
    {
     "data": {
      "image/png": "[encoded data removed]",
      "text/plain": [
       "<Figure size 1000x600 with 1 Axes>"
      ]
     },
     "metadata": {},
     "output_type": "display_data"
    }
   ],
   "source": [
    "from sklearn.inspection import permutation_importance\n",
    "\n",
    "# Calculate permutation importance\n",
    "perm_importance = permutation_importance(model, X_train, y_train, n_repeats=30, random_state=0)\n",
    "\n",
    "# Plot the permutation importance scores\n",
    "plt.figure(figsize=(10, 6))\n",
    "plt.barh(X_train.columns, perm_importance.importances_mean)\n",
    "plt.xlabel('Permutation Importance')\n",
    "plt.ylabel('Features')\n",
    "plt.title('Feature Importance (Permutation)')\n",
    "plt.show()"
   ]
  },
  {
   "cell_type": "markdown",
   "metadata": {},
   "source": [
    "# imports:\n",
    "\n",
    "import pandas as pd\n",
    "import numpy as np\n",
    "import os\n",
    "\n",
    "import matplotlib.pyplot as plt\n",
    "import matplotlib.ticker as mtick\n",
    "import seaborn as sns\n",
    "\n",
    "from sklearn.feature_selection import SelectKBest, f_regression, RFE\n",
    "from sklearn.linear_model import LinearRegression, LassoLars, TweedieRegressor\n",
    "from sklearn.preprocessing import PolynomialFeatures\n",
    "from sklearn.ensemble import RandomForestRegressor\n",
    "\n",
    "from xgboost import XGBRegressor\n",
    "\n",
    "\n",
    "from prepare import zillow_pipeline, model_pipeline\n",
    "from explore_plus import perform_spearmanr_test, feature_selections_results, MinMax_Scaler, hot_encode, features\n",
    "from visuals import plot_value_distribution, area_vs_value_plt, age_vs_value_plt, bedr_vs_value_plt, bathr_vs_value_plt, county_vs_value_plt, area_vs_value_trend_plt\n",
    "from model_plus import split_train_val_test, scale_train_val_test, data_pipeline, eval_baseline, train_model, poly_features, test_model, eval_model, data_pipeline_fix"
   ]
  },
  {
   "cell_type": "code",
   "execution_count": 68,
   "metadata": {},
   "outputs": [
    {
     "name": "stdout",
     "output_type": "stream",
     "text": [
      "<class 'pandas.core.frame.DataFrame'>\n",
      "Index: 4547 entries, 3761 to 860\n",
      "Data columns (total 13 columns):\n",
      " #   Column                Non-Null Count  Dtype  \n",
      "---  ------                --------------  -----  \n",
      " 0   fixed_acidity         4547 non-null   float64\n",
      " 1   volatile_acidity      4547 non-null   float64\n",
      " 2   citric_acid           4547 non-null   float64\n",
      " 3   residual_sugar        4547 non-null   float64\n",
      " 4   chlorides             4547 non-null   float64\n",
      " 5   free_sulfur_dioxide   4547 non-null   float64\n",
      " 6   total_sulfur_dioxide  4547 non-null   float64\n",
      " 7   density               4547 non-null   float64\n",
      " 8   ph                    4547 non-null   float64\n",
      " 9   sulphates             4547 non-null   float64\n",
      " 10  alcohol               4547 non-null   float64\n",
      " 11  quality               4547 non-null   float64\n",
      " 12  type_white            4547 non-null   bool   \n",
      "dtypes: bool(1), float64(12)\n",
      "memory usage: 466.2 KB\n"
     ]
    }
   ],
   "source": [
    "train.info()"
   ]
  },
  {
   "cell_type": "code",
   "execution_count": 69,
   "metadata": {},
   "outputs": [
    {
     "data": {
      "text/html": [
       "<div>\n",
       "<style scoped>\n",
       "    .dataframe tbody tr th:only-of-type {\n",
       "        vertical-align: middle;\n",
       "    }\n",
       "\n",
       "    .dataframe tbody tr th {\n",
       "        vertical-align: top;\n",
       "    }\n",
       "\n",
       "    .dataframe thead th {\n",
       "        text-align: right;\n",
       "    }\n",
       "</style>\n",
       "<table border=\"1\" class=\"dataframe\">\n",
       "  <thead>\n",
       "    <tr style=\"text-align: right;\">\n",
       "      <th></th>\n",
       "      <th>fixed_acidity</th>\n",
       "      <th>volatile_acidity</th>\n",
       "      <th>citric_acid</th>\n",
       "      <th>residual_sugar</th>\n",
       "      <th>chlorides</th>\n",
       "      <th>free_sulfur_dioxide</th>\n",
       "      <th>total_sulfur_dioxide</th>\n",
       "      <th>density</th>\n",
       "      <th>ph</th>\n",
       "      <th>sulphates</th>\n",
       "      <th>alcohol</th>\n",
       "      <th>quality</th>\n",
       "      <th>type_white</th>\n",
       "    </tr>\n",
       "  </thead>\n",
       "  <tbody>\n",
       "    <tr>\n",
       "      <th>3761</th>\n",
       "      <td>0.516949</td>\n",
       "      <td>0.273333</td>\n",
       "      <td>0.186992</td>\n",
       "      <td>0.027607</td>\n",
       "      <td>0.129568</td>\n",
       "      <td>0.123711</td>\n",
       "      <td>0.322485</td>\n",
       "      <td>0.148255</td>\n",
       "      <td>0.023622</td>\n",
       "      <td>0.125000</td>\n",
       "      <td>0.231405</td>\n",
       "      <td>0.500000</td>\n",
       "      <td>True</td>\n",
       "    </tr>\n",
       "    <tr>\n",
       "      <th>3740</th>\n",
       "      <td>0.330508</td>\n",
       "      <td>0.133333</td>\n",
       "      <td>0.284553</td>\n",
       "      <td>0.225460</td>\n",
       "      <td>0.078073</td>\n",
       "      <td>0.206186</td>\n",
       "      <td>0.328402</td>\n",
       "      <td>0.244650</td>\n",
       "      <td>0.417323</td>\n",
       "      <td>0.159091</td>\n",
       "      <td>0.264463</td>\n",
       "      <td>0.333333</td>\n",
       "      <td>True</td>\n",
       "    </tr>\n",
       "    <tr>\n",
       "      <th>1359</th>\n",
       "      <td>0.661017</td>\n",
       "      <td>0.263333</td>\n",
       "      <td>0.325203</td>\n",
       "      <td>0.012270</td>\n",
       "      <td>0.136213</td>\n",
       "      <td>0.034364</td>\n",
       "      <td>0.065089</td>\n",
       "      <td>0.191440</td>\n",
       "      <td>0.259843</td>\n",
       "      <td>0.244318</td>\n",
       "      <td>0.336088</td>\n",
       "      <td>0.500000</td>\n",
       "      <td>False</td>\n",
       "    </tr>\n",
       "    <tr>\n",
       "      <th>1230</th>\n",
       "      <td>0.330508</td>\n",
       "      <td>0.066667</td>\n",
       "      <td>0.276423</td>\n",
       "      <td>0.032209</td>\n",
       "      <td>0.094684</td>\n",
       "      <td>0.096220</td>\n",
       "      <td>0.153846</td>\n",
       "      <td>0.146327</td>\n",
       "      <td>0.496063</td>\n",
       "      <td>0.318182</td>\n",
       "      <td>0.628099</td>\n",
       "      <td>0.500000</td>\n",
       "      <td>False</td>\n",
       "    </tr>\n",
       "    <tr>\n",
       "      <th>4751</th>\n",
       "      <td>0.322034</td>\n",
       "      <td>0.113333</td>\n",
       "      <td>1.000000</td>\n",
       "      <td>0.061350</td>\n",
       "      <td>0.043189</td>\n",
       "      <td>0.343643</td>\n",
       "      <td>0.852071</td>\n",
       "      <td>0.059186</td>\n",
       "      <td>0.228346</td>\n",
       "      <td>0.119318</td>\n",
       "      <td>0.842975</td>\n",
       "      <td>0.500000</td>\n",
       "      <td>True</td>\n",
       "    </tr>\n",
       "  </tbody>\n",
       "</table>\n",
       "</div>"
      ],
      "text/plain": [
       "      fixed_acidity  volatile_acidity  citric_acid  residual_sugar  chlorides  free_sulfur_dioxide  total_sulfur_dioxide   density        ph  sulphates   alcohol   quality  type_white\n",
       "3761       0.516949          0.273333     0.186992        0.027607   0.129568             0.123711              0.322485  0.148255  0.023622   0.125000  0.231405  0.500000        True\n",
       "3740       0.330508          0.133333     0.284553        0.225460   0.078073             0.206186              0.328402  0.244650  0.417323   0.159091  0.264463  0.333333        True\n",
       "1359       0.661017          0.263333     0.325203        0.012270   0.136213             0.034364              0.065089  0.191440  0.259843   0.244318  0.336088  0.500000       False\n",
       "1230       0.330508          0.066667     0.276423        0.032209   0.094684             0.096220              0.153846  0.146327  0.496063   0.318182  0.628099  0.500000       False\n",
       "4751       0.322034          0.113333     1.000000        0.061350   0.043189             0.343643              0.852071  0.059186  0.228346   0.119318  0.842975  0.500000        True"
      ]
     },
     "execution_count": 69,
     "metadata": {},
     "output_type": "execute_result"
    }
   ],
   "source": [
    "train.head()"
   ]
  },
  {
   "cell_type": "code",
   "execution_count": null,
   "metadata": {},
   "outputs": [],
   "source": []
  },
  {
   "cell_type": "code",
   "execution_count": null,
   "metadata": {},
   "outputs": [],
   "source": []
  },
  {
   "cell_type": "code",
   "execution_count": null,
   "metadata": {},
   "outputs": [],
   "source": []
  },
  {
   "cell_type": "code",
   "execution_count": null,
   "metadata": {},
   "outputs": [],
   "source": []
  },
  {
   "cell_type": "code",
   "execution_count": 70,
   "metadata": {},
   "outputs": [
    {
     "data": {
      "text/html": [
       "<style>#sk-container-id-1 {color: black;}#sk-container-id-1 pre{padding: 0;}#sk-container-id-1 div.sk-toggleable {background-color: white;}#sk-container-id-1 label.sk-toggleable__label {cursor: pointer;display: block;width: 100%;margin-bottom: 0;padding: 0.3em;box-sizing: border-box;text-align: center;}#sk-container-id-1 label.sk-toggleable__label-arrow:before {content: \"▸\";float: left;margin-right: 0.25em;color: #696969;}#sk-container-id-1 label.sk-toggleable__label-arrow:hover:before {color: black;}#sk-container-id-1 div.sk-estimator:hover label.sk-toggleable__label-arrow:before {color: black;}#sk-container-id-1 div.sk-toggleable__content {max-height: 0;max-width: 0;overflow: hidden;text-align: left;background-color: #f0f8ff;}#sk-container-id-1 div.sk-toggleable__content pre {margin: 0.2em;color: black;border-radius: 0.25em;background-color: #f0f8ff;}#sk-container-id-1 input.sk-toggleable__control:checked~div.sk-toggleable__content {max-height: 200px;max-width: 100%;overflow: auto;}#sk-container-id-1 input.sk-toggleable__control:checked~label.sk-toggleable__label-arrow:before {content: \"▾\";}#sk-container-id-1 div.sk-estimator input.sk-toggleable__control:checked~label.sk-toggleable__label {background-color: #d4ebff;}#sk-container-id-1 div.sk-label input.sk-toggleable__control:checked~label.sk-toggleable__label {background-color: #d4ebff;}#sk-container-id-1 input.sk-hidden--visually {border: 0;clip: rect(1px 1px 1px 1px);clip: rect(1px, 1px, 1px, 1px);height: 1px;margin: -1px;overflow: hidden;padding: 0;position: absolute;width: 1px;}#sk-container-id-1 div.sk-estimator {font-family: monospace;background-color: #f0f8ff;border: 1px dotted black;border-radius: 0.25em;box-sizing: border-box;margin-bottom: 0.5em;}#sk-container-id-1 div.sk-estimator:hover {background-color: #d4ebff;}#sk-container-id-1 div.sk-parallel-item::after {content: \"\";width: 100%;border-bottom: 1px solid gray;flex-grow: 1;}#sk-container-id-1 div.sk-label:hover label.sk-toggleable__label {background-color: #d4ebff;}#sk-container-id-1 div.sk-serial::before {content: \"\";position: absolute;border-left: 1px solid gray;box-sizing: border-box;top: 0;bottom: 0;left: 50%;z-index: 0;}#sk-container-id-1 div.sk-serial {display: flex;flex-direction: column;align-items: center;background-color: white;padding-right: 0.2em;padding-left: 0.2em;position: relative;}#sk-container-id-1 div.sk-item {position: relative;z-index: 1;}#sk-container-id-1 div.sk-parallel {display: flex;align-items: stretch;justify-content: center;background-color: white;position: relative;}#sk-container-id-1 div.sk-item::before, #sk-container-id-1 div.sk-parallel-item::before {content: \"\";position: absolute;border-left: 1px solid gray;box-sizing: border-box;top: 0;bottom: 0;left: 50%;z-index: -1;}#sk-container-id-1 div.sk-parallel-item {display: flex;flex-direction: column;z-index: 1;position: relative;background-color: white;}#sk-container-id-1 div.sk-parallel-item:first-child::after {align-self: flex-end;width: 50%;}#sk-container-id-1 div.sk-parallel-item:last-child::after {align-self: flex-start;width: 50%;}#sk-container-id-1 div.sk-parallel-item:only-child::after {width: 0;}#sk-container-id-1 div.sk-dashed-wrapped {border: 1px dashed gray;margin: 0 0.4em 0.5em 0.4em;box-sizing: border-box;padding-bottom: 0.4em;background-color: white;}#sk-container-id-1 div.sk-label label {font-family: monospace;font-weight: bold;display: inline-block;line-height: 1.2em;}#sk-container-id-1 div.sk-label-container {text-align: center;}#sk-container-id-1 div.sk-container {/* jupyter's `normalize.less` sets `[hidden] { display: none; }` but bootstrap.min.css set `[hidden] { display: none !important; }` so we also need the `!important` here to be able to override the default hidden behavior on the sphinx rendered scikit-learn.org. See: https://github.com/scikit-learn/scikit-learn/issues/21755 */display: inline-block !important;position: relative;}#sk-container-id-1 div.sk-text-repr-fallback {display: none;}</style><div id=\"sk-container-id-1\" class=\"sk-top-container\"><div class=\"sk-text-repr-fallback\"><pre>KMeans(n_clusters=3, n_init=&#x27;auto&#x27;)</pre><b>In a Jupyter environment, please rerun this cell to show the HTML representation or trust the notebook. <br />On GitHub, the HTML representation is unable to render, please try loading this page with nbviewer.org.</b></div><div class=\"sk-container\" hidden><div class=\"sk-item\"><div class=\"sk-estimator sk-toggleable\"><input class=\"sk-toggleable__control sk-hidden--visually\" id=\"sk-estimator-id-1\" type=\"checkbox\" checked><label for=\"sk-estimator-id-1\" class=\"sk-toggleable__label sk-toggleable__label-arrow\">KMeans</label><div class=\"sk-toggleable__content\"><pre>KMeans(n_clusters=3, n_init=&#x27;auto&#x27;)</pre></div></div></div></div></div>"
      ],
      "text/plain": [
       "KMeans(n_clusters=3, n_init='auto')"
      ]
     },
     "execution_count": 70,
     "metadata": {},
     "output_type": "execute_result"
    }
   ],
   "source": [
    "kmeans = KMeans(n_clusters=3, n_init='auto')\n",
    "features = train[['alcohol', 'density']]\n",
    "kmeans.fit(features)"
   ]
  },
  {
   "cell_type": "code",
   "execution_count": 71,
   "metadata": {},
   "outputs": [],
   "source": [
    "train['sk_clusters'] = kmeans.labels_"
   ]
  },
  {
   "cell_type": "code",
   "execution_count": 72,
   "metadata": {},
   "outputs": [],
   "source": [
    "features = train[['alcohol', 'density', 'sk_clusters']]"
   ]
  },
  {
   "cell_type": "code",
   "execution_count": 73,
   "metadata": {},
   "outputs": [
    {
     "data": {
      "text/html": [
       "<div>\n",
       "<style scoped>\n",
       "    .dataframe tbody tr th:only-of-type {\n",
       "        vertical-align: middle;\n",
       "    }\n",
       "\n",
       "    .dataframe tbody tr th {\n",
       "        vertical-align: top;\n",
       "    }\n",
       "\n",
       "    .dataframe thead th {\n",
       "        text-align: right;\n",
       "    }\n",
       "</style>\n",
       "<table border=\"1\" class=\"dataframe\">\n",
       "  <thead>\n",
       "    <tr style=\"text-align: right;\">\n",
       "      <th></th>\n",
       "      <th>fixed_acidity</th>\n",
       "      <th>volatile_acidity</th>\n",
       "      <th>citric_acid</th>\n",
       "      <th>residual_sugar</th>\n",
       "      <th>chlorides</th>\n",
       "      <th>free_sulfur_dioxide</th>\n",
       "      <th>total_sulfur_dioxide</th>\n",
       "      <th>density</th>\n",
       "      <th>ph</th>\n",
       "      <th>sulphates</th>\n",
       "      <th>alcohol</th>\n",
       "      <th>quality</th>\n",
       "      <th>type_white</th>\n",
       "      <th>sk_clusters</th>\n",
       "    </tr>\n",
       "  </thead>\n",
       "  <tbody>\n",
       "    <tr>\n",
       "      <th>3761</th>\n",
       "      <td>0.516949</td>\n",
       "      <td>0.273333</td>\n",
       "      <td>0.186992</td>\n",
       "      <td>0.027607</td>\n",
       "      <td>0.129568</td>\n",
       "      <td>0.123711</td>\n",
       "      <td>0.322485</td>\n",
       "      <td>0.148255</td>\n",
       "      <td>0.023622</td>\n",
       "      <td>0.125000</td>\n",
       "      <td>0.231405</td>\n",
       "      <td>0.500000</td>\n",
       "      <td>True</td>\n",
       "      <td>0</td>\n",
       "    </tr>\n",
       "    <tr>\n",
       "      <th>3740</th>\n",
       "      <td>0.330508</td>\n",
       "      <td>0.133333</td>\n",
       "      <td>0.284553</td>\n",
       "      <td>0.225460</td>\n",
       "      <td>0.078073</td>\n",
       "      <td>0.206186</td>\n",
       "      <td>0.328402</td>\n",
       "      <td>0.244650</td>\n",
       "      <td>0.417323</td>\n",
       "      <td>0.159091</td>\n",
       "      <td>0.264463</td>\n",
       "      <td>0.333333</td>\n",
       "      <td>True</td>\n",
       "      <td>0</td>\n",
       "    </tr>\n",
       "    <tr>\n",
       "      <th>1359</th>\n",
       "      <td>0.661017</td>\n",
       "      <td>0.263333</td>\n",
       "      <td>0.325203</td>\n",
       "      <td>0.012270</td>\n",
       "      <td>0.136213</td>\n",
       "      <td>0.034364</td>\n",
       "      <td>0.065089</td>\n",
       "      <td>0.191440</td>\n",
       "      <td>0.259843</td>\n",
       "      <td>0.244318</td>\n",
       "      <td>0.336088</td>\n",
       "      <td>0.500000</td>\n",
       "      <td>False</td>\n",
       "      <td>0</td>\n",
       "    </tr>\n",
       "    <tr>\n",
       "      <th>1230</th>\n",
       "      <td>0.330508</td>\n",
       "      <td>0.066667</td>\n",
       "      <td>0.276423</td>\n",
       "      <td>0.032209</td>\n",
       "      <td>0.094684</td>\n",
       "      <td>0.096220</td>\n",
       "      <td>0.153846</td>\n",
       "      <td>0.146327</td>\n",
       "      <td>0.496063</td>\n",
       "      <td>0.318182</td>\n",
       "      <td>0.628099</td>\n",
       "      <td>0.500000</td>\n",
       "      <td>False</td>\n",
       "      <td>2</td>\n",
       "    </tr>\n",
       "    <tr>\n",
       "      <th>4751</th>\n",
       "      <td>0.322034</td>\n",
       "      <td>0.113333</td>\n",
       "      <td>1.000000</td>\n",
       "      <td>0.061350</td>\n",
       "      <td>0.043189</td>\n",
       "      <td>0.343643</td>\n",
       "      <td>0.852071</td>\n",
       "      <td>0.059186</td>\n",
       "      <td>0.228346</td>\n",
       "      <td>0.119318</td>\n",
       "      <td>0.842975</td>\n",
       "      <td>0.500000</td>\n",
       "      <td>True</td>\n",
       "      <td>2</td>\n",
       "    </tr>\n",
       "  </tbody>\n",
       "</table>\n",
       "</div>"
      ],
      "text/plain": [
       "      fixed_acidity  volatile_acidity  citric_acid  residual_sugar  chlorides  free_sulfur_dioxide  total_sulfur_dioxide   density        ph  sulphates   alcohol   quality  type_white  sk_clusters\n",
       "3761       0.516949          0.273333     0.186992        0.027607   0.129568             0.123711              0.322485  0.148255  0.023622   0.125000  0.231405  0.500000        True            0\n",
       "3740       0.330508          0.133333     0.284553        0.225460   0.078073             0.206186              0.328402  0.244650  0.417323   0.159091  0.264463  0.333333        True            0\n",
       "1359       0.661017          0.263333     0.325203        0.012270   0.136213             0.034364              0.065089  0.191440  0.259843   0.244318  0.336088  0.500000       False            0\n",
       "1230       0.330508          0.066667     0.276423        0.032209   0.094684             0.096220              0.153846  0.146327  0.496063   0.318182  0.628099  0.500000       False            2\n",
       "4751       0.322034          0.113333     1.000000        0.061350   0.043189             0.343643              0.852071  0.059186  0.228346   0.119318  0.842975  0.500000        True            2"
      ]
     },
     "execution_count": 73,
     "metadata": {},
     "output_type": "execute_result"
    }
   ],
   "source": [
    "train.head()"
   ]
  },
  {
   "cell_type": "code",
   "execution_count": 78,
   "metadata": {},
   "outputs": [],
   "source": [
    "train, val, test, X_train, y_train, X_val, y_val, X_test, y_test = data_pipeline(df)"
   ]
  },
  {
   "cell_type": "code",
   "execution_count": 79,
   "metadata": {},
   "outputs": [],
   "source": [
    "bins = [3, 5, 6, 9]\n",
    "\n",
    "# Define custom labels\n",
    "labels = ['3-5', '6', '7-9']\n",
    "\n",
    "# Create a new column \"quality_bins\" to store the bin labels\n",
    "train['quality_bins'] = pd.cut(train['quality'], bins=bins, labels=labels)"
   ]
  },
  {
   "cell_type": "code",
   "execution_count": 80,
   "metadata": {},
   "outputs": [
    {
     "data": {
      "text/html": [
       "<div>\n",
       "<style scoped>\n",
       "    .dataframe tbody tr th:only-of-type {\n",
       "        vertical-align: middle;\n",
       "    }\n",
       "\n",
       "    .dataframe tbody tr th {\n",
       "        vertical-align: top;\n",
       "    }\n",
       "\n",
       "    .dataframe thead th {\n",
       "        text-align: right;\n",
       "    }\n",
       "</style>\n",
       "<table border=\"1\" class=\"dataframe\">\n",
       "  <thead>\n",
       "    <tr style=\"text-align: right;\">\n",
       "      <th></th>\n",
       "      <th>fixed_acidity</th>\n",
       "      <th>volatile_acidity</th>\n",
       "      <th>citric_acid</th>\n",
       "      <th>residual_sugar</th>\n",
       "      <th>chlorides</th>\n",
       "      <th>free_sulfur_dioxide</th>\n",
       "      <th>total_sulfur_dioxide</th>\n",
       "      <th>density</th>\n",
       "      <th>ph</th>\n",
       "      <th>sulphates</th>\n",
       "      <th>alcohol</th>\n",
       "      <th>quality</th>\n",
       "      <th>type_white</th>\n",
       "      <th>quality_bins</th>\n",
       "    </tr>\n",
       "  </thead>\n",
       "  <tbody>\n",
       "    <tr>\n",
       "      <th>3761</th>\n",
       "      <td>9.9</td>\n",
       "      <td>0.490</td>\n",
       "      <td>0.23</td>\n",
       "      <td>2.4</td>\n",
       "      <td>0.087</td>\n",
       "      <td>19.0</td>\n",
       "      <td>115.0</td>\n",
       "      <td>0.99480</td>\n",
       "      <td>2.77</td>\n",
       "      <td>0.44</td>\n",
       "      <td>9.400000</td>\n",
       "      <td>6</td>\n",
       "      <td>True</td>\n",
       "      <td>6</td>\n",
       "    </tr>\n",
       "    <tr>\n",
       "      <th>3740</th>\n",
       "      <td>7.7</td>\n",
       "      <td>0.280</td>\n",
       "      <td>0.35</td>\n",
       "      <td>15.3</td>\n",
       "      <td>0.056</td>\n",
       "      <td>31.0</td>\n",
       "      <td>117.0</td>\n",
       "      <td>0.99980</td>\n",
       "      <td>3.27</td>\n",
       "      <td>0.50</td>\n",
       "      <td>9.600000</td>\n",
       "      <td>5</td>\n",
       "      <td>True</td>\n",
       "      <td>3-5</td>\n",
       "    </tr>\n",
       "    <tr>\n",
       "      <th>1359</th>\n",
       "      <td>11.6</td>\n",
       "      <td>0.475</td>\n",
       "      <td>0.40</td>\n",
       "      <td>1.4</td>\n",
       "      <td>0.091</td>\n",
       "      <td>6.0</td>\n",
       "      <td>28.0</td>\n",
       "      <td>0.99704</td>\n",
       "      <td>3.07</td>\n",
       "      <td>0.65</td>\n",
       "      <td>10.033333</td>\n",
       "      <td>6</td>\n",
       "      <td>False</td>\n",
       "      <td>6</td>\n",
       "    </tr>\n",
       "    <tr>\n",
       "      <th>1230</th>\n",
       "      <td>7.7</td>\n",
       "      <td>0.180</td>\n",
       "      <td>0.34</td>\n",
       "      <td>2.7</td>\n",
       "      <td>0.066</td>\n",
       "      <td>15.0</td>\n",
       "      <td>58.0</td>\n",
       "      <td>0.99470</td>\n",
       "      <td>3.37</td>\n",
       "      <td>0.78</td>\n",
       "      <td>11.800000</td>\n",
       "      <td>6</td>\n",
       "      <td>False</td>\n",
       "      <td>6</td>\n",
       "    </tr>\n",
       "    <tr>\n",
       "      <th>4751</th>\n",
       "      <td>7.6</td>\n",
       "      <td>0.250</td>\n",
       "      <td>1.23</td>\n",
       "      <td>4.6</td>\n",
       "      <td>0.035</td>\n",
       "      <td>51.0</td>\n",
       "      <td>294.0</td>\n",
       "      <td>0.99018</td>\n",
       "      <td>3.03</td>\n",
       "      <td>0.43</td>\n",
       "      <td>13.100000</td>\n",
       "      <td>6</td>\n",
       "      <td>True</td>\n",
       "      <td>6</td>\n",
       "    </tr>\n",
       "  </tbody>\n",
       "</table>\n",
       "</div>"
      ],
      "text/plain": [
       "      fixed_acidity  volatile_acidity  citric_acid  residual_sugar  chlorides  free_sulfur_dioxide  total_sulfur_dioxide  density    ph  sulphates    alcohol  quality  type_white quality_bins\n",
       "3761            9.9             0.490         0.23             2.4      0.087                 19.0                 115.0  0.99480  2.77       0.44   9.400000        6        True            6\n",
       "3740            7.7             0.280         0.35            15.3      0.056                 31.0                 117.0  0.99980  3.27       0.50   9.600000        5        True          3-5\n",
       "1359           11.6             0.475         0.40             1.4      0.091                  6.0                  28.0  0.99704  3.07       0.65  10.033333        6       False            6\n",
       "1230            7.7             0.180         0.34             2.7      0.066                 15.0                  58.0  0.99470  3.37       0.78  11.800000        6       False            6\n",
       "4751            7.6             0.250         1.23             4.6      0.035                 51.0                 294.0  0.99018  3.03       0.43  13.100000        6        True            6"
      ]
     },
     "execution_count": 80,
     "metadata": {},
     "output_type": "execute_result"
    }
   ],
   "source": [
    "train.head()"
   ]
  },
  {
   "cell_type": "code",
   "execution_count": 81,
   "metadata": {},
   "outputs": [
    {
     "data": {
      "text/plain": [
       "<function matplotlib.pyplot.show(close=None, block=None)>"
      ]
     },
     "execution_count": 81,
     "metadata": {},
     "output_type": "execute_result"
    },
    {
     "data": {
      "image/png": "[encoded data removed]",
      "text/plain": [
       "<Figure size 640x480 with 1 Axes>"
      ]
     },
     "metadata": {},
     "output_type": "display_data"
    }
   ],
   "source": [
    "sns.scatterplot(data=train, x='alcohol', y='density', hue='quality_bins', palette='deep')\n",
    "# plt.ylim(min(train.density), 1.005)\n",
    "plt.show"
   ]
  },
  {
   "cell_type": "code",
   "execution_count": 81,
   "metadata": {},
   "outputs": [
    {
     "data": {
      "text/plain": [
       "<function matplotlib.pyplot.show(close=None, block=None)>"
      ]
     },
     "execution_count": 81,
     "metadata": {},
     "output_type": "execute_result"
    },
    {
     "data": {
      "image/png": "[encoded data removed]",
      "text/plain": [
       "<Figure size 640x480 with 1 Axes>"
      ]
     },
     "metadata": {},
     "output_type": "display_data"
    }
   ],
   "source": [
    "sns.scatterplot(data=train, x='alcohol', y='density', hue='sk_clusters', palette='deep')\n",
    "plt.ylim(min(train.density), 1.005)\n",
    "plt.show"
   ]
  },
  {
   "cell_type": "code",
   "execution_count": 54,
   "metadata": {},
   "outputs": [],
   "source": [
    "train_scaled = MinMax_Scaler(train)"
   ]
  },
  {
   "cell_type": "code",
   "execution_count": 55,
   "metadata": {},
   "outputs": [
    {
     "data": {
      "text/html": [
       "<div>\n",
       "<style scoped>\n",
       "    .dataframe tbody tr th:only-of-type {\n",
       "        vertical-align: middle;\n",
       "    }\n",
       "\n",
       "    .dataframe tbody tr th {\n",
       "        vertical-align: top;\n",
       "    }\n",
       "\n",
       "    .dataframe thead th {\n",
       "        text-align: right;\n",
       "    }\n",
       "</style>\n",
       "<table border=\"1\" class=\"dataframe\">\n",
       "  <thead>\n",
       "    <tr style=\"text-align: right;\">\n",
       "      <th></th>\n",
       "      <th>fixed_acidity</th>\n",
       "      <th>volatile_acidity</th>\n",
       "      <th>citric_acid</th>\n",
       "      <th>residual_sugar</th>\n",
       "      <th>chlorides</th>\n",
       "      <th>free_sulfur_dioxide</th>\n",
       "      <th>total_sulfur_dioxide</th>\n",
       "      <th>density</th>\n",
       "      <th>ph</th>\n",
       "      <th>sulphates</th>\n",
       "      <th>alcohol</th>\n",
       "      <th>quality</th>\n",
       "      <th>type_white</th>\n",
       "    </tr>\n",
       "  </thead>\n",
       "  <tbody>\n",
       "    <tr>\n",
       "      <th>3761</th>\n",
       "      <td>0.516949</td>\n",
       "      <td>0.273333</td>\n",
       "      <td>0.186992</td>\n",
       "      <td>0.027607</td>\n",
       "      <td>0.129568</td>\n",
       "      <td>0.123711</td>\n",
       "      <td>0.322485</td>\n",
       "      <td>0.148255</td>\n",
       "      <td>0.023622</td>\n",
       "      <td>0.125000</td>\n",
       "      <td>0.231405</td>\n",
       "      <td>6</td>\n",
       "      <td>True</td>\n",
       "    </tr>\n",
       "    <tr>\n",
       "      <th>3740</th>\n",
       "      <td>0.330508</td>\n",
       "      <td>0.133333</td>\n",
       "      <td>0.284553</td>\n",
       "      <td>0.225460</td>\n",
       "      <td>0.078073</td>\n",
       "      <td>0.206186</td>\n",
       "      <td>0.328402</td>\n",
       "      <td>0.244650</td>\n",
       "      <td>0.417323</td>\n",
       "      <td>0.159091</td>\n",
       "      <td>0.264463</td>\n",
       "      <td>5</td>\n",
       "      <td>True</td>\n",
       "    </tr>\n",
       "    <tr>\n",
       "      <th>1359</th>\n",
       "      <td>0.661017</td>\n",
       "      <td>0.263333</td>\n",
       "      <td>0.325203</td>\n",
       "      <td>0.012270</td>\n",
       "      <td>0.136213</td>\n",
       "      <td>0.034364</td>\n",
       "      <td>0.065089</td>\n",
       "      <td>0.191440</td>\n",
       "      <td>0.259843</td>\n",
       "      <td>0.244318</td>\n",
       "      <td>0.336088</td>\n",
       "      <td>6</td>\n",
       "      <td>False</td>\n",
       "    </tr>\n",
       "    <tr>\n",
       "      <th>1230</th>\n",
       "      <td>0.330508</td>\n",
       "      <td>0.066667</td>\n",
       "      <td>0.276423</td>\n",
       "      <td>0.032209</td>\n",
       "      <td>0.094684</td>\n",
       "      <td>0.096220</td>\n",
       "      <td>0.153846</td>\n",
       "      <td>0.146327</td>\n",
       "      <td>0.496063</td>\n",
       "      <td>0.318182</td>\n",
       "      <td>0.628099</td>\n",
       "      <td>6</td>\n",
       "      <td>False</td>\n",
       "    </tr>\n",
       "    <tr>\n",
       "      <th>4751</th>\n",
       "      <td>0.322034</td>\n",
       "      <td>0.113333</td>\n",
       "      <td>1.000000</td>\n",
       "      <td>0.061350</td>\n",
       "      <td>0.043189</td>\n",
       "      <td>0.343643</td>\n",
       "      <td>0.852071</td>\n",
       "      <td>0.059186</td>\n",
       "      <td>0.228346</td>\n",
       "      <td>0.119318</td>\n",
       "      <td>0.842975</td>\n",
       "      <td>6</td>\n",
       "      <td>True</td>\n",
       "    </tr>\n",
       "  </tbody>\n",
       "</table>\n",
       "</div>"
      ],
      "text/plain": [
       "      fixed_acidity  volatile_acidity  citric_acid  residual_sugar  chlorides  free_sulfur_dioxide  total_sulfur_dioxide   density        ph  sulphates   alcohol  quality  type_white\n",
       "3761       0.516949          0.273333     0.186992        0.027607   0.129568             0.123711              0.322485  0.148255  0.023622   0.125000  0.231405        6        True\n",
       "3740       0.330508          0.133333     0.284553        0.225460   0.078073             0.206186              0.328402  0.244650  0.417323   0.159091  0.264463        5        True\n",
       "1359       0.661017          0.263333     0.325203        0.012270   0.136213             0.034364              0.065089  0.191440  0.259843   0.244318  0.336088        6       False\n",
       "1230       0.330508          0.066667     0.276423        0.032209   0.094684             0.096220              0.153846  0.146327  0.496063   0.318182  0.628099        6       False\n",
       "4751       0.322034          0.113333     1.000000        0.061350   0.043189             0.343643              0.852071  0.059186  0.228346   0.119318  0.842975        6        True"
      ]
     },
     "execution_count": 55,
     "metadata": {},
     "output_type": "execute_result"
    }
   ],
   "source": [
    "train_scaled.head()"
   ]
  },
  {
   "cell_type": "code",
   "execution_count": 56,
   "metadata": {},
   "outputs": [
    {
     "data": {
      "text/html": [
       "<style>#sk-container-id-1 {color: black;}#sk-container-id-1 pre{padding: 0;}#sk-container-id-1 div.sk-toggleable {background-color: white;}#sk-container-id-1 label.sk-toggleable__label {cursor: pointer;display: block;width: 100%;margin-bottom: 0;padding: 0.3em;box-sizing: border-box;text-align: center;}#sk-container-id-1 label.sk-toggleable__label-arrow:before {content: \"▸\";float: left;margin-right: 0.25em;color: #696969;}#sk-container-id-1 label.sk-toggleable__label-arrow:hover:before {color: black;}#sk-container-id-1 div.sk-estimator:hover label.sk-toggleable__label-arrow:before {color: black;}#sk-container-id-1 div.sk-toggleable__content {max-height: 0;max-width: 0;overflow: hidden;text-align: left;background-color: #f0f8ff;}#sk-container-id-1 div.sk-toggleable__content pre {margin: 0.2em;color: black;border-radius: 0.25em;background-color: #f0f8ff;}#sk-container-id-1 input.sk-toggleable__control:checked~div.sk-toggleable__content {max-height: 200px;max-width: 100%;overflow: auto;}#sk-container-id-1 input.sk-toggleable__control:checked~label.sk-toggleable__label-arrow:before {content: \"▾\";}#sk-container-id-1 div.sk-estimator input.sk-toggleable__control:checked~label.sk-toggleable__label {background-color: #d4ebff;}#sk-container-id-1 div.sk-label input.sk-toggleable__control:checked~label.sk-toggleable__label {background-color: #d4ebff;}#sk-container-id-1 input.sk-hidden--visually {border: 0;clip: rect(1px 1px 1px 1px);clip: rect(1px, 1px, 1px, 1px);height: 1px;margin: -1px;overflow: hidden;padding: 0;position: absolute;width: 1px;}#sk-container-id-1 div.sk-estimator {font-family: monospace;background-color: #f0f8ff;border: 1px dotted black;border-radius: 0.25em;box-sizing: border-box;margin-bottom: 0.5em;}#sk-container-id-1 div.sk-estimator:hover {background-color: #d4ebff;}#sk-container-id-1 div.sk-parallel-item::after {content: \"\";width: 100%;border-bottom: 1px solid gray;flex-grow: 1;}#sk-container-id-1 div.sk-label:hover label.sk-toggleable__label {background-color: #d4ebff;}#sk-container-id-1 div.sk-serial::before {content: \"\";position: absolute;border-left: 1px solid gray;box-sizing: border-box;top: 0;bottom: 0;left: 50%;z-index: 0;}#sk-container-id-1 div.sk-serial {display: flex;flex-direction: column;align-items: center;background-color: white;padding-right: 0.2em;padding-left: 0.2em;position: relative;}#sk-container-id-1 div.sk-item {position: relative;z-index: 1;}#sk-container-id-1 div.sk-parallel {display: flex;align-items: stretch;justify-content: center;background-color: white;position: relative;}#sk-container-id-1 div.sk-item::before, #sk-container-id-1 div.sk-parallel-item::before {content: \"\";position: absolute;border-left: 1px solid gray;box-sizing: border-box;top: 0;bottom: 0;left: 50%;z-index: -1;}#sk-container-id-1 div.sk-parallel-item {display: flex;flex-direction: column;z-index: 1;position: relative;background-color: white;}#sk-container-id-1 div.sk-parallel-item:first-child::after {align-self: flex-end;width: 50%;}#sk-container-id-1 div.sk-parallel-item:last-child::after {align-self: flex-start;width: 50%;}#sk-container-id-1 div.sk-parallel-item:only-child::after {width: 0;}#sk-container-id-1 div.sk-dashed-wrapped {border: 1px dashed gray;margin: 0 0.4em 0.5em 0.4em;box-sizing: border-box;padding-bottom: 0.4em;background-color: white;}#sk-container-id-1 div.sk-label label {font-family: monospace;font-weight: bold;display: inline-block;line-height: 1.2em;}#sk-container-id-1 div.sk-label-container {text-align: center;}#sk-container-id-1 div.sk-container {/* jupyter's `normalize.less` sets `[hidden] { display: none; }` but bootstrap.min.css set `[hidden] { display: none !important; }` so we also need the `!important` here to be able to override the default hidden behavior on the sphinx rendered scikit-learn.org. See: https://github.com/scikit-learn/scikit-learn/issues/21755 */display: inline-block !important;position: relative;}#sk-container-id-1 div.sk-text-repr-fallback {display: none;}</style><div id=\"sk-container-id-1\" class=\"sk-top-container\"><div class=\"sk-text-repr-fallback\"><pre>KMeans(n_clusters=3, n_init=&#x27;auto&#x27;)</pre><b>In a Jupyter environment, please rerun this cell to show the HTML representation or trust the notebook. <br />On GitHub, the HTML representation is unable to render, please try loading this page with nbviewer.org.</b></div><div class=\"sk-container\" hidden><div class=\"sk-item\"><div class=\"sk-estimator sk-toggleable\"><input class=\"sk-toggleable__control sk-hidden--visually\" id=\"sk-estimator-id-1\" type=\"checkbox\" checked><label for=\"sk-estimator-id-1\" class=\"sk-toggleable__label sk-toggleable__label-arrow\">KMeans</label><div class=\"sk-toggleable__content\"><pre>KMeans(n_clusters=3, n_init=&#x27;auto&#x27;)</pre></div></div></div></div></div>"
      ],
      "text/plain": [
       "KMeans(n_clusters=3, n_init='auto')"
      ]
     },
     "execution_count": 56,
     "metadata": {},
     "output_type": "execute_result"
    }
   ],
   "source": [
    "kmeans = KMeans(n_clusters=3, n_init='auto')\n",
    "features = train_scaled[['alcohol', 'density']]\n",
    "kmeans.fit(features)"
   ]
  },
  {
   "cell_type": "code",
   "execution_count": 57,
   "metadata": {},
   "outputs": [],
   "source": [
    "train_scaled['sk_clusters'] = kmeans.labels_"
   ]
  },
  {
   "cell_type": "code",
   "execution_count": 58,
   "metadata": {},
   "outputs": [],
   "source": [
    "features = train_scaled[['alcohol', 'density', 'sk_clusters']]"
   ]
  },
  {
   "cell_type": "code",
   "execution_count": 61,
   "metadata": {},
   "outputs": [
    {
     "data": {
      "text/plain": [
       "<function matplotlib.pyplot.show(close=None, block=None)>"
      ]
     },
     "execution_count": 61,
     "metadata": {},
     "output_type": "execute_result"
    },
    {
     "data": {
      "image/png": "[encoded data removed]",
      "text/plain": [
       "<Figure size 640x480 with 1 Axes>"
      ]
     },
     "metadata": {},
     "output_type": "display_data"
    }
   ],
   "source": [
    "sns.scatterplot(data=train_scaled, x='alcohol', y='density', hue='sk_clusters', palette='deep')\n",
    "#plt.ylim(min(train_scaled.density), .5)\n",
    "plt.show"
   ]
  },
  {
   "cell_type": "code",
   "execution_count": 89,
   "metadata": {},
   "outputs": [],
   "source": [
    "# Loop through each unique value of \"quality\"\n",
    "subset_data = train_scaled[train_scaled['quality'] == 7]"
   ]
  },
  {
   "cell_type": "code",
   "execution_count": 90,
   "metadata": {},
   "outputs": [
    {
     "data": {
      "text/html": [
       "<div>\n",
       "<style scoped>\n",
       "    .dataframe tbody tr th:only-of-type {\n",
       "        vertical-align: middle;\n",
       "    }\n",
       "\n",
       "    .dataframe tbody tr th {\n",
       "        vertical-align: top;\n",
       "    }\n",
       "\n",
       "    .dataframe thead th {\n",
       "        text-align: right;\n",
       "    }\n",
       "</style>\n",
       "<table border=\"1\" class=\"dataframe\">\n",
       "  <thead>\n",
       "    <tr style=\"text-align: right;\">\n",
       "      <th></th>\n",
       "      <th>fixed_acidity</th>\n",
       "      <th>volatile_acidity</th>\n",
       "      <th>citric_acid</th>\n",
       "      <th>residual_sugar</th>\n",
       "      <th>chlorides</th>\n",
       "      <th>free_sulfur_dioxide</th>\n",
       "      <th>total_sulfur_dioxide</th>\n",
       "      <th>density</th>\n",
       "      <th>ph</th>\n",
       "      <th>sulphates</th>\n",
       "      <th>alcohol</th>\n",
       "      <th>quality</th>\n",
       "      <th>type</th>\n",
       "      <th>alcohol_bins</th>\n",
       "      <th>sk_clusters</th>\n",
       "      <th>quality_bins</th>\n",
       "    </tr>\n",
       "  </thead>\n",
       "  <tbody>\n",
       "    <tr>\n",
       "      <th>5128</th>\n",
       "      <td>7.1</td>\n",
       "      <td>0.350</td>\n",
       "      <td>0.27</td>\n",
       "      <td>3.10</td>\n",
       "      <td>0.034</td>\n",
       "      <td>28.0</td>\n",
       "      <td>134.0</td>\n",
       "      <td>0.98970</td>\n",
       "      <td>3.26</td>\n",
       "      <td>0.38</td>\n",
       "      <td>13.1</td>\n",
       "      <td>7</td>\n",
       "      <td>white</td>\n",
       "      <td>12-14</td>\n",
       "      <td>2</td>\n",
       "      <td>7-9</td>\n",
       "    </tr>\n",
       "    <tr>\n",
       "      <th>4698</th>\n",
       "      <td>6.7</td>\n",
       "      <td>0.340</td>\n",
       "      <td>0.40</td>\n",
       "      <td>2.10</td>\n",
       "      <td>0.033</td>\n",
       "      <td>34.0</td>\n",
       "      <td>111.0</td>\n",
       "      <td>0.98924</td>\n",
       "      <td>2.97</td>\n",
       "      <td>0.48</td>\n",
       "      <td>12.2</td>\n",
       "      <td>7</td>\n",
       "      <td>white</td>\n",
       "      <td>12-14</td>\n",
       "      <td>2</td>\n",
       "      <td>7-9</td>\n",
       "    </tr>\n",
       "    <tr>\n",
       "      <th>2187</th>\n",
       "      <td>6.9</td>\n",
       "      <td>0.280</td>\n",
       "      <td>0.27</td>\n",
       "      <td>2.10</td>\n",
       "      <td>0.036</td>\n",
       "      <td>42.0</td>\n",
       "      <td>121.0</td>\n",
       "      <td>0.99260</td>\n",
       "      <td>3.42</td>\n",
       "      <td>0.49</td>\n",
       "      <td>10.8</td>\n",
       "      <td>7</td>\n",
       "      <td>white</td>\n",
       "      <td>10-11</td>\n",
       "      <td>0</td>\n",
       "      <td>7-9</td>\n",
       "    </tr>\n",
       "    <tr>\n",
       "      <th>5503</th>\n",
       "      <td>5.0</td>\n",
       "      <td>0.455</td>\n",
       "      <td>0.18</td>\n",
       "      <td>1.90</td>\n",
       "      <td>0.036</td>\n",
       "      <td>33.0</td>\n",
       "      <td>106.0</td>\n",
       "      <td>0.98746</td>\n",
       "      <td>3.21</td>\n",
       "      <td>0.83</td>\n",
       "      <td>14.0</td>\n",
       "      <td>7</td>\n",
       "      <td>white</td>\n",
       "      <td>12-14</td>\n",
       "      <td>2</td>\n",
       "      <td>7-9</td>\n",
       "    </tr>\n",
       "    <tr>\n",
       "      <th>6005</th>\n",
       "      <td>6.3</td>\n",
       "      <td>0.290</td>\n",
       "      <td>0.29</td>\n",
       "      <td>3.30</td>\n",
       "      <td>0.037</td>\n",
       "      <td>32.0</td>\n",
       "      <td>140.0</td>\n",
       "      <td>0.98950</td>\n",
       "      <td>3.17</td>\n",
       "      <td>0.36</td>\n",
       "      <td>12.8</td>\n",
       "      <td>7</td>\n",
       "      <td>white</td>\n",
       "      <td>12-14</td>\n",
       "      <td>2</td>\n",
       "      <td>7-9</td>\n",
       "    </tr>\n",
       "    <tr>\n",
       "      <th>...</th>\n",
       "      <td>...</td>\n",
       "      <td>...</td>\n",
       "      <td>...</td>\n",
       "      <td>...</td>\n",
       "      <td>...</td>\n",
       "      <td>...</td>\n",
       "      <td>...</td>\n",
       "      <td>...</td>\n",
       "      <td>...</td>\n",
       "      <td>...</td>\n",
       "      <td>...</td>\n",
       "      <td>...</td>\n",
       "      <td>...</td>\n",
       "      <td>...</td>\n",
       "      <td>...</td>\n",
       "      <td>...</td>\n",
       "    </tr>\n",
       "    <tr>\n",
       "      <th>4843</th>\n",
       "      <td>6.7</td>\n",
       "      <td>0.210</td>\n",
       "      <td>0.36</td>\n",
       "      <td>8.55</td>\n",
       "      <td>0.020</td>\n",
       "      <td>20.0</td>\n",
       "      <td>86.0</td>\n",
       "      <td>0.99146</td>\n",
       "      <td>3.19</td>\n",
       "      <td>0.22</td>\n",
       "      <td>13.4</td>\n",
       "      <td>7</td>\n",
       "      <td>white</td>\n",
       "      <td>12-14</td>\n",
       "      <td>2</td>\n",
       "      <td>7-9</td>\n",
       "    </tr>\n",
       "    <tr>\n",
       "      <th>4117</th>\n",
       "      <td>7.1</td>\n",
       "      <td>0.120</td>\n",
       "      <td>0.30</td>\n",
       "      <td>3.10</td>\n",
       "      <td>0.018</td>\n",
       "      <td>15.0</td>\n",
       "      <td>37.0</td>\n",
       "      <td>0.99004</td>\n",
       "      <td>3.02</td>\n",
       "      <td>0.52</td>\n",
       "      <td>11.9</td>\n",
       "      <td>7</td>\n",
       "      <td>white</td>\n",
       "      <td>11-12</td>\n",
       "      <td>2</td>\n",
       "      <td>7-9</td>\n",
       "    </tr>\n",
       "    <tr>\n",
       "      <th>3385</th>\n",
       "      <td>7.4</td>\n",
       "      <td>0.330</td>\n",
       "      <td>0.26</td>\n",
       "      <td>2.60</td>\n",
       "      <td>0.040</td>\n",
       "      <td>29.0</td>\n",
       "      <td>115.0</td>\n",
       "      <td>0.99130</td>\n",
       "      <td>3.07</td>\n",
       "      <td>0.52</td>\n",
       "      <td>11.8</td>\n",
       "      <td>7</td>\n",
       "      <td>white</td>\n",
       "      <td>11-12</td>\n",
       "      <td>2</td>\n",
       "      <td>7-9</td>\n",
       "    </tr>\n",
       "    <tr>\n",
       "      <th>4426</th>\n",
       "      <td>6.4</td>\n",
       "      <td>0.140</td>\n",
       "      <td>0.31</td>\n",
       "      <td>1.20</td>\n",
       "      <td>0.034</td>\n",
       "      <td>53.0</td>\n",
       "      <td>138.0</td>\n",
       "      <td>0.99084</td>\n",
       "      <td>3.38</td>\n",
       "      <td>0.35</td>\n",
       "      <td>11.5</td>\n",
       "      <td>7</td>\n",
       "      <td>white</td>\n",
       "      <td>11-12</td>\n",
       "      <td>0</td>\n",
       "      <td>7-9</td>\n",
       "    </tr>\n",
       "    <tr>\n",
       "      <th>5191</th>\n",
       "      <td>5.6</td>\n",
       "      <td>0.280</td>\n",
       "      <td>0.27</td>\n",
       "      <td>3.90</td>\n",
       "      <td>0.043</td>\n",
       "      <td>52.0</td>\n",
       "      <td>158.0</td>\n",
       "      <td>0.99202</td>\n",
       "      <td>3.35</td>\n",
       "      <td>0.44</td>\n",
       "      <td>10.7</td>\n",
       "      <td>7</td>\n",
       "      <td>white</td>\n",
       "      <td>10-11</td>\n",
       "      <td>0</td>\n",
       "      <td>7-9</td>\n",
       "    </tr>\n",
       "  </tbody>\n",
       "</table>\n",
       "<p>764 rows × 16 columns</p>\n",
       "</div>"
      ],
      "text/plain": [
       "      fixed_acidity  volatile_acidity  citric_acid  residual_sugar  chlorides  free_sulfur_dioxide  total_sulfur_dioxide  density    ph  sulphates  alcohol  quality   type alcohol_bins  sk_clusters quality_bins\n",
       "5128            7.1             0.350         0.27            3.10      0.034                 28.0                 134.0  0.98970  3.26       0.38     13.1        7  white        12-14            2          7-9\n",
       "4698            6.7             0.340         0.40            2.10      0.033                 34.0                 111.0  0.98924  2.97       0.48     12.2        7  white        12-14            2          7-9\n",
       "2187            6.9             0.280         0.27            2.10      0.036                 42.0                 121.0  0.99260  3.42       0.49     10.8        7  white        10-11            0          7-9\n",
       "5503            5.0             0.455         0.18            1.90      0.036                 33.0                 106.0  0.98746  3.21       0.83     14.0        7  white        12-14            2          7-9\n",
       "6005            6.3             0.290         0.29            3.30      0.037                 32.0                 140.0  0.98950  3.17       0.36     12.8        7  white        12-14            2          7-9\n",
       "...             ...               ...          ...             ...        ...                  ...                   ...      ...   ...        ...      ...      ...    ...          ...          ...          ...\n",
       "4843            6.7             0.210         0.36            8.55      0.020                 20.0                  86.0  0.99146  3.19       0.22     13.4        7  white        12-14            2          7-9\n",
       "4117            7.1             0.120         0.30            3.10      0.018                 15.0                  37.0  0.99004  3.02       0.52     11.9        7  white        11-12            2          7-9\n",
       "3385            7.4             0.330         0.26            2.60      0.040                 29.0                 115.0  0.99130  3.07       0.52     11.8        7  white        11-12            2          7-9\n",
       "4426            6.4             0.140         0.31            1.20      0.034                 53.0                 138.0  0.99084  3.38       0.35     11.5        7  white        11-12            0          7-9\n",
       "5191            5.6             0.280         0.27            3.90      0.043                 52.0                 158.0  0.99202  3.35       0.44     10.7        7  white        10-11            0          7-9\n",
       "\n",
       "[764 rows x 16 columns]"
      ]
     },
     "execution_count": 90,
     "metadata": {},
     "output_type": "execute_result"
    }
   ],
   "source": [
    "subset_data"
   ]
  },
  {
   "cell_type": "code",
   "execution_count": 105,
   "metadata": {},
   "outputs": [],
   "source": [
    "# # Loop through each unique value of \"quality\"\n",
    "# unique_qualities = train['quality'].unique()\n",
    "\n",
    "# for quality_value in unique_qualities:\n",
    "#     # Subset the data for the current quality value\n",
    "#     subset_data = train[train['quality'] == quality_value]\n",
    "    \n",
    "#     # Create a scatterplot for the subset of data\n",
    "#     sns.pairplot(data=subset_data, height=3)\n",
    "    \n",
    "#     # Show the plot\n",
    "#     plt.show()"
   ]
  },
  {
   "cell_type": "code",
   "execution_count": 104,
   "metadata": {},
   "outputs": [],
   "source": [
    "# import matplotlib.pyplot as plt\n",
    "\n",
    "# # Loop through each unique value of \"quality\"\n",
    "# unique_qualities = train['quality'].unique()\n",
    "\n",
    "# for quality_value in unique_qualities:\n",
    "#     # Subset the data for the current quality value\n",
    "#     subset_data = train[train['quality'] == quality_value]\n",
    "\n",
    "#     # Iterate through columns\n",
    "#     for col in subset_data.columns:\n",
    "#         # Skip the quality column itself\n",
    "#         if col == 'quality':\n",
    "#             continue\n",
    "\n",
    "#         # Create scatterplot\n",
    "#         plt.scatter(subset_data[col], subset_data.iloc[:, 0])  # Scatter the first column against the current column\n",
    "#         plt.xlabel(col)\n",
    "#         plt.ylabel(subset_data.columns[0])  # Use the name of the first column as the y-axis label\n",
    "#         plt.title(f\"Scatterplot: {col} vs {subset_data.columns[0]} (Quality {quality_value})\")\n",
    "#         plt.show()  # Show the scatterplot\n"
   ]
  },
  {
   "cell_type": "code",
   "execution_count": null,
   "metadata": {},
   "outputs": [],
   "source": [
    "# # Define custom labels for \"quality\"\n",
    "# bins_q = [3, 5, 6, 9]\n",
    "# labels_q = ['Low', 'Med', 'High']\n",
    "\n",
    "# # Create a new column \"quality_bins\" to store the bin labels\n",
    "# df['quality_bins'] = pd.cut(df['quality'], bins=bins_q, labels=labels_q)\n",
    "\n",
    "# # Define bin edges and labels for \"alcohol\"\n",
    "# bin_edges = [8, 9, 10, 11, 12, 14]\n",
    "# bin_labels = ['8-9', '9-10', '10-11', '11-12', '12-14']\n",
    "\n",
    "# # Bin the \"alcohol\" column\n",
    "# df['alcohol_bins'] = pd.cut(df['alcohol'], bins=bin_edges, labels=bin_labels)\n",
    "\n",
    "# # Group by \"quality_bins\" and \"alcohol_bins\" and count occurrences\n",
    "# grouped = df.groupby(['quality_bins', 'alcohol_bins']).size().unstack(fill_value=0)\n",
    "\n",
    "# # Create a custom gradient color palette with specific hexadecimal color codes\n",
    "# custom_palette = sns.color_palette([\"#39C97E\", \"#98CD7C\", \"#E8D07B\", \"#E07E58\", \"#D93D3D\"], n_colors=len(bin_labels))\n",
    "\n",
    "# # Create a grouped bar plot with the custom gradient color palette\n",
    "# ax = grouped.plot(kind='bar', figsize=(10, 6), color=custom_palette)\n",
    "# plt.xlabel('Quality')\n",
    "# plt.ylabel('Count')\n",
    "# plt.title('Alcohol vs Quality (Binned)')\n",
    "# plt.xticks(rotation=0)\n",
    "# plt.legend(title='Alcohol Range')\n",
    "# plt.show()"
   ]
  },
  {
   "cell_type": "code",
   "execution_count": null,
   "metadata": {},
   "outputs": [],
   "source": []
  },
  {
   "cell_type": "code",
   "execution_count": 84,
   "metadata": {},
   "outputs": [
    {
     "name": "stdout",
     "output_type": "stream",
     "text": [
      "Correlation matrix for feature 'fixed_acidity':\n",
      "                 Feature  Correlation\n",
      "0          fixed_acidity     1.000000\n",
      "7                density     0.458910\n",
      "6   total_sulfur_dioxide    -0.329054\n",
      "2            citric_acid     0.324436\n",
      "9              sulphates     0.299568\n",
      "4              chlorides     0.298195\n",
      "5    free_sulfur_dioxide    -0.282735\n",
      "8                     ph    -0.252700\n",
      "1       volatile_acidity     0.219008\n",
      "3         residual_sugar    -0.111981\n",
      "10               alcohol    -0.095452\n",
      "11               quality    -0.076743\n",
      "\n",
      "\n",
      "Correlation matrix for feature 'volatile_acidity':\n",
      "                 Feature  Correlation\n",
      "1       volatile_acidity     1.000000\n",
      "6   total_sulfur_dioxide    -0.414476\n",
      "2            citric_acid    -0.377981\n",
      "4              chlorides     0.377124\n",
      "5    free_sulfur_dioxide    -0.352557\n",
      "7                density     0.271296\n",
      "11               quality    -0.265699\n",
      "8                     ph     0.261454\n",
      "9              sulphates     0.225984\n",
      "0          fixed_acidity     0.219008\n",
      "3         residual_sugar    -0.196011\n",
      "10               alcohol    -0.037640\n",
      "\n",
      "\n",
      "Correlation matrix for feature 'citric_acid':\n",
      "                 Feature  Correlation\n",
      "2            citric_acid     1.000000\n",
      "1       volatile_acidity    -0.377981\n",
      "8                     ph    -0.329808\n",
      "0          fixed_acidity     0.324436\n",
      "6   total_sulfur_dioxide     0.195242\n",
      "3         residual_sugar     0.142451\n",
      "5    free_sulfur_dioxide     0.133126\n",
      "7                density     0.096154\n",
      "11               quality     0.085532\n",
      "9              sulphates     0.056197\n",
      "4              chlorides     0.038998\n",
      "10               alcohol    -0.010493\n",
      "\n",
      "\n",
      "Correlation matrix for feature 'residual_sugar':\n",
      "                 Feature  Correlation\n",
      "3         residual_sugar     1.000000\n",
      "7                density     0.552517\n",
      "6   total_sulfur_dioxide     0.495482\n",
      "5    free_sulfur_dioxide     0.402871\n",
      "10               alcohol    -0.359415\n",
      "8                     ph    -0.267320\n",
      "1       volatile_acidity    -0.196011\n",
      "9              sulphates    -0.185927\n",
      "2            citric_acid     0.142451\n",
      "4              chlorides    -0.128940\n",
      "0          fixed_acidity    -0.111981\n",
      "11               quality    -0.036980\n",
      "\n",
      "\n",
      "Correlation matrix for feature 'chlorides':\n",
      "                 Feature  Correlation\n",
      "4              chlorides     1.000000\n",
      "9              sulphates     0.395593\n",
      "1       volatile_acidity     0.377124\n",
      "7                density     0.362615\n",
      "0          fixed_acidity     0.298195\n",
      "6   total_sulfur_dioxide    -0.279630\n",
      "10               alcohol    -0.256916\n",
      "11               quality    -0.200666\n",
      "5    free_sulfur_dioxide    -0.195045\n",
      "3         residual_sugar    -0.128940\n",
      "8                     ph     0.044708\n",
      "2            citric_acid     0.038998\n",
      "\n",
      "\n",
      "Correlation matrix for feature 'free_sulfur_dioxide':\n",
      "                 Feature  Correlation\n",
      "5    free_sulfur_dioxide     1.000000\n",
      "6   total_sulfur_dioxide     0.720934\n",
      "3         residual_sugar     0.402871\n",
      "1       volatile_acidity    -0.352557\n",
      "0          fixed_acidity    -0.282735\n",
      "4              chlorides    -0.195045\n",
      "9              sulphates    -0.188457\n",
      "10               alcohol    -0.179838\n",
      "8                     ph    -0.145854\n",
      "2            citric_acid     0.133126\n",
      "11               quality     0.055463\n",
      "7                density     0.025717\n",
      "\n",
      "\n",
      "Correlation matrix for feature 'total_sulfur_dioxide':\n",
      "                 Feature  Correlation\n",
      "6   total_sulfur_dioxide     1.000000\n",
      "5    free_sulfur_dioxide     0.720934\n",
      "3         residual_sugar     0.495482\n",
      "1       volatile_acidity    -0.414476\n",
      "0          fixed_acidity    -0.329054\n",
      "4              chlorides    -0.279630\n",
      "9              sulphates    -0.275727\n",
      "10               alcohol    -0.265740\n",
      "8                     ph    -0.238413\n",
      "2            citric_acid     0.195242\n",
      "11               quality    -0.041385\n",
      "7                density     0.032395\n",
      "\n",
      "\n",
      "Correlation matrix for feature 'density':\n",
      "                 Feature  Correlation\n",
      "7                density     1.000000\n",
      "10               alcohol    -0.686745\n",
      "3         residual_sugar     0.552517\n",
      "0          fixed_acidity     0.458910\n",
      "4              chlorides     0.362615\n",
      "11               quality    -0.305858\n",
      "1       volatile_acidity     0.271296\n",
      "9              sulphates     0.259478\n",
      "2            citric_acid     0.096154\n",
      "6   total_sulfur_dioxide     0.032395\n",
      "5    free_sulfur_dioxide     0.025717\n",
      "8                     ph     0.011686\n",
      "\n",
      "\n",
      "Correlation matrix for feature 'ph':\n",
      "                 Feature  Correlation\n",
      "8                     ph     1.000000\n",
      "2            citric_acid    -0.329808\n",
      "3         residual_sugar    -0.267320\n",
      "1       volatile_acidity     0.261454\n",
      "0          fixed_acidity    -0.252700\n",
      "6   total_sulfur_dioxide    -0.238413\n",
      "9              sulphates     0.192123\n",
      "5    free_sulfur_dioxide    -0.145854\n",
      "10               alcohol     0.121248\n",
      "4              chlorides     0.044708\n",
      "11               quality     0.019506\n",
      "7                density     0.011686\n",
      "\n",
      "\n",
      "Correlation matrix for feature 'sulphates':\n",
      "                 Feature  Correlation\n",
      "9              sulphates     1.000000\n",
      "4              chlorides     0.395593\n",
      "0          fixed_acidity     0.299568\n",
      "6   total_sulfur_dioxide    -0.275727\n",
      "7                density     0.259478\n",
      "1       volatile_acidity     0.225984\n",
      "8                     ph     0.192123\n",
      "5    free_sulfur_dioxide    -0.188457\n",
      "3         residual_sugar    -0.185927\n",
      "2            citric_acid     0.056197\n",
      "11               quality     0.038485\n",
      "10               alcohol    -0.003029\n",
      "\n",
      "\n",
      "Correlation matrix for feature 'alcohol':\n",
      "                 Feature  Correlation\n",
      "10               alcohol     1.000000\n",
      "7                density    -0.686745\n",
      "11               quality     0.444319\n",
      "3         residual_sugar    -0.359415\n",
      "6   total_sulfur_dioxide    -0.265740\n",
      "4              chlorides    -0.256916\n",
      "5    free_sulfur_dioxide    -0.179838\n",
      "8                     ph     0.121248\n",
      "0          fixed_acidity    -0.095452\n",
      "1       volatile_acidity    -0.037640\n",
      "2            citric_acid    -0.010493\n",
      "9              sulphates    -0.003029\n",
      "\n",
      "\n",
      "Correlation matrix for feature 'quality':\n",
      "                 Feature  Correlation\n",
      "11               quality     1.000000\n",
      "10               alcohol     0.444319\n",
      "7                density    -0.305858\n",
      "1       volatile_acidity    -0.265699\n",
      "4              chlorides    -0.200666\n",
      "2            citric_acid     0.085532\n",
      "0          fixed_acidity    -0.076743\n",
      "5    free_sulfur_dioxide     0.055463\n",
      "6   total_sulfur_dioxide    -0.041385\n",
      "9              sulphates     0.038485\n",
      "3         residual_sugar    -0.036980\n",
      "8                     ph     0.019506\n",
      "\n",
      "\n"
     ]
    }
   ],
   "source": [
    "import pandas as pd\n",
    "\n",
    "# Assuming df is your DataFrame\n",
    "\n",
    "# Exclude non-numeric columns ('type' in this case)\n",
    "numeric_df = df.select_dtypes(include=['number'])\n",
    "\n",
    "# Create an empty DataFrame to store the results\n",
    "result_dfs = []\n",
    "\n",
    "# Loop through each numeric feature\n",
    "for feature in numeric_df.columns:\n",
    "    # Calculate the correlation matrix for the current feature\n",
    "    correlation_matrix = numeric_df.corrwith(numeric_df[feature])\n",
    "    \n",
    "    # Create a DataFrame to store the results for the current feature\n",
    "    result_df = pd.DataFrame({'Feature': correlation_matrix.index, 'Correlation': correlation_matrix.values})\n",
    "    \n",
    "    # Sort the DataFrame by the absolute correlation values in descending order\n",
    "    result_df = result_df.iloc[(-result_df.iloc[:, 1].abs()).argsort()]\n",
    "    \n",
    "    # Append the result to the list\n",
    "    result_dfs.append(result_df)\n",
    "\n",
    "# Print and display each correlation matrix separately\n",
    "for idx, result_df in enumerate(result_dfs):\n",
    "    print(f\"Correlation matrix for feature '{numeric_df.columns[idx]}':\")\n",
    "    print(result_df)\n",
    "    print(\"\\n\")\n"
   ]
  },
  {
   "cell_type": "code",
   "execution_count": 82,
   "metadata": {},
   "outputs": [
    {
     "name": "stdout",
     "output_type": "stream",
     "text": [
      "                      fixed_acidity  volatile_acidity  citric_acid  residual_sugar  chlorides  free_sulfur_dioxide  total_sulfur_dioxide   density        ph  sulphates   alcohol   quality\n",
      "fixed_acidity              1.000000          0.219008     0.324436       -0.111981   0.298195            -0.282735             -0.329054  0.458910 -0.252700   0.299568 -0.095452 -0.076743\n",
      "volatile_acidity           0.219008          1.000000    -0.377981       -0.196011   0.377124            -0.352557             -0.414476  0.271296  0.261454   0.225984 -0.037640 -0.265699\n",
      "citric_acid                0.324436         -0.377981     1.000000        0.142451   0.038998             0.133126              0.195242  0.096154 -0.329808   0.056197 -0.010493  0.085532\n",
      "residual_sugar            -0.111981         -0.196011     0.142451        1.000000  -0.128940             0.402871              0.495482  0.552517 -0.267320  -0.185927 -0.359415 -0.036980\n",
      "chlorides                  0.298195          0.377124     0.038998       -0.128940   1.000000            -0.195045             -0.279630  0.362615  0.044708   0.395593 -0.256916 -0.200666\n",
      "free_sulfur_dioxide       -0.282735         -0.352557     0.133126        0.402871  -0.195045             1.000000              0.720934  0.025717 -0.145854  -0.188457 -0.179838  0.055463\n",
      "total_sulfur_dioxide      -0.329054         -0.414476     0.195242        0.495482  -0.279630             0.720934              1.000000  0.032395 -0.238413  -0.275727 -0.265740 -0.041385\n",
      "density                    0.458910          0.271296     0.096154        0.552517   0.362615             0.025717              0.032395  1.000000  0.011686   0.259478 -0.686745 -0.305858\n",
      "ph                        -0.252700          0.261454    -0.329808       -0.267320   0.044708            -0.145854             -0.238413  0.011686  1.000000   0.192123  0.121248  0.019506\n",
      "sulphates                  0.299568          0.225984     0.056197       -0.185927   0.395593            -0.188457             -0.275727  0.259478  0.192123   1.000000 -0.003029  0.038485\n",
      "alcohol                   -0.095452         -0.037640    -0.010493       -0.359415  -0.256916            -0.179838             -0.265740 -0.686745  0.121248  -0.003029  1.000000  0.444319\n",
      "quality                   -0.076743         -0.265699     0.085532       -0.036980  -0.200666             0.055463             -0.041385 -0.305858  0.019506   0.038485  0.444319  1.000000\n"
     ]
    }
   ],
   "source": [
    "import pandas as pd\n",
    "\n",
    "# Assuming df is your DataFrame\n",
    "\n",
    "# Exclude non-numeric columns ('type' in this case)\n",
    "numeric_df = df.select_dtypes(include=['number'])\n",
    "\n",
    "# Calculate the correlation matrix\n",
    "correlation_matrix = numeric_df.corr()\n",
    "\n",
    "# Display the correlation matrix\n",
    "print(correlation_matrix)\n"
   ]
  },
  {
   "cell_type": "code",
   "execution_count": 31,
   "metadata": {},
   "outputs": [
    {
     "name": "stdout",
     "output_type": "stream",
     "text": [
      "                 Feature  F-statistic        p-value\n",
      "0          fixed acidity     8.004193   1.258439e-08\n",
      "1       volatile acidity    96.674022  8.168059e-117\n",
      "2            citric acid     9.310199   3.443125e-10\n",
      "3         residual sugar     9.111367   5.969040e-10\n",
      "4              chlorides    50.849719   1.953578e-61\n",
      "5    free sulfur dioxide    14.939170   4.774295e-17\n",
      "6   total sulfur dioxide     7.716088   2.768378e-08\n",
      "7                density   136.951236  6.581609e-164\n",
      "8                     pH     2.021462   5.931925e-02\n",
      "9              sulphates     4.325773   2.313182e-04\n",
      "10               alcohol   320.593448   0.000000e+00\n"
     ]
    }
   ],
   "source": [
    "import pandas as pd\n",
    "import scipy.stats as stats\n",
    "\n",
    "# Create an empty DataFrame to store the ANOVA results\n",
    "anova_results = pd.DataFrame(columns=['Feature', 'F-statistic', 'p-value'])\n",
    "\n",
    "# Perform ANOVA for each numerical column\n",
    "for column in df.columns:\n",
    "    if column != 'quality' and df[column].dtype != 'object':  # Exclude non-numeric and the 'quality' column\n",
    "        group_data = [group[column] for name, group in df.groupby('quality')]\n",
    "        f_statistic, p_value = stats.f_oneway(*group_data)\n",
    "        anova_results = pd.concat([anova_results, pd.DataFrame({'Feature': [column], 'F-statistic': [f_statistic], 'p-value': [p_value]})], ignore_index=True)\n",
    "\n",
    "# Print the ANOVA results\n",
    "print(anova_results)"
   ]
  },
  {
   "cell_type": "code",
   "execution_count": 22,
   "metadata": {},
   "outputs": [
    {
     "name": "stdout",
     "output_type": "stream",
     "text": [
      "                 Feature  F-statistic        p-value      Hypothesis\n",
      "10               alcohol   320.593448   0.000000e+00          Reject\n",
      "0                density   136.951236  6.581609e-164          Reject\n",
      "1       volatile acidity    96.674022  8.168059e-117          Reject\n",
      "2              chlorides    50.849719   1.953578e-61          Reject\n",
      "3    free sulfur dioxide    14.939170   4.774295e-17          Reject\n",
      "4            citric acid     9.310199   3.443125e-10          Reject\n",
      "5         residual sugar     9.111367   5.969040e-10          Reject\n",
      "6          fixed acidity     8.004193   1.258439e-08          Reject\n",
      "7   total sulfur dioxide     7.716088   2.768378e-08          Reject\n",
      "8              sulphates     4.325773   2.313182e-04          Reject\n",
      "9                     pH     2.021462   5.931925e-02  Fail to Reject\n"
     ]
    }
   ],
   "source": [
    "# Create an empty DataFrame to store the ANOVA results\n",
    "anova_results = pd.DataFrame(columns=['Feature', 'F-statistic', 'p-value', 'Hypothesis'])\n",
    "\n",
    "# Perform ANOVA for each numerical column\n",
    "for column in df.columns:\n",
    "    if column != 'quality' and df[column].dtype != 'object':  # Exclude non-numeric and the 'quality' column\n",
    "        group_data = [group[column] for name, group in df.groupby('quality')]\n",
    "        f_statistic, p_value = stats.f_oneway(*group_data)\n",
    "        \n",
    "        # Determine whether to \"Reject\" or \"Fail to Reject\" the null hypothesis\n",
    "        if p_value < 0.05:\n",
    "            hypothesis = \"Reject\"\n",
    "        else:\n",
    "            hypothesis = \"Fail to Reject\"\n",
    "        \n",
    "        anova_results = pd.concat([anova_results, pd.DataFrame({'Feature': [column], 'F-statistic': [f_statistic], 'p-value': [p_value], 'Hypothesis': [hypothesis]})], ignore_index=True)\n",
    "        \n",
    "        anova_results = anova_results.sort_values(by='F-statistic', ascending=False)\n",
    "\n",
    "# Print the ANOVA results with the hypothesis decision\n",
    "print(anova_results)"
   ]
  },
  {
   "cell_type": "code",
   "execution_count": 19,
   "metadata": {},
   "outputs": [
    {
     "name": "stdout",
     "output_type": "stream",
     "text": [
      "                                   Feature  Correlation with Quality\n",
      "quality                            quality                  1.000000\n",
      "alcohol                            alcohol                  0.444319\n",
      "density                            density                 -0.305858\n",
      "volatile acidity          volatile acidity                 -0.265699\n",
      "chlorides                        chlorides                 -0.200666\n",
      "citric acid                    citric acid                  0.085532\n",
      "fixed acidity                fixed acidity                 -0.076743\n",
      "free sulfur dioxide    free sulfur dioxide                  0.055463\n",
      "total sulfur dioxide  total sulfur dioxide                 -0.041385\n",
      "sulphates                        sulphates                  0.038485\n",
      "residual sugar              residual sugar                 -0.036980\n",
      "pH                                      pH                  0.019506\n"
     ]
    }
   ],
   "source": [
    "import pandas as pd\n",
    "\n",
    "# Assuming df is your DataFrame\n",
    "\n",
    "# Exclude non-numeric columns ('type' in this case)\n",
    "numeric_df = df.select_dtypes(include=['number'])\n",
    "\n",
    "# Calculate the correlation matrix\n",
    "correlation_matrix = numeric_df.corr()\n",
    "\n",
    "# Extract the correlation values for the \"quality\" column\n",
    "correlation_with_quality = correlation_matrix[\"quality\"]\n",
    "\n",
    "# Create a DataFrame to store the results\n",
    "result_df = pd.DataFrame({'Feature': correlation_matrix.columns, 'Correlation with Quality': correlation_with_quality})\n",
    "\n",
    "# Sort the DataFrame by the absolute correlation values in descending order\n",
    "result_df = result_df.iloc[(-result_df['Correlation with Quality'].abs()).argsort()]\n",
    "\n",
    "# Display the result DataFrame\n",
    "print(result_df)\n"
   ]
  },
  {
   "cell_type": "code",
   "execution_count": 20,
   "metadata": {},
   "outputs": [
    {
     "name": "stdout",
     "output_type": "stream",
     "text": [
      "                                   Feature  Correlation with Quality\n",
      "quality                            quality                  1.000000\n",
      "alcohol                            alcohol                  0.444319\n",
      "citric acid                    citric acid                  0.085532\n",
      "free sulfur dioxide    free sulfur dioxide                  0.055463\n",
      "sulphates                        sulphates                  0.038485\n",
      "pH                                      pH                  0.019506\n",
      "residual sugar              residual sugar                 -0.036980\n",
      "total sulfur dioxide  total sulfur dioxide                 -0.041385\n",
      "fixed acidity                fixed acidity                 -0.076743\n",
      "chlorides                        chlorides                 -0.200666\n",
      "volatile acidity          volatile acidity                 -0.265699\n",
      "density                            density                 -0.305858\n"
     ]
    }
   ],
   "source": [
    "# Sort the DataFrame by the absolute correlation values in descending order\n",
    "result_df_descending = result_df.sort_values(by='Correlation with Quality', ascending=False)\n",
    "print(result_df_descending)"
   ]
  },
  {
   "cell_type": "code",
   "execution_count": null,
   "metadata": {},
   "outputs": [],
   "source": []
  },
  {
   "cell_type": "code",
   "execution_count": null,
   "metadata": {},
   "outputs": [
    {
     "data": {
      "text/plain": [
       "1.03898"
      ]
     },
     "metadata": {},
     "output_type": "display_data"
    }
   ],
   "source": [
    "train.density.max()"
   ]
  },
  {
   "cell_type": "code",
   "execution_count": null,
   "metadata": {},
   "outputs": [
    {
     "name": "stdout",
     "output_type": "stream",
     "text": [
      "Bin 1: 0.9871 - 0.9881: 11 values\n",
      "Bin 2: 0.9881 - 0.9892: 67 values\n",
      "Bin 3: 0.9892 - 0.9902: 256 values\n",
      "Bin 4: 0.9902 - 0.9913: 346 values\n",
      "Bin 5: 0.9913 - 0.9923: 450 values\n",
      "Bin 6: 0.9923 - 0.9933: 479 values\n",
      "Bin 7: 0.9933 - 0.9944: 421 values\n",
      "Bin 8: 0.9944 - 0.9954: 529 values\n",
      "Bin 9: 0.9954 - 0.9965: 593 values\n",
      "Bin 10: 0.9965 - 0.9975: 536 values\n",
      "Bin 11: 0.9975 - 0.9985: 465 values\n",
      "Bin 12: 0.9985 - 0.9996: 219 values\n",
      "Bin 13: 0.9996 - 1.0006: 135 values\n",
      "Bin 14: 1.0006 - 1.0016: 20 values\n",
      "Bin 15: 1.0016 - 1.0027: 11 values\n",
      "Bin 16: 1.0027 - 1.0037: 6 values\n",
      "Bin 17: 1.0037 - 1.0048: 0 values\n",
      "Bin 18: 1.0048 - 1.0058: 0 values\n",
      "Bin 19: 1.0058 - 1.0068: 0 values\n",
      "Bin 20: 1.0068 - 1.0079: 0 values\n",
      "Bin 21: 1.0079 - 1.0089: 0 values\n",
      "Bin 22: 1.0089 - 1.0099: 0 values\n",
      "Bin 23: 1.0099 - 1.0110: 2 values\n",
      "Bin 24: 1.0110 - 1.0120: 0 values\n",
      "Bin 25: 1.0120 - 1.0131: 0 values\n",
      "Bin 26: 1.0131 - 1.0141: 0 values\n",
      "Bin 27: 1.0141 - 1.0151: 0 values\n",
      "Bin 28: 1.0151 - 1.0162: 0 values\n",
      "Bin 29: 1.0162 - 1.0172: 0 values\n",
      "Bin 30: 1.0172 - 1.0182: 0 values\n",
      "Bin 31: 1.0182 - 1.0193: 0 values\n",
      "Bin 32: 1.0193 - 1.0203: 0 values\n",
      "Bin 33: 1.0203 - 1.0214: 0 values\n",
      "Bin 34: 1.0214 - 1.0224: 0 values\n",
      "Bin 35: 1.0224 - 1.0234: 0 values\n",
      "Bin 36: 1.0234 - 1.0245: 0 values\n",
      "Bin 37: 1.0245 - 1.0255: 0 values\n",
      "Bin 38: 1.0255 - 1.0265: 0 values\n",
      "Bin 39: 1.0265 - 1.0276: 0 values\n",
      "Bin 40: 1.0276 - 1.0286: 0 values\n",
      "Bin 41: 1.0286 - 1.0297: 0 values\n",
      "Bin 42: 1.0297 - 1.0307: 0 values\n",
      "Bin 43: 1.0307 - 1.0317: 0 values\n",
      "Bin 44: 1.0317 - 1.0328: 0 values\n",
      "Bin 45: 1.0328 - 1.0338: 0 values\n",
      "Bin 46: 1.0338 - 1.0348: 0 values\n",
      "Bin 47: 1.0348 - 1.0359: 0 values\n",
      "Bin 48: 1.0359 - 1.0369: 0 values\n",
      "Bin 49: 1.0369 - 1.0380: 0 values\n",
      "Bin 50: 1.0380 - 1.0390: 1 values\n"
     ]
    }
   ],
   "source": [
    "# Your density data\n",
    "density_data = train.density  # Replace this with your data\n",
    "\n",
    "# Calculate bin edges\n",
    "bin_width = (1.03900 - np.min(density_data)) / 50\n",
    "bin_edges = np.arange(np.min(density_data), 1.03900 + bin_width, bin_width)\n",
    "\n",
    "# Create histogram\n",
    "hist, bins = np.histogram(density_data, bins=bin_edges)\n",
    "\n",
    "# Print the value ranges and count in each bin\n",
    "for i in range(len(hist)):\n",
    "    start_range = bins[i]\n",
    "    end_range = bins[i + 1] if i < len(hist) - 1 else 1.03900\n",
    "    count = hist[i]\n",
    "    print(f\"Bin {i+1}: {start_range:.4f} - {end_range:.4f}: {count} values\")\n"
   ]
  },
  {
   "cell_type": "code",
   "execution_count": null,
   "metadata": {},
   "outputs": [
    {
     "name": "stdout",
     "output_type": "stream",
     "text": [
      "Bin 1: 0.9871 - 0.9904: 367 values\n",
      "Bin 2: 0.9904 - 0.9936: 1343 values\n",
      "Bin 3: 0.9936 - 0.9968: 1648 values\n",
      "Bin 4: 0.9968 - 1.0001: 1089 values\n",
      "Bin 5: 1.0001 - 1.0033: 95 values\n",
      "Bin 6: 1.0033 - 1.0066: 2 values\n",
      "Bin 7: 1.0066 - 1.0098: 0 values\n",
      "Bin 8: 1.0098 - 1.0131: 2 values\n",
      "Bin 9: 1.0131 - 1.0163: 0 values\n",
      "Bin 10: 1.0163 - 1.0195: 0 values\n",
      "Bin 11: 1.0195 - 1.0228: 0 values\n",
      "Bin 12: 1.0228 - 1.0260: 0 values\n",
      "Bin 13: 1.0260 - 1.0293: 0 values\n",
      "Bin 14: 1.0293 - 1.0325: 0 values\n",
      "Bin 15: 1.0325 - 1.0358: 0 values\n",
      "Bin 16: 1.0358 - 1.0390: 1 values\n",
      "Bin 17: 1.0390 - 1.0390: 0 values\n"
     ]
    }
   ],
   "source": [
    "# Your density data\n",
    "density_data = train.density  # Replace this with your data\n",
    "\n",
    "# Calculate bin edges\n",
    "bin_width = (1.03900 - np.min(density_data)) / 16\n",
    "bin_edges = np.arange(np.min(density_data), 1.03900 + bin_width, bin_width)\n",
    "\n",
    "# Create histogram\n",
    "hist, bins = np.histogram(density_data, bins=bin_edges)\n",
    "\n",
    "# Print the value ranges and count in each bin\n",
    "for i in range(len(hist)):\n",
    "    start_range = bins[i]\n",
    "    end_range = bins[i + 1] if i < len(hist) - 1 else 1.03900\n",
    "    count = hist[i]\n",
    "    print(f\"Bin {i+1}: {start_range:.4f} - {end_range:.4f}: {count} values\")\n",
    "1.0027"
   ]
  }
 ],
 "metadata": {
  "kernelspec": {
   "display_name": "Python 3 (ipykernel)",
   "language": "python",
   "name": "python3"
  },
  "language_info": {
   "codemirror_mode": {
    "name": "ipython",
    "version": 3
   },
   "file_extension": ".py",
   "mimetype": "text/x-python",
   "name": "python",
   "nbconvert_exporter": "python",
   "pygments_lexer": "ipython3",
   "version": "3.11.3"
  }
 },
 "nbformat": 4,
 "nbformat_minor": 2
}
